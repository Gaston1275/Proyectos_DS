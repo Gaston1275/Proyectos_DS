{
 "cells": [
  {
   "cell_type": "code",
   "execution_count": 1,
   "id": "8439676e",
   "metadata": {},
   "outputs": [],
   "source": [
    "# TRABAJO FINAL GIMENEZ-NOLI\n",
    "\n",
    "import pandas as pd\n",
    "import matplotlib.pyplot as plt"
   ]
  },
  {
   "cell_type": "code",
   "execution_count": 2,
   "id": "934e2f1f",
   "metadata": {},
   "outputs": [
    {
     "data": {
      "text/html": [
       "<div>\n",
       "<style scoped>\n",
       "    .dataframe tbody tr th:only-of-type {\n",
       "        vertical-align: middle;\n",
       "    }\n",
       "\n",
       "    .dataframe tbody tr th {\n",
       "        vertical-align: top;\n",
       "    }\n",
       "\n",
       "    .dataframe thead th {\n",
       "        text-align: right;\n",
       "    }\n",
       "</style>\n",
       "<table border=\"1\" class=\"dataframe\">\n",
       "  <thead>\n",
       "    <tr style=\"text-align: right;\">\n",
       "      <th></th>\n",
       "      <th>Protocolo</th>\n",
       "      <th>Obra Social</th>\n",
       "      <th>Fecha Turno</th>\n",
       "      <th>Centro</th>\n",
       "      <th>Hora Desde</th>\n",
       "      <th>Hora Hasta</th>\n",
       "      <th>Prescripcion</th>\n",
       "      <th>Tipo Atencion</th>\n",
       "      <th>Tipo de paciente</th>\n",
       "      <th>Circuito Informe</th>\n",
       "      <th>...</th>\n",
       "      <th>Código Practica</th>\n",
       "      <th>Practica</th>\n",
       "      <th>Tipo de turno</th>\n",
       "      <th>Cantidad</th>\n",
       "      <th>Monto IVA</th>\n",
       "      <th>Monto Total</th>\n",
       "      <th>Estado Informe</th>\n",
       "      <th>Especialidad</th>\n",
       "      <th>Region del informe</th>\n",
       "      <th>Autoriza envio electronico</th>\n",
       "    </tr>\n",
       "  </thead>\n",
       "  <tbody>\n",
       "    <tr>\n",
       "      <th>0</th>\n",
       "      <td>001-040-00002168</td>\n",
       "      <td>LUZ Y FUERZA</td>\n",
       "      <td>10/09/2020</td>\n",
       "      <td>Imágenes Colón</td>\n",
       "      <td>11:00</td>\n",
       "      <td>14:00</td>\n",
       "      <td>-</td>\n",
       "      <td>Internado</td>\n",
       "      <td>Adulto</td>\n",
       "      <td>Informe Externo</td>\n",
       "      <td>...</td>\n",
       "      <td>70741/1</td>\n",
       "      <td>ABLACION CON NAVEGADOR-3 D</td>\n",
       "      <td>Normal</td>\n",
       "      <td>1</td>\n",
       "      <td>0</td>\n",
       "      <td>550000</td>\n",
       "      <td>Aprobado</td>\n",
       "      <td>Hemodinamia</td>\n",
       "      <td>Unico</td>\n",
       "      <td>Si</td>\n",
       "    </tr>\n",
       "    <tr>\n",
       "      <th>1</th>\n",
       "      <td>001-040-00002167</td>\n",
       "      <td>PERSONAL DE FARMACIA</td>\n",
       "      <td>10/09/2020</td>\n",
       "      <td>Imágenes Colón</td>\n",
       "      <td>11:38</td>\n",
       "      <td>11:39</td>\n",
       "      <td>-</td>\n",
       "      <td>Ambulatorio</td>\n",
       "      <td>Adulto</td>\n",
       "      <td>Informe Externo</td>\n",
       "      <td>...</td>\n",
       "      <td>70741/1</td>\n",
       "      <td>ABLACION CON NAVEGADOR-3 D</td>\n",
       "      <td>Extraordinario</td>\n",
       "      <td>1</td>\n",
       "      <td>0</td>\n",
       "      <td>550000</td>\n",
       "      <td>Aprobado</td>\n",
       "      <td>Hemodinamia</td>\n",
       "      <td>Unico</td>\n",
       "      <td>Si</td>\n",
       "    </tr>\n",
       "    <tr>\n",
       "      <th>2</th>\n",
       "      <td>001-040-00002169</td>\n",
       "      <td>MEDIFE</td>\n",
       "      <td>10/09/2020</td>\n",
       "      <td>Imágenes Colón</td>\n",
       "      <td>14:00</td>\n",
       "      <td>17:00</td>\n",
       "      <td>-</td>\n",
       "      <td>Internado</td>\n",
       "      <td>Adulto</td>\n",
       "      <td>Informe Externo</td>\n",
       "      <td>...</td>\n",
       "      <td>70741/1</td>\n",
       "      <td>ABLACION CON NAVEGADOR-3 D</td>\n",
       "      <td>Normal</td>\n",
       "      <td>1</td>\n",
       "      <td>0</td>\n",
       "      <td>550000</td>\n",
       "      <td>Aprobado</td>\n",
       "      <td>Hemodinamia</td>\n",
       "      <td>Unico</td>\n",
       "      <td>Si</td>\n",
       "    </tr>\n",
       "    <tr>\n",
       "      <th>3</th>\n",
       "      <td>001-040-00002171</td>\n",
       "      <td>OSDE</td>\n",
       "      <td>11/09/2020</td>\n",
       "      <td>Imágenes Colón</td>\n",
       "      <td>08:00</td>\n",
       "      <td>11:00</td>\n",
       "      <td>-</td>\n",
       "      <td>Internado</td>\n",
       "      <td>Adulto</td>\n",
       "      <td>Informe Externo</td>\n",
       "      <td>...</td>\n",
       "      <td>70741/1</td>\n",
       "      <td>ABLACION CON NAVEGADOR-3 D</td>\n",
       "      <td>Normal</td>\n",
       "      <td>1</td>\n",
       "      <td>0</td>\n",
       "      <td>550000</td>\n",
       "      <td>Aprobado</td>\n",
       "      <td>Hemodinamia</td>\n",
       "      <td>Unico</td>\n",
       "      <td>Si</td>\n",
       "    </tr>\n",
       "    <tr>\n",
       "      <th>4</th>\n",
       "      <td>001-040-00002172</td>\n",
       "      <td>IOMA</td>\n",
       "      <td>11/09/2020</td>\n",
       "      <td>Imágenes Colón</td>\n",
       "      <td>11:00</td>\n",
       "      <td>14:00</td>\n",
       "      <td>-</td>\n",
       "      <td>Internado</td>\n",
       "      <td>Adulto</td>\n",
       "      <td>Informe Externo</td>\n",
       "      <td>...</td>\n",
       "      <td>70741/1</td>\n",
       "      <td>ABLACION CON NAVEGADOR-3 D</td>\n",
       "      <td>Normal</td>\n",
       "      <td>1</td>\n",
       "      <td>0</td>\n",
       "      <td>550000</td>\n",
       "      <td>Aprobado</td>\n",
       "      <td>Hemodinamia</td>\n",
       "      <td>Unico</td>\n",
       "      <td>No</td>\n",
       "    </tr>\n",
       "  </tbody>\n",
       "</table>\n",
       "<p>5 rows × 27 columns</p>\n",
       "</div>"
      ],
      "text/plain": [
       "          Protocolo           Obra Social Fecha Turno          Centro  \\\n",
       "0  001-040-00002168          LUZ Y FUERZA  10/09/2020  Imágenes Colón   \n",
       "1  001-040-00002167  PERSONAL DE FARMACIA  10/09/2020  Imágenes Colón   \n",
       "2  001-040-00002169                MEDIFE  10/09/2020  Imágenes Colón   \n",
       "3  001-040-00002171                  OSDE  11/09/2020  Imágenes Colón   \n",
       "4  001-040-00002172                  IOMA  11/09/2020  Imágenes Colón   \n",
       "\n",
       "  Hora Desde Hora Hasta Prescripcion Tipo Atencion Tipo de paciente  \\\n",
       "0      11:00      14:00            -     Internado           Adulto   \n",
       "1      11:38      11:39            -   Ambulatorio           Adulto   \n",
       "2      14:00      17:00            -     Internado           Adulto   \n",
       "3      08:00      11:00            -     Internado           Adulto   \n",
       "4      11:00      14:00            -     Internado           Adulto   \n",
       "\n",
       "  Circuito Informe  ... Código Practica                    Practica  \\\n",
       "0  Informe Externo  ...         70741/1  ABLACION CON NAVEGADOR-3 D   \n",
       "1  Informe Externo  ...         70741/1  ABLACION CON NAVEGADOR-3 D   \n",
       "2  Informe Externo  ...         70741/1  ABLACION CON NAVEGADOR-3 D   \n",
       "3  Informe Externo  ...         70741/1  ABLACION CON NAVEGADOR-3 D   \n",
       "4  Informe Externo  ...         70741/1  ABLACION CON NAVEGADOR-3 D   \n",
       "\n",
       "    Tipo de turno Cantidad Monto IVA Monto Total Estado Informe Especialidad  \\\n",
       "0          Normal        1         0      550000       Aprobado  Hemodinamia   \n",
       "1  Extraordinario        1         0      550000       Aprobado  Hemodinamia   \n",
       "2          Normal        1         0      550000       Aprobado  Hemodinamia   \n",
       "3          Normal        1         0      550000       Aprobado  Hemodinamia   \n",
       "4          Normal        1         0      550000       Aprobado  Hemodinamia   \n",
       "\n",
       "  Region del informe Autoriza envio electronico  \n",
       "0              Unico                         Si  \n",
       "1              Unico                         Si  \n",
       "2              Unico                         Si  \n",
       "3              Unico                         Si  \n",
       "4              Unico                         No  \n",
       "\n",
       "[5 rows x 27 columns]"
      ]
     },
     "execution_count": 2,
     "metadata": {},
     "output_type": "execute_result"
    }
   ],
   "source": [
    "# Levantamos el archivo\n",
    "\n",
    "df = pd.read_csv(\"atendidos.csv\", delimiter= ';', encoding='latin1')\n",
    "df.head()"
   ]
  },
  {
   "cell_type": "code",
   "execution_count": 3,
   "id": "c1c4f775",
   "metadata": {},
   "outputs": [
    {
     "data": {
      "text/plain": [
       "(283664, 27)"
      ]
     },
     "execution_count": 3,
     "metadata": {},
     "output_type": "execute_result"
    }
   ],
   "source": [
    "# Analizar el shape del df\n",
    "\n",
    "df.shape"
   ]
  },
  {
   "cell_type": "code",
   "execution_count": 4,
   "id": "aa5a8dca",
   "metadata": {},
   "outputs": [
    {
     "data": {
      "text/plain": [
       "Protocolo                     283664\n",
       "Obra Social                   283664\n",
       "Fecha Turno                   283664\n",
       "Centro                        283664\n",
       "Hora Desde                    283664\n",
       "Hora Hasta                    283664\n",
       "Prescripcion                  283664\n",
       "Tipo Atencion                 283664\n",
       "Tipo de paciente              283664\n",
       "Circuito Informe              283664\n",
       "Localidad                     283664\n",
       "Plan                          283664\n",
       "Equipo                        283664\n",
       "Porcentaje IVA                283664\n",
       "Codigo OS                     283664\n",
       "Estado Turno                  283664\n",
       "Servicio                      283664\n",
       "Código Practica               283664\n",
       "Practica                      283664\n",
       "Tipo de turno                 283664\n",
       "Cantidad                      283664\n",
       "Monto IVA                     283664\n",
       "Monto Total                   283664\n",
       "Estado Informe                283664\n",
       "Especialidad                  283664\n",
       "Region del informe            283664\n",
       "Autoriza envio electronico    283664\n",
       "dtype: int64"
      ]
     },
     "execution_count": 4,
     "metadata": {},
     "output_type": "execute_result"
    }
   ],
   "source": [
    "# Obtener la cantidad por columnas\n",
    "\n",
    "df.count()"
   ]
  },
  {
   "cell_type": "code",
   "execution_count": 5,
   "id": "c1870f1d",
   "metadata": {},
   "outputs": [
    {
     "data": {
      "text/plain": [
       "Protocolo                     object\n",
       "Obra Social                   object\n",
       "Fecha Turno                   object\n",
       "Centro                        object\n",
       "Hora Desde                    object\n",
       "Hora Hasta                    object\n",
       "Prescripcion                  object\n",
       "Tipo Atencion                 object\n",
       "Tipo de paciente              object\n",
       "Circuito Informe              object\n",
       "Localidad                     object\n",
       "Plan                          object\n",
       "Equipo                        object\n",
       "Porcentaje IVA                object\n",
       "Codigo OS                     object\n",
       "Estado Turno                  object\n",
       "Servicio                      object\n",
       "Código Practica               object\n",
       "Practica                      object\n",
       "Tipo de turno                 object\n",
       "Cantidad                       int64\n",
       "Monto IVA                     object\n",
       "Monto Total                   object\n",
       "Estado Informe                object\n",
       "Especialidad                  object\n",
       "Region del informe            object\n",
       "Autoriza envio electronico    object\n",
       "dtype: object"
      ]
     },
     "execution_count": 5,
     "metadata": {},
     "output_type": "execute_result"
    }
   ],
   "source": [
    "# Analizar el tipo de datos de cada columna\n",
    "\n",
    "df.dtypes"
   ]
  },
  {
   "cell_type": "code",
   "execution_count": 14,
   "id": "33c871e0",
   "metadata": {},
   "outputs": [
    {
     "data": {
      "text/plain": [
       "pandas.core.frame.DataFrame"
      ]
     },
     "execution_count": 14,
     "metadata": {},
     "output_type": "execute_result"
    }
   ],
   "source": [
    "# Obtener el tipo de estructura del dataset\n",
    "\n",
    "type(df)"
   ]
  },
  {
   "cell_type": "code",
   "execution_count": 7,
   "id": "65616272",
   "metadata": {},
   "outputs": [
    {
     "name": "stdout",
     "output_type": "stream",
     "text": [
      "Index(['Protocolo', 'Obra Social', 'Fecha Turno', 'Centro', 'Hora Desde',\n",
      "       'Hora Hasta', 'Prescripcion', 'Tipo Atencion', 'Tipo de paciente',\n",
      "       'Circuito Informe', 'Localidad', 'Plan', 'Equipo', 'Porcentaje IVA',\n",
      "       'Codigo OS', 'Estado Turno', 'Servicio', 'Código Practica', 'Practica',\n",
      "       'Tipo de turno', 'Cantidad', 'Monto IVA', 'Monto Total',\n",
      "       'Estado Informe', 'Especialidad', 'Region del informe',\n",
      "       'Autoriza envio electronico'],\n",
      "      dtype='object')\n"
     ]
    }
   ],
   "source": [
    "# Listar los nombres de las columnas\n",
    "\n",
    "print(df.columns)"
   ]
  },
  {
   "cell_type": "code",
   "execution_count": 8,
   "id": "c5506c83",
   "metadata": {},
   "outputs": [
    {
     "data": {
      "text/plain": [
       "<AxesSubplot:>"
      ]
     },
     "execution_count": 8,
     "metadata": {},
     "output_type": "execute_result"
    },
    {
     "data": {
      "image/png": "[encoded data removed]",
      "text/plain": [
       "<Figure size 432x288 with 1 Axes>"
      ]
     },
     "metadata": {
      "needs_background": "light"
     },
     "output_type": "display_data"
    }
   ],
   "source": [
    "#Crear un gráfico de barras con la función value_counts() sobre la variable: 'Especialidad'\n",
    "\n",
    "df['Especialidad'].value_counts().plot.bar()\n",
    "\n",
    "# en el grafico de barras se puede apreciar que la especialidad mas utilizada es \"Rx\" y la menos utilizada es \"Pet\""
   ]
  },
  {
   "cell_type": "code",
   "execution_count": 9,
   "id": "4e0fdfee",
   "metadata": {},
   "outputs": [
    {
     "data": {
      "text/plain": [
       "<AxesSubplot:>"
      ]
     },
     "execution_count": 9,
     "metadata": {},
     "output_type": "execute_result"
    },
    {
     "data": {
      "image/png": "[encoded data removed]",
      "text/plain": [
       "<Figure size 432x288 with 1 Axes>"
      ]
     },
     "metadata": {
      "needs_background": "light"
     },
     "output_type": "display_data"
    }
   ],
   "source": [
    "#Crear un gráfico de líneas de la variable: 'Cantidad', utilizando la función value_counts() y realizar un ordenamimiento por intermedio de: sort_index()\n",
    "\n",
    "df['Cantidad'].value_counts().sort_index().plot.line()"
   ]
  },
  {
   "cell_type": "code",
   "execution_count": 10,
   "id": "450cb211",
   "metadata": {},
   "outputs": [
    {
     "data": {
      "text/plain": [
       "Protocolo                      object\n",
       "Obra Social                    object\n",
       "Fecha Turno                    object\n",
       "Centro                         object\n",
       "Hora Desde                     object\n",
       "Hora Hasta                     object\n",
       "Prescripcion                   object\n",
       "Tipo Atencion                  object\n",
       "Tipo de paciente               object\n",
       "Circuito Informe               object\n",
       "Localidad                      object\n",
       "Plan                           object\n",
       "Equipo                         object\n",
       "Porcentaje IVA                 object\n",
       "Codigo OS                      object\n",
       "Estado Turno                   object\n",
       "Servicio                       object\n",
       "Código Practica                object\n",
       "Practica                       object\n",
       "Tipo de turno                  object\n",
       "Cantidad                        int64\n",
       "Monto IVA                      object\n",
       "Monto Total                   float64\n",
       "Estado Informe                 object\n",
       "Especialidad                   object\n",
       "Region del informe             object\n",
       "Autoriza envio electronico     object\n",
       "dtype: object"
      ]
     },
     "execution_count": 10,
     "metadata": {},
     "output_type": "execute_result"
    }
   ],
   "source": [
    "# convertir la variable Monto Total a float64\n",
    "\n",
    "df['Monto Total'] = pd.to_numeric(df['Monto Total'],errors = 'coerce')\n",
    "df.dtypes"
   ]
  },
  {
   "cell_type": "code",
   "execution_count": 11,
   "id": "b93aa146",
   "metadata": {},
   "outputs": [
    {
     "data": {
      "text/html": [
       "<div>\n",
       "<style scoped>\n",
       "    .dataframe tbody tr th:only-of-type {\n",
       "        vertical-align: middle;\n",
       "    }\n",
       "\n",
       "    .dataframe tbody tr th {\n",
       "        vertical-align: top;\n",
       "    }\n",
       "\n",
       "    .dataframe thead th {\n",
       "        text-align: right;\n",
       "    }\n",
       "</style>\n",
       "<table border=\"1\" class=\"dataframe\">\n",
       "  <thead>\n",
       "    <tr style=\"text-align: right;\">\n",
       "      <th></th>\n",
       "      <th>Cantidad</th>\n",
       "      <th>Monto Total</th>\n",
       "    </tr>\n",
       "  </thead>\n",
       "  <tbody>\n",
       "    <tr>\n",
       "      <th>count</th>\n",
       "      <td>283664.0</td>\n",
       "      <td>45771.0</td>\n",
       "    </tr>\n",
       "    <tr>\n",
       "      <th>mean</th>\n",
       "      <td>1.0</td>\n",
       "      <td>2973.0</td>\n",
       "    </tr>\n",
       "    <tr>\n",
       "      <th>std</th>\n",
       "      <td>0.0</td>\n",
       "      <td>24263.0</td>\n",
       "    </tr>\n",
       "    <tr>\n",
       "      <th>min</th>\n",
       "      <td>1.0</td>\n",
       "      <td>0.0</td>\n",
       "    </tr>\n",
       "    <tr>\n",
       "      <th>25%</th>\n",
       "      <td>1.0</td>\n",
       "      <td>0.0</td>\n",
       "    </tr>\n",
       "    <tr>\n",
       "      <th>50%</th>\n",
       "      <td>1.0</td>\n",
       "      <td>547.0</td>\n",
       "    </tr>\n",
       "    <tr>\n",
       "      <th>75%</th>\n",
       "      <td>1.0</td>\n",
       "      <td>2097.0</td>\n",
       "    </tr>\n",
       "    <tr>\n",
       "      <th>max</th>\n",
       "      <td>73.0</td>\n",
       "      <td>683754.0</td>\n",
       "    </tr>\n",
       "  </tbody>\n",
       "</table>\n",
       "</div>"
      ],
      "text/plain": [
       "       Cantidad  Monto Total\n",
       "count  283664.0      45771.0\n",
       "mean        1.0       2973.0\n",
       "std         0.0      24263.0\n",
       "min         1.0          0.0\n",
       "25%         1.0          0.0\n",
       "50%         1.0        547.0\n",
       "75%         1.0       2097.0\n",
       "max        73.0     683754.0"
      ]
     },
     "execution_count": 11,
     "metadata": {},
     "output_type": "execute_result"
    }
   ],
   "source": [
    "# Muestra Estadisticas Descriptivas Basicas\n",
    "\n",
    "df.describe().round()"
   ]
  },
  {
   "cell_type": "code",
   "execution_count": 17,
   "id": "bec8b68c",
   "metadata": {},
   "outputs": [
    {
     "data": {
      "text/plain": [
       "Text(0, 0.5, 'Cantidad')"
      ]
     },
     "execution_count": 17,
     "metadata": {},
     "output_type": "execute_result"
    },
    {
     "data": {
      "image/png": "[encoded data removed]",
      "text/plain": [
       "<Figure size 1440x360 with 1 Axes>"
      ]
     },
     "metadata": {
      "needs_background": "light"
     },
     "output_type": "display_data"
    }
   ],
   "source": [
    "montos = df['Monto Total']\n",
    "#montos\n",
    "fig, ax = plt.subplots(figsize=(20, 5))\n",
    "ax.hist(montos.values.flatten(), bins=1000)\n",
    "ax.set_title('Histograma de Montos')\n",
    "ax.set_xlabel('Montos')\n",
    "ax.set_ylabel('Cantidad')"
   ]
  },
  {
   "cell_type": "code",
   "execution_count": 27,
   "id": "8a4dfe9d",
   "metadata": {},
   "outputs": [
    {
     "data": {
      "text/html": [
       "<div>\n",
       "<style scoped>\n",
       "    .dataframe tbody tr th:only-of-type {\n",
       "        vertical-align: middle;\n",
       "    }\n",
       "\n",
       "    .dataframe tbody tr th {\n",
       "        vertical-align: top;\n",
       "    }\n",
       "\n",
       "    .dataframe thead th {\n",
       "        text-align: right;\n",
       "    }\n",
       "</style>\n",
       "<table border=\"1\" class=\"dataframe\">\n",
       "  <thead>\n",
       "    <tr style=\"text-align: right;\">\n",
       "      <th></th>\n",
       "      <th>Obra Social</th>\n",
       "      <th>Fecha Turno</th>\n",
       "      <th>Centro</th>\n",
       "      <th>Hora Desde</th>\n",
       "      <th>Hora Hasta</th>\n",
       "      <th>Prescripcion</th>\n",
       "      <th>Tipo Atencion</th>\n",
       "      <th>Tipo de paciente</th>\n",
       "      <th>Circuito Informe</th>\n",
       "      <th>Localidad</th>\n",
       "      <th>...</th>\n",
       "      <th>Código Practica</th>\n",
       "      <th>Practica</th>\n",
       "      <th>Tipo de turno</th>\n",
       "      <th>Cantidad</th>\n",
       "      <th>Monto IVA</th>\n",
       "      <th>Monto Total</th>\n",
       "      <th>Estado Informe</th>\n",
       "      <th>Especialidad</th>\n",
       "      <th>Region del informe</th>\n",
       "      <th>Autoriza envio electronico</th>\n",
       "    </tr>\n",
       "  </thead>\n",
       "  <tbody>\n",
       "    <tr>\n",
       "      <th>count</th>\n",
       "      <td>283664</td>\n",
       "      <td>283664</td>\n",
       "      <td>283664</td>\n",
       "      <td>283664</td>\n",
       "      <td>283664</td>\n",
       "      <td>283664</td>\n",
       "      <td>283664</td>\n",
       "      <td>283664</td>\n",
       "      <td>283664</td>\n",
       "      <td>283664</td>\n",
       "      <td>...</td>\n",
       "      <td>283664</td>\n",
       "      <td>283664</td>\n",
       "      <td>283664</td>\n",
       "      <td>283664</td>\n",
       "      <td>283664</td>\n",
       "      <td>45771.0</td>\n",
       "      <td>283664</td>\n",
       "      <td>283664</td>\n",
       "      <td>283664</td>\n",
       "      <td>283664</td>\n",
       "    </tr>\n",
       "    <tr>\n",
       "      <th>unique</th>\n",
       "      <td>238</td>\n",
       "      <td>365</td>\n",
       "      <td>6</td>\n",
       "      <td>1397</td>\n",
       "      <td>1397</td>\n",
       "      <td>264</td>\n",
       "      <td>3</td>\n",
       "      <td>1</td>\n",
       "      <td>4</td>\n",
       "      <td>271</td>\n",
       "      <td>...</td>\n",
       "      <td>363</td>\n",
       "      <td>353</td>\n",
       "      <td>3</td>\n",
       "      <td>17</td>\n",
       "      <td>4611</td>\n",
       "      <td>1149.0</td>\n",
       "      <td>10</td>\n",
       "      <td>11</td>\n",
       "      <td>2</td>\n",
       "      <td>2</td>\n",
       "    </tr>\n",
       "    <tr>\n",
       "      <th>top</th>\n",
       "      <td>IOMA</td>\n",
       "      <td>17/02/2021</td>\n",
       "      <td>Imágenes Colón</td>\n",
       "      <td>10:00</td>\n",
       "      <td>10:00</td>\n",
       "      <td>-</td>\n",
       "      <td>Ambulatorio</td>\n",
       "      <td>Adulto</td>\n",
       "      <td>Grabación y Tipeo</td>\n",
       "      <td>MAR DEL PLATA</td>\n",
       "      <td>...</td>\n",
       "      <td>340301/1</td>\n",
       "      <td>RX TORAX FRENTE</td>\n",
       "      <td>Normal</td>\n",
       "      <td>1</td>\n",
       "      <td>0</td>\n",
       "      <td>0.0</td>\n",
       "      <td>Entregado</td>\n",
       "      <td>Rx</td>\n",
       "      <td>Unico</td>\n",
       "      <td>Si</td>\n",
       "    </tr>\n",
       "    <tr>\n",
       "      <th>freq</th>\n",
       "      <td>68557</td>\n",
       "      <td>1350</td>\n",
       "      <td>129954</td>\n",
       "      <td>5277</td>\n",
       "      <td>4820</td>\n",
       "      <td>281681</td>\n",
       "      <td>251109</td>\n",
       "      <td>283664</td>\n",
       "      <td>175043</td>\n",
       "      <td>259042</td>\n",
       "      <td>...</td>\n",
       "      <td>38716</td>\n",
       "      <td>38716</td>\n",
       "      <td>145394</td>\n",
       "      <td>245123</td>\n",
       "      <td>226051</td>\n",
       "      <td>19244.0</td>\n",
       "      <td>178829</td>\n",
       "      <td>89532</td>\n",
       "      <td>276371</td>\n",
       "      <td>270418</td>\n",
       "    </tr>\n",
       "  </tbody>\n",
       "</table>\n",
       "<p>4 rows × 26 columns</p>\n",
       "</div>"
      ],
      "text/plain": [
       "       Obra Social Fecha Turno          Centro Hora Desde Hora Hasta  \\\n",
       "count       283664      283664          283664     283664     283664   \n",
       "unique         238         365               6       1397       1397   \n",
       "top           IOMA  17/02/2021  Imágenes Colón      10:00      10:00   \n",
       "freq         68557        1350          129954       5277       4820   \n",
       "\n",
       "       Prescripcion Tipo Atencion Tipo de paciente   Circuito Informe  \\\n",
       "count        283664        283664           283664             283664   \n",
       "unique          264             3                1                  4   \n",
       "top               -   Ambulatorio           Adulto  Grabación y Tipeo   \n",
       "freq         281681        251109           283664             175043   \n",
       "\n",
       "            Localidad  ... Código Practica         Practica Tipo de turno  \\\n",
       "count          283664  ...          283664           283664        283664   \n",
       "unique            271  ...             363              353             3   \n",
       "top     MAR DEL PLATA  ...        340301/1  RX TORAX FRENTE        Normal   \n",
       "freq           259042  ...           38716            38716        145394   \n",
       "\n",
       "       Cantidad Monto IVA Monto Total Estado Informe Especialidad  \\\n",
       "count    283664    283664     45771.0         283664       283664   \n",
       "unique       17      4611      1149.0             10           11   \n",
       "top           1         0         0.0      Entregado           Rx   \n",
       "freq     245123    226051     19244.0         178829        89532   \n",
       "\n",
       "       Region del informe  Autoriza envio electronico  \n",
       "count              283664                      283664  \n",
       "unique                  2                           2  \n",
       "top                 Unico                          Si  \n",
       "freq               276371                      270418  \n",
       "\n",
       "[4 rows x 26 columns]"
      ]
     },
     "execution_count": 27,
     "metadata": {},
     "output_type": "execute_result"
    }
   ],
   "source": [
    "indice = pd.Series(df['Fecha Turno'])\n",
    "columnas = df.columns[1:]\n",
    "valores = df.values[:,1:]\n",
    "Datos_resumen = pd.DataFrame(valores,index=indice, columns=columnas)\n",
    "Datos_resumen.describe()"
   ]
  },
  {
   "cell_type": "code",
   "execution_count": 35,
   "id": "e97701e6",
   "metadata": {},
   "outputs": [
    {
     "data": {
      "text/plain": [
       "Obra Social                       Especialidad   \n",
       "ALIANZA MEDITERRANEA DE SALUD SA  Rx                   5\n",
       "ALLELOCCIC SOCIEDAD ANONIMA       Ecografia            1\n",
       "                                  Rx                   3\n",
       "AMAR (DIRECTO)                    Densitometria        3\n",
       "                                  Ecocardiografia      4\n",
       "                                                    ... \n",
       "UOM                               Pet                  1\n",
       "                                  Resonancia          90\n",
       "                                  Rx                 625\n",
       "                                  Tomografía         123\n",
       "VICTORIA ART                      Resonancia           1\n",
       "Name: Cantidad, Length: 1053, dtype: int64"
      ]
     },
     "execution_count": 35,
     "metadata": {},
     "output_type": "execute_result"
    }
   ],
   "source": [
    "# Obtenemos la cantidad de estudios realizados por Obra Social y Especialidad \n",
    "\n",
    "grouped = Datos_resumen.groupby(['Obra Social','Especialidad'],as_index='False')['Cantidad'].count()\n",
    "grouped\n"
   ]
  },
  {
   "cell_type": "code",
   "execution_count": null,
   "id": "edbf8b71",
   "metadata": {},
   "outputs": [],
   "source": []
  }
 ],
 "metadata": {
  "kernelspec": {
   "display_name": "Python 3",
   "language": "python",
   "name": "python3"
  },
  "language_info": {
   "codemirror_mode": {
    "name": "ipython",
    "version": 3
   },
   "file_extension": ".py",
   "mimetype": "text/x-python",
   "name": "python",
   "nbconvert_exporter": "python",
   "pygments_lexer": "ipython3",
   "version": "3.9.1"
  }
 },
 "nbformat": 4,
 "nbformat_minor": 5
}
