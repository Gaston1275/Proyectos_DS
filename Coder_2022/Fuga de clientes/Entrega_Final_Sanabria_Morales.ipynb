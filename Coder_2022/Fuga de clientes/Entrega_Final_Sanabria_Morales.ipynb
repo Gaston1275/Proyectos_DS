{
  "nbformat": 4,
  "nbformat_minor": 0,
  "metadata": {
    "colab": {
      "name": "Entrega_Final_Sanabria_Morales.ipynb",
      "provenance": [],
      "collapsed_sections": [
        "pqJAsIGdqc8_",
        "-jdizv0Equ82",
        "8FcA1B2Cq6od",
        "cv214IOYrcVV",
        "ciX_BQddugtL",
        "95Zv_o5BhgEN",
        "32tXp1sgGAb4"
      ]
    },
    "kernelspec": {
      "name": "python3",
      "display_name": "Python 3"
    },
    "language_info": {
      "name": "python"
    }
  },
  "cells": [
    {
      "cell_type": "markdown",
      "source": [
        "# ** Entrega Proyecto Final**"
      ],
      "metadata": {
        "id": "pqJAsIGdqc8_"
      }
    },
    {
      "cell_type": "markdown",
      "source": [
        "## Presentación de la empresa y problema específico"
      ],
      "metadata": {
        "id": "-jdizv0Equ82"
      }
    },
    {
      "cell_type": "markdown",
      "source": [
        "La empresa en donde se desarrolla el proyecto es Fivana S.A. La cual esta dedicada a realizar Factoring, que es una alternativa de financiamiento que se orienta de preferencia a pequeñas y medianas empresas y consiste en un contrato mediante el cual una empresa traspasa el servicio de cobranza futura de los créditos y facturas existentes a su favor y a cambio obtiene de manera inmediata el dinero a que esas operaciones se refiere, aunque con un descuento. Su objetivo es dar liquidez de forma inmediata a partir de un ingreso futuro.\n",
        "\n",
        "El problema que aqueja a la empresa se encuentra en el área de marketing y comercial, dado que las campañas de marketing y ofertas comerciales no son lo suficientemente especificas a un tipo de cliente. Uno de los clientes que más aquejan a la empresa son aquellos llamados como \"Clientes Fugados\", estos se definen como aquellos clientes que alguna vez se han financiado en la empresa pero que en los ultimos tres meses no han realizado ninguna operación.\n",
        "\n",
        "Para Fivana los Clientes Fugados son un problema importante ya que no tienen alguna forma de anticipar a que un cliente no realicé ninguna operación durante tres meses, por lo que no pueden generar campañas para evitar que el cliente se fuge. Por lo tanto encontrar la probabilidad de un cliente fugado puede generar grandes grandes beneficios para la empresa, sobretodo para obtener una cartera de clientes mucho más fidelizada y que frecuente negociaciones con Fivana."
      ],
      "metadata": {
        "id": "O3qPOgyeqyw_"
      }
    },
    {
      "cell_type": "markdown",
      "source": [
        "## Preguntas y objetivos de la investigación"
      ],
      "metadata": {
        "id": "8FcA1B2Cq6od"
      }
    },
    {
      "cell_type": "markdown",
      "source": [
        "### Objetivo de la Investigación"
      ],
      "metadata": {
        "id": "XfdISjgQq78v"
      }
    },
    {
      "cell_type": "markdown",
      "source": [
        "\n",
        "\n",
        "---\n",
        "\n",
        "\n",
        "Construir modelos de clasificación basados en datos para estimar si un cliente de Fivana se va fugar o no.\n"
      ],
      "metadata": {
        "id": "DU2QFqB3rVt2"
      }
    },
    {
      "cell_type": "markdown",
      "source": [
        "### Preguntas de la investigación"
      ],
      "metadata": {
        "id": "cv214IOYrcVV"
      }
    },
    {
      "cell_type": "markdown",
      "source": [
        "1. ¿Que datos son necesarios?\n",
        "2. ¿Que variables están correlacionadas?\n",
        "3. ¿Que variable va a definir si un cliente se fuga?\n",
        "\n",
        "\n"
      ],
      "metadata": {
        "id": "U5gYQowjrhNy"
      }
    },
    {
      "cell_type": "markdown",
      "source": [
        "## Conformación del Equipo de Trabajo"
      ],
      "metadata": {
        "id": "G7pqwGo3rjvu"
      }
    },
    {
      "cell_type": "markdown",
      "source": [
        "Integrantes:\n",
        "\n",
        "1.   Ariel Sanabria Portillo\n",
        "2.   Nicolás Morales Herrera\n"
      ],
      "metadata": {
        "id": "eZ36ajnqrnD2"
      }
    },
    {
      "cell_type": "markdown",
      "source": [
        "## Data Acquisition "
      ],
      "metadata": {
        "id": "KiUie1fPrqJY"
      }
    },
    {
      "cell_type": "markdown",
      "source": [
        "Enfocandonos en el problema a solucionar se dio principal importancia a los datos de clientes, en torno a las caracteristicas propias de cada cliente (datos cualitativos), comportamiento de facturación y comportamiento de operacion, por lo tanto se definieron tres datasets que tienen como origen los sistemas de información de la empresa. Los cuales son los siguientes:\n",
        "\n",
        "\n",
        "\n",
        "1.   Clientes: Se compone de toda la información categorica que posee la empresa acerca de un cliente.\n",
        "2.   Operaciones: Es el comportamiento de los financiamientos que a obtenido el cliente con fivana.\n",
        "3. Facturación: Es el comportamiento de facturación de un cliente a nivel mensual, detallando la cantidad de facturas emitidas y el monto total.\n",
        "\n",
        "La fuente de información se compone de dos partes, la primera es un portal creado por la empresa para la operación de los ejecutivos comerciales, llamado \"Admin\" el cual se sostiene de una base no relacional en Elastic Search. Desde \"Admin\" se obtiene la información de clientes ya que es una base de datos pequeña y tiene una buena calidad. Por otro lado la información de la facturación y operación es de gran tamaño, ya que por cada cliente se tiene el detalle de los documentos facturados, por lo que \"Admin\" no soporta su descarga. Dada dicha situación, Fivana tiene habilitada una base de datos relacional en Memslq, donde se generaron las consultas para descargar la información faltante.\n",
        "\n",
        "\n"
      ],
      "metadata": {
        "id": "z7WI-8urrtJn"
      }
    },
    {
      "cell_type": "markdown",
      "source": [
        "## Data Wrangling y EDA"
      ],
      "metadata": {
        "id": "WJQ6Q2wwsNpR"
      }
    },
    {
      "cell_type": "markdown",
      "source": [
        "### Importamos las librerias a utilizar"
      ],
      "metadata": {
        "id": "W6J1FJdDMMai"
      }
    },
    {
      "cell_type": "code",
      "source": [
        "import pandas as pd\n",
        "import numpy as np\n",
        "import matplotlib.pyplot as plt\n",
        "import matplotlib\n",
        "import seaborn as sns\n"
      ],
      "metadata": {
        "id": "PveqZESquBUw"
      },
      "execution_count": null,
      "outputs": []
    },
    {
      "cell_type": "markdown",
      "source": [
        "### 1.Descubrimiento:"
      ],
      "metadata": {
        "id": "IaevLEplQkfd"
      }
    },
    {
      "cell_type": "code",
      "execution_count": null,
      "metadata": {
        "id": "L1wZROzlYgd7"
      },
      "outputs": [],
      "source": [
        "# GENERAMOS UN DF POR CADA FUENTE\n",
        "URL='https://docs.google.com/spreadsheets/d/e/2PACX-1vRhcD3GTvBtOhv7TZBGL3fUEO8ve4lo2qLM-_CiIEtGMQgsmF2bYLeojL-yfDO90DIEdf6qT9HIIS0H/pub?gid=1204916006&single=true&output=csv'\n",
        "URL2='https://docs.google.com/spreadsheets/d/e/2PACX-1vTVSVHKg47qhna2aj0kIcOGmtEToNf9_Qh6_ANTNUXOEOSg08VXPxZzduyrlPg6TpyQwebhJZBsnEFT/pub?gid=640557928&single=true&output=csv'\n",
        "URL3='https://docs.google.com/spreadsheets/d/e/2PACX-1vTuR9OVeezwjg3aHz7y6NRVrHZQt8D56ouyKn9LXw7qmOefIazGAbTac5S8twl9Ig/pub?gid=854984651&single=true&output=csv'\n",
        "df_ope=pd.read_csv(URL)\n",
        "df_fact=pd.read_csv(URL2)\n",
        "dfclientes=pd.read_csv(URL3)"
      ]
    },
    {
      "cell_type": "code",
      "source": [
        "# Veamos las primeras 5 filas\n",
        "print(df_fact.head())\n",
        "print(\"\\n\")\n",
        "print(df_ope.head())\n",
        "print(\"\\n\")\n",
        "print(dfclientes.head())"
      ],
      "metadata": {
        "colab": {
          "base_uri": "https://localhost:8080/"
        },
        "id": "GmbQMJp9ShZQ",
        "outputId": "299ccf81-3502-4190-e1fd-f81ee0345de3"
      },
      "execution_count": null,
      "outputs": [
        {
          "output_type": "stream",
          "name": "stdout",
          "text": [
            "   client_rut fecha_añomes_Emisión  Cant_doc  monto_facturado\n",
            "0  76559309-3              1970-01         1     2.677500e+05\n",
            "1  76195807-0              2001-02         1     6.703560e+05\n",
            "2  76875601-5              2010-07         1     3.760238e+07\n",
            "3  76893766-4              2010-09        22     9.724335e+09\n",
            "4  76292477-3              2015-04         1     1.755300e+04\n",
            "\n",
            "\n",
            "  customer_rut fecha_ope  Cant_op  Monto_financiado  prom_tasa\n",
            "0   76969136-7   2021-05        1         2589011.0       2.20\n",
            "1   76855912-0   2020-03        1         5888605.0       2.00\n",
            "2   76846339-5   2019-02        1        13489325.0       2.10\n",
            "3   77408732-K   2021-09        1        27093325.0       1.40\n",
            "4   76767725-1   2021-11        5        13567936.0       1.79\n",
            "\n",
            "\n",
            "          Rut                                   Razón Social Calif.  \\\n",
            "0  77148301-1                      SIDERALL TECHNOLOGIES SPA      2   \n",
            "1  77415563-5  ASESORÍA Y COMERCIALIZADORA FERRADA ACUÑA SPA      3   \n",
            "2  77109088-5                                   RIMANTEC SPA      3   \n",
            "3  77543447-3                         TRANSPORTES ERIGUS SPA      2   \n",
            "4  18475302-2                   GONZALO SAMUEL ANDRADE PARRA      2   \n",
            "\n",
            "                          Rep.Legal              Contacto          Registro  \\\n",
            "0  SEBASTIAN RODRIGO SEGUEL ACIARES             Sebastian  22/04/2022 14:45   \n",
            "1       JUAN DANIEL FERRADA SARABIA                Fabian  22/04/2022 14:31   \n",
            "2     RODRIGO JAVIER RIVEROS ADASME       Rodrigo Riveros  22/04/2022 14:15   \n",
            "3              Erika Escobar Luengo  Erika Escobar Luengo  22/04/2022 13:40   \n",
            "4                   Gonzalo Andrade       Gonzalo Andrade  22/04/2022 13:15   \n",
            "\n",
            "           Ejecutivo comercial    Canal Monto financiado  \\\n",
            "0      Marley Contreras Puente  Directo               $0   \n",
            "1               Elvis Gonzalez  Directo               $0   \n",
            "2          Rosangelica Montiel  Directo               $0   \n",
            "3            Alexandra Arandia  Directo               $0   \n",
            "4  Veronica Villalba Fuenmayor  Directo               $0   \n",
            "\n",
            "  Verificado legalmente  ... Verificado por riesgo Habilitada cesión externa  \\\n",
            "0         No verificado  ...         No verificado             No habilitada   \n",
            "1         No verificado  ...         No verificado             No habilitada   \n",
            "2         No verificado  ...         No verificado             No habilitada   \n",
            "3         No verificado  ...         No verificado             No habilitada   \n",
            "4         No verificado  ...         No verificado             No habilitada   \n",
            "\n",
            "  Disponible a fondo Ha operado Tasa preferencial SII Última liquidación  \\\n",
            "0         Habilitado         No                 -  Sí                  -   \n",
            "1         Habilitado         No                 -  Sí                  -   \n",
            "2         Habilitado         No                 -  Sí                  -   \n",
            "3         Habilitado         No                 -  Sí                  -   \n",
            "4         Habilitado         No                 -  Sí                  -   \n",
            "\n",
            "    Teléfono                           Correo  \\\n",
            "0  952244787    sebastian.seguel@siderall.com   \n",
            "1  967884496       fabianferrada987@gmail.com   \n",
            "2  990079325     rodrigo.riveros.ad@gmail.com   \n",
            "3  992559750        erika.escobar72@gmail.com   \n",
            "4  972265194  gonzalo.andrade.parra@gmail.com   \n",
            "\n",
            "                           Facturadores  \n",
            "0                           SII sin XML  \n",
            "1                           SII sin XML  \n",
            "2  Mipyme, Mercado público, SII sin XML  \n",
            "3                           SII sin XML  \n",
            "4                           SII sin XML  \n",
            "\n",
            "[5 rows x 21 columns]\n"
          ]
        }
      ]
    },
    {
      "cell_type": "code",
      "source": [
        "# Veamos las ultimas 5 filas\n",
        "print(df_fact.tail())\n",
        "print(\"\\n\")\n",
        "print(df_ope.tail())\n",
        "print(\"\\n\")\n",
        "print(dfclientes.tail())"
      ],
      "metadata": {
        "colab": {
          "base_uri": "https://localhost:8080/"
        },
        "id": "RN4Xv_6BSpJZ",
        "outputId": "3215eee7-63ae-4c15-8998-4a8f8b31c7e0"
      },
      "execution_count": null,
      "outputs": [
        {
          "output_type": "stream",
          "name": "stdout",
          "text": [
            "        client_rut fecha_añomes_Emisión  Cant_doc  monto_facturado\n",
            "470961  76793034-8                  NaN         1              NaN\n",
            "470962  78950240-4                  NaN         1              0.0\n",
            "470963  77078139-6                  NaN         3              NaN\n",
            "470964  76029926-K                  NaN         6              NaN\n",
            "470965  79934380-0                  NaN         1              NaN\n",
            "\n",
            "\n",
            "      customer_rut fecha_ope  Cant_op  Monto_financiado  prom_tasa\n",
            "10454   77273238-4   2022-02        1         1880248.0        1.5\n",
            "10455   76937142-7   2019-12        2        14912091.0        1.2\n",
            "10456    8018877-3   2020-09        5        60203637.0        1.8\n",
            "10457   78823470-8   2022-02        2        10246575.0        1.5\n",
            "10458   76489495-2   2021-02        1        16717239.0        1.5\n",
            "\n",
            "\n",
            "             Rut                                       Razón Social Calif.  \\\n",
            "7448  16950002-9                       RONALD KEVIN CONTRERAS MUNOZ      3   \n",
            "7449  86454800-8                                                  -     NC   \n",
            "7450  77356947-9                             TRANSPORTES R Y C SPA       3   \n",
            "7451  77483455-9                                     GRUPO FAD SPA       3   \n",
            "7452  77200027-8   TRABAJOS EN ALTURA Y CONSTRUCCIÓN SANTIAGO VE...      4   \n",
            "\n",
            "                                              Rep.Legal  \\\n",
            "7448                       RONALD KEVIN CONTRERAS MUÑOZ   \n",
            "7449                                                  -   \n",
            "7450                                        Claudia ruz   \n",
            "7451                                     Alvaro Salgado   \n",
            "7452  trabajos en altura y construccion santiago ver...   \n",
            "\n",
            "                                               Contacto          Registro  \\\n",
            "7448                       RONALD KEVIN CONTRERAS MUÑOZ  31/12/1969 21:00   \n",
            "7449                                                  -  31/12/1969 21:00   \n",
            "7450                                        Claudia ruz  31/12/1969 21:00   \n",
            "7451                                     Alvaro Salgado  31/12/1969 21:00   \n",
            "7452  trabajos en altura y construccion santiago ver...  31/12/1969 21:00   \n",
            "\n",
            "              Ejecutivo comercial    Canal Monto financiado  \\\n",
            "7448                   Luis Reyes  Directo               $0   \n",
            "7449                            -  Directo               $0   \n",
            "7450  Veronica Villalba Fuenmayor  Directo               $0   \n",
            "7451      Marley Contreras Puente  Directo               $0   \n",
            "7452               Elvis Gonzalez  Directo               $0   \n",
            "\n",
            "     Verificado legalmente  ... Verificado por riesgo  \\\n",
            "7448         No verificado  ...         No verificado   \n",
            "7449         No verificado  ...         No verificado   \n",
            "7450         No verificado  ...         No verificado   \n",
            "7451         No verificado  ...         No verificado   \n",
            "7452         No verificado  ...         No verificado   \n",
            "\n",
            "     Habilitada cesión externa Disponible a fondo Ha operado  \\\n",
            "7448             No habilitada         Habilitado         No   \n",
            "7449             No habilitada      No habilitado         No   \n",
            "7450             No habilitada         Habilitado         No   \n",
            "7451             No habilitada         Habilitado         No   \n",
            "7452             No habilitada         Habilitado         No   \n",
            "\n",
            "     Tasa preferencial SII Última liquidación   Teléfono  \\\n",
            "7448                 0  Sí                  -  940986911   \n",
            "7449                 -  No                  -          -   \n",
            "7450                 0  Sí                  -  973783499   \n",
            "7451                 0  Sí                  -  961245048   \n",
            "7452                 0  No                  -  947461187   \n",
            "\n",
            "                                  Correo Facturadores  \n",
            "7448  rcontreras.gerencia@rcm-ingemaq.cl  SII sin XML  \n",
            "7449                                   -          NaN  \n",
            "7450           robertomachucap@gmail.com  SII sin XML  \n",
            "7451               asalgado@grupofad.com  SII sin XML  \n",
            "7452          juanlazovertical@gmail.com  SII sin XML  \n",
            "\n",
            "[5 rows x 21 columns]\n"
          ]
        }
      ]
    },
    {
      "cell_type": "markdown",
      "source": [
        "En las ultimas 5 filas, se aprecian registros null, en el df_fact en las columnas fecha_añomes_Emisión y monto_facturado, por lo que se tendrán que analizar los datos con dichas caracteristicas."
      ],
      "metadata": {
        "id": "SCbEtT_1VCol"
      }
    },
    {
      "cell_type": "code",
      "source": [
        "#Dimensión de los dataset\n",
        "print(df_fact.shape)\n",
        "print(\"\\n\")\n",
        "print(df_ope.shape)\n",
        "print(\"\\n\")\n",
        "print(dfclientes.shape)"
      ],
      "metadata": {
        "colab": {
          "base_uri": "https://localhost:8080/"
        },
        "id": "V1olvWurTh-3",
        "outputId": "b6b05dce-2cde-4f91-86aa-da729a373188"
      },
      "execution_count": null,
      "outputs": [
        {
          "output_type": "stream",
          "name": "stdout",
          "text": [
            "(470966, 4)\n",
            "\n",
            "\n",
            "(10459, 5)\n",
            "\n",
            "\n",
            "(7453, 21)\n"
          ]
        }
      ]
    },
    {
      "cell_type": "markdown",
      "source": [
        "Todos los DF tienen diferente forma por lo que combinarlos en la forma de unión no es viable, ademas vemos la gran diferencia de filas de los 3 df."
      ],
      "metadata": {
        "id": "b2C63yQtVQZz"
      }
    },
    {
      "cell_type": "code",
      "source": [
        "# Veamos el nombre y el tipo de cada columna de los DF\n",
        "print(df_fact.info())\n",
        "print(\"\\n\")\n",
        "print(df_ope.info())\n",
        "print(\"\\n\")\n",
        "print(dfclientes.info())\n"
      ],
      "metadata": {
        "colab": {
          "base_uri": "https://localhost:8080/"
        },
        "id": "x87nn79aVqjT",
        "outputId": "0c908810-3435-46cf-98ec-6906fc17a964"
      },
      "execution_count": null,
      "outputs": [
        {
          "output_type": "stream",
          "name": "stdout",
          "text": [
            "<class 'pandas.core.frame.DataFrame'>\n",
            "RangeIndex: 470966 entries, 0 to 470965\n",
            "Data columns (total 4 columns):\n",
            " #   Column                Non-Null Count   Dtype  \n",
            "---  ------                --------------   -----  \n",
            " 0   client_rut            470964 non-null  object \n",
            " 1   fecha_añomes_Emisión  470257 non-null  object \n",
            " 2   Cant_doc              470966 non-null  int64  \n",
            " 3   monto_facturado       470489 non-null  float64\n",
            "dtypes: float64(1), int64(1), object(2)\n",
            "memory usage: 14.4+ MB\n",
            "None\n",
            "\n",
            "\n",
            "<class 'pandas.core.frame.DataFrame'>\n",
            "RangeIndex: 10459 entries, 0 to 10458\n",
            "Data columns (total 5 columns):\n",
            " #   Column            Non-Null Count  Dtype  \n",
            "---  ------            --------------  -----  \n",
            " 0   customer_rut      10458 non-null  object \n",
            " 1   fecha_ope         10458 non-null  object \n",
            " 2   Cant_op           10459 non-null  int64  \n",
            " 3   Monto_financiado  10458 non-null  float64\n",
            " 4   prom_tasa         10458 non-null  float64\n",
            "dtypes: float64(2), int64(1), object(2)\n",
            "memory usage: 408.7+ KB\n",
            "None\n",
            "\n",
            "\n",
            "<class 'pandas.core.frame.DataFrame'>\n",
            "RangeIndex: 7453 entries, 0 to 7452\n",
            "Data columns (total 21 columns):\n",
            " #   Column                     Non-Null Count  Dtype \n",
            "---  ------                     --------------  ----- \n",
            " 0   Rut                        7453 non-null   object\n",
            " 1   Razón Social               7453 non-null   object\n",
            " 2   Calif.                     7453 non-null   object\n",
            " 3   Rep.Legal                  7453 non-null   object\n",
            " 4   Contacto                   7453 non-null   object\n",
            " 5   Registro                   7453 non-null   object\n",
            " 6   Ejecutivo comercial        7453 non-null   object\n",
            " 7   Canal                      7453 non-null   object\n",
            " 8   Monto financiado           7453 non-null   object\n",
            " 9   Verificado legalmente      7453 non-null   object\n",
            " 10  Estado                     7453 non-null   object\n",
            " 11  Verificado por riesgo      7453 non-null   object\n",
            " 12  Habilitada cesión externa  7453 non-null   object\n",
            " 13  Disponible a fondo         7453 non-null   object\n",
            " 14  Ha operado                 7453 non-null   object\n",
            " 15  Tasa preferencial          7453 non-null   object\n",
            " 16  SII                        7453 non-null   object\n",
            " 17  Última liquidación         7453 non-null   object\n",
            " 18  Teléfono                   7453 non-null   object\n",
            " 19  Correo                     7453 non-null   object\n",
            " 20  Facturadores               6267 non-null   object\n",
            "dtypes: object(21)\n",
            "memory usage: 1.2+ MB\n",
            "None\n"
          ]
        }
      ]
    },
    {
      "cell_type": "markdown",
      "source": [
        "Una caracterista es que el dfclientes tiene solo variables categoricas, este df corresponde a toda la información cualitativa del cliente y también es aquel que contiene más columnas. \n"
      ],
      "metadata": {
        "id": "FeWrPPa2XSNA"
      }
    },
    {
      "cell_type": "code",
      "source": [
        "#Verificar si existen duplicados\n",
        "print(df_fact.duplicated())\n",
        "print(\"\\n\")\n",
        "print(df_ope.duplicated())\n",
        "print(\"\\n\")\n",
        "print(dfclientes.duplicated())"
      ],
      "metadata": {
        "colab": {
          "base_uri": "https://localhost:8080/"
        },
        "id": "TE9TakZsW1Z6",
        "outputId": "037b154d-deb4-4045-da2f-77e412a5a5c9"
      },
      "execution_count": null,
      "outputs": [
        {
          "output_type": "stream",
          "name": "stdout",
          "text": [
            "0         False\n",
            "1         False\n",
            "2         False\n",
            "3         False\n",
            "4         False\n",
            "          ...  \n",
            "470961    False\n",
            "470962    False\n",
            "470963    False\n",
            "470964    False\n",
            "470965    False\n",
            "Length: 470966, dtype: bool\n",
            "\n",
            "\n",
            "0        False\n",
            "1        False\n",
            "2        False\n",
            "3        False\n",
            "4        False\n",
            "         ...  \n",
            "10454    False\n",
            "10455    False\n",
            "10456    False\n",
            "10457    False\n",
            "10458    False\n",
            "Length: 10459, dtype: bool\n",
            "\n",
            "\n",
            "0       False\n",
            "1       False\n",
            "2       False\n",
            "3       False\n",
            "4       False\n",
            "        ...  \n",
            "7448    False\n",
            "7449    False\n",
            "7450    False\n",
            "7451    False\n",
            "7452    False\n",
            "Length: 7453, dtype: bool\n"
          ]
        }
      ]
    },
    {
      "cell_type": "markdown",
      "source": [
        "Los DF no poseen duplicados"
      ],
      "metadata": {
        "id": "5Hi-5RfpXH4d"
      }
    },
    {
      "cell_type": "markdown",
      "source": [
        "### Limpieza"
      ],
      "metadata": {
        "id": "ixpurhNdCylk"
      }
    },
    {
      "cell_type": "code",
      "source": [
        "#Verificamos los nulos en facturacion\n",
        "Valores_nulos_fact=df_fact[df_fact['fecha_añomes_Emisión'].isnull()&df_fact['monto_facturado'].isnull()]\n",
        "print(\"Valores nulos de Base de Facturacion\")\n",
        "print(Valores_nulos_fact.shape)\n",
        "print('\\n')\n",
        "print(Valores_nulos_fact)\n",
        "\n"
      ],
      "metadata": {
        "colab": {
          "base_uri": "https://localhost:8080/"
        },
        "id": "AhWS0Ocrx16V",
        "outputId": "a1a40b90-a7e0-4328-e6df-2cb7354e4e44"
      },
      "execution_count": null,
      "outputs": [
        {
          "output_type": "stream",
          "name": "stdout",
          "text": [
            "Valores nulos de Base de Facturacion\n",
            "(477, 4)\n",
            "\n",
            "\n",
            "        client_rut fecha_añomes_Emisión  Cant_doc  monto_facturado\n",
            "470259  76424156-8                  NaN         1              NaN\n",
            "470260  77077269-9                  NaN         1              NaN\n",
            "470262  76978324-5                  NaN         1              NaN\n",
            "470263  77151778-1                  NaN         3              NaN\n",
            "470264  77057293-2                  NaN         6              NaN\n",
            "...            ...                  ...       ...              ...\n",
            "470960  77013857-4                  NaN         1              NaN\n",
            "470961  76793034-8                  NaN         1              NaN\n",
            "470963  77078139-6                  NaN         3              NaN\n",
            "470964  76029926-K                  NaN         6              NaN\n",
            "470965  79934380-0                  NaN         1              NaN\n",
            "\n",
            "[477 rows x 4 columns]\n"
          ]
        }
      ]
    },
    {
      "cell_type": "markdown",
      "source": [
        "Eliminamos los valores de la base de Facturacion, que posean nulos dentro de los campos de fecha de facturacion y montos facturados."
      ],
      "metadata": {
        "id": "KyRg7GA8Zn8Y"
      }
    },
    {
      "cell_type": "code",
      "source": [
        "\n",
        "df_fact2=df_fact.dropna(subset=['fecha_añomes_Emisión','fecha_añomes_Emisión'])\n",
        "df_fact2=df_fact2.dropna(subset=['client_rut'])\n",
        "\n",
        "Valores_nulos_fact2=df_fact2[df_fact2['fecha_añomes_Emisión'].isnull()&df_fact['monto_facturado'].isnull()]\n",
        "print(\"Valores nulos de Base de Facturacion\")\n",
        "print(Valores_nulos_fact2.shape)\n",
        "print('\\n')\n",
        "print(df_fact2.isnull().sum())\n"
      ],
      "metadata": {
        "colab": {
          "base_uri": "https://localhost:8080/"
        },
        "id": "mnoVe4Z8C7OV",
        "outputId": "ea564729-095c-4477-8a98-3029dbebeef1"
      },
      "execution_count": null,
      "outputs": [
        {
          "output_type": "stream",
          "name": "stdout",
          "text": [
            "Valores nulos de Base de Facturacion\n",
            "(0, 4)\n",
            "\n",
            "\n",
            "client_rut              0\n",
            "fecha_añomes_Emisión    0\n",
            "Cant_doc                0\n",
            "monto_facturado         0\n",
            "dtype: int64\n"
          ]
        },
        {
          "output_type": "stream",
          "name": "stderr",
          "text": [
            "/usr/local/lib/python3.7/dist-packages/ipykernel_launcher.py:5: UserWarning: Boolean Series key will be reindexed to match DataFrame index.\n",
            "  \"\"\"\n"
          ]
        }
      ]
    },
    {
      "cell_type": "markdown",
      "source": [
        "### Eliminamos los valores de la base de Operaciones, que posean nulos dentro de los campos de fecha de cantidad de operaciones, monto financiado y tasa promedio."
      ],
      "metadata": {
        "id": "SbN5MZBgFru0"
      }
    },
    {
      "cell_type": "code",
      "source": [
        "control1=df_ope[df_ope[\"Cant_op\"].isnull()&df_ope[\"Monto_financiado\"].isnull()&df_ope[\"prom_tasa\"].isnull()]\n",
        "print(\"Vemos si existen nulos entre las combinaciones Cant_op - Monto_financiado - prom_tasa\")\n",
        "print(control1.shape)\n",
        "print('\\n')\n",
        "print(\"Vemos si existen nulos entre las combinaciones Cant_op - Monto_financiado\")\n",
        "control2=df_ope[df_ope[\"Cant_op\"].isnull()&df_ope[\"Monto_financiado\"].isnull()]\n",
        "print(control2.shape)\n",
        "print('\\n')\n",
        "print(df_ope.isnull().sum())"
      ],
      "metadata": {
        "colab": {
          "base_uri": "https://localhost:8080/"
        },
        "id": "Dtvaq7tu5vMO",
        "outputId": "99ec0c73-bfc2-4f00-cb8a-daa14b65dac8"
      },
      "execution_count": null,
      "outputs": [
        {
          "output_type": "stream",
          "name": "stdout",
          "text": [
            "Vemos si existen nulos entre las combinaciones Cant_op - Monto_financiado - prom_tasa\n",
            "(0, 5)\n",
            "\n",
            "\n",
            "Vemos si existen nulos entre las combinaciones Cant_op - Monto_financiado\n",
            "(0, 5)\n",
            "\n",
            "\n",
            "customer_rut        1\n",
            "fecha_ope           1\n",
            "Cant_op             0\n",
            "Monto_financiado    1\n",
            "prom_tasa           1\n",
            "dtype: int64\n"
          ]
        }
      ]
    },
    {
      "cell_type": "code",
      "source": [
        "df_ope2=df_ope.dropna()\n",
        "df_ope2.isnull().sum()"
      ],
      "metadata": {
        "colab": {
          "base_uri": "https://localhost:8080/"
        },
        "id": "UXGrwPtAMR1h",
        "outputId": "0619703f-1e31-47a8-8662-992d31ddcab9"
      },
      "execution_count": null,
      "outputs": [
        {
          "output_type": "execute_result",
          "data": {
            "text/plain": [
              "customer_rut        0\n",
              "fecha_ope           0\n",
              "Cant_op             0\n",
              "Monto_financiado    0\n",
              "prom_tasa           0\n",
              "dtype: int64"
            ]
          },
          "metadata": {},
          "execution_count": 11
        }
      ]
    },
    {
      "cell_type": "code",
      "source": [
        "print(df_ope2.dtypes)\n",
        "print('\\n')\n",
        "print(df_fact2.dtypes)"
      ],
      "metadata": {
        "colab": {
          "base_uri": "https://localhost:8080/"
        },
        "id": "k_8ndC4KuRdI",
        "outputId": "c4a27dbe-ffde-4222-c23a-fe27f0455e20"
      },
      "execution_count": null,
      "outputs": [
        {
          "output_type": "stream",
          "name": "stdout",
          "text": [
            "customer_rut         object\n",
            "fecha_ope            object\n",
            "Cant_op               int64\n",
            "Monto_financiado    float64\n",
            "prom_tasa           float64\n",
            "dtype: object\n",
            "\n",
            "\n",
            "client_rut               object\n",
            "fecha_añomes_Emisión     object\n",
            "Cant_doc                  int64\n",
            "monto_facturado         float64\n",
            "dtype: object\n"
          ]
        }
      ]
    },
    {
      "cell_type": "code",
      "source": [
        "print(df_ope2.info())\n",
        "print('\\n')\n",
        "print(df_fact2.info())"
      ],
      "metadata": {
        "colab": {
          "base_uri": "https://localhost:8080/"
        },
        "id": "cQc1kcDRx-1i",
        "outputId": "b2533587-884e-46de-b69b-258d0f9c0455"
      },
      "execution_count": null,
      "outputs": [
        {
          "output_type": "stream",
          "name": "stdout",
          "text": [
            "<class 'pandas.core.frame.DataFrame'>\n",
            "Int64Index: 10458 entries, 0 to 10458\n",
            "Data columns (total 5 columns):\n",
            " #   Column            Non-Null Count  Dtype  \n",
            "---  ------            --------------  -----  \n",
            " 0   customer_rut      10458 non-null  object \n",
            " 1   fecha_ope         10458 non-null  object \n",
            " 2   Cant_op           10458 non-null  int64  \n",
            " 3   Monto_financiado  10458 non-null  float64\n",
            " 4   prom_tasa         10458 non-null  float64\n",
            "dtypes: float64(2), int64(1), object(2)\n",
            "memory usage: 490.2+ KB\n",
            "None\n",
            "\n",
            "\n",
            "<class 'pandas.core.frame.DataFrame'>\n",
            "Int64Index: 470256 entries, 0 to 470256\n",
            "Data columns (total 4 columns):\n",
            " #   Column                Non-Null Count   Dtype  \n",
            "---  ------                --------------   -----  \n",
            " 0   client_rut            470256 non-null  object \n",
            " 1   fecha_añomes_Emisión  470256 non-null  object \n",
            " 2   Cant_doc              470256 non-null  int64  \n",
            " 3   monto_facturado       470256 non-null  float64\n",
            "dtypes: float64(1), int64(1), object(2)\n",
            "memory usage: 34.1+ MB\n",
            "None\n"
          ]
        }
      ]
    },
    {
      "cell_type": "code",
      "source": [
        "df_ope2.describe().T"
      ],
      "metadata": {
        "colab": {
          "base_uri": "https://localhost:8080/"
        },
        "id": "yzqL1zJJyHkP",
        "outputId": "4e8a2b65-b98e-452f-ad9e-19275bb928fa"
      },
      "execution_count": null,
      "outputs": [
        {
          "output_type": "execute_result",
          "data": {
            "text/plain": [
              "                    count          mean           std  min        25%  \\\n",
              "Cant_op           10458.0  1.993115e+00  1.723208e+00  1.0        1.0   \n",
              "Monto_financiado  10458.0  2.535720e+07  5.560267e+07  0.0  3730344.0   \n",
              "prom_tasa         10458.0  1.675953e+00  6.208060e-01  0.0        1.5   \n",
              "\n",
              "                         50%          75%           max  \n",
              "Cant_op                 1.00         2.00  2.300000e+01  \n",
              "Monto_financiado  9461380.00  24055245.75  1.047827e+09  \n",
              "prom_tasa               1.75         2.00  5.950000e+00  "
            ],
            "text/html": [
              "\n",
              "  <div id=\"df-935e55c2-a733-4baf-b1ca-4f7869d40e99\">\n",
              "    <div class=\"colab-df-container\">\n",
              "      <div>\n",
              "<style scoped>\n",
              "    .dataframe tbody tr th:only-of-type {\n",
              "        vertical-align: middle;\n",
              "    }\n",
              "\n",
              "    .dataframe tbody tr th {\n",
              "        vertical-align: top;\n",
              "    }\n",
              "\n",
              "    .dataframe thead th {\n",
              "        text-align: right;\n",
              "    }\n",
              "</style>\n",
              "<table border=\"1\" class=\"dataframe\">\n",
              "  <thead>\n",
              "    <tr style=\"text-align: right;\">\n",
              "      <th></th>\n",
              "      <th>count</th>\n",
              "      <th>mean</th>\n",
              "      <th>std</th>\n",
              "      <th>min</th>\n",
              "      <th>25%</th>\n",
              "      <th>50%</th>\n",
              "      <th>75%</th>\n",
              "      <th>max</th>\n",
              "    </tr>\n",
              "  </thead>\n",
              "  <tbody>\n",
              "    <tr>\n",
              "      <th>Cant_op</th>\n",
              "      <td>10458.0</td>\n",
              "      <td>1.993115e+00</td>\n",
              "      <td>1.723208e+00</td>\n",
              "      <td>1.0</td>\n",
              "      <td>1.0</td>\n",
              "      <td>1.00</td>\n",
              "      <td>2.00</td>\n",
              "      <td>2.300000e+01</td>\n",
              "    </tr>\n",
              "    <tr>\n",
              "      <th>Monto_financiado</th>\n",
              "      <td>10458.0</td>\n",
              "      <td>2.535720e+07</td>\n",
              "      <td>5.560267e+07</td>\n",
              "      <td>0.0</td>\n",
              "      <td>3730344.0</td>\n",
              "      <td>9461380.00</td>\n",
              "      <td>24055245.75</td>\n",
              "      <td>1.047827e+09</td>\n",
              "    </tr>\n",
              "    <tr>\n",
              "      <th>prom_tasa</th>\n",
              "      <td>10458.0</td>\n",
              "      <td>1.675953e+00</td>\n",
              "      <td>6.208060e-01</td>\n",
              "      <td>0.0</td>\n",
              "      <td>1.5</td>\n",
              "      <td>1.75</td>\n",
              "      <td>2.00</td>\n",
              "      <td>5.950000e+00</td>\n",
              "    </tr>\n",
              "  </tbody>\n",
              "</table>\n",
              "</div>\n",
              "      <button class=\"colab-df-convert\" onclick=\"convertToInteractive('df-935e55c2-a733-4baf-b1ca-4f7869d40e99')\"\n",
              "              title=\"Convert this dataframe to an interactive table.\"\n",
              "              style=\"display:none;\">\n",
              "        \n",
              "  <svg xmlns=\"http://www.w3.org/2000/svg\" height=\"24px\"viewBox=\"0 0 24 24\"\n",
              "       width=\"24px\">\n",
              "    <path d=\"M0 0h24v24H0V0z\" fill=\"none\"/>\n",
              "    <path d=\"M18.56 5.44l.94 2.06.94-2.06 2.06-.94-2.06-.94-.94-2.06-.94 2.06-2.06.94zm-11 1L8.5 8.5l.94-2.06 2.06-.94-2.06-.94L8.5 2.5l-.94 2.06-2.06.94zm10 10l.94 2.06.94-2.06 2.06-.94-2.06-.94-.94-2.06-.94 2.06-2.06.94z\"/><path d=\"M17.41 7.96l-1.37-1.37c-.4-.4-.92-.59-1.43-.59-.52 0-1.04.2-1.43.59L10.3 9.45l-7.72 7.72c-.78.78-.78 2.05 0 2.83L4 21.41c.39.39.9.59 1.41.59.51 0 1.02-.2 1.41-.59l7.78-7.78 2.81-2.81c.8-.78.8-2.07 0-2.86zM5.41 20L4 18.59l7.72-7.72 1.47 1.35L5.41 20z\"/>\n",
              "  </svg>\n",
              "      </button>\n",
              "      \n",
              "  <style>\n",
              "    .colab-df-container {\n",
              "      display:flex;\n",
              "      flex-wrap:wrap;\n",
              "      gap: 12px;\n",
              "    }\n",
              "\n",
              "    .colab-df-convert {\n",
              "      background-color: #E8F0FE;\n",
              "      border: none;\n",
              "      border-radius: 50%;\n",
              "      cursor: pointer;\n",
              "      display: none;\n",
              "      fill: #1967D2;\n",
              "      height: 32px;\n",
              "      padding: 0 0 0 0;\n",
              "      width: 32px;\n",
              "    }\n",
              "\n",
              "    .colab-df-convert:hover {\n",
              "      background-color: #E2EBFA;\n",
              "      box-shadow: 0px 1px 2px rgba(60, 64, 67, 0.3), 0px 1px 3px 1px rgba(60, 64, 67, 0.15);\n",
              "      fill: #174EA6;\n",
              "    }\n",
              "\n",
              "    [theme=dark] .colab-df-convert {\n",
              "      background-color: #3B4455;\n",
              "      fill: #D2E3FC;\n",
              "    }\n",
              "\n",
              "    [theme=dark] .colab-df-convert:hover {\n",
              "      background-color: #434B5C;\n",
              "      box-shadow: 0px 1px 3px 1px rgba(0, 0, 0, 0.15);\n",
              "      filter: drop-shadow(0px 1px 2px rgba(0, 0, 0, 0.3));\n",
              "      fill: #FFFFFF;\n",
              "    }\n",
              "  </style>\n",
              "\n",
              "      <script>\n",
              "        const buttonEl =\n",
              "          document.querySelector('#df-935e55c2-a733-4baf-b1ca-4f7869d40e99 button.colab-df-convert');\n",
              "        buttonEl.style.display =\n",
              "          google.colab.kernel.accessAllowed ? 'block' : 'none';\n",
              "\n",
              "        async function convertToInteractive(key) {\n",
              "          const element = document.querySelector('#df-935e55c2-a733-4baf-b1ca-4f7869d40e99');\n",
              "          const dataTable =\n",
              "            await google.colab.kernel.invokeFunction('convertToInteractive',\n",
              "                                                     [key], {});\n",
              "          if (!dataTable) return;\n",
              "\n",
              "          const docLinkHtml = 'Like what you see? Visit the ' +\n",
              "            '<a target=\"_blank\" href=https://colab.research.google.com/notebooks/data_table.ipynb>data table notebook</a>'\n",
              "            + ' to learn more about interactive tables.';\n",
              "          element.innerHTML = '';\n",
              "          dataTable['output_type'] = 'display_data';\n",
              "          await google.colab.output.renderOutput(dataTable, element);\n",
              "          const docLink = document.createElement('div');\n",
              "          docLink.innerHTML = docLinkHtml;\n",
              "          element.appendChild(docLink);\n",
              "        }\n",
              "      </script>\n",
              "    </div>\n",
              "  </div>\n",
              "  "
            ]
          },
          "metadata": {},
          "execution_count": 14
        }
      ]
    },
    {
      "cell_type": "code",
      "source": [
        "df_fact2.describe().T"
      ],
      "metadata": {
        "colab": {
          "base_uri": "https://localhost:8080/"
        },
        "id": "-1SjJjLNOAX_",
        "outputId": "9f8dc676-808c-4471-a20c-97ba85ef8339"
      },
      "execution_count": null,
      "outputs": [
        {
          "output_type": "execute_result",
          "data": {
            "text/plain": [
              "                    count          mean           std        min        25%  \\\n",
              "Cant_doc         470256.0  4.814282e+00  1.903999e+01        1.0       1.00   \n",
              "monto_facturado  470256.0  1.282798e+07  2.627975e+08 -9974866.0  428398.25   \n",
              "\n",
              "                       50%        75%           max  \n",
              "Cant_doc               2.0        4.0  7.720000e+02  \n",
              "monto_facturado  1746420.0  6854400.0  1.142034e+11  "
            ],
            "text/html": [
              "\n",
              "  <div id=\"df-63bb0750-0968-40bb-a598-8dfd28e44b0d\">\n",
              "    <div class=\"colab-df-container\">\n",
              "      <div>\n",
              "<style scoped>\n",
              "    .dataframe tbody tr th:only-of-type {\n",
              "        vertical-align: middle;\n",
              "    }\n",
              "\n",
              "    .dataframe tbody tr th {\n",
              "        vertical-align: top;\n",
              "    }\n",
              "\n",
              "    .dataframe thead th {\n",
              "        text-align: right;\n",
              "    }\n",
              "</style>\n",
              "<table border=\"1\" class=\"dataframe\">\n",
              "  <thead>\n",
              "    <tr style=\"text-align: right;\">\n",
              "      <th></th>\n",
              "      <th>count</th>\n",
              "      <th>mean</th>\n",
              "      <th>std</th>\n",
              "      <th>min</th>\n",
              "      <th>25%</th>\n",
              "      <th>50%</th>\n",
              "      <th>75%</th>\n",
              "      <th>max</th>\n",
              "    </tr>\n",
              "  </thead>\n",
              "  <tbody>\n",
              "    <tr>\n",
              "      <th>Cant_doc</th>\n",
              "      <td>470256.0</td>\n",
              "      <td>4.814282e+00</td>\n",
              "      <td>1.903999e+01</td>\n",
              "      <td>1.0</td>\n",
              "      <td>1.00</td>\n",
              "      <td>2.0</td>\n",
              "      <td>4.0</td>\n",
              "      <td>7.720000e+02</td>\n",
              "    </tr>\n",
              "    <tr>\n",
              "      <th>monto_facturado</th>\n",
              "      <td>470256.0</td>\n",
              "      <td>1.282798e+07</td>\n",
              "      <td>2.627975e+08</td>\n",
              "      <td>-9974866.0</td>\n",
              "      <td>428398.25</td>\n",
              "      <td>1746420.0</td>\n",
              "      <td>6854400.0</td>\n",
              "      <td>1.142034e+11</td>\n",
              "    </tr>\n",
              "  </tbody>\n",
              "</table>\n",
              "</div>\n",
              "      <button class=\"colab-df-convert\" onclick=\"convertToInteractive('df-63bb0750-0968-40bb-a598-8dfd28e44b0d')\"\n",
              "              title=\"Convert this dataframe to an interactive table.\"\n",
              "              style=\"display:none;\">\n",
              "        \n",
              "  <svg xmlns=\"http://www.w3.org/2000/svg\" height=\"24px\"viewBox=\"0 0 24 24\"\n",
              "       width=\"24px\">\n",
              "    <path d=\"M0 0h24v24H0V0z\" fill=\"none\"/>\n",
              "    <path d=\"M18.56 5.44l.94 2.06.94-2.06 2.06-.94-2.06-.94-.94-2.06-.94 2.06-2.06.94zm-11 1L8.5 8.5l.94-2.06 2.06-.94-2.06-.94L8.5 2.5l-.94 2.06-2.06.94zm10 10l.94 2.06.94-2.06 2.06-.94-2.06-.94-.94-2.06-.94 2.06-2.06.94z\"/><path d=\"M17.41 7.96l-1.37-1.37c-.4-.4-.92-.59-1.43-.59-.52 0-1.04.2-1.43.59L10.3 9.45l-7.72 7.72c-.78.78-.78 2.05 0 2.83L4 21.41c.39.39.9.59 1.41.59.51 0 1.02-.2 1.41-.59l7.78-7.78 2.81-2.81c.8-.78.8-2.07 0-2.86zM5.41 20L4 18.59l7.72-7.72 1.47 1.35L5.41 20z\"/>\n",
              "  </svg>\n",
              "      </button>\n",
              "      \n",
              "  <style>\n",
              "    .colab-df-container {\n",
              "      display:flex;\n",
              "      flex-wrap:wrap;\n",
              "      gap: 12px;\n",
              "    }\n",
              "\n",
              "    .colab-df-convert {\n",
              "      background-color: #E8F0FE;\n",
              "      border: none;\n",
              "      border-radius: 50%;\n",
              "      cursor: pointer;\n",
              "      display: none;\n",
              "      fill: #1967D2;\n",
              "      height: 32px;\n",
              "      padding: 0 0 0 0;\n",
              "      width: 32px;\n",
              "    }\n",
              "\n",
              "    .colab-df-convert:hover {\n",
              "      background-color: #E2EBFA;\n",
              "      box-shadow: 0px 1px 2px rgba(60, 64, 67, 0.3), 0px 1px 3px 1px rgba(60, 64, 67, 0.15);\n",
              "      fill: #174EA6;\n",
              "    }\n",
              "\n",
              "    [theme=dark] .colab-df-convert {\n",
              "      background-color: #3B4455;\n",
              "      fill: #D2E3FC;\n",
              "    }\n",
              "\n",
              "    [theme=dark] .colab-df-convert:hover {\n",
              "      background-color: #434B5C;\n",
              "      box-shadow: 0px 1px 3px 1px rgba(0, 0, 0, 0.15);\n",
              "      filter: drop-shadow(0px 1px 2px rgba(0, 0, 0, 0.3));\n",
              "      fill: #FFFFFF;\n",
              "    }\n",
              "  </style>\n",
              "\n",
              "      <script>\n",
              "        const buttonEl =\n",
              "          document.querySelector('#df-63bb0750-0968-40bb-a598-8dfd28e44b0d button.colab-df-convert');\n",
              "        buttonEl.style.display =\n",
              "          google.colab.kernel.accessAllowed ? 'block' : 'none';\n",
              "\n",
              "        async function convertToInteractive(key) {\n",
              "          const element = document.querySelector('#df-63bb0750-0968-40bb-a598-8dfd28e44b0d');\n",
              "          const dataTable =\n",
              "            await google.colab.kernel.invokeFunction('convertToInteractive',\n",
              "                                                     [key], {});\n",
              "          if (!dataTable) return;\n",
              "\n",
              "          const docLinkHtml = 'Like what you see? Visit the ' +\n",
              "            '<a target=\"_blank\" href=https://colab.research.google.com/notebooks/data_table.ipynb>data table notebook</a>'\n",
              "            + ' to learn more about interactive tables.';\n",
              "          element.innerHTML = '';\n",
              "          dataTable['output_type'] = 'display_data';\n",
              "          await google.colab.output.renderOutput(dataTable, element);\n",
              "          const docLink = document.createElement('div');\n",
              "          docLink.innerHTML = docLinkHtml;\n",
              "          element.appendChild(docLink);\n",
              "        }\n",
              "      </script>\n",
              "    </div>\n",
              "  </div>\n",
              "  "
            ]
          },
          "metadata": {},
          "execution_count": 15
        }
      ]
    },
    {
      "cell_type": "markdown",
      "source": [
        "### Armamos una sola base para poder realizar los analisis correspondientes."
      ],
      "metadata": {
        "id": "I2c6Vf-DONUG"
      }
    },
    {
      "cell_type": "code",
      "source": [
        "df_total=pd.merge(df_fact2,df_ope2 ,how=\"inner\",left_on=['client_rut','fecha_añomes_Emisión'], right_on=['customer_rut','fecha_ope'])\n",
        "df_total.head(10)"
      ],
      "metadata": {
        "colab": {
          "base_uri": "https://localhost:8080/"
        },
        "id": "qgj13BefuypS",
        "outputId": "3155bb7a-f75a-4407-979d-96b0078daef0"
      },
      "execution_count": null,
      "outputs": [
        {
          "output_type": "execute_result",
          "data": {
            "text/plain": [
              "   client_rut fecha_añomes_Emisión  Cant_doc  monto_facturado customer_rut  \\\n",
              "0  76132820-4              2015-09         1        5045600.0   76132820-4   \n",
              "1  76132820-4              2015-09         1         947240.0   76132820-4   \n",
              "2  76132820-4              2015-09         3       11511643.0   76132820-4   \n",
              "3  76112169-3              2015-09         1        1356474.0   76112169-3   \n",
              "4  76112169-3              2015-09         1        1356473.0   76112169-3   \n",
              "5  76112169-3              2015-09         1        6426000.0   76112169-3   \n",
              "6  76112169-3              2015-09         1        1356474.0   76112169-3   \n",
              "7  78824220-4              2015-09         1        1332800.0   78824220-4   \n",
              "8  78824220-4              2015-09         1         338000.0   78824220-4   \n",
              "9  76504426-K              2015-10         1        2841301.0   76504426-K   \n",
              "\n",
              "  fecha_ope  Cant_op  Monto_financiado  prom_tasa  \n",
              "0   2015-09        1         4793320.0        0.0  \n",
              "1   2015-09        1         4793320.0        0.0  \n",
              "2   2015-09        1         4793320.0        0.0  \n",
              "3   2015-09        1        20805722.0        0.0  \n",
              "4   2015-09        1        20805722.0        0.0  \n",
              "5   2015-09        1        20805722.0        0.0  \n",
              "6   2015-09        1        20805722.0        0.0  \n",
              "7   2015-09        1         3427714.0        0.0  \n",
              "8   2015-09        1         3427714.0        0.0  \n",
              "9   2015-10        1         2699236.0        0.0  "
            ],
            "text/html": [
              "\n",
              "  <div id=\"df-623f407c-7606-4e85-9b94-596e266e6291\">\n",
              "    <div class=\"colab-df-container\">\n",
              "      <div>\n",
              "<style scoped>\n",
              "    .dataframe tbody tr th:only-of-type {\n",
              "        vertical-align: middle;\n",
              "    }\n",
              "\n",
              "    .dataframe tbody tr th {\n",
              "        vertical-align: top;\n",
              "    }\n",
              "\n",
              "    .dataframe thead th {\n",
              "        text-align: right;\n",
              "    }\n",
              "</style>\n",
              "<table border=\"1\" class=\"dataframe\">\n",
              "  <thead>\n",
              "    <tr style=\"text-align: right;\">\n",
              "      <th></th>\n",
              "      <th>client_rut</th>\n",
              "      <th>fecha_añomes_Emisión</th>\n",
              "      <th>Cant_doc</th>\n",
              "      <th>monto_facturado</th>\n",
              "      <th>customer_rut</th>\n",
              "      <th>fecha_ope</th>\n",
              "      <th>Cant_op</th>\n",
              "      <th>Monto_financiado</th>\n",
              "      <th>prom_tasa</th>\n",
              "    </tr>\n",
              "  </thead>\n",
              "  <tbody>\n",
              "    <tr>\n",
              "      <th>0</th>\n",
              "      <td>76132820-4</td>\n",
              "      <td>2015-09</td>\n",
              "      <td>1</td>\n",
              "      <td>5045600.0</td>\n",
              "      <td>76132820-4</td>\n",
              "      <td>2015-09</td>\n",
              "      <td>1</td>\n",
              "      <td>4793320.0</td>\n",
              "      <td>0.0</td>\n",
              "    </tr>\n",
              "    <tr>\n",
              "      <th>1</th>\n",
              "      <td>76132820-4</td>\n",
              "      <td>2015-09</td>\n",
              "      <td>1</td>\n",
              "      <td>947240.0</td>\n",
              "      <td>76132820-4</td>\n",
              "      <td>2015-09</td>\n",
              "      <td>1</td>\n",
              "      <td>4793320.0</td>\n",
              "      <td>0.0</td>\n",
              "    </tr>\n",
              "    <tr>\n",
              "      <th>2</th>\n",
              "      <td>76132820-4</td>\n",
              "      <td>2015-09</td>\n",
              "      <td>3</td>\n",
              "      <td>11511643.0</td>\n",
              "      <td>76132820-4</td>\n",
              "      <td>2015-09</td>\n",
              "      <td>1</td>\n",
              "      <td>4793320.0</td>\n",
              "      <td>0.0</td>\n",
              "    </tr>\n",
              "    <tr>\n",
              "      <th>3</th>\n",
              "      <td>76112169-3</td>\n",
              "      <td>2015-09</td>\n",
              "      <td>1</td>\n",
              "      <td>1356474.0</td>\n",
              "      <td>76112169-3</td>\n",
              "      <td>2015-09</td>\n",
              "      <td>1</td>\n",
              "      <td>20805722.0</td>\n",
              "      <td>0.0</td>\n",
              "    </tr>\n",
              "    <tr>\n",
              "      <th>4</th>\n",
              "      <td>76112169-3</td>\n",
              "      <td>2015-09</td>\n",
              "      <td>1</td>\n",
              "      <td>1356473.0</td>\n",
              "      <td>76112169-3</td>\n",
              "      <td>2015-09</td>\n",
              "      <td>1</td>\n",
              "      <td>20805722.0</td>\n",
              "      <td>0.0</td>\n",
              "    </tr>\n",
              "    <tr>\n",
              "      <th>5</th>\n",
              "      <td>76112169-3</td>\n",
              "      <td>2015-09</td>\n",
              "      <td>1</td>\n",
              "      <td>6426000.0</td>\n",
              "      <td>76112169-3</td>\n",
              "      <td>2015-09</td>\n",
              "      <td>1</td>\n",
              "      <td>20805722.0</td>\n",
              "      <td>0.0</td>\n",
              "    </tr>\n",
              "    <tr>\n",
              "      <th>6</th>\n",
              "      <td>76112169-3</td>\n",
              "      <td>2015-09</td>\n",
              "      <td>1</td>\n",
              "      <td>1356474.0</td>\n",
              "      <td>76112169-3</td>\n",
              "      <td>2015-09</td>\n",
              "      <td>1</td>\n",
              "      <td>20805722.0</td>\n",
              "      <td>0.0</td>\n",
              "    </tr>\n",
              "    <tr>\n",
              "      <th>7</th>\n",
              "      <td>78824220-4</td>\n",
              "      <td>2015-09</td>\n",
              "      <td>1</td>\n",
              "      <td>1332800.0</td>\n",
              "      <td>78824220-4</td>\n",
              "      <td>2015-09</td>\n",
              "      <td>1</td>\n",
              "      <td>3427714.0</td>\n",
              "      <td>0.0</td>\n",
              "    </tr>\n",
              "    <tr>\n",
              "      <th>8</th>\n",
              "      <td>78824220-4</td>\n",
              "      <td>2015-09</td>\n",
              "      <td>1</td>\n",
              "      <td>338000.0</td>\n",
              "      <td>78824220-4</td>\n",
              "      <td>2015-09</td>\n",
              "      <td>1</td>\n",
              "      <td>3427714.0</td>\n",
              "      <td>0.0</td>\n",
              "    </tr>\n",
              "    <tr>\n",
              "      <th>9</th>\n",
              "      <td>76504426-K</td>\n",
              "      <td>2015-10</td>\n",
              "      <td>1</td>\n",
              "      <td>2841301.0</td>\n",
              "      <td>76504426-K</td>\n",
              "      <td>2015-10</td>\n",
              "      <td>1</td>\n",
              "      <td>2699236.0</td>\n",
              "      <td>0.0</td>\n",
              "    </tr>\n",
              "  </tbody>\n",
              "</table>\n",
              "</div>\n",
              "      <button class=\"colab-df-convert\" onclick=\"convertToInteractive('df-623f407c-7606-4e85-9b94-596e266e6291')\"\n",
              "              title=\"Convert this dataframe to an interactive table.\"\n",
              "              style=\"display:none;\">\n",
              "        \n",
              "  <svg xmlns=\"http://www.w3.org/2000/svg\" height=\"24px\"viewBox=\"0 0 24 24\"\n",
              "       width=\"24px\">\n",
              "    <path d=\"M0 0h24v24H0V0z\" fill=\"none\"/>\n",
              "    <path d=\"M18.56 5.44l.94 2.06.94-2.06 2.06-.94-2.06-.94-.94-2.06-.94 2.06-2.06.94zm-11 1L8.5 8.5l.94-2.06 2.06-.94-2.06-.94L8.5 2.5l-.94 2.06-2.06.94zm10 10l.94 2.06.94-2.06 2.06-.94-2.06-.94-.94-2.06-.94 2.06-2.06.94z\"/><path d=\"M17.41 7.96l-1.37-1.37c-.4-.4-.92-.59-1.43-.59-.52 0-1.04.2-1.43.59L10.3 9.45l-7.72 7.72c-.78.78-.78 2.05 0 2.83L4 21.41c.39.39.9.59 1.41.59.51 0 1.02-.2 1.41-.59l7.78-7.78 2.81-2.81c.8-.78.8-2.07 0-2.86zM5.41 20L4 18.59l7.72-7.72 1.47 1.35L5.41 20z\"/>\n",
              "  </svg>\n",
              "      </button>\n",
              "      \n",
              "  <style>\n",
              "    .colab-df-container {\n",
              "      display:flex;\n",
              "      flex-wrap:wrap;\n",
              "      gap: 12px;\n",
              "    }\n",
              "\n",
              "    .colab-df-convert {\n",
              "      background-color: #E8F0FE;\n",
              "      border: none;\n",
              "      border-radius: 50%;\n",
              "      cursor: pointer;\n",
              "      display: none;\n",
              "      fill: #1967D2;\n",
              "      height: 32px;\n",
              "      padding: 0 0 0 0;\n",
              "      width: 32px;\n",
              "    }\n",
              "\n",
              "    .colab-df-convert:hover {\n",
              "      background-color: #E2EBFA;\n",
              "      box-shadow: 0px 1px 2px rgba(60, 64, 67, 0.3), 0px 1px 3px 1px rgba(60, 64, 67, 0.15);\n",
              "      fill: #174EA6;\n",
              "    }\n",
              "\n",
              "    [theme=dark] .colab-df-convert {\n",
              "      background-color: #3B4455;\n",
              "      fill: #D2E3FC;\n",
              "    }\n",
              "\n",
              "    [theme=dark] .colab-df-convert:hover {\n",
              "      background-color: #434B5C;\n",
              "      box-shadow: 0px 1px 3px 1px rgba(0, 0, 0, 0.15);\n",
              "      filter: drop-shadow(0px 1px 2px rgba(0, 0, 0, 0.3));\n",
              "      fill: #FFFFFF;\n",
              "    }\n",
              "  </style>\n",
              "\n",
              "      <script>\n",
              "        const buttonEl =\n",
              "          document.querySelector('#df-623f407c-7606-4e85-9b94-596e266e6291 button.colab-df-convert');\n",
              "        buttonEl.style.display =\n",
              "          google.colab.kernel.accessAllowed ? 'block' : 'none';\n",
              "\n",
              "        async function convertToInteractive(key) {\n",
              "          const element = document.querySelector('#df-623f407c-7606-4e85-9b94-596e266e6291');\n",
              "          const dataTable =\n",
              "            await google.colab.kernel.invokeFunction('convertToInteractive',\n",
              "                                                     [key], {});\n",
              "          if (!dataTable) return;\n",
              "\n",
              "          const docLinkHtml = 'Like what you see? Visit the ' +\n",
              "            '<a target=\"_blank\" href=https://colab.research.google.com/notebooks/data_table.ipynb>data table notebook</a>'\n",
              "            + ' to learn more about interactive tables.';\n",
              "          element.innerHTML = '';\n",
              "          dataTable['output_type'] = 'display_data';\n",
              "          await google.colab.output.renderOutput(dataTable, element);\n",
              "          const docLink = document.createElement('div');\n",
              "          docLink.innerHTML = docLinkHtml;\n",
              "          element.appendChild(docLink);\n",
              "        }\n",
              "      </script>\n",
              "    </div>\n",
              "  </div>\n",
              "  "
            ]
          },
          "metadata": {},
          "execution_count": 16
        }
      ]
    },
    {
      "cell_type": "code",
      "source": [
        "df_total.describe()"
      ],
      "metadata": {
        "colab": {
          "base_uri": "https://localhost:8080/"
        },
        "id": "HYfRDVstFcqe",
        "outputId": "62d65b30-0bcd-44f8-aeff-676abef1c0f7"
      },
      "execution_count": null,
      "outputs": [
        {
          "output_type": "execute_result",
          "data": {
            "text/plain": [
              "           Cant_doc  monto_facturado       Cant_op  Monto_financiado  \\\n",
              "count  64996.000000     6.499600e+04  64996.000000      6.499600e+04   \n",
              "mean       5.696520     1.809797e+07      2.598268      3.580914e+07   \n",
              "std       20.058508     2.139748e+08      2.407854      7.360795e+07   \n",
              "min        1.000000    -2.738333e+06      1.000000      0.000000e+00   \n",
              "25%        1.000000     8.365322e+05      1.000000      4.397859e+06   \n",
              "50%        2.000000     3.094000e+06      2.000000      1.151321e+07   \n",
              "75%        4.000000     1.133950e+07      3.000000      3.148240e+07   \n",
              "max      626.000000     2.994632e+10     23.000000      1.047827e+09   \n",
              "\n",
              "          prom_tasa  \n",
              "count  64996.000000  \n",
              "mean       1.739140  \n",
              "std        0.496592  \n",
              "min        0.000000  \n",
              "25%        1.500000  \n",
              "50%        1.754000  \n",
              "75%        2.000000  \n",
              "max        5.950000  "
            ],
            "text/html": [
              "\n",
              "  <div id=\"df-327b168e-bf3d-4ca2-8ebb-aa8c38e8c520\">\n",
              "    <div class=\"colab-df-container\">\n",
              "      <div>\n",
              "<style scoped>\n",
              "    .dataframe tbody tr th:only-of-type {\n",
              "        vertical-align: middle;\n",
              "    }\n",
              "\n",
              "    .dataframe tbody tr th {\n",
              "        vertical-align: top;\n",
              "    }\n",
              "\n",
              "    .dataframe thead th {\n",
              "        text-align: right;\n",
              "    }\n",
              "</style>\n",
              "<table border=\"1\" class=\"dataframe\">\n",
              "  <thead>\n",
              "    <tr style=\"text-align: right;\">\n",
              "      <th></th>\n",
              "      <th>Cant_doc</th>\n",
              "      <th>monto_facturado</th>\n",
              "      <th>Cant_op</th>\n",
              "      <th>Monto_financiado</th>\n",
              "      <th>prom_tasa</th>\n",
              "    </tr>\n",
              "  </thead>\n",
              "  <tbody>\n",
              "    <tr>\n",
              "      <th>count</th>\n",
              "      <td>64996.000000</td>\n",
              "      <td>6.499600e+04</td>\n",
              "      <td>64996.000000</td>\n",
              "      <td>6.499600e+04</td>\n",
              "      <td>64996.000000</td>\n",
              "    </tr>\n",
              "    <tr>\n",
              "      <th>mean</th>\n",
              "      <td>5.696520</td>\n",
              "      <td>1.809797e+07</td>\n",
              "      <td>2.598268</td>\n",
              "      <td>3.580914e+07</td>\n",
              "      <td>1.739140</td>\n",
              "    </tr>\n",
              "    <tr>\n",
              "      <th>std</th>\n",
              "      <td>20.058508</td>\n",
              "      <td>2.139748e+08</td>\n",
              "      <td>2.407854</td>\n",
              "      <td>7.360795e+07</td>\n",
              "      <td>0.496592</td>\n",
              "    </tr>\n",
              "    <tr>\n",
              "      <th>min</th>\n",
              "      <td>1.000000</td>\n",
              "      <td>-2.738333e+06</td>\n",
              "      <td>1.000000</td>\n",
              "      <td>0.000000e+00</td>\n",
              "      <td>0.000000</td>\n",
              "    </tr>\n",
              "    <tr>\n",
              "      <th>25%</th>\n",
              "      <td>1.000000</td>\n",
              "      <td>8.365322e+05</td>\n",
              "      <td>1.000000</td>\n",
              "      <td>4.397859e+06</td>\n",
              "      <td>1.500000</td>\n",
              "    </tr>\n",
              "    <tr>\n",
              "      <th>50%</th>\n",
              "      <td>2.000000</td>\n",
              "      <td>3.094000e+06</td>\n",
              "      <td>2.000000</td>\n",
              "      <td>1.151321e+07</td>\n",
              "      <td>1.754000</td>\n",
              "    </tr>\n",
              "    <tr>\n",
              "      <th>75%</th>\n",
              "      <td>4.000000</td>\n",
              "      <td>1.133950e+07</td>\n",
              "      <td>3.000000</td>\n",
              "      <td>3.148240e+07</td>\n",
              "      <td>2.000000</td>\n",
              "    </tr>\n",
              "    <tr>\n",
              "      <th>max</th>\n",
              "      <td>626.000000</td>\n",
              "      <td>2.994632e+10</td>\n",
              "      <td>23.000000</td>\n",
              "      <td>1.047827e+09</td>\n",
              "      <td>5.950000</td>\n",
              "    </tr>\n",
              "  </tbody>\n",
              "</table>\n",
              "</div>\n",
              "      <button class=\"colab-df-convert\" onclick=\"convertToInteractive('df-327b168e-bf3d-4ca2-8ebb-aa8c38e8c520')\"\n",
              "              title=\"Convert this dataframe to an interactive table.\"\n",
              "              style=\"display:none;\">\n",
              "        \n",
              "  <svg xmlns=\"http://www.w3.org/2000/svg\" height=\"24px\"viewBox=\"0 0 24 24\"\n",
              "       width=\"24px\">\n",
              "    <path d=\"M0 0h24v24H0V0z\" fill=\"none\"/>\n",
              "    <path d=\"M18.56 5.44l.94 2.06.94-2.06 2.06-.94-2.06-.94-.94-2.06-.94 2.06-2.06.94zm-11 1L8.5 8.5l.94-2.06 2.06-.94-2.06-.94L8.5 2.5l-.94 2.06-2.06.94zm10 10l.94 2.06.94-2.06 2.06-.94-2.06-.94-.94-2.06-.94 2.06-2.06.94z\"/><path d=\"M17.41 7.96l-1.37-1.37c-.4-.4-.92-.59-1.43-.59-.52 0-1.04.2-1.43.59L10.3 9.45l-7.72 7.72c-.78.78-.78 2.05 0 2.83L4 21.41c.39.39.9.59 1.41.59.51 0 1.02-.2 1.41-.59l7.78-7.78 2.81-2.81c.8-.78.8-2.07 0-2.86zM5.41 20L4 18.59l7.72-7.72 1.47 1.35L5.41 20z\"/>\n",
              "  </svg>\n",
              "      </button>\n",
              "      \n",
              "  <style>\n",
              "    .colab-df-container {\n",
              "      display:flex;\n",
              "      flex-wrap:wrap;\n",
              "      gap: 12px;\n",
              "    }\n",
              "\n",
              "    .colab-df-convert {\n",
              "      background-color: #E8F0FE;\n",
              "      border: none;\n",
              "      border-radius: 50%;\n",
              "      cursor: pointer;\n",
              "      display: none;\n",
              "      fill: #1967D2;\n",
              "      height: 32px;\n",
              "      padding: 0 0 0 0;\n",
              "      width: 32px;\n",
              "    }\n",
              "\n",
              "    .colab-df-convert:hover {\n",
              "      background-color: #E2EBFA;\n",
              "      box-shadow: 0px 1px 2px rgba(60, 64, 67, 0.3), 0px 1px 3px 1px rgba(60, 64, 67, 0.15);\n",
              "      fill: #174EA6;\n",
              "    }\n",
              "\n",
              "    [theme=dark] .colab-df-convert {\n",
              "      background-color: #3B4455;\n",
              "      fill: #D2E3FC;\n",
              "    }\n",
              "\n",
              "    [theme=dark] .colab-df-convert:hover {\n",
              "      background-color: #434B5C;\n",
              "      box-shadow: 0px 1px 3px 1px rgba(0, 0, 0, 0.15);\n",
              "      filter: drop-shadow(0px 1px 2px rgba(0, 0, 0, 0.3));\n",
              "      fill: #FFFFFF;\n",
              "    }\n",
              "  </style>\n",
              "\n",
              "      <script>\n",
              "        const buttonEl =\n",
              "          document.querySelector('#df-327b168e-bf3d-4ca2-8ebb-aa8c38e8c520 button.colab-df-convert');\n",
              "        buttonEl.style.display =\n",
              "          google.colab.kernel.accessAllowed ? 'block' : 'none';\n",
              "\n",
              "        async function convertToInteractive(key) {\n",
              "          const element = document.querySelector('#df-327b168e-bf3d-4ca2-8ebb-aa8c38e8c520');\n",
              "          const dataTable =\n",
              "            await google.colab.kernel.invokeFunction('convertToInteractive',\n",
              "                                                     [key], {});\n",
              "          if (!dataTable) return;\n",
              "\n",
              "          const docLinkHtml = 'Like what you see? Visit the ' +\n",
              "            '<a target=\"_blank\" href=https://colab.research.google.com/notebooks/data_table.ipynb>data table notebook</a>'\n",
              "            + ' to learn more about interactive tables.';\n",
              "          element.innerHTML = '';\n",
              "          dataTable['output_type'] = 'display_data';\n",
              "          await google.colab.output.renderOutput(dataTable, element);\n",
              "          const docLink = document.createElement('div');\n",
              "          docLink.innerHTML = docLinkHtml;\n",
              "          element.appendChild(docLink);\n",
              "        }\n",
              "      </script>\n",
              "    </div>\n",
              "  </div>\n",
              "  "
            ]
          },
          "metadata": {},
          "execution_count": 17
        }
      ]
    },
    {
      "cell_type": "code",
      "source": [
        "## Unimos en un solo DF las variables númericas y categoricas\n",
        "\n",
        "df_total_cli = pd.merge(df_total,dfclientes ,how=\"left\",left_on=['client_rut'], right_on=['Rut'])\n",
        "df_total_cli.head(10)"
      ],
      "metadata": {
        "colab": {
          "base_uri": "https://localhost:8080/"
        },
        "id": "9GVU1hMTVk03",
        "outputId": "146529ec-b6f3-4ff8-be58-c243e7d8ffd5"
      },
      "execution_count": null,
      "outputs": [
        {
          "output_type": "execute_result",
          "data": {
            "text/plain": [
              "   client_rut fecha_añomes_Emisión  Cant_doc  monto_facturado customer_rut  \\\n",
              "0  76132820-4              2015-09         1        5045600.0   76132820-4   \n",
              "1  76132820-4              2015-09         1         947240.0   76132820-4   \n",
              "2  76132820-4              2015-09         3       11511643.0   76132820-4   \n",
              "3  76112169-3              2015-09         1        1356474.0   76112169-3   \n",
              "4  76112169-3              2015-09         1        1356473.0   76112169-3   \n",
              "5  76112169-3              2015-09         1        6426000.0   76112169-3   \n",
              "6  76112169-3              2015-09         1        1356474.0   76112169-3   \n",
              "7  78824220-4              2015-09         1        1332800.0   78824220-4   \n",
              "8  78824220-4              2015-09         1         338000.0   78824220-4   \n",
              "9  76504426-K              2015-10         1        2841301.0   76504426-K   \n",
              "\n",
              "  fecha_ope  Cant_op  Monto_financiado  prom_tasa         Rut  ...  \\\n",
              "0   2015-09        1         4793320.0        0.0  76132820-4  ...   \n",
              "1   2015-09        1         4793320.0        0.0  76132820-4  ...   \n",
              "2   2015-09        1         4793320.0        0.0  76132820-4  ...   \n",
              "3   2015-09        1        20805722.0        0.0  76112169-3  ...   \n",
              "4   2015-09        1        20805722.0        0.0  76112169-3  ...   \n",
              "5   2015-09        1        20805722.0        0.0  76112169-3  ...   \n",
              "6   2015-09        1        20805722.0        0.0  76112169-3  ...   \n",
              "7   2015-09        1         3427714.0        0.0  78824220-4  ...   \n",
              "8   2015-09        1         3427714.0        0.0  78824220-4  ...   \n",
              "9   2015-10        1         2699236.0        0.0  76504426-K  ...   \n",
              "\n",
              "  Verificado por riesgo Habilitada cesión externa Disponible a fondo  \\\n",
              "0            Verificado             No habilitada         Habilitado   \n",
              "1            Verificado             No habilitada         Habilitado   \n",
              "2            Verificado             No habilitada         Habilitado   \n",
              "3         No verificado             No habilitada         Habilitado   \n",
              "4         No verificado             No habilitada         Habilitado   \n",
              "5         No verificado             No habilitada         Habilitado   \n",
              "6         No verificado             No habilitada         Habilitado   \n",
              "7         No verificado             No habilitada         Habilitado   \n",
              "8         No verificado             No habilitada         Habilitado   \n",
              "9         No verificado             No habilitada         Habilitado   \n",
              "\n",
              "  Ha operado Tasa preferencial SII Última liquidación   Teléfono  \\\n",
              "0         Sí                 -  Sí         22/04/2022  973784779   \n",
              "1         Sí                 -  Sí         22/04/2022  973784779   \n",
              "2         Sí                 -  Sí         22/04/2022  973784779   \n",
              "3         Sí                 -  No         22/10/2015   22465600   \n",
              "4         Sí                 -  No         22/10/2015   22465600   \n",
              "5         Sí                 -  No         22/10/2015   22465600   \n",
              "6         Sí                 -  No         22/10/2015   22465600   \n",
              "7         Sí                 -  No         20/10/2015   26896632   \n",
              "8         Sí                 -  No         20/10/2015   26896632   \n",
              "9         Sí                 -  No         20/10/2016  988296260   \n",
              "\n",
              "                          Correo         Facturadores  \n",
              "0           contabilidad4@mtc.cl  Acepta, SII sin XML  \n",
              "1           contabilidad4@mtc.cl  Acepta, SII sin XML  \n",
              "2           contabilidad4@mtc.cl  Acepta, SII sin XML  \n",
              "3               fgalvez@neosc.cl                  NaN  \n",
              "4               fgalvez@neosc.cl                  NaN  \n",
              "5               fgalvez@neosc.cl                  NaN  \n",
              "6               fgalvez@neosc.cl                  NaN  \n",
              "7  pdroguett@importadoracoral.cl                  NaN  \n",
              "8  pdroguett@importadoracoral.cl                  NaN  \n",
              "9     josehernandez316@gmail.com                  NaN  \n",
              "\n",
              "[10 rows x 30 columns]"
            ],
            "text/html": [
              "\n",
              "  <div id=\"df-37805b00-a058-4cf7-b9e7-98d4af664059\">\n",
              "    <div class=\"colab-df-container\">\n",
              "      <div>\n",
              "<style scoped>\n",
              "    .dataframe tbody tr th:only-of-type {\n",
              "        vertical-align: middle;\n",
              "    }\n",
              "\n",
              "    .dataframe tbody tr th {\n",
              "        vertical-align: top;\n",
              "    }\n",
              "\n",
              "    .dataframe thead th {\n",
              "        text-align: right;\n",
              "    }\n",
              "</style>\n",
              "<table border=\"1\" class=\"dataframe\">\n",
              "  <thead>\n",
              "    <tr style=\"text-align: right;\">\n",
              "      <th></th>\n",
              "      <th>client_rut</th>\n",
              "      <th>fecha_añomes_Emisión</th>\n",
              "      <th>Cant_doc</th>\n",
              "      <th>monto_facturado</th>\n",
              "      <th>customer_rut</th>\n",
              "      <th>fecha_ope</th>\n",
              "      <th>Cant_op</th>\n",
              "      <th>Monto_financiado</th>\n",
              "      <th>prom_tasa</th>\n",
              "      <th>Rut</th>\n",
              "      <th>...</th>\n",
              "      <th>Verificado por riesgo</th>\n",
              "      <th>Habilitada cesión externa</th>\n",
              "      <th>Disponible a fondo</th>\n",
              "      <th>Ha operado</th>\n",
              "      <th>Tasa preferencial</th>\n",
              "      <th>SII</th>\n",
              "      <th>Última liquidación</th>\n",
              "      <th>Teléfono</th>\n",
              "      <th>Correo</th>\n",
              "      <th>Facturadores</th>\n",
              "    </tr>\n",
              "  </thead>\n",
              "  <tbody>\n",
              "    <tr>\n",
              "      <th>0</th>\n",
              "      <td>76132820-4</td>\n",
              "      <td>2015-09</td>\n",
              "      <td>1</td>\n",
              "      <td>5045600.0</td>\n",
              "      <td>76132820-4</td>\n",
              "      <td>2015-09</td>\n",
              "      <td>1</td>\n",
              "      <td>4793320.0</td>\n",
              "      <td>0.0</td>\n",
              "      <td>76132820-4</td>\n",
              "      <td>...</td>\n",
              "      <td>Verificado</td>\n",
              "      <td>No habilitada</td>\n",
              "      <td>Habilitado</td>\n",
              "      <td>Sí</td>\n",
              "      <td>-</td>\n",
              "      <td>Sí</td>\n",
              "      <td>22/04/2022</td>\n",
              "      <td>973784779</td>\n",
              "      <td>contabilidad4@mtc.cl</td>\n",
              "      <td>Acepta, SII sin XML</td>\n",
              "    </tr>\n",
              "    <tr>\n",
              "      <th>1</th>\n",
              "      <td>76132820-4</td>\n",
              "      <td>2015-09</td>\n",
              "      <td>1</td>\n",
              "      <td>947240.0</td>\n",
              "      <td>76132820-4</td>\n",
              "      <td>2015-09</td>\n",
              "      <td>1</td>\n",
              "      <td>4793320.0</td>\n",
              "      <td>0.0</td>\n",
              "      <td>76132820-4</td>\n",
              "      <td>...</td>\n",
              "      <td>Verificado</td>\n",
              "      <td>No habilitada</td>\n",
              "      <td>Habilitado</td>\n",
              "      <td>Sí</td>\n",
              "      <td>-</td>\n",
              "      <td>Sí</td>\n",
              "      <td>22/04/2022</td>\n",
              "      <td>973784779</td>\n",
              "      <td>contabilidad4@mtc.cl</td>\n",
              "      <td>Acepta, SII sin XML</td>\n",
              "    </tr>\n",
              "    <tr>\n",
              "      <th>2</th>\n",
              "      <td>76132820-4</td>\n",
              "      <td>2015-09</td>\n",
              "      <td>3</td>\n",
              "      <td>11511643.0</td>\n",
              "      <td>76132820-4</td>\n",
              "      <td>2015-09</td>\n",
              "      <td>1</td>\n",
              "      <td>4793320.0</td>\n",
              "      <td>0.0</td>\n",
              "      <td>76132820-4</td>\n",
              "      <td>...</td>\n",
              "      <td>Verificado</td>\n",
              "      <td>No habilitada</td>\n",
              "      <td>Habilitado</td>\n",
              "      <td>Sí</td>\n",
              "      <td>-</td>\n",
              "      <td>Sí</td>\n",
              "      <td>22/04/2022</td>\n",
              "      <td>973784779</td>\n",
              "      <td>contabilidad4@mtc.cl</td>\n",
              "      <td>Acepta, SII sin XML</td>\n",
              "    </tr>\n",
              "    <tr>\n",
              "      <th>3</th>\n",
              "      <td>76112169-3</td>\n",
              "      <td>2015-09</td>\n",
              "      <td>1</td>\n",
              "      <td>1356474.0</td>\n",
              "      <td>76112169-3</td>\n",
              "      <td>2015-09</td>\n",
              "      <td>1</td>\n",
              "      <td>20805722.0</td>\n",
              "      <td>0.0</td>\n",
              "      <td>76112169-3</td>\n",
              "      <td>...</td>\n",
              "      <td>No verificado</td>\n",
              "      <td>No habilitada</td>\n",
              "      <td>Habilitado</td>\n",
              "      <td>Sí</td>\n",
              "      <td>-</td>\n",
              "      <td>No</td>\n",
              "      <td>22/10/2015</td>\n",
              "      <td>22465600</td>\n",
              "      <td>fgalvez@neosc.cl</td>\n",
              "      <td>NaN</td>\n",
              "    </tr>\n",
              "    <tr>\n",
              "      <th>4</th>\n",
              "      <td>76112169-3</td>\n",
              "      <td>2015-09</td>\n",
              "      <td>1</td>\n",
              "      <td>1356473.0</td>\n",
              "      <td>76112169-3</td>\n",
              "      <td>2015-09</td>\n",
              "      <td>1</td>\n",
              "      <td>20805722.0</td>\n",
              "      <td>0.0</td>\n",
              "      <td>76112169-3</td>\n",
              "      <td>...</td>\n",
              "      <td>No verificado</td>\n",
              "      <td>No habilitada</td>\n",
              "      <td>Habilitado</td>\n",
              "      <td>Sí</td>\n",
              "      <td>-</td>\n",
              "      <td>No</td>\n",
              "      <td>22/10/2015</td>\n",
              "      <td>22465600</td>\n",
              "      <td>fgalvez@neosc.cl</td>\n",
              "      <td>NaN</td>\n",
              "    </tr>\n",
              "    <tr>\n",
              "      <th>5</th>\n",
              "      <td>76112169-3</td>\n",
              "      <td>2015-09</td>\n",
              "      <td>1</td>\n",
              "      <td>6426000.0</td>\n",
              "      <td>76112169-3</td>\n",
              "      <td>2015-09</td>\n",
              "      <td>1</td>\n",
              "      <td>20805722.0</td>\n",
              "      <td>0.0</td>\n",
              "      <td>76112169-3</td>\n",
              "      <td>...</td>\n",
              "      <td>No verificado</td>\n",
              "      <td>No habilitada</td>\n",
              "      <td>Habilitado</td>\n",
              "      <td>Sí</td>\n",
              "      <td>-</td>\n",
              "      <td>No</td>\n",
              "      <td>22/10/2015</td>\n",
              "      <td>22465600</td>\n",
              "      <td>fgalvez@neosc.cl</td>\n",
              "      <td>NaN</td>\n",
              "    </tr>\n",
              "    <tr>\n",
              "      <th>6</th>\n",
              "      <td>76112169-3</td>\n",
              "      <td>2015-09</td>\n",
              "      <td>1</td>\n",
              "      <td>1356474.0</td>\n",
              "      <td>76112169-3</td>\n",
              "      <td>2015-09</td>\n",
              "      <td>1</td>\n",
              "      <td>20805722.0</td>\n",
              "      <td>0.0</td>\n",
              "      <td>76112169-3</td>\n",
              "      <td>...</td>\n",
              "      <td>No verificado</td>\n",
              "      <td>No habilitada</td>\n",
              "      <td>Habilitado</td>\n",
              "      <td>Sí</td>\n",
              "      <td>-</td>\n",
              "      <td>No</td>\n",
              "      <td>22/10/2015</td>\n",
              "      <td>22465600</td>\n",
              "      <td>fgalvez@neosc.cl</td>\n",
              "      <td>NaN</td>\n",
              "    </tr>\n",
              "    <tr>\n",
              "      <th>7</th>\n",
              "      <td>78824220-4</td>\n",
              "      <td>2015-09</td>\n",
              "      <td>1</td>\n",
              "      <td>1332800.0</td>\n",
              "      <td>78824220-4</td>\n",
              "      <td>2015-09</td>\n",
              "      <td>1</td>\n",
              "      <td>3427714.0</td>\n",
              "      <td>0.0</td>\n",
              "      <td>78824220-4</td>\n",
              "      <td>...</td>\n",
              "      <td>No verificado</td>\n",
              "      <td>No habilitada</td>\n",
              "      <td>Habilitado</td>\n",
              "      <td>Sí</td>\n",
              "      <td>-</td>\n",
              "      <td>No</td>\n",
              "      <td>20/10/2015</td>\n",
              "      <td>26896632</td>\n",
              "      <td>pdroguett@importadoracoral.cl</td>\n",
              "      <td>NaN</td>\n",
              "    </tr>\n",
              "    <tr>\n",
              "      <th>8</th>\n",
              "      <td>78824220-4</td>\n",
              "      <td>2015-09</td>\n",
              "      <td>1</td>\n",
              "      <td>338000.0</td>\n",
              "      <td>78824220-4</td>\n",
              "      <td>2015-09</td>\n",
              "      <td>1</td>\n",
              "      <td>3427714.0</td>\n",
              "      <td>0.0</td>\n",
              "      <td>78824220-4</td>\n",
              "      <td>...</td>\n",
              "      <td>No verificado</td>\n",
              "      <td>No habilitada</td>\n",
              "      <td>Habilitado</td>\n",
              "      <td>Sí</td>\n",
              "      <td>-</td>\n",
              "      <td>No</td>\n",
              "      <td>20/10/2015</td>\n",
              "      <td>26896632</td>\n",
              "      <td>pdroguett@importadoracoral.cl</td>\n",
              "      <td>NaN</td>\n",
              "    </tr>\n",
              "    <tr>\n",
              "      <th>9</th>\n",
              "      <td>76504426-K</td>\n",
              "      <td>2015-10</td>\n",
              "      <td>1</td>\n",
              "      <td>2841301.0</td>\n",
              "      <td>76504426-K</td>\n",
              "      <td>2015-10</td>\n",
              "      <td>1</td>\n",
              "      <td>2699236.0</td>\n",
              "      <td>0.0</td>\n",
              "      <td>76504426-K</td>\n",
              "      <td>...</td>\n",
              "      <td>No verificado</td>\n",
              "      <td>No habilitada</td>\n",
              "      <td>Habilitado</td>\n",
              "      <td>Sí</td>\n",
              "      <td>-</td>\n",
              "      <td>No</td>\n",
              "      <td>20/10/2016</td>\n",
              "      <td>988296260</td>\n",
              "      <td>josehernandez316@gmail.com</td>\n",
              "      <td>NaN</td>\n",
              "    </tr>\n",
              "  </tbody>\n",
              "</table>\n",
              "<p>10 rows × 30 columns</p>\n",
              "</div>\n",
              "      <button class=\"colab-df-convert\" onclick=\"convertToInteractive('df-37805b00-a058-4cf7-b9e7-98d4af664059')\"\n",
              "              title=\"Convert this dataframe to an interactive table.\"\n",
              "              style=\"display:none;\">\n",
              "        \n",
              "  <svg xmlns=\"http://www.w3.org/2000/svg\" height=\"24px\"viewBox=\"0 0 24 24\"\n",
              "       width=\"24px\">\n",
              "    <path d=\"M0 0h24v24H0V0z\" fill=\"none\"/>\n",
              "    <path d=\"M18.56 5.44l.94 2.06.94-2.06 2.06-.94-2.06-.94-.94-2.06-.94 2.06-2.06.94zm-11 1L8.5 8.5l.94-2.06 2.06-.94-2.06-.94L8.5 2.5l-.94 2.06-2.06.94zm10 10l.94 2.06.94-2.06 2.06-.94-2.06-.94-.94-2.06-.94 2.06-2.06.94z\"/><path d=\"M17.41 7.96l-1.37-1.37c-.4-.4-.92-.59-1.43-.59-.52 0-1.04.2-1.43.59L10.3 9.45l-7.72 7.72c-.78.78-.78 2.05 0 2.83L4 21.41c.39.39.9.59 1.41.59.51 0 1.02-.2 1.41-.59l7.78-7.78 2.81-2.81c.8-.78.8-2.07 0-2.86zM5.41 20L4 18.59l7.72-7.72 1.47 1.35L5.41 20z\"/>\n",
              "  </svg>\n",
              "      </button>\n",
              "      \n",
              "  <style>\n",
              "    .colab-df-container {\n",
              "      display:flex;\n",
              "      flex-wrap:wrap;\n",
              "      gap: 12px;\n",
              "    }\n",
              "\n",
              "    .colab-df-convert {\n",
              "      background-color: #E8F0FE;\n",
              "      border: none;\n",
              "      border-radius: 50%;\n",
              "      cursor: pointer;\n",
              "      display: none;\n",
              "      fill: #1967D2;\n",
              "      height: 32px;\n",
              "      padding: 0 0 0 0;\n",
              "      width: 32px;\n",
              "    }\n",
              "\n",
              "    .colab-df-convert:hover {\n",
              "      background-color: #E2EBFA;\n",
              "      box-shadow: 0px 1px 2px rgba(60, 64, 67, 0.3), 0px 1px 3px 1px rgba(60, 64, 67, 0.15);\n",
              "      fill: #174EA6;\n",
              "    }\n",
              "\n",
              "    [theme=dark] .colab-df-convert {\n",
              "      background-color: #3B4455;\n",
              "      fill: #D2E3FC;\n",
              "    }\n",
              "\n",
              "    [theme=dark] .colab-df-convert:hover {\n",
              "      background-color: #434B5C;\n",
              "      box-shadow: 0px 1px 3px 1px rgba(0, 0, 0, 0.15);\n",
              "      filter: drop-shadow(0px 1px 2px rgba(0, 0, 0, 0.3));\n",
              "      fill: #FFFFFF;\n",
              "    }\n",
              "  </style>\n",
              "\n",
              "      <script>\n",
              "        const buttonEl =\n",
              "          document.querySelector('#df-37805b00-a058-4cf7-b9e7-98d4af664059 button.colab-df-convert');\n",
              "        buttonEl.style.display =\n",
              "          google.colab.kernel.accessAllowed ? 'block' : 'none';\n",
              "\n",
              "        async function convertToInteractive(key) {\n",
              "          const element = document.querySelector('#df-37805b00-a058-4cf7-b9e7-98d4af664059');\n",
              "          const dataTable =\n",
              "            await google.colab.kernel.invokeFunction('convertToInteractive',\n",
              "                                                     [key], {});\n",
              "          if (!dataTable) return;\n",
              "\n",
              "          const docLinkHtml = 'Like what you see? Visit the ' +\n",
              "            '<a target=\"_blank\" href=https://colab.research.google.com/notebooks/data_table.ipynb>data table notebook</a>'\n",
              "            + ' to learn more about interactive tables.';\n",
              "          element.innerHTML = '';\n",
              "          dataTable['output_type'] = 'display_data';\n",
              "          await google.colab.output.renderOutput(dataTable, element);\n",
              "          const docLink = document.createElement('div');\n",
              "          docLink.innerHTML = docLinkHtml;\n",
              "          element.appendChild(docLink);\n",
              "        }\n",
              "      </script>\n",
              "    </div>\n",
              "  </div>\n",
              "  "
            ]
          },
          "metadata": {},
          "execution_count": 18
        }
      ]
    },
    {
      "cell_type": "markdown",
      "source": [
        "Agregamos un dato de clientes fugados, segun una clasificacion por periodo. "
      ],
      "metadata": {
        "id": "icXU5GAj8ONi"
      }
    },
    {
      "cell_type": "code",
      "source": [
        "conditionlist = [\n",
        "    (df_total_cli['Última liquidación']<='2022/01/31'),\n",
        "    (df_total_cli['Última liquidación']>'2022/01/31')]\n",
        "\n",
        "choicelist = [1,0]\n",
        "df_total_cli['cliente_fugado'] = np.select(conditionlist, choicelist, default=0)\n",
        "df_total_cli.head(5)"
      ],
      "metadata": {
        "colab": {
          "base_uri": "https://localhost:8080/"
        },
        "id": "rfugqv2V8MQb",
        "outputId": "116f5ad6-b7a0-4b23-a6ad-3d5d0048f8a8"
      },
      "execution_count": null,
      "outputs": [
        {
          "output_type": "execute_result",
          "data": {
            "text/plain": [
              "   client_rut fecha_añomes_Emisión  Cant_doc  monto_facturado customer_rut  \\\n",
              "0  76132820-4              2015-09         1        5045600.0   76132820-4   \n",
              "1  76132820-4              2015-09         1         947240.0   76132820-4   \n",
              "2  76132820-4              2015-09         3       11511643.0   76132820-4   \n",
              "3  76112169-3              2015-09         1        1356474.0   76112169-3   \n",
              "4  76112169-3              2015-09         1        1356473.0   76112169-3   \n",
              "\n",
              "  fecha_ope  Cant_op  Monto_financiado  prom_tasa         Rut  ...  \\\n",
              "0   2015-09        1         4793320.0        0.0  76132820-4  ...   \n",
              "1   2015-09        1         4793320.0        0.0  76132820-4  ...   \n",
              "2   2015-09        1         4793320.0        0.0  76132820-4  ...   \n",
              "3   2015-09        1        20805722.0        0.0  76112169-3  ...   \n",
              "4   2015-09        1        20805722.0        0.0  76112169-3  ...   \n",
              "\n",
              "  Habilitada cesión externa Disponible a fondo Ha operado Tasa preferencial  \\\n",
              "0             No habilitada         Habilitado         Sí                 -   \n",
              "1             No habilitada         Habilitado         Sí                 -   \n",
              "2             No habilitada         Habilitado         Sí                 -   \n",
              "3             No habilitada         Habilitado         Sí                 -   \n",
              "4             No habilitada         Habilitado         Sí                 -   \n",
              "\n",
              "  SII Última liquidación   Teléfono                Correo  \\\n",
              "0  Sí         22/04/2022  973784779  contabilidad4@mtc.cl   \n",
              "1  Sí         22/04/2022  973784779  contabilidad4@mtc.cl   \n",
              "2  Sí         22/04/2022  973784779  contabilidad4@mtc.cl   \n",
              "3  No         22/10/2015   22465600      fgalvez@neosc.cl   \n",
              "4  No         22/10/2015   22465600      fgalvez@neosc.cl   \n",
              "\n",
              "          Facturadores cliente_fugado  \n",
              "0  Acepta, SII sin XML              0  \n",
              "1  Acepta, SII sin XML              0  \n",
              "2  Acepta, SII sin XML              0  \n",
              "3                  NaN              0  \n",
              "4                  NaN              0  \n",
              "\n",
              "[5 rows x 31 columns]"
            ],
            "text/html": [
              "\n",
              "  <div id=\"df-f1059f73-0175-430d-b83e-e950957a6cc5\">\n",
              "    <div class=\"colab-df-container\">\n",
              "      <div>\n",
              "<style scoped>\n",
              "    .dataframe tbody tr th:only-of-type {\n",
              "        vertical-align: middle;\n",
              "    }\n",
              "\n",
              "    .dataframe tbody tr th {\n",
              "        vertical-align: top;\n",
              "    }\n",
              "\n",
              "    .dataframe thead th {\n",
              "        text-align: right;\n",
              "    }\n",
              "</style>\n",
              "<table border=\"1\" class=\"dataframe\">\n",
              "  <thead>\n",
              "    <tr style=\"text-align: right;\">\n",
              "      <th></th>\n",
              "      <th>client_rut</th>\n",
              "      <th>fecha_añomes_Emisión</th>\n",
              "      <th>Cant_doc</th>\n",
              "      <th>monto_facturado</th>\n",
              "      <th>customer_rut</th>\n",
              "      <th>fecha_ope</th>\n",
              "      <th>Cant_op</th>\n",
              "      <th>Monto_financiado</th>\n",
              "      <th>prom_tasa</th>\n",
              "      <th>Rut</th>\n",
              "      <th>...</th>\n",
              "      <th>Habilitada cesión externa</th>\n",
              "      <th>Disponible a fondo</th>\n",
              "      <th>Ha operado</th>\n",
              "      <th>Tasa preferencial</th>\n",
              "      <th>SII</th>\n",
              "      <th>Última liquidación</th>\n",
              "      <th>Teléfono</th>\n",
              "      <th>Correo</th>\n",
              "      <th>Facturadores</th>\n",
              "      <th>cliente_fugado</th>\n",
              "    </tr>\n",
              "  </thead>\n",
              "  <tbody>\n",
              "    <tr>\n",
              "      <th>0</th>\n",
              "      <td>76132820-4</td>\n",
              "      <td>2015-09</td>\n",
              "      <td>1</td>\n",
              "      <td>5045600.0</td>\n",
              "      <td>76132820-4</td>\n",
              "      <td>2015-09</td>\n",
              "      <td>1</td>\n",
              "      <td>4793320.0</td>\n",
              "      <td>0.0</td>\n",
              "      <td>76132820-4</td>\n",
              "      <td>...</td>\n",
              "      <td>No habilitada</td>\n",
              "      <td>Habilitado</td>\n",
              "      <td>Sí</td>\n",
              "      <td>-</td>\n",
              "      <td>Sí</td>\n",
              "      <td>22/04/2022</td>\n",
              "      <td>973784779</td>\n",
              "      <td>contabilidad4@mtc.cl</td>\n",
              "      <td>Acepta, SII sin XML</td>\n",
              "      <td>0</td>\n",
              "    </tr>\n",
              "    <tr>\n",
              "      <th>1</th>\n",
              "      <td>76132820-4</td>\n",
              "      <td>2015-09</td>\n",
              "      <td>1</td>\n",
              "      <td>947240.0</td>\n",
              "      <td>76132820-4</td>\n",
              "      <td>2015-09</td>\n",
              "      <td>1</td>\n",
              "      <td>4793320.0</td>\n",
              "      <td>0.0</td>\n",
              "      <td>76132820-4</td>\n",
              "      <td>...</td>\n",
              "      <td>No habilitada</td>\n",
              "      <td>Habilitado</td>\n",
              "      <td>Sí</td>\n",
              "      <td>-</td>\n",
              "      <td>Sí</td>\n",
              "      <td>22/04/2022</td>\n",
              "      <td>973784779</td>\n",
              "      <td>contabilidad4@mtc.cl</td>\n",
              "      <td>Acepta, SII sin XML</td>\n",
              "      <td>0</td>\n",
              "    </tr>\n",
              "    <tr>\n",
              "      <th>2</th>\n",
              "      <td>76132820-4</td>\n",
              "      <td>2015-09</td>\n",
              "      <td>3</td>\n",
              "      <td>11511643.0</td>\n",
              "      <td>76132820-4</td>\n",
              "      <td>2015-09</td>\n",
              "      <td>1</td>\n",
              "      <td>4793320.0</td>\n",
              "      <td>0.0</td>\n",
              "      <td>76132820-4</td>\n",
              "      <td>...</td>\n",
              "      <td>No habilitada</td>\n",
              "      <td>Habilitado</td>\n",
              "      <td>Sí</td>\n",
              "      <td>-</td>\n",
              "      <td>Sí</td>\n",
              "      <td>22/04/2022</td>\n",
              "      <td>973784779</td>\n",
              "      <td>contabilidad4@mtc.cl</td>\n",
              "      <td>Acepta, SII sin XML</td>\n",
              "      <td>0</td>\n",
              "    </tr>\n",
              "    <tr>\n",
              "      <th>3</th>\n",
              "      <td>76112169-3</td>\n",
              "      <td>2015-09</td>\n",
              "      <td>1</td>\n",
              "      <td>1356474.0</td>\n",
              "      <td>76112169-3</td>\n",
              "      <td>2015-09</td>\n",
              "      <td>1</td>\n",
              "      <td>20805722.0</td>\n",
              "      <td>0.0</td>\n",
              "      <td>76112169-3</td>\n",
              "      <td>...</td>\n",
              "      <td>No habilitada</td>\n",
              "      <td>Habilitado</td>\n",
              "      <td>Sí</td>\n",
              "      <td>-</td>\n",
              "      <td>No</td>\n",
              "      <td>22/10/2015</td>\n",
              "      <td>22465600</td>\n",
              "      <td>fgalvez@neosc.cl</td>\n",
              "      <td>NaN</td>\n",
              "      <td>0</td>\n",
              "    </tr>\n",
              "    <tr>\n",
              "      <th>4</th>\n",
              "      <td>76112169-3</td>\n",
              "      <td>2015-09</td>\n",
              "      <td>1</td>\n",
              "      <td>1356473.0</td>\n",
              "      <td>76112169-3</td>\n",
              "      <td>2015-09</td>\n",
              "      <td>1</td>\n",
              "      <td>20805722.0</td>\n",
              "      <td>0.0</td>\n",
              "      <td>76112169-3</td>\n",
              "      <td>...</td>\n",
              "      <td>No habilitada</td>\n",
              "      <td>Habilitado</td>\n",
              "      <td>Sí</td>\n",
              "      <td>-</td>\n",
              "      <td>No</td>\n",
              "      <td>22/10/2015</td>\n",
              "      <td>22465600</td>\n",
              "      <td>fgalvez@neosc.cl</td>\n",
              "      <td>NaN</td>\n",
              "      <td>0</td>\n",
              "    </tr>\n",
              "  </tbody>\n",
              "</table>\n",
              "<p>5 rows × 31 columns</p>\n",
              "</div>\n",
              "      <button class=\"colab-df-convert\" onclick=\"convertToInteractive('df-f1059f73-0175-430d-b83e-e950957a6cc5')\"\n",
              "              title=\"Convert this dataframe to an interactive table.\"\n",
              "              style=\"display:none;\">\n",
              "        \n",
              "  <svg xmlns=\"http://www.w3.org/2000/svg\" height=\"24px\"viewBox=\"0 0 24 24\"\n",
              "       width=\"24px\">\n",
              "    <path d=\"M0 0h24v24H0V0z\" fill=\"none\"/>\n",
              "    <path d=\"M18.56 5.44l.94 2.06.94-2.06 2.06-.94-2.06-.94-.94-2.06-.94 2.06-2.06.94zm-11 1L8.5 8.5l.94-2.06 2.06-.94-2.06-.94L8.5 2.5l-.94 2.06-2.06.94zm10 10l.94 2.06.94-2.06 2.06-.94-2.06-.94-.94-2.06-.94 2.06-2.06.94z\"/><path d=\"M17.41 7.96l-1.37-1.37c-.4-.4-.92-.59-1.43-.59-.52 0-1.04.2-1.43.59L10.3 9.45l-7.72 7.72c-.78.78-.78 2.05 0 2.83L4 21.41c.39.39.9.59 1.41.59.51 0 1.02-.2 1.41-.59l7.78-7.78 2.81-2.81c.8-.78.8-2.07 0-2.86zM5.41 20L4 18.59l7.72-7.72 1.47 1.35L5.41 20z\"/>\n",
              "  </svg>\n",
              "      </button>\n",
              "      \n",
              "  <style>\n",
              "    .colab-df-container {\n",
              "      display:flex;\n",
              "      flex-wrap:wrap;\n",
              "      gap: 12px;\n",
              "    }\n",
              "\n",
              "    .colab-df-convert {\n",
              "      background-color: #E8F0FE;\n",
              "      border: none;\n",
              "      border-radius: 50%;\n",
              "      cursor: pointer;\n",
              "      display: none;\n",
              "      fill: #1967D2;\n",
              "      height: 32px;\n",
              "      padding: 0 0 0 0;\n",
              "      width: 32px;\n",
              "    }\n",
              "\n",
              "    .colab-df-convert:hover {\n",
              "      background-color: #E2EBFA;\n",
              "      box-shadow: 0px 1px 2px rgba(60, 64, 67, 0.3), 0px 1px 3px 1px rgba(60, 64, 67, 0.15);\n",
              "      fill: #174EA6;\n",
              "    }\n",
              "\n",
              "    [theme=dark] .colab-df-convert {\n",
              "      background-color: #3B4455;\n",
              "      fill: #D2E3FC;\n",
              "    }\n",
              "\n",
              "    [theme=dark] .colab-df-convert:hover {\n",
              "      background-color: #434B5C;\n",
              "      box-shadow: 0px 1px 3px 1px rgba(0, 0, 0, 0.15);\n",
              "      filter: drop-shadow(0px 1px 2px rgba(0, 0, 0, 0.3));\n",
              "      fill: #FFFFFF;\n",
              "    }\n",
              "  </style>\n",
              "\n",
              "      <script>\n",
              "        const buttonEl =\n",
              "          document.querySelector('#df-f1059f73-0175-430d-b83e-e950957a6cc5 button.colab-df-convert');\n",
              "        buttonEl.style.display =\n",
              "          google.colab.kernel.accessAllowed ? 'block' : 'none';\n",
              "\n",
              "        async function convertToInteractive(key) {\n",
              "          const element = document.querySelector('#df-f1059f73-0175-430d-b83e-e950957a6cc5');\n",
              "          const dataTable =\n",
              "            await google.colab.kernel.invokeFunction('convertToInteractive',\n",
              "                                                     [key], {});\n",
              "          if (!dataTable) return;\n",
              "\n",
              "          const docLinkHtml = 'Like what you see? Visit the ' +\n",
              "            '<a target=\"_blank\" href=https://colab.research.google.com/notebooks/data_table.ipynb>data table notebook</a>'\n",
              "            + ' to learn more about interactive tables.';\n",
              "          element.innerHTML = '';\n",
              "          dataTable['output_type'] = 'display_data';\n",
              "          await google.colab.output.renderOutput(dataTable, element);\n",
              "          const docLink = document.createElement('div');\n",
              "          docLink.innerHTML = docLinkHtml;\n",
              "          element.appendChild(docLink);\n",
              "        }\n",
              "      </script>\n",
              "    </div>\n",
              "  </div>\n",
              "  "
            ]
          },
          "metadata": {},
          "execution_count": 19
        }
      ]
    },
    {
      "cell_type": "markdown",
      "source": [
        "# Analisis Univariable"
      ],
      "metadata": {
        "id": "zd27WMucXGAs"
      }
    },
    {
      "cell_type": "code",
      "source": [
        "print(\"Descripcion de Monto_financiado\")\n",
        "print(round(df_total_cli[\"Monto_financiado\"].describe()/1000,2))\n",
        "print(\"\\n\")\n",
        "print(\"Descripcion de monto_facturado\")\n",
        "print(round(df_total_cli[\"prom_tasa\"].describe(),2))\n",
        "print(\"\\n\")\n",
        "print(\"Descripcion de prom_tasa\")\n",
        "print(df_total_cli[\"prom_tasa\"].describe())\n",
        "\n"
      ],
      "metadata": {
        "colab": {
          "base_uri": "https://localhost:8080/"
        },
        "id": "14z2zav4XKiE",
        "outputId": "10f45f68-5e6a-4847-ca85-1393780baa00"
      },
      "execution_count": null,
      "outputs": [
        {
          "output_type": "stream",
          "name": "stdout",
          "text": [
            "Descripcion de Monto_financiado\n",
            "count         65.00\n",
            "mean       35809.14\n",
            "std        73607.95\n",
            "min            0.00\n",
            "25%         4397.86\n",
            "50%        11513.21\n",
            "75%        31482.40\n",
            "max      1047826.58\n",
            "Name: Monto_financiado, dtype: float64\n",
            "\n",
            "\n",
            "Descripcion de monto_facturado\n",
            "count    64996.00\n",
            "mean         1.74\n",
            "std          0.50\n",
            "min          0.00\n",
            "25%          1.50\n",
            "50%          1.75\n",
            "75%          2.00\n",
            "max          5.95\n",
            "Name: prom_tasa, dtype: float64\n",
            "\n",
            "\n",
            "Descripcion de prom_tasa\n",
            "count    64996.000000\n",
            "mean         1.739140\n",
            "std          0.496592\n",
            "min          0.000000\n",
            "25%          1.500000\n",
            "50%          1.754000\n",
            "75%          2.000000\n",
            "max          5.950000\n",
            "Name: prom_tasa, dtype: float64\n"
          ]
        }
      ]
    },
    {
      "cell_type": "code",
      "source": [
        "import seaborn as sns\n",
        "from seaborn import boxplot\n",
        "d2=df_total_cli[['cliente_fugado',\"Cant_doc\",\"Cant_op\"]]\n",
        "d2[\"Año\"]=df_total_cli[\"fecha_ope\"].apply(lambda x: x[0:4])\n",
        "d2.loc[d2.cliente_fugado==0,'Clasificacion']='No Fugado'\n",
        "d2.loc[d2.cliente_fugado==1,\"Clasificacion\"]=\"Fugado\"\n",
        "d2"
      ],
      "metadata": {
        "colab": {
          "base_uri": "https://localhost:8080/",
          "height": 736
        },
        "id": "Lc_Zf8v5Cps6",
        "outputId": "ae9e60d3-5bd7-41c3-a49c-304b7b4c4b45"
      },
      "execution_count": null,
      "outputs": [
        {
          "output_type": "stream",
          "name": "stderr",
          "text": [
            "/usr/local/lib/python3.7/dist-packages/ipykernel_launcher.py:4: SettingWithCopyWarning: \n",
            "A value is trying to be set on a copy of a slice from a DataFrame.\n",
            "Try using .loc[row_indexer,col_indexer] = value instead\n",
            "\n",
            "See the caveats in the documentation: https://pandas.pydata.org/pandas-docs/stable/user_guide/indexing.html#returning-a-view-versus-a-copy\n",
            "  after removing the cwd from sys.path.\n",
            "/usr/local/lib/python3.7/dist-packages/pandas/core/indexing.py:1684: SettingWithCopyWarning: \n",
            "A value is trying to be set on a copy of a slice from a DataFrame.\n",
            "Try using .loc[row_indexer,col_indexer] = value instead\n",
            "\n",
            "See the caveats in the documentation: https://pandas.pydata.org/pandas-docs/stable/user_guide/indexing.html#returning-a-view-versus-a-copy\n",
            "  self.obj[key] = infer_fill_value(value)\n",
            "/usr/local/lib/python3.7/dist-packages/pandas/core/indexing.py:1817: SettingWithCopyWarning: \n",
            "A value is trying to be set on a copy of a slice from a DataFrame.\n",
            "Try using .loc[row_indexer,col_indexer] = value instead\n",
            "\n",
            "See the caveats in the documentation: https://pandas.pydata.org/pandas-docs/stable/user_guide/indexing.html#returning-a-view-versus-a-copy\n",
            "  self._setitem_single_column(loc, value, pi)\n"
          ]
        },
        {
          "output_type": "execute_result",
          "data": {
            "text/plain": [
              "       cliente_fugado  Cant_doc  Cant_op   Año Clasificacion\n",
              "0                   0         1        1  2015     No Fugado\n",
              "1                   0         1        1  2015     No Fugado\n",
              "2                   0         3        1  2015     No Fugado\n",
              "3                   0         1        1  2015     No Fugado\n",
              "4                   0         1        1  2015     No Fugado\n",
              "...               ...       ...      ...   ...           ...\n",
              "64991               1         3        1  2022        Fugado\n",
              "64992               1         1        1  2022        Fugado\n",
              "64993               1         3        1  2022        Fugado\n",
              "64994               1         2        1  2022        Fugado\n",
              "64995               1         1        1  2022        Fugado\n",
              "\n",
              "[64996 rows x 5 columns]"
            ],
            "text/html": [
              "\n",
              "  <div id=\"df-af5b7d93-98dc-4eee-9ffb-a4b719b8a414\">\n",
              "    <div class=\"colab-df-container\">\n",
              "      <div>\n",
              "<style scoped>\n",
              "    .dataframe tbody tr th:only-of-type {\n",
              "        vertical-align: middle;\n",
              "    }\n",
              "\n",
              "    .dataframe tbody tr th {\n",
              "        vertical-align: top;\n",
              "    }\n",
              "\n",
              "    .dataframe thead th {\n",
              "        text-align: right;\n",
              "    }\n",
              "</style>\n",
              "<table border=\"1\" class=\"dataframe\">\n",
              "  <thead>\n",
              "    <tr style=\"text-align: right;\">\n",
              "      <th></th>\n",
              "      <th>cliente_fugado</th>\n",
              "      <th>Cant_doc</th>\n",
              "      <th>Cant_op</th>\n",
              "      <th>Año</th>\n",
              "      <th>Clasificacion</th>\n",
              "    </tr>\n",
              "  </thead>\n",
              "  <tbody>\n",
              "    <tr>\n",
              "      <th>0</th>\n",
              "      <td>0</td>\n",
              "      <td>1</td>\n",
              "      <td>1</td>\n",
              "      <td>2015</td>\n",
              "      <td>No Fugado</td>\n",
              "    </tr>\n",
              "    <tr>\n",
              "      <th>1</th>\n",
              "      <td>0</td>\n",
              "      <td>1</td>\n",
              "      <td>1</td>\n",
              "      <td>2015</td>\n",
              "      <td>No Fugado</td>\n",
              "    </tr>\n",
              "    <tr>\n",
              "      <th>2</th>\n",
              "      <td>0</td>\n",
              "      <td>3</td>\n",
              "      <td>1</td>\n",
              "      <td>2015</td>\n",
              "      <td>No Fugado</td>\n",
              "    </tr>\n",
              "    <tr>\n",
              "      <th>3</th>\n",
              "      <td>0</td>\n",
              "      <td>1</td>\n",
              "      <td>1</td>\n",
              "      <td>2015</td>\n",
              "      <td>No Fugado</td>\n",
              "    </tr>\n",
              "    <tr>\n",
              "      <th>4</th>\n",
              "      <td>0</td>\n",
              "      <td>1</td>\n",
              "      <td>1</td>\n",
              "      <td>2015</td>\n",
              "      <td>No Fugado</td>\n",
              "    </tr>\n",
              "    <tr>\n",
              "      <th>...</th>\n",
              "      <td>...</td>\n",
              "      <td>...</td>\n",
              "      <td>...</td>\n",
              "      <td>...</td>\n",
              "      <td>...</td>\n",
              "    </tr>\n",
              "    <tr>\n",
              "      <th>64991</th>\n",
              "      <td>1</td>\n",
              "      <td>3</td>\n",
              "      <td>1</td>\n",
              "      <td>2022</td>\n",
              "      <td>Fugado</td>\n",
              "    </tr>\n",
              "    <tr>\n",
              "      <th>64992</th>\n",
              "      <td>1</td>\n",
              "      <td>1</td>\n",
              "      <td>1</td>\n",
              "      <td>2022</td>\n",
              "      <td>Fugado</td>\n",
              "    </tr>\n",
              "    <tr>\n",
              "      <th>64993</th>\n",
              "      <td>1</td>\n",
              "      <td>3</td>\n",
              "      <td>1</td>\n",
              "      <td>2022</td>\n",
              "      <td>Fugado</td>\n",
              "    </tr>\n",
              "    <tr>\n",
              "      <th>64994</th>\n",
              "      <td>1</td>\n",
              "      <td>2</td>\n",
              "      <td>1</td>\n",
              "      <td>2022</td>\n",
              "      <td>Fugado</td>\n",
              "    </tr>\n",
              "    <tr>\n",
              "      <th>64995</th>\n",
              "      <td>1</td>\n",
              "      <td>1</td>\n",
              "      <td>1</td>\n",
              "      <td>2022</td>\n",
              "      <td>Fugado</td>\n",
              "    </tr>\n",
              "  </tbody>\n",
              "</table>\n",
              "<p>64996 rows × 5 columns</p>\n",
              "</div>\n",
              "      <button class=\"colab-df-convert\" onclick=\"convertToInteractive('df-af5b7d93-98dc-4eee-9ffb-a4b719b8a414')\"\n",
              "              title=\"Convert this dataframe to an interactive table.\"\n",
              "              style=\"display:none;\">\n",
              "        \n",
              "  <svg xmlns=\"http://www.w3.org/2000/svg\" height=\"24px\"viewBox=\"0 0 24 24\"\n",
              "       width=\"24px\">\n",
              "    <path d=\"M0 0h24v24H0V0z\" fill=\"none\"/>\n",
              "    <path d=\"M18.56 5.44l.94 2.06.94-2.06 2.06-.94-2.06-.94-.94-2.06-.94 2.06-2.06.94zm-11 1L8.5 8.5l.94-2.06 2.06-.94-2.06-.94L8.5 2.5l-.94 2.06-2.06.94zm10 10l.94 2.06.94-2.06 2.06-.94-2.06-.94-.94-2.06-.94 2.06-2.06.94z\"/><path d=\"M17.41 7.96l-1.37-1.37c-.4-.4-.92-.59-1.43-.59-.52 0-1.04.2-1.43.59L10.3 9.45l-7.72 7.72c-.78.78-.78 2.05 0 2.83L4 21.41c.39.39.9.59 1.41.59.51 0 1.02-.2 1.41-.59l7.78-7.78 2.81-2.81c.8-.78.8-2.07 0-2.86zM5.41 20L4 18.59l7.72-7.72 1.47 1.35L5.41 20z\"/>\n",
              "  </svg>\n",
              "      </button>\n",
              "      \n",
              "  <style>\n",
              "    .colab-df-container {\n",
              "      display:flex;\n",
              "      flex-wrap:wrap;\n",
              "      gap: 12px;\n",
              "    }\n",
              "\n",
              "    .colab-df-convert {\n",
              "      background-color: #E8F0FE;\n",
              "      border: none;\n",
              "      border-radius: 50%;\n",
              "      cursor: pointer;\n",
              "      display: none;\n",
              "      fill: #1967D2;\n",
              "      height: 32px;\n",
              "      padding: 0 0 0 0;\n",
              "      width: 32px;\n",
              "    }\n",
              "\n",
              "    .colab-df-convert:hover {\n",
              "      background-color: #E2EBFA;\n",
              "      box-shadow: 0px 1px 2px rgba(60, 64, 67, 0.3), 0px 1px 3px 1px rgba(60, 64, 67, 0.15);\n",
              "      fill: #174EA6;\n",
              "    }\n",
              "\n",
              "    [theme=dark] .colab-df-convert {\n",
              "      background-color: #3B4455;\n",
              "      fill: #D2E3FC;\n",
              "    }\n",
              "\n",
              "    [theme=dark] .colab-df-convert:hover {\n",
              "      background-color: #434B5C;\n",
              "      box-shadow: 0px 1px 3px 1px rgba(0, 0, 0, 0.15);\n",
              "      filter: drop-shadow(0px 1px 2px rgba(0, 0, 0, 0.3));\n",
              "      fill: #FFFFFF;\n",
              "    }\n",
              "  </style>\n",
              "\n",
              "      <script>\n",
              "        const buttonEl =\n",
              "          document.querySelector('#df-af5b7d93-98dc-4eee-9ffb-a4b719b8a414 button.colab-df-convert');\n",
              "        buttonEl.style.display =\n",
              "          google.colab.kernel.accessAllowed ? 'block' : 'none';\n",
              "\n",
              "        async function convertToInteractive(key) {\n",
              "          const element = document.querySelector('#df-af5b7d93-98dc-4eee-9ffb-a4b719b8a414');\n",
              "          const dataTable =\n",
              "            await google.colab.kernel.invokeFunction('convertToInteractive',\n",
              "                                                     [key], {});\n",
              "          if (!dataTable) return;\n",
              "\n",
              "          const docLinkHtml = 'Like what you see? Visit the ' +\n",
              "            '<a target=\"_blank\" href=https://colab.research.google.com/notebooks/data_table.ipynb>data table notebook</a>'\n",
              "            + ' to learn more about interactive tables.';\n",
              "          element.innerHTML = '';\n",
              "          dataTable['output_type'] = 'display_data';\n",
              "          await google.colab.output.renderOutput(dataTable, element);\n",
              "          const docLink = document.createElement('div');\n",
              "          docLink.innerHTML = docLinkHtml;\n",
              "          element.appendChild(docLink);\n",
              "        }\n",
              "      </script>\n",
              "    </div>\n",
              "  </div>\n",
              "  "
            ]
          },
          "metadata": {},
          "execution_count": 21
        }
      ]
    },
    {
      "cell_type": "code",
      "source": [
        "import seaborn as sns\n",
        "import matplotlib.pyplot as plt\n",
        "fig, axs= plt.subplots(nrows=2,ncols=2, figsize=(15,10))\n",
        "axs[0,0].set_title(\"Cantidad de Operaciones\")\n",
        "sns.barplot(x=d2['Clasificacion'],y=d2['Cant_op'],ax=axs[0,0],ci=0)\n",
        "axs[0,1].set_title(\"Cantidad de Documentos\")\n",
        "sns.barplot(x=d2['Clasificacion'],y=d2['Cant_doc'],ax=axs[0,1],ci=0)\n",
        "axs[1,0].set_title(\"Cantidad de Op por año\")\n",
        "sns.barplot(x=d2[\"Año\"],ax=axs[1,0],y=d2['Cant_op'],hue=d2[\"Clasificacion\"],ci=0)\n",
        "axs[1,1].set_title(\"Cantidad de Doc por año\")\n",
        "sns.barplot(x=d2[\"Año\"],ax=axs[1,1],y=d2['Cant_op'],hue=d2[\"Clasificacion\"],ci=0)"
      ],
      "metadata": {
        "colab": {
          "base_uri": "https://localhost:8080/",
          "height": 638
        },
        "id": "vFT13B_7G43D",
        "outputId": "d04393a1-b7d7-487b-f567-ca5304529ca2"
      },
      "execution_count": null,
      "outputs": [
        {
          "output_type": "execute_result",
          "data": {
            "text/plain": [
              "<matplotlib.axes._subplots.AxesSubplot at 0x7f3435ff5050>"
            ]
          },
          "metadata": {},
          "execution_count": 22
        },
        {
          "output_type": "display_data",
          "data": {
            "text/plain": [
              "<Figure size 1080x720 with 4 Axes>"
            ],
            "image/png": "[encoded data removed]"
          },
          "metadata": {
            "needs_background": "light"
          }
        }
      ]
    },
    {
      "cell_type": "code",
      "source": [
        "df_total_cli.head(5)"
      ],
      "metadata": {
        "colab": {
          "base_uri": "https://localhost:8080/",
          "height": 421
        },
        "id": "1UlbHZmaTblt",
        "outputId": "c59ff020-058f-4d58-f455-4259facfd3af"
      },
      "execution_count": null,
      "outputs": [
        {
          "output_type": "execute_result",
          "data": {
            "text/plain": [
              "   client_rut fecha_añomes_Emisión  Cant_doc  monto_facturado customer_rut  \\\n",
              "0  76132820-4              2015-09         1        5045600.0   76132820-4   \n",
              "1  76132820-4              2015-09         1         947240.0   76132820-4   \n",
              "2  76132820-4              2015-09         3       11511643.0   76132820-4   \n",
              "3  76112169-3              2015-09         1        1356474.0   76112169-3   \n",
              "4  76112169-3              2015-09         1        1356473.0   76112169-3   \n",
              "\n",
              "  fecha_ope  Cant_op  Monto_financiado  prom_tasa         Rut  ...  \\\n",
              "0   2015-09        1         4793320.0        0.0  76132820-4  ...   \n",
              "1   2015-09        1         4793320.0        0.0  76132820-4  ...   \n",
              "2   2015-09        1         4793320.0        0.0  76132820-4  ...   \n",
              "3   2015-09        1        20805722.0        0.0  76112169-3  ...   \n",
              "4   2015-09        1        20805722.0        0.0  76112169-3  ...   \n",
              "\n",
              "  Habilitada cesión externa Disponible a fondo Ha operado Tasa preferencial  \\\n",
              "0             No habilitada         Habilitado         Sí                 -   \n",
              "1             No habilitada         Habilitado         Sí                 -   \n",
              "2             No habilitada         Habilitado         Sí                 -   \n",
              "3             No habilitada         Habilitado         Sí                 -   \n",
              "4             No habilitada         Habilitado         Sí                 -   \n",
              "\n",
              "  SII Última liquidación   Teléfono                Correo  \\\n",
              "0  Sí         22/04/2022  973784779  contabilidad4@mtc.cl   \n",
              "1  Sí         22/04/2022  973784779  contabilidad4@mtc.cl   \n",
              "2  Sí         22/04/2022  973784779  contabilidad4@mtc.cl   \n",
              "3  No         22/10/2015   22465600      fgalvez@neosc.cl   \n",
              "4  No         22/10/2015   22465600      fgalvez@neosc.cl   \n",
              "\n",
              "          Facturadores cliente_fugado  \n",
              "0  Acepta, SII sin XML              0  \n",
              "1  Acepta, SII sin XML              0  \n",
              "2  Acepta, SII sin XML              0  \n",
              "3                  NaN              0  \n",
              "4                  NaN              0  \n",
              "\n",
              "[5 rows x 31 columns]"
            ],
            "text/html": [
              "\n",
              "  <div id=\"df-439f9fcc-3ebd-4476-bf53-03e126768c7a\">\n",
              "    <div class=\"colab-df-container\">\n",
              "      <div>\n",
              "<style scoped>\n",
              "    .dataframe tbody tr th:only-of-type {\n",
              "        vertical-align: middle;\n",
              "    }\n",
              "\n",
              "    .dataframe tbody tr th {\n",
              "        vertical-align: top;\n",
              "    }\n",
              "\n",
              "    .dataframe thead th {\n",
              "        text-align: right;\n",
              "    }\n",
              "</style>\n",
              "<table border=\"1\" class=\"dataframe\">\n",
              "  <thead>\n",
              "    <tr style=\"text-align: right;\">\n",
              "      <th></th>\n",
              "      <th>client_rut</th>\n",
              "      <th>fecha_añomes_Emisión</th>\n",
              "      <th>Cant_doc</th>\n",
              "      <th>monto_facturado</th>\n",
              "      <th>customer_rut</th>\n",
              "      <th>fecha_ope</th>\n",
              "      <th>Cant_op</th>\n",
              "      <th>Monto_financiado</th>\n",
              "      <th>prom_tasa</th>\n",
              "      <th>Rut</th>\n",
              "      <th>...</th>\n",
              "      <th>Habilitada cesión externa</th>\n",
              "      <th>Disponible a fondo</th>\n",
              "      <th>Ha operado</th>\n",
              "      <th>Tasa preferencial</th>\n",
              "      <th>SII</th>\n",
              "      <th>Última liquidación</th>\n",
              "      <th>Teléfono</th>\n",
              "      <th>Correo</th>\n",
              "      <th>Facturadores</th>\n",
              "      <th>cliente_fugado</th>\n",
              "    </tr>\n",
              "  </thead>\n",
              "  <tbody>\n",
              "    <tr>\n",
              "      <th>0</th>\n",
              "      <td>76132820-4</td>\n",
              "      <td>2015-09</td>\n",
              "      <td>1</td>\n",
              "      <td>5045600.0</td>\n",
              "      <td>76132820-4</td>\n",
              "      <td>2015-09</td>\n",
              "      <td>1</td>\n",
              "      <td>4793320.0</td>\n",
              "      <td>0.0</td>\n",
              "      <td>76132820-4</td>\n",
              "      <td>...</td>\n",
              "      <td>No habilitada</td>\n",
              "      <td>Habilitado</td>\n",
              "      <td>Sí</td>\n",
              "      <td>-</td>\n",
              "      <td>Sí</td>\n",
              "      <td>22/04/2022</td>\n",
              "      <td>973784779</td>\n",
              "      <td>contabilidad4@mtc.cl</td>\n",
              "      <td>Acepta, SII sin XML</td>\n",
              "      <td>0</td>\n",
              "    </tr>\n",
              "    <tr>\n",
              "      <th>1</th>\n",
              "      <td>76132820-4</td>\n",
              "      <td>2015-09</td>\n",
              "      <td>1</td>\n",
              "      <td>947240.0</td>\n",
              "      <td>76132820-4</td>\n",
              "      <td>2015-09</td>\n",
              "      <td>1</td>\n",
              "      <td>4793320.0</td>\n",
              "      <td>0.0</td>\n",
              "      <td>76132820-4</td>\n",
              "      <td>...</td>\n",
              "      <td>No habilitada</td>\n",
              "      <td>Habilitado</td>\n",
              "      <td>Sí</td>\n",
              "      <td>-</td>\n",
              "      <td>Sí</td>\n",
              "      <td>22/04/2022</td>\n",
              "      <td>973784779</td>\n",
              "      <td>contabilidad4@mtc.cl</td>\n",
              "      <td>Acepta, SII sin XML</td>\n",
              "      <td>0</td>\n",
              "    </tr>\n",
              "    <tr>\n",
              "      <th>2</th>\n",
              "      <td>76132820-4</td>\n",
              "      <td>2015-09</td>\n",
              "      <td>3</td>\n",
              "      <td>11511643.0</td>\n",
              "      <td>76132820-4</td>\n",
              "      <td>2015-09</td>\n",
              "      <td>1</td>\n",
              "      <td>4793320.0</td>\n",
              "      <td>0.0</td>\n",
              "      <td>76132820-4</td>\n",
              "      <td>...</td>\n",
              "      <td>No habilitada</td>\n",
              "      <td>Habilitado</td>\n",
              "      <td>Sí</td>\n",
              "      <td>-</td>\n",
              "      <td>Sí</td>\n",
              "      <td>22/04/2022</td>\n",
              "      <td>973784779</td>\n",
              "      <td>contabilidad4@mtc.cl</td>\n",
              "      <td>Acepta, SII sin XML</td>\n",
              "      <td>0</td>\n",
              "    </tr>\n",
              "    <tr>\n",
              "      <th>3</th>\n",
              "      <td>76112169-3</td>\n",
              "      <td>2015-09</td>\n",
              "      <td>1</td>\n",
              "      <td>1356474.0</td>\n",
              "      <td>76112169-3</td>\n",
              "      <td>2015-09</td>\n",
              "      <td>1</td>\n",
              "      <td>20805722.0</td>\n",
              "      <td>0.0</td>\n",
              "      <td>76112169-3</td>\n",
              "      <td>...</td>\n",
              "      <td>No habilitada</td>\n",
              "      <td>Habilitado</td>\n",
              "      <td>Sí</td>\n",
              "      <td>-</td>\n",
              "      <td>No</td>\n",
              "      <td>22/10/2015</td>\n",
              "      <td>22465600</td>\n",
              "      <td>fgalvez@neosc.cl</td>\n",
              "      <td>NaN</td>\n",
              "      <td>0</td>\n",
              "    </tr>\n",
              "    <tr>\n",
              "      <th>4</th>\n",
              "      <td>76112169-3</td>\n",
              "      <td>2015-09</td>\n",
              "      <td>1</td>\n",
              "      <td>1356473.0</td>\n",
              "      <td>76112169-3</td>\n",
              "      <td>2015-09</td>\n",
              "      <td>1</td>\n",
              "      <td>20805722.0</td>\n",
              "      <td>0.0</td>\n",
              "      <td>76112169-3</td>\n",
              "      <td>...</td>\n",
              "      <td>No habilitada</td>\n",
              "      <td>Habilitado</td>\n",
              "      <td>Sí</td>\n",
              "      <td>-</td>\n",
              "      <td>No</td>\n",
              "      <td>22/10/2015</td>\n",
              "      <td>22465600</td>\n",
              "      <td>fgalvez@neosc.cl</td>\n",
              "      <td>NaN</td>\n",
              "      <td>0</td>\n",
              "    </tr>\n",
              "  </tbody>\n",
              "</table>\n",
              "<p>5 rows × 31 columns</p>\n",
              "</div>\n",
              "      <button class=\"colab-df-convert\" onclick=\"convertToInteractive('df-439f9fcc-3ebd-4476-bf53-03e126768c7a')\"\n",
              "              title=\"Convert this dataframe to an interactive table.\"\n",
              "              style=\"display:none;\">\n",
              "        \n",
              "  <svg xmlns=\"http://www.w3.org/2000/svg\" height=\"24px\"viewBox=\"0 0 24 24\"\n",
              "       width=\"24px\">\n",
              "    <path d=\"M0 0h24v24H0V0z\" fill=\"none\"/>\n",
              "    <path d=\"M18.56 5.44l.94 2.06.94-2.06 2.06-.94-2.06-.94-.94-2.06-.94 2.06-2.06.94zm-11 1L8.5 8.5l.94-2.06 2.06-.94-2.06-.94L8.5 2.5l-.94 2.06-2.06.94zm10 10l.94 2.06.94-2.06 2.06-.94-2.06-.94-.94-2.06-.94 2.06-2.06.94z\"/><path d=\"M17.41 7.96l-1.37-1.37c-.4-.4-.92-.59-1.43-.59-.52 0-1.04.2-1.43.59L10.3 9.45l-7.72 7.72c-.78.78-.78 2.05 0 2.83L4 21.41c.39.39.9.59 1.41.59.51 0 1.02-.2 1.41-.59l7.78-7.78 2.81-2.81c.8-.78.8-2.07 0-2.86zM5.41 20L4 18.59l7.72-7.72 1.47 1.35L5.41 20z\"/>\n",
              "  </svg>\n",
              "      </button>\n",
              "      \n",
              "  <style>\n",
              "    .colab-df-container {\n",
              "      display:flex;\n",
              "      flex-wrap:wrap;\n",
              "      gap: 12px;\n",
              "    }\n",
              "\n",
              "    .colab-df-convert {\n",
              "      background-color: #E8F0FE;\n",
              "      border: none;\n",
              "      border-radius: 50%;\n",
              "      cursor: pointer;\n",
              "      display: none;\n",
              "      fill: #1967D2;\n",
              "      height: 32px;\n",
              "      padding: 0 0 0 0;\n",
              "      width: 32px;\n",
              "    }\n",
              "\n",
              "    .colab-df-convert:hover {\n",
              "      background-color: #E2EBFA;\n",
              "      box-shadow: 0px 1px 2px rgba(60, 64, 67, 0.3), 0px 1px 3px 1px rgba(60, 64, 67, 0.15);\n",
              "      fill: #174EA6;\n",
              "    }\n",
              "\n",
              "    [theme=dark] .colab-df-convert {\n",
              "      background-color: #3B4455;\n",
              "      fill: #D2E3FC;\n",
              "    }\n",
              "\n",
              "    [theme=dark] .colab-df-convert:hover {\n",
              "      background-color: #434B5C;\n",
              "      box-shadow: 0px 1px 3px 1px rgba(0, 0, 0, 0.15);\n",
              "      filter: drop-shadow(0px 1px 2px rgba(0, 0, 0, 0.3));\n",
              "      fill: #FFFFFF;\n",
              "    }\n",
              "  </style>\n",
              "\n",
              "      <script>\n",
              "        const buttonEl =\n",
              "          document.querySelector('#df-439f9fcc-3ebd-4476-bf53-03e126768c7a button.colab-df-convert');\n",
              "        buttonEl.style.display =\n",
              "          google.colab.kernel.accessAllowed ? 'block' : 'none';\n",
              "\n",
              "        async function convertToInteractive(key) {\n",
              "          const element = document.querySelector('#df-439f9fcc-3ebd-4476-bf53-03e126768c7a');\n",
              "          const dataTable =\n",
              "            await google.colab.kernel.invokeFunction('convertToInteractive',\n",
              "                                                     [key], {});\n",
              "          if (!dataTable) return;\n",
              "\n",
              "          const docLinkHtml = 'Like what you see? Visit the ' +\n",
              "            '<a target=\"_blank\" href=https://colab.research.google.com/notebooks/data_table.ipynb>data table notebook</a>'\n",
              "            + ' to learn more about interactive tables.';\n",
              "          element.innerHTML = '';\n",
              "          dataTable['output_type'] = 'display_data';\n",
              "          await google.colab.output.renderOutput(dataTable, element);\n",
              "          const docLink = document.createElement('div');\n",
              "          docLink.innerHTML = docLinkHtml;\n",
              "          element.appendChild(docLink);\n",
              "        }\n",
              "      </script>\n",
              "    </div>\n",
              "  </div>\n",
              "  "
            ]
          },
          "metadata": {},
          "execution_count": 23
        }
      ]
    },
    {
      "cell_type": "code",
      "source": [
        "dfcli_redu=dfclientes[[\"Rut\",\"Canal\",\"Calif.\"]]\n",
        "dfcli=pd.merge(left=dfcli_redu, right=df_total_cli, how='inner', right_on='client_rut', left_on='Rut')\n",
        "dfcli.loc[dfcli.cliente_fugado==0,'Clasificacion']='No Fugado'\n",
        "dfcli.loc[dfcli.cliente_fugado==1,\"Clasificacion\"]=\"Fugado\""
      ],
      "metadata": {
        "id": "8q9oN5rYPMy8"
      },
      "execution_count": null,
      "outputs": []
    },
    {
      "cell_type": "code",
      "source": [
        "dfcli.columns.values"
      ],
      "metadata": {
        "colab": {
          "base_uri": "https://localhost:8080/"
        },
        "id": "BIV5AtwWvqvn",
        "outputId": "0f35bd74-881b-43dc-ebc8-4092cdd46d50"
      },
      "execution_count": null,
      "outputs": [
        {
          "output_type": "execute_result",
          "data": {
            "text/plain": [
              "array(['Rut_x', 'Canal_x', 'Calif._x', 'client_rut',\n",
              "       'fecha_añomes_Emisión', 'Cant_doc', 'monto_facturado',\n",
              "       'customer_rut', 'fecha_ope', 'Cant_op', 'Monto_financiado',\n",
              "       'prom_tasa', 'Rut_y', 'Razón Social', 'Calif._y', 'Rep.Legal',\n",
              "       'Contacto', 'Registro', 'Ejecutivo comercial', 'Canal_y',\n",
              "       'Monto financiado', 'Verificado legalmente', 'Estado',\n",
              "       'Verificado por riesgo', 'Habilitada cesión externa',\n",
              "       'Disponible a fondo', 'Ha operado', 'Tasa preferencial', 'SII',\n",
              "       'Última liquidación', 'Teléfono', 'Correo', 'Facturadores',\n",
              "       'cliente_fugado', 'Clasificacion'], dtype=object)"
            ]
          },
          "metadata": {},
          "execution_count": 25
        }
      ]
    },
    {
      "cell_type": "code",
      "source": [
        "import seaborn as sns\n",
        "import matplotlib.pyplot as plt\n",
        "fig, axs= plt.subplots(nrows=1,ncols=2, figsize=(20,5))\n",
        "axs[0].set_title(\"Documentos por Canal\")\n",
        "sns.barplot(x=dfcli['Clasificacion'],ax=axs[0],y=dfcli['Cant_doc'], hue=dfcli['Canal_x'],ci=0)\n",
        "axs[1].set_title(\"Operaciones por canal\")\n",
        "sns.barplot(x=dfcli['Clasificacion'],ax=axs[1],y=dfcli['Cant_op'], hue=dfcli['Canal_x'],ci=0)\n",
        "plt.legend()\n"
      ],
      "metadata": {
        "colab": {
          "base_uri": "https://localhost:8080/",
          "height": 367
        },
        "id": "XUyhTZWSg9Dx",
        "outputId": "3681c40d-e46a-424a-8c1f-edf088beda33"
      },
      "execution_count": null,
      "outputs": [
        {
          "output_type": "execute_result",
          "data": {
            "text/plain": [
              "<matplotlib.legend.Legend at 0x7f34358e8710>"
            ]
          },
          "metadata": {},
          "execution_count": 26
        },
        {
          "output_type": "display_data",
          "data": {
            "text/plain": [
              "<Figure size 1440x360 with 2 Axes>"
            ],
            "image/png": "[encoded data removed]"
          },
          "metadata": {
            "needs_background": "light"
          }
        }
      ]
    },
    {
      "cell_type": "code",
      "source": [
        "dfcli3=dfcli[[\"Canal_x\",\"fecha_ope\",\"Calif._x\",\"Cant_op\",\"Cant_doc\",\"Clasificacion\"]]\n",
        "dfcli3[\"Año\"]=dfcli3[\"fecha_ope\"].apply(lambda x: x[0:4])\n",
        "dfcli3=dfcli3.drop(columns=[\"fecha_ope\"])\n",
        "dfcli3.columns=(['Canal','Calif','Cant_op', 'Cant_doc',\"Clasificacion\",\"Año\"])\n",
        "import seaborn as sns\n",
        "import matplotlib.pyplot as plt\n",
        "fig, axs= plt.subplots(nrows=1,ncols=2, figsize=(20,5))\n",
        "axs[0].set_title(\"Documentos por Calificacion\")\n",
        "sns.barplot(x=dfcli3['Calif'],ax=axs[0],y=dfcli3['Cant_doc'], ci=0,hue=dfcli3['Clasificacion'])\n",
        "axs[1].set_title(\"Operaciones por Calificacion\")\n",
        "sns.barplot(x=dfcli3['Calif'],ax=axs[1],y=dfcli3['Cant_op'], ci=0,hue=dfcli3['Clasificacion'])"
      ],
      "metadata": {
        "colab": {
          "base_uri": "https://localhost:8080/",
          "height": 472
        },
        "id": "DX01Qf98aJaL",
        "outputId": "26f8f0e2-3d77-4f1e-f73c-b80ed60ce549"
      },
      "execution_count": null,
      "outputs": [
        {
          "output_type": "stream",
          "name": "stderr",
          "text": [
            "/usr/local/lib/python3.7/dist-packages/ipykernel_launcher.py:2: SettingWithCopyWarning: \n",
            "A value is trying to be set on a copy of a slice from a DataFrame.\n",
            "Try using .loc[row_indexer,col_indexer] = value instead\n",
            "\n",
            "See the caveats in the documentation: https://pandas.pydata.org/pandas-docs/stable/user_guide/indexing.html#returning-a-view-versus-a-copy\n",
            "  \n"
          ]
        },
        {
          "output_type": "execute_result",
          "data": {
            "text/plain": [
              "<matplotlib.axes._subplots.AxesSubplot at 0x7f34353bf690>"
            ]
          },
          "metadata": {},
          "execution_count": 27
        },
        {
          "output_type": "display_data",
          "data": {
            "text/plain": [
              "<Figure size 1440x360 with 2 Axes>"
            ],
            "image/png": "[encoded data removed]"
          },
          "metadata": {
            "needs_background": "light"
          }
        }
      ]
    },
    {
      "cell_type": "markdown",
      "source": [
        "# Analisis Bivariable"
      ],
      "metadata": {
        "id": "noWtK6dHsm27"
      }
    },
    {
      "cell_type": "code",
      "source": [
        "#Importamos las librerias\n",
        "\n",
        "# Operaciones Basicas\n",
        "import numpy as np\n",
        "import pandas as pd\n",
        "import pandas_profiling\n",
        "\n",
        "# Visualizacion de Datos\n",
        "import matplotlib.pyplot as plt\n",
        "import seaborn as sns"
      ],
      "metadata": {
        "id": "aqGN37Op4tee"
      },
      "execution_count": null,
      "outputs": []
    },
    {
      "cell_type": "code",
      "source": [
        "# Tabla de contingencia\n",
        "tabla1 =pd.crosstab(dfclientes[\"Ha operado\"],dfclientes.Canal)\n",
        "tabla1\n"
      ],
      "metadata": {
        "colab": {
          "base_uri": "https://localhost:8080/",
          "height": 143
        },
        "id": "FqE8Ze-7DR98",
        "outputId": "b61d37c0-87d6-4d85-8e7b-46980bd95961"
      },
      "execution_count": null,
      "outputs": [
        {
          "output_type": "execute_result",
          "data": {
            "text/plain": [
              "Canal       Aplicacion movil  ChileFinancia  Contador  Directo  Facto  \\\n",
              "Ha operado                                                              \n",
              "No                        10            484         7     4984      1   \n",
              "Sí                         5            143         0     1780      0   \n",
              "\n",
              "Canal       Factura en linea  Laudus  OpenDTE  WebFactura  \n",
              "Ha operado                                                 \n",
              "No                        20       1        1           5  \n",
              "Sí                         9       0        0           3  "
            ],
            "text/html": [
              "\n",
              "  <div id=\"df-e851032b-2a40-4bef-b9a3-1dbf019bd0c4\">\n",
              "    <div class=\"colab-df-container\">\n",
              "      <div>\n",
              "<style scoped>\n",
              "    .dataframe tbody tr th:only-of-type {\n",
              "        vertical-align: middle;\n",
              "    }\n",
              "\n",
              "    .dataframe tbody tr th {\n",
              "        vertical-align: top;\n",
              "    }\n",
              "\n",
              "    .dataframe thead th {\n",
              "        text-align: right;\n",
              "    }\n",
              "</style>\n",
              "<table border=\"1\" class=\"dataframe\">\n",
              "  <thead>\n",
              "    <tr style=\"text-align: right;\">\n",
              "      <th>Canal</th>\n",
              "      <th>Aplicacion movil</th>\n",
              "      <th>ChileFinancia</th>\n",
              "      <th>Contador</th>\n",
              "      <th>Directo</th>\n",
              "      <th>Facto</th>\n",
              "      <th>Factura en linea</th>\n",
              "      <th>Laudus</th>\n",
              "      <th>OpenDTE</th>\n",
              "      <th>WebFactura</th>\n",
              "    </tr>\n",
              "    <tr>\n",
              "      <th>Ha operado</th>\n",
              "      <th></th>\n",
              "      <th></th>\n",
              "      <th></th>\n",
              "      <th></th>\n",
              "      <th></th>\n",
              "      <th></th>\n",
              "      <th></th>\n",
              "      <th></th>\n",
              "      <th></th>\n",
              "    </tr>\n",
              "  </thead>\n",
              "  <tbody>\n",
              "    <tr>\n",
              "      <th>No</th>\n",
              "      <td>10</td>\n",
              "      <td>484</td>\n",
              "      <td>7</td>\n",
              "      <td>4984</td>\n",
              "      <td>1</td>\n",
              "      <td>20</td>\n",
              "      <td>1</td>\n",
              "      <td>1</td>\n",
              "      <td>5</td>\n",
              "    </tr>\n",
              "    <tr>\n",
              "      <th>Sí</th>\n",
              "      <td>5</td>\n",
              "      <td>143</td>\n",
              "      <td>0</td>\n",
              "      <td>1780</td>\n",
              "      <td>0</td>\n",
              "      <td>9</td>\n",
              "      <td>0</td>\n",
              "      <td>0</td>\n",
              "      <td>3</td>\n",
              "    </tr>\n",
              "  </tbody>\n",
              "</table>\n",
              "</div>\n",
              "      <button class=\"colab-df-convert\" onclick=\"convertToInteractive('df-e851032b-2a40-4bef-b9a3-1dbf019bd0c4')\"\n",
              "              title=\"Convert this dataframe to an interactive table.\"\n",
              "              style=\"display:none;\">\n",
              "        \n",
              "  <svg xmlns=\"http://www.w3.org/2000/svg\" height=\"24px\"viewBox=\"0 0 24 24\"\n",
              "       width=\"24px\">\n",
              "    <path d=\"M0 0h24v24H0V0z\" fill=\"none\"/>\n",
              "    <path d=\"M18.56 5.44l.94 2.06.94-2.06 2.06-.94-2.06-.94-.94-2.06-.94 2.06-2.06.94zm-11 1L8.5 8.5l.94-2.06 2.06-.94-2.06-.94L8.5 2.5l-.94 2.06-2.06.94zm10 10l.94 2.06.94-2.06 2.06-.94-2.06-.94-.94-2.06-.94 2.06-2.06.94z\"/><path d=\"M17.41 7.96l-1.37-1.37c-.4-.4-.92-.59-1.43-.59-.52 0-1.04.2-1.43.59L10.3 9.45l-7.72 7.72c-.78.78-.78 2.05 0 2.83L4 21.41c.39.39.9.59 1.41.59.51 0 1.02-.2 1.41-.59l7.78-7.78 2.81-2.81c.8-.78.8-2.07 0-2.86zM5.41 20L4 18.59l7.72-7.72 1.47 1.35L5.41 20z\"/>\n",
              "  </svg>\n",
              "      </button>\n",
              "      \n",
              "  <style>\n",
              "    .colab-df-container {\n",
              "      display:flex;\n",
              "      flex-wrap:wrap;\n",
              "      gap: 12px;\n",
              "    }\n",
              "\n",
              "    .colab-df-convert {\n",
              "      background-color: #E8F0FE;\n",
              "      border: none;\n",
              "      border-radius: 50%;\n",
              "      cursor: pointer;\n",
              "      display: none;\n",
              "      fill: #1967D2;\n",
              "      height: 32px;\n",
              "      padding: 0 0 0 0;\n",
              "      width: 32px;\n",
              "    }\n",
              "\n",
              "    .colab-df-convert:hover {\n",
              "      background-color: #E2EBFA;\n",
              "      box-shadow: 0px 1px 2px rgba(60, 64, 67, 0.3), 0px 1px 3px 1px rgba(60, 64, 67, 0.15);\n",
              "      fill: #174EA6;\n",
              "    }\n",
              "\n",
              "    [theme=dark] .colab-df-convert {\n",
              "      background-color: #3B4455;\n",
              "      fill: #D2E3FC;\n",
              "    }\n",
              "\n",
              "    [theme=dark] .colab-df-convert:hover {\n",
              "      background-color: #434B5C;\n",
              "      box-shadow: 0px 1px 3px 1px rgba(0, 0, 0, 0.15);\n",
              "      filter: drop-shadow(0px 1px 2px rgba(0, 0, 0, 0.3));\n",
              "      fill: #FFFFFF;\n",
              "    }\n",
              "  </style>\n",
              "\n",
              "      <script>\n",
              "        const buttonEl =\n",
              "          document.querySelector('#df-e851032b-2a40-4bef-b9a3-1dbf019bd0c4 button.colab-df-convert');\n",
              "        buttonEl.style.display =\n",
              "          google.colab.kernel.accessAllowed ? 'block' : 'none';\n",
              "\n",
              "        async function convertToInteractive(key) {\n",
              "          const element = document.querySelector('#df-e851032b-2a40-4bef-b9a3-1dbf019bd0c4');\n",
              "          const dataTable =\n",
              "            await google.colab.kernel.invokeFunction('convertToInteractive',\n",
              "                                                     [key], {});\n",
              "          if (!dataTable) return;\n",
              "\n",
              "          const docLinkHtml = 'Like what you see? Visit the ' +\n",
              "            '<a target=\"_blank\" href=https://colab.research.google.com/notebooks/data_table.ipynb>data table notebook</a>'\n",
              "            + ' to learn more about interactive tables.';\n",
              "          element.innerHTML = '';\n",
              "          dataTable['output_type'] = 'display_data';\n",
              "          await google.colab.output.renderOutput(dataTable, element);\n",
              "          const docLink = document.createElement('div');\n",
              "          docLink.innerHTML = docLinkHtml;\n",
              "          element.appendChild(docLink);\n",
              "        }\n",
              "      </script>\n",
              "    </div>\n",
              "  </div>\n",
              "  "
            ]
          },
          "metadata": {},
          "execution_count": 29
        }
      ]
    },
    {
      "cell_type": "code",
      "source": [
        "pd.crosstab(dfclientes[\"Ha operado\"],dfclientes.Canal, normalize=True)"
      ],
      "metadata": {
        "colab": {
          "base_uri": "https://localhost:8080/",
          "height": 143
        },
        "id": "qTjhZ5vWP8uZ",
        "outputId": "3dab4be5-ac51-451f-b77b-98f417c3a91d"
      },
      "execution_count": null,
      "outputs": [
        {
          "output_type": "execute_result",
          "data": {
            "text/plain": [
              "Canal       Aplicacion movil  ChileFinancia  Contador   Directo     Facto  \\\n",
              "Ha operado                                                                  \n",
              "No                  0.001342       0.064940  0.000939  0.668724  0.000134   \n",
              "Sí                  0.000671       0.019187  0.000000  0.238830  0.000000   \n",
              "\n",
              "Canal       Factura en linea    Laudus   OpenDTE  WebFactura  \n",
              "Ha operado                                                    \n",
              "No                  0.002683  0.000134  0.000134    0.000671  \n",
              "Sí                  0.001208  0.000000  0.000000    0.000403  "
            ],
            "text/html": [
              "\n",
              "  <div id=\"df-210cd957-1f25-47ee-9cae-4abc5793b359\">\n",
              "    <div class=\"colab-df-container\">\n",
              "      <div>\n",
              "<style scoped>\n",
              "    .dataframe tbody tr th:only-of-type {\n",
              "        vertical-align: middle;\n",
              "    }\n",
              "\n",
              "    .dataframe tbody tr th {\n",
              "        vertical-align: top;\n",
              "    }\n",
              "\n",
              "    .dataframe thead th {\n",
              "        text-align: right;\n",
              "    }\n",
              "</style>\n",
              "<table border=\"1\" class=\"dataframe\">\n",
              "  <thead>\n",
              "    <tr style=\"text-align: right;\">\n",
              "      <th>Canal</th>\n",
              "      <th>Aplicacion movil</th>\n",
              "      <th>ChileFinancia</th>\n",
              "      <th>Contador</th>\n",
              "      <th>Directo</th>\n",
              "      <th>Facto</th>\n",
              "      <th>Factura en linea</th>\n",
              "      <th>Laudus</th>\n",
              "      <th>OpenDTE</th>\n",
              "      <th>WebFactura</th>\n",
              "    </tr>\n",
              "    <tr>\n",
              "      <th>Ha operado</th>\n",
              "      <th></th>\n",
              "      <th></th>\n",
              "      <th></th>\n",
              "      <th></th>\n",
              "      <th></th>\n",
              "      <th></th>\n",
              "      <th></th>\n",
              "      <th></th>\n",
              "      <th></th>\n",
              "    </tr>\n",
              "  </thead>\n",
              "  <tbody>\n",
              "    <tr>\n",
              "      <th>No</th>\n",
              "      <td>0.001342</td>\n",
              "      <td>0.064940</td>\n",
              "      <td>0.000939</td>\n",
              "      <td>0.668724</td>\n",
              "      <td>0.000134</td>\n",
              "      <td>0.002683</td>\n",
              "      <td>0.000134</td>\n",
              "      <td>0.000134</td>\n",
              "      <td>0.000671</td>\n",
              "    </tr>\n",
              "    <tr>\n",
              "      <th>Sí</th>\n",
              "      <td>0.000671</td>\n",
              "      <td>0.019187</td>\n",
              "      <td>0.000000</td>\n",
              "      <td>0.238830</td>\n",
              "      <td>0.000000</td>\n",
              "      <td>0.001208</td>\n",
              "      <td>0.000000</td>\n",
              "      <td>0.000000</td>\n",
              "      <td>0.000403</td>\n",
              "    </tr>\n",
              "  </tbody>\n",
              "</table>\n",
              "</div>\n",
              "      <button class=\"colab-df-convert\" onclick=\"convertToInteractive('df-210cd957-1f25-47ee-9cae-4abc5793b359')\"\n",
              "              title=\"Convert this dataframe to an interactive table.\"\n",
              "              style=\"display:none;\">\n",
              "        \n",
              "  <svg xmlns=\"http://www.w3.org/2000/svg\" height=\"24px\"viewBox=\"0 0 24 24\"\n",
              "       width=\"24px\">\n",
              "    <path d=\"M0 0h24v24H0V0z\" fill=\"none\"/>\n",
              "    <path d=\"M18.56 5.44l.94 2.06.94-2.06 2.06-.94-2.06-.94-.94-2.06-.94 2.06-2.06.94zm-11 1L8.5 8.5l.94-2.06 2.06-.94-2.06-.94L8.5 2.5l-.94 2.06-2.06.94zm10 10l.94 2.06.94-2.06 2.06-.94-2.06-.94-.94-2.06-.94 2.06-2.06.94z\"/><path d=\"M17.41 7.96l-1.37-1.37c-.4-.4-.92-.59-1.43-.59-.52 0-1.04.2-1.43.59L10.3 9.45l-7.72 7.72c-.78.78-.78 2.05 0 2.83L4 21.41c.39.39.9.59 1.41.59.51 0 1.02-.2 1.41-.59l7.78-7.78 2.81-2.81c.8-.78.8-2.07 0-2.86zM5.41 20L4 18.59l7.72-7.72 1.47 1.35L5.41 20z\"/>\n",
              "  </svg>\n",
              "      </button>\n",
              "      \n",
              "  <style>\n",
              "    .colab-df-container {\n",
              "      display:flex;\n",
              "      flex-wrap:wrap;\n",
              "      gap: 12px;\n",
              "    }\n",
              "\n",
              "    .colab-df-convert {\n",
              "      background-color: #E8F0FE;\n",
              "      border: none;\n",
              "      border-radius: 50%;\n",
              "      cursor: pointer;\n",
              "      display: none;\n",
              "      fill: #1967D2;\n",
              "      height: 32px;\n",
              "      padding: 0 0 0 0;\n",
              "      width: 32px;\n",
              "    }\n",
              "\n",
              "    .colab-df-convert:hover {\n",
              "      background-color: #E2EBFA;\n",
              "      box-shadow: 0px 1px 2px rgba(60, 64, 67, 0.3), 0px 1px 3px 1px rgba(60, 64, 67, 0.15);\n",
              "      fill: #174EA6;\n",
              "    }\n",
              "\n",
              "    [theme=dark] .colab-df-convert {\n",
              "      background-color: #3B4455;\n",
              "      fill: #D2E3FC;\n",
              "    }\n",
              "\n",
              "    [theme=dark] .colab-df-convert:hover {\n",
              "      background-color: #434B5C;\n",
              "      box-shadow: 0px 1px 3px 1px rgba(0, 0, 0, 0.15);\n",
              "      filter: drop-shadow(0px 1px 2px rgba(0, 0, 0, 0.3));\n",
              "      fill: #FFFFFF;\n",
              "    }\n",
              "  </style>\n",
              "\n",
              "      <script>\n",
              "        const buttonEl =\n",
              "          document.querySelector('#df-210cd957-1f25-47ee-9cae-4abc5793b359 button.colab-df-convert');\n",
              "        buttonEl.style.display =\n",
              "          google.colab.kernel.accessAllowed ? 'block' : 'none';\n",
              "\n",
              "        async function convertToInteractive(key) {\n",
              "          const element = document.querySelector('#df-210cd957-1f25-47ee-9cae-4abc5793b359');\n",
              "          const dataTable =\n",
              "            await google.colab.kernel.invokeFunction('convertToInteractive',\n",
              "                                                     [key], {});\n",
              "          if (!dataTable) return;\n",
              "\n",
              "          const docLinkHtml = 'Like what you see? Visit the ' +\n",
              "            '<a target=\"_blank\" href=https://colab.research.google.com/notebooks/data_table.ipynb>data table notebook</a>'\n",
              "            + ' to learn more about interactive tables.';\n",
              "          element.innerHTML = '';\n",
              "          dataTable['output_type'] = 'display_data';\n",
              "          await google.colab.output.renderOutput(dataTable, element);\n",
              "          const docLink = document.createElement('div');\n",
              "          docLink.innerHTML = docLinkHtml;\n",
              "          element.appendChild(docLink);\n",
              "        }\n",
              "      </script>\n",
              "    </div>\n",
              "  </div>\n",
              "  "
            ]
          },
          "metadata": {},
          "execution_count": 30
        }
      ]
    },
    {
      "cell_type": "code",
      "source": [
        "pd.crosstab(dfcli[\"Canal_x\"],dfcli.Clasificacion)"
      ],
      "metadata": {
        "colab": {
          "base_uri": "https://localhost:8080/",
          "height": 238
        },
        "id": "cgA3ntnvkImB",
        "outputId": "a89afc15-bb38-43ae-de98-f536545bf926"
      },
      "execution_count": null,
      "outputs": [
        {
          "output_type": "execute_result",
          "data": {
            "text/plain": [
              "Clasificacion     Fugado  No Fugado\n",
              "Canal_x                            \n",
              "Aplicacion movil     134         39\n",
              "ChileFinancia       3559       2392\n",
              "Directo            36010      22214\n",
              "Factura en linea     528         24\n",
              "WebFactura            94          0"
            ],
            "text/html": [
              "\n",
              "  <div id=\"df-1bd5a9d7-2b81-420d-a6ac-2d6368449791\">\n",
              "    <div class=\"colab-df-container\">\n",
              "      <div>\n",
              "<style scoped>\n",
              "    .dataframe tbody tr th:only-of-type {\n",
              "        vertical-align: middle;\n",
              "    }\n",
              "\n",
              "    .dataframe tbody tr th {\n",
              "        vertical-align: top;\n",
              "    }\n",
              "\n",
              "    .dataframe thead th {\n",
              "        text-align: right;\n",
              "    }\n",
              "</style>\n",
              "<table border=\"1\" class=\"dataframe\">\n",
              "  <thead>\n",
              "    <tr style=\"text-align: right;\">\n",
              "      <th>Clasificacion</th>\n",
              "      <th>Fugado</th>\n",
              "      <th>No Fugado</th>\n",
              "    </tr>\n",
              "    <tr>\n",
              "      <th>Canal_x</th>\n",
              "      <th></th>\n",
              "      <th></th>\n",
              "    </tr>\n",
              "  </thead>\n",
              "  <tbody>\n",
              "    <tr>\n",
              "      <th>Aplicacion movil</th>\n",
              "      <td>134</td>\n",
              "      <td>39</td>\n",
              "    </tr>\n",
              "    <tr>\n",
              "      <th>ChileFinancia</th>\n",
              "      <td>3559</td>\n",
              "      <td>2392</td>\n",
              "    </tr>\n",
              "    <tr>\n",
              "      <th>Directo</th>\n",
              "      <td>36010</td>\n",
              "      <td>22214</td>\n",
              "    </tr>\n",
              "    <tr>\n",
              "      <th>Factura en linea</th>\n",
              "      <td>528</td>\n",
              "      <td>24</td>\n",
              "    </tr>\n",
              "    <tr>\n",
              "      <th>WebFactura</th>\n",
              "      <td>94</td>\n",
              "      <td>0</td>\n",
              "    </tr>\n",
              "  </tbody>\n",
              "</table>\n",
              "</div>\n",
              "      <button class=\"colab-df-convert\" onclick=\"convertToInteractive('df-1bd5a9d7-2b81-420d-a6ac-2d6368449791')\"\n",
              "              title=\"Convert this dataframe to an interactive table.\"\n",
              "              style=\"display:none;\">\n",
              "        \n",
              "  <svg xmlns=\"http://www.w3.org/2000/svg\" height=\"24px\"viewBox=\"0 0 24 24\"\n",
              "       width=\"24px\">\n",
              "    <path d=\"M0 0h24v24H0V0z\" fill=\"none\"/>\n",
              "    <path d=\"M18.56 5.44l.94 2.06.94-2.06 2.06-.94-2.06-.94-.94-2.06-.94 2.06-2.06.94zm-11 1L8.5 8.5l.94-2.06 2.06-.94-2.06-.94L8.5 2.5l-.94 2.06-2.06.94zm10 10l.94 2.06.94-2.06 2.06-.94-2.06-.94-.94-2.06-.94 2.06-2.06.94z\"/><path d=\"M17.41 7.96l-1.37-1.37c-.4-.4-.92-.59-1.43-.59-.52 0-1.04.2-1.43.59L10.3 9.45l-7.72 7.72c-.78.78-.78 2.05 0 2.83L4 21.41c.39.39.9.59 1.41.59.51 0 1.02-.2 1.41-.59l7.78-7.78 2.81-2.81c.8-.78.8-2.07 0-2.86zM5.41 20L4 18.59l7.72-7.72 1.47 1.35L5.41 20z\"/>\n",
              "  </svg>\n",
              "      </button>\n",
              "      \n",
              "  <style>\n",
              "    .colab-df-container {\n",
              "      display:flex;\n",
              "      flex-wrap:wrap;\n",
              "      gap: 12px;\n",
              "    }\n",
              "\n",
              "    .colab-df-convert {\n",
              "      background-color: #E8F0FE;\n",
              "      border: none;\n",
              "      border-radius: 50%;\n",
              "      cursor: pointer;\n",
              "      display: none;\n",
              "      fill: #1967D2;\n",
              "      height: 32px;\n",
              "      padding: 0 0 0 0;\n",
              "      width: 32px;\n",
              "    }\n",
              "\n",
              "    .colab-df-convert:hover {\n",
              "      background-color: #E2EBFA;\n",
              "      box-shadow: 0px 1px 2px rgba(60, 64, 67, 0.3), 0px 1px 3px 1px rgba(60, 64, 67, 0.15);\n",
              "      fill: #174EA6;\n",
              "    }\n",
              "\n",
              "    [theme=dark] .colab-df-convert {\n",
              "      background-color: #3B4455;\n",
              "      fill: #D2E3FC;\n",
              "    }\n",
              "\n",
              "    [theme=dark] .colab-df-convert:hover {\n",
              "      background-color: #434B5C;\n",
              "      box-shadow: 0px 1px 3px 1px rgba(0, 0, 0, 0.15);\n",
              "      filter: drop-shadow(0px 1px 2px rgba(0, 0, 0, 0.3));\n",
              "      fill: #FFFFFF;\n",
              "    }\n",
              "  </style>\n",
              "\n",
              "      <script>\n",
              "        const buttonEl =\n",
              "          document.querySelector('#df-1bd5a9d7-2b81-420d-a6ac-2d6368449791 button.colab-df-convert');\n",
              "        buttonEl.style.display =\n",
              "          google.colab.kernel.accessAllowed ? 'block' : 'none';\n",
              "\n",
              "        async function convertToInteractive(key) {\n",
              "          const element = document.querySelector('#df-1bd5a9d7-2b81-420d-a6ac-2d6368449791');\n",
              "          const dataTable =\n",
              "            await google.colab.kernel.invokeFunction('convertToInteractive',\n",
              "                                                     [key], {});\n",
              "          if (!dataTable) return;\n",
              "\n",
              "          const docLinkHtml = 'Like what you see? Visit the ' +\n",
              "            '<a target=\"_blank\" href=https://colab.research.google.com/notebooks/data_table.ipynb>data table notebook</a>'\n",
              "            + ' to learn more about interactive tables.';\n",
              "          element.innerHTML = '';\n",
              "          dataTable['output_type'] = 'display_data';\n",
              "          await google.colab.output.renderOutput(dataTable, element);\n",
              "          const docLink = document.createElement('div');\n",
              "          docLink.innerHTML = docLinkHtml;\n",
              "          element.appendChild(docLink);\n",
              "        }\n",
              "      </script>\n",
              "    </div>\n",
              "  </div>\n",
              "  "
            ]
          },
          "metadata": {},
          "execution_count": 31
        }
      ]
    },
    {
      "cell_type": "code",
      "source": [
        "from scipy.stats import chi2_contingency\n",
        "import numpy as np\n",
        "value1 = tabla1.values\n",
        "print(chi2_contingency(value1)[0:3])"
      ],
      "metadata": {
        "colab": {
          "base_uri": "https://localhost:8080/"
        },
        "id": "wm-i4fA3W1bq",
        "outputId": "8f1a9493-a0c3-4927-e8b5-283ce971545b"
      },
      "execution_count": null,
      "outputs": [
        {
          "output_type": "stream",
          "name": "stdout",
          "text": [
            "(8.527952362724625, 0.3836661516559774, 8)\n"
          ]
        }
      ]
    },
    {
      "cell_type": "code",
      "source": [
        "# Tabla de contingencia\n",
        "pd.crosstab(dfcli.Clasificacion,dfcli.Estado)"
      ],
      "metadata": {
        "colab": {
          "base_uri": "https://localhost:8080/",
          "height": 240
        },
        "id": "8aE91CTsL3ma",
        "outputId": "906b7786-5ac4-468c-daa6-08531c606be8"
      },
      "execution_count": null,
      "outputs": [
        {
          "output_type": "execute_result",
          "data": {
            "text/plain": [
              "Estado         Activo  Inactivo: Cliente insatisfecho (Enojado)  \\\n",
              "Clasificacion                                                     \n",
              "Fugado          31703                                       261   \n",
              "No Fugado       18828                                       135   \n",
              "\n",
              "Estado         Inactivo: El cliente no esta facturando  \\\n",
              "Clasificacion                                            \n",
              "Fugado                                             409   \n",
              "No Fugado                                          204   \n",
              "\n",
              "Estado         Inactivo: Linea de credito  Inactivo: NA  \\\n",
              "Clasificacion                                             \n",
              "Fugado                                541           429   \n",
              "No Fugado                             298           231   \n",
              "\n",
              "Estado         Inactivo: No califica cliente  Inactivo: No califican deudores  \\\n",
              "Clasificacion                                                                   \n",
              "Fugado                                   113                              807   \n",
              "No Fugado                                744                              294   \n",
              "\n",
              "Estado         Inactivo: No esta interesado  \\\n",
              "Clasificacion                                 \n",
              "Fugado                                  487   \n",
              "No Fugado                               382   \n",
              "\n",
              "Estado         Inactivo: No necesita financiamiento ahora  \\\n",
              "Clasificacion                                               \n",
              "Fugado                                               1274   \n",
              "No Fugado                                             702   \n",
              "\n",
              "Estado         Inactivo: Opera con competencia  \\\n",
              "Clasificacion                                    \n",
              "Fugado                                    1070   \n",
              "No Fugado                                  785   \n",
              "\n",
              "Estado         Inactivo: Prejudicial - Judicial  \n",
              "Clasificacion                                    \n",
              "Fugado                                     3231  \n",
              "No Fugado                                  2066  "
            ],
            "text/html": [
              "\n",
              "  <div id=\"df-4048a11d-056b-4910-9b33-465f96cc3fab\">\n",
              "    <div class=\"colab-df-container\">\n",
              "      <div>\n",
              "<style scoped>\n",
              "    .dataframe tbody tr th:only-of-type {\n",
              "        vertical-align: middle;\n",
              "    }\n",
              "\n",
              "    .dataframe tbody tr th {\n",
              "        vertical-align: top;\n",
              "    }\n",
              "\n",
              "    .dataframe thead th {\n",
              "        text-align: right;\n",
              "    }\n",
              "</style>\n",
              "<table border=\"1\" class=\"dataframe\">\n",
              "  <thead>\n",
              "    <tr style=\"text-align: right;\">\n",
              "      <th>Estado</th>\n",
              "      <th>Activo</th>\n",
              "      <th>Inactivo: Cliente insatisfecho (Enojado)</th>\n",
              "      <th>Inactivo: El cliente no esta facturando</th>\n",
              "      <th>Inactivo: Linea de credito</th>\n",
              "      <th>Inactivo: NA</th>\n",
              "      <th>Inactivo: No califica cliente</th>\n",
              "      <th>Inactivo: No califican deudores</th>\n",
              "      <th>Inactivo: No esta interesado</th>\n",
              "      <th>Inactivo: No necesita financiamiento ahora</th>\n",
              "      <th>Inactivo: Opera con competencia</th>\n",
              "      <th>Inactivo: Prejudicial - Judicial</th>\n",
              "    </tr>\n",
              "    <tr>\n",
              "      <th>Clasificacion</th>\n",
              "      <th></th>\n",
              "      <th></th>\n",
              "      <th></th>\n",
              "      <th></th>\n",
              "      <th></th>\n",
              "      <th></th>\n",
              "      <th></th>\n",
              "      <th></th>\n",
              "      <th></th>\n",
              "      <th></th>\n",
              "      <th></th>\n",
              "    </tr>\n",
              "  </thead>\n",
              "  <tbody>\n",
              "    <tr>\n",
              "      <th>Fugado</th>\n",
              "      <td>31703</td>\n",
              "      <td>261</td>\n",
              "      <td>409</td>\n",
              "      <td>541</td>\n",
              "      <td>429</td>\n",
              "      <td>113</td>\n",
              "      <td>807</td>\n",
              "      <td>487</td>\n",
              "      <td>1274</td>\n",
              "      <td>1070</td>\n",
              "      <td>3231</td>\n",
              "    </tr>\n",
              "    <tr>\n",
              "      <th>No Fugado</th>\n",
              "      <td>18828</td>\n",
              "      <td>135</td>\n",
              "      <td>204</td>\n",
              "      <td>298</td>\n",
              "      <td>231</td>\n",
              "      <td>744</td>\n",
              "      <td>294</td>\n",
              "      <td>382</td>\n",
              "      <td>702</td>\n",
              "      <td>785</td>\n",
              "      <td>2066</td>\n",
              "    </tr>\n",
              "  </tbody>\n",
              "</table>\n",
              "</div>\n",
              "      <button class=\"colab-df-convert\" onclick=\"convertToInteractive('df-4048a11d-056b-4910-9b33-465f96cc3fab')\"\n",
              "              title=\"Convert this dataframe to an interactive table.\"\n",
              "              style=\"display:none;\">\n",
              "        \n",
              "  <svg xmlns=\"http://www.w3.org/2000/svg\" height=\"24px\"viewBox=\"0 0 24 24\"\n",
              "       width=\"24px\">\n",
              "    <path d=\"M0 0h24v24H0V0z\" fill=\"none\"/>\n",
              "    <path d=\"M18.56 5.44l.94 2.06.94-2.06 2.06-.94-2.06-.94-.94-2.06-.94 2.06-2.06.94zm-11 1L8.5 8.5l.94-2.06 2.06-.94-2.06-.94L8.5 2.5l-.94 2.06-2.06.94zm10 10l.94 2.06.94-2.06 2.06-.94-2.06-.94-.94-2.06-.94 2.06-2.06.94z\"/><path d=\"M17.41 7.96l-1.37-1.37c-.4-.4-.92-.59-1.43-.59-.52 0-1.04.2-1.43.59L10.3 9.45l-7.72 7.72c-.78.78-.78 2.05 0 2.83L4 21.41c.39.39.9.59 1.41.59.51 0 1.02-.2 1.41-.59l7.78-7.78 2.81-2.81c.8-.78.8-2.07 0-2.86zM5.41 20L4 18.59l7.72-7.72 1.47 1.35L5.41 20z\"/>\n",
              "  </svg>\n",
              "      </button>\n",
              "      \n",
              "  <style>\n",
              "    .colab-df-container {\n",
              "      display:flex;\n",
              "      flex-wrap:wrap;\n",
              "      gap: 12px;\n",
              "    }\n",
              "\n",
              "    .colab-df-convert {\n",
              "      background-color: #E8F0FE;\n",
              "      border: none;\n",
              "      border-radius: 50%;\n",
              "      cursor: pointer;\n",
              "      display: none;\n",
              "      fill: #1967D2;\n",
              "      height: 32px;\n",
              "      padding: 0 0 0 0;\n",
              "      width: 32px;\n",
              "    }\n",
              "\n",
              "    .colab-df-convert:hover {\n",
              "      background-color: #E2EBFA;\n",
              "      box-shadow: 0px 1px 2px rgba(60, 64, 67, 0.3), 0px 1px 3px 1px rgba(60, 64, 67, 0.15);\n",
              "      fill: #174EA6;\n",
              "    }\n",
              "\n",
              "    [theme=dark] .colab-df-convert {\n",
              "      background-color: #3B4455;\n",
              "      fill: #D2E3FC;\n",
              "    }\n",
              "\n",
              "    [theme=dark] .colab-df-convert:hover {\n",
              "      background-color: #434B5C;\n",
              "      box-shadow: 0px 1px 3px 1px rgba(0, 0, 0, 0.15);\n",
              "      filter: drop-shadow(0px 1px 2px rgba(0, 0, 0, 0.3));\n",
              "      fill: #FFFFFF;\n",
              "    }\n",
              "  </style>\n",
              "\n",
              "      <script>\n",
              "        const buttonEl =\n",
              "          document.querySelector('#df-4048a11d-056b-4910-9b33-465f96cc3fab button.colab-df-convert');\n",
              "        buttonEl.style.display =\n",
              "          google.colab.kernel.accessAllowed ? 'block' : 'none';\n",
              "\n",
              "        async function convertToInteractive(key) {\n",
              "          const element = document.querySelector('#df-4048a11d-056b-4910-9b33-465f96cc3fab');\n",
              "          const dataTable =\n",
              "            await google.colab.kernel.invokeFunction('convertToInteractive',\n",
              "                                                     [key], {});\n",
              "          if (!dataTable) return;\n",
              "\n",
              "          const docLinkHtml = 'Like what you see? Visit the ' +\n",
              "            '<a target=\"_blank\" href=https://colab.research.google.com/notebooks/data_table.ipynb>data table notebook</a>'\n",
              "            + ' to learn more about interactive tables.';\n",
              "          element.innerHTML = '';\n",
              "          dataTable['output_type'] = 'display_data';\n",
              "          await google.colab.output.renderOutput(dataTable, element);\n",
              "          const docLink = document.createElement('div');\n",
              "          docLink.innerHTML = docLinkHtml;\n",
              "          element.appendChild(docLink);\n",
              "        }\n",
              "      </script>\n",
              "    </div>\n",
              "  </div>\n",
              "  "
            ]
          },
          "metadata": {},
          "execution_count": 33
        }
      ]
    },
    {
      "cell_type": "code",
      "source": [
        "tabla2=pd.crosstab(dfclientes.Estado,dfclientes.Canal)\n",
        "tabla2"
      ],
      "metadata": {
        "colab": {
          "base_uri": "https://localhost:8080/",
          "height": 426
        },
        "id": "IBF_BhAloJUN",
        "outputId": "9948ced4-25d0-4a98-91ee-6084f12befad"
      },
      "execution_count": null,
      "outputs": [
        {
          "output_type": "execute_result",
          "data": {
            "text/plain": [
              "Canal                                       Aplicacion movil  ChileFinancia  \\\n",
              "Estado                                                                        \n",
              "Activo                                                    14            549   \n",
              "Inactivo: Cliente insatisfecho (Enojado)                   0              1   \n",
              "Inactivo: El cliente no esta facturando                    0             13   \n",
              "Inactivo: Linea de credito                                 0              4   \n",
              "Inactivo: NA                                               0              1   \n",
              "Inactivo: No califica cliente                              0             10   \n",
              "Inactivo: No califican deudores                            0              1   \n",
              "Inactivo: No esta interesado                               0              6   \n",
              "Inactivo: No necesita financiamiento ahora                 0             24   \n",
              "Inactivo: Opera con competencia                            0              7   \n",
              "Inactivo: Prejudicial - Judicial                           1             11   \n",
              "\n",
              "Canal                                       Contador  Directo  Facto  \\\n",
              "Estado                                                                 \n",
              "Activo                                             7     4844      1   \n",
              "Inactivo: Cliente insatisfecho (Enojado)           0       13      0   \n",
              "Inactivo: El cliente no esta facturando            0       76      0   \n",
              "Inactivo: Linea de credito                         0       29      0   \n",
              "Inactivo: NA                                       0     1210      0   \n",
              "Inactivo: No califica cliente                      0       61      0   \n",
              "Inactivo: No califican deudores                    0       82      0   \n",
              "Inactivo: No esta interesado                       0       64      0   \n",
              "Inactivo: No necesita financiamiento ahora         0      182      0   \n",
              "Inactivo: Opera con competencia                    0       80      0   \n",
              "Inactivo: Prejudicial - Judicial                   0      123      0   \n",
              "\n",
              "Canal                                       Factura en linea  Laudus  OpenDTE  \\\n",
              "Estado                                                                          \n",
              "Activo                                                    16       1        1   \n",
              "Inactivo: Cliente insatisfecho (Enojado)                   0       0        0   \n",
              "Inactivo: El cliente no esta facturando                    0       0        0   \n",
              "Inactivo: Linea de credito                                 0       0        0   \n",
              "Inactivo: NA                                               9       0        0   \n",
              "Inactivo: No califica cliente                              1       0        0   \n",
              "Inactivo: No califican deudores                            0       0        0   \n",
              "Inactivo: No esta interesado                               0       0        0   \n",
              "Inactivo: No necesita financiamiento ahora                 2       0        0   \n",
              "Inactivo: Opera con competencia                            0       0        0   \n",
              "Inactivo: Prejudicial - Judicial                           1       0        0   \n",
              "\n",
              "Canal                                       WebFactura  \n",
              "Estado                                                  \n",
              "Activo                                               5  \n",
              "Inactivo: Cliente insatisfecho (Enojado)             0  \n",
              "Inactivo: El cliente no esta facturando              0  \n",
              "Inactivo: Linea de credito                           0  \n",
              "Inactivo: NA                                         3  \n",
              "Inactivo: No califica cliente                        0  \n",
              "Inactivo: No califican deudores                      0  \n",
              "Inactivo: No esta interesado                         0  \n",
              "Inactivo: No necesita financiamiento ahora           0  \n",
              "Inactivo: Opera con competencia                      0  \n",
              "Inactivo: Prejudicial - Judicial                     0  "
            ],
            "text/html": [
              "\n",
              "  <div id=\"df-3d3b40bc-6924-4ed3-90ab-82a43ee9f3b0\">\n",
              "    <div class=\"colab-df-container\">\n",
              "      <div>\n",
              "<style scoped>\n",
              "    .dataframe tbody tr th:only-of-type {\n",
              "        vertical-align: middle;\n",
              "    }\n",
              "\n",
              "    .dataframe tbody tr th {\n",
              "        vertical-align: top;\n",
              "    }\n",
              "\n",
              "    .dataframe thead th {\n",
              "        text-align: right;\n",
              "    }\n",
              "</style>\n",
              "<table border=\"1\" class=\"dataframe\">\n",
              "  <thead>\n",
              "    <tr style=\"text-align: right;\">\n",
              "      <th>Canal</th>\n",
              "      <th>Aplicacion movil</th>\n",
              "      <th>ChileFinancia</th>\n",
              "      <th>Contador</th>\n",
              "      <th>Directo</th>\n",
              "      <th>Facto</th>\n",
              "      <th>Factura en linea</th>\n",
              "      <th>Laudus</th>\n",
              "      <th>OpenDTE</th>\n",
              "      <th>WebFactura</th>\n",
              "    </tr>\n",
              "    <tr>\n",
              "      <th>Estado</th>\n",
              "      <th></th>\n",
              "      <th></th>\n",
              "      <th></th>\n",
              "      <th></th>\n",
              "      <th></th>\n",
              "      <th></th>\n",
              "      <th></th>\n",
              "      <th></th>\n",
              "      <th></th>\n",
              "    </tr>\n",
              "  </thead>\n",
              "  <tbody>\n",
              "    <tr>\n",
              "      <th>Activo</th>\n",
              "      <td>14</td>\n",
              "      <td>549</td>\n",
              "      <td>7</td>\n",
              "      <td>4844</td>\n",
              "      <td>1</td>\n",
              "      <td>16</td>\n",
              "      <td>1</td>\n",
              "      <td>1</td>\n",
              "      <td>5</td>\n",
              "    </tr>\n",
              "    <tr>\n",
              "      <th>Inactivo: Cliente insatisfecho (Enojado)</th>\n",
              "      <td>0</td>\n",
              "      <td>1</td>\n",
              "      <td>0</td>\n",
              "      <td>13</td>\n",
              "      <td>0</td>\n",
              "      <td>0</td>\n",
              "      <td>0</td>\n",
              "      <td>0</td>\n",
              "      <td>0</td>\n",
              "    </tr>\n",
              "    <tr>\n",
              "      <th>Inactivo: El cliente no esta facturando</th>\n",
              "      <td>0</td>\n",
              "      <td>13</td>\n",
              "      <td>0</td>\n",
              "      <td>76</td>\n",
              "      <td>0</td>\n",
              "      <td>0</td>\n",
              "      <td>0</td>\n",
              "      <td>0</td>\n",
              "      <td>0</td>\n",
              "    </tr>\n",
              "    <tr>\n",
              "      <th>Inactivo: Linea de credito</th>\n",
              "      <td>0</td>\n",
              "      <td>4</td>\n",
              "      <td>0</td>\n",
              "      <td>29</td>\n",
              "      <td>0</td>\n",
              "      <td>0</td>\n",
              "      <td>0</td>\n",
              "      <td>0</td>\n",
              "      <td>0</td>\n",
              "    </tr>\n",
              "    <tr>\n",
              "      <th>Inactivo: NA</th>\n",
              "      <td>0</td>\n",
              "      <td>1</td>\n",
              "      <td>0</td>\n",
              "      <td>1210</td>\n",
              "      <td>0</td>\n",
              "      <td>9</td>\n",
              "      <td>0</td>\n",
              "      <td>0</td>\n",
              "      <td>3</td>\n",
              "    </tr>\n",
              "    <tr>\n",
              "      <th>Inactivo: No califica cliente</th>\n",
              "      <td>0</td>\n",
              "      <td>10</td>\n",
              "      <td>0</td>\n",
              "      <td>61</td>\n",
              "      <td>0</td>\n",
              "      <td>1</td>\n",
              "      <td>0</td>\n",
              "      <td>0</td>\n",
              "      <td>0</td>\n",
              "    </tr>\n",
              "    <tr>\n",
              "      <th>Inactivo: No califican deudores</th>\n",
              "      <td>0</td>\n",
              "      <td>1</td>\n",
              "      <td>0</td>\n",
              "      <td>82</td>\n",
              "      <td>0</td>\n",
              "      <td>0</td>\n",
              "      <td>0</td>\n",
              "      <td>0</td>\n",
              "      <td>0</td>\n",
              "    </tr>\n",
              "    <tr>\n",
              "      <th>Inactivo: No esta interesado</th>\n",
              "      <td>0</td>\n",
              "      <td>6</td>\n",
              "      <td>0</td>\n",
              "      <td>64</td>\n",
              "      <td>0</td>\n",
              "      <td>0</td>\n",
              "      <td>0</td>\n",
              "      <td>0</td>\n",
              "      <td>0</td>\n",
              "    </tr>\n",
              "    <tr>\n",
              "      <th>Inactivo: No necesita financiamiento ahora</th>\n",
              "      <td>0</td>\n",
              "      <td>24</td>\n",
              "      <td>0</td>\n",
              "      <td>182</td>\n",
              "      <td>0</td>\n",
              "      <td>2</td>\n",
              "      <td>0</td>\n",
              "      <td>0</td>\n",
              "      <td>0</td>\n",
              "    </tr>\n",
              "    <tr>\n",
              "      <th>Inactivo: Opera con competencia</th>\n",
              "      <td>0</td>\n",
              "      <td>7</td>\n",
              "      <td>0</td>\n",
              "      <td>80</td>\n",
              "      <td>0</td>\n",
              "      <td>0</td>\n",
              "      <td>0</td>\n",
              "      <td>0</td>\n",
              "      <td>0</td>\n",
              "    </tr>\n",
              "    <tr>\n",
              "      <th>Inactivo: Prejudicial - Judicial</th>\n",
              "      <td>1</td>\n",
              "      <td>11</td>\n",
              "      <td>0</td>\n",
              "      <td>123</td>\n",
              "      <td>0</td>\n",
              "      <td>1</td>\n",
              "      <td>0</td>\n",
              "      <td>0</td>\n",
              "      <td>0</td>\n",
              "    </tr>\n",
              "  </tbody>\n",
              "</table>\n",
              "</div>\n",
              "      <button class=\"colab-df-convert\" onclick=\"convertToInteractive('df-3d3b40bc-6924-4ed3-90ab-82a43ee9f3b0')\"\n",
              "              title=\"Convert this dataframe to an interactive table.\"\n",
              "              style=\"display:none;\">\n",
              "        \n",
              "  <svg xmlns=\"http://www.w3.org/2000/svg\" height=\"24px\"viewBox=\"0 0 24 24\"\n",
              "       width=\"24px\">\n",
              "    <path d=\"M0 0h24v24H0V0z\" fill=\"none\"/>\n",
              "    <path d=\"M18.56 5.44l.94 2.06.94-2.06 2.06-.94-2.06-.94-.94-2.06-.94 2.06-2.06.94zm-11 1L8.5 8.5l.94-2.06 2.06-.94-2.06-.94L8.5 2.5l-.94 2.06-2.06.94zm10 10l.94 2.06.94-2.06 2.06-.94-2.06-.94-.94-2.06-.94 2.06-2.06.94z\"/><path d=\"M17.41 7.96l-1.37-1.37c-.4-.4-.92-.59-1.43-.59-.52 0-1.04.2-1.43.59L10.3 9.45l-7.72 7.72c-.78.78-.78 2.05 0 2.83L4 21.41c.39.39.9.59 1.41.59.51 0 1.02-.2 1.41-.59l7.78-7.78 2.81-2.81c.8-.78.8-2.07 0-2.86zM5.41 20L4 18.59l7.72-7.72 1.47 1.35L5.41 20z\"/>\n",
              "  </svg>\n",
              "      </button>\n",
              "      \n",
              "  <style>\n",
              "    .colab-df-container {\n",
              "      display:flex;\n",
              "      flex-wrap:wrap;\n",
              "      gap: 12px;\n",
              "    }\n",
              "\n",
              "    .colab-df-convert {\n",
              "      background-color: #E8F0FE;\n",
              "      border: none;\n",
              "      border-radius: 50%;\n",
              "      cursor: pointer;\n",
              "      display: none;\n",
              "      fill: #1967D2;\n",
              "      height: 32px;\n",
              "      padding: 0 0 0 0;\n",
              "      width: 32px;\n",
              "    }\n",
              "\n",
              "    .colab-df-convert:hover {\n",
              "      background-color: #E2EBFA;\n",
              "      box-shadow: 0px 1px 2px rgba(60, 64, 67, 0.3), 0px 1px 3px 1px rgba(60, 64, 67, 0.15);\n",
              "      fill: #174EA6;\n",
              "    }\n",
              "\n",
              "    [theme=dark] .colab-df-convert {\n",
              "      background-color: #3B4455;\n",
              "      fill: #D2E3FC;\n",
              "    }\n",
              "\n",
              "    [theme=dark] .colab-df-convert:hover {\n",
              "      background-color: #434B5C;\n",
              "      box-shadow: 0px 1px 3px 1px rgba(0, 0, 0, 0.15);\n",
              "      filter: drop-shadow(0px 1px 2px rgba(0, 0, 0, 0.3));\n",
              "      fill: #FFFFFF;\n",
              "    }\n",
              "  </style>\n",
              "\n",
              "      <script>\n",
              "        const buttonEl =\n",
              "          document.querySelector('#df-3d3b40bc-6924-4ed3-90ab-82a43ee9f3b0 button.colab-df-convert');\n",
              "        buttonEl.style.display =\n",
              "          google.colab.kernel.accessAllowed ? 'block' : 'none';\n",
              "\n",
              "        async function convertToInteractive(key) {\n",
              "          const element = document.querySelector('#df-3d3b40bc-6924-4ed3-90ab-82a43ee9f3b0');\n",
              "          const dataTable =\n",
              "            await google.colab.kernel.invokeFunction('convertToInteractive',\n",
              "                                                     [key], {});\n",
              "          if (!dataTable) return;\n",
              "\n",
              "          const docLinkHtml = 'Like what you see? Visit the ' +\n",
              "            '<a target=\"_blank\" href=https://colab.research.google.com/notebooks/data_table.ipynb>data table notebook</a>'\n",
              "            + ' to learn more about interactive tables.';\n",
              "          element.innerHTML = '';\n",
              "          dataTable['output_type'] = 'display_data';\n",
              "          await google.colab.output.renderOutput(dataTable, element);\n",
              "          const docLink = document.createElement('div');\n",
              "          docLink.innerHTML = docLinkHtml;\n",
              "          element.appendChild(docLink);\n",
              "        }\n",
              "      </script>\n",
              "    </div>\n",
              "  </div>\n",
              "  "
            ]
          },
          "metadata": {},
          "execution_count": 34
        }
      ]
    },
    {
      "cell_type": "code",
      "source": [
        "pd.crosstab(dfclientes.Estado,dfclientes.Canal, normalize=True)"
      ],
      "metadata": {
        "colab": {
          "base_uri": "https://localhost:8080/",
          "height": 426
        },
        "id": "DQRn91PGQWCx",
        "outputId": "c4c15867-18de-47e1-fdc6-00ccecc795e1"
      },
      "execution_count": null,
      "outputs": [
        {
          "output_type": "execute_result",
          "data": {
            "text/plain": [
              "Canal                                       Aplicacion movil  ChileFinancia  \\\n",
              "Estado                                                                        \n",
              "Activo                                              0.001878       0.073662   \n",
              "Inactivo: Cliente insatisfecho (Enojado)            0.000000       0.000134   \n",
              "Inactivo: El cliente no esta facturando             0.000000       0.001744   \n",
              "Inactivo: Linea de credito                          0.000000       0.000537   \n",
              "Inactivo: NA                                        0.000000       0.000134   \n",
              "Inactivo: No califica cliente                       0.000000       0.001342   \n",
              "Inactivo: No califican deudores                     0.000000       0.000134   \n",
              "Inactivo: No esta interesado                        0.000000       0.000805   \n",
              "Inactivo: No necesita financiamiento ahora          0.000000       0.003220   \n",
              "Inactivo: Opera con competencia                     0.000000       0.000939   \n",
              "Inactivo: Prejudicial - Judicial                    0.000134       0.001476   \n",
              "\n",
              "Canal                                       Contador   Directo     Facto  \\\n",
              "Estado                                                                     \n",
              "Activo                                      0.000939  0.649940  0.000134   \n",
              "Inactivo: Cliente insatisfecho (Enojado)    0.000000  0.001744  0.000000   \n",
              "Inactivo: El cliente no esta facturando     0.000000  0.010197  0.000000   \n",
              "Inactivo: Linea de credito                  0.000000  0.003891  0.000000   \n",
              "Inactivo: NA                                0.000000  0.162351  0.000000   \n",
              "Inactivo: No califica cliente               0.000000  0.008185  0.000000   \n",
              "Inactivo: No califican deudores             0.000000  0.011002  0.000000   \n",
              "Inactivo: No esta interesado                0.000000  0.008587  0.000000   \n",
              "Inactivo: No necesita financiamiento ahora  0.000000  0.024420  0.000000   \n",
              "Inactivo: Opera con competencia             0.000000  0.010734  0.000000   \n",
              "Inactivo: Prejudicial - Judicial            0.000000  0.016503  0.000000   \n",
              "\n",
              "Canal                                       Factura en linea    Laudus  \\\n",
              "Estado                                                                   \n",
              "Activo                                              0.002147  0.000134   \n",
              "Inactivo: Cliente insatisfecho (Enojado)            0.000000  0.000000   \n",
              "Inactivo: El cliente no esta facturando             0.000000  0.000000   \n",
              "Inactivo: Linea de credito                          0.000000  0.000000   \n",
              "Inactivo: NA                                        0.001208  0.000000   \n",
              "Inactivo: No califica cliente                       0.000134  0.000000   \n",
              "Inactivo: No califican deudores                     0.000000  0.000000   \n",
              "Inactivo: No esta interesado                        0.000000  0.000000   \n",
              "Inactivo: No necesita financiamiento ahora          0.000268  0.000000   \n",
              "Inactivo: Opera con competencia                     0.000000  0.000000   \n",
              "Inactivo: Prejudicial - Judicial                    0.000134  0.000000   \n",
              "\n",
              "Canal                                        OpenDTE  WebFactura  \n",
              "Estado                                                            \n",
              "Activo                                      0.000134    0.000671  \n",
              "Inactivo: Cliente insatisfecho (Enojado)    0.000000    0.000000  \n",
              "Inactivo: El cliente no esta facturando     0.000000    0.000000  \n",
              "Inactivo: Linea de credito                  0.000000    0.000000  \n",
              "Inactivo: NA                                0.000000    0.000403  \n",
              "Inactivo: No califica cliente               0.000000    0.000000  \n",
              "Inactivo: No califican deudores             0.000000    0.000000  \n",
              "Inactivo: No esta interesado                0.000000    0.000000  \n",
              "Inactivo: No necesita financiamiento ahora  0.000000    0.000000  \n",
              "Inactivo: Opera con competencia             0.000000    0.000000  \n",
              "Inactivo: Prejudicial - Judicial            0.000000    0.000000  "
            ],
            "text/html": [
              "\n",
              "  <div id=\"df-27b08e75-00cd-4cf4-a36c-bdf6094cb4e5\">\n",
              "    <div class=\"colab-df-container\">\n",
              "      <div>\n",
              "<style scoped>\n",
              "    .dataframe tbody tr th:only-of-type {\n",
              "        vertical-align: middle;\n",
              "    }\n",
              "\n",
              "    .dataframe tbody tr th {\n",
              "        vertical-align: top;\n",
              "    }\n",
              "\n",
              "    .dataframe thead th {\n",
              "        text-align: right;\n",
              "    }\n",
              "</style>\n",
              "<table border=\"1\" class=\"dataframe\">\n",
              "  <thead>\n",
              "    <tr style=\"text-align: right;\">\n",
              "      <th>Canal</th>\n",
              "      <th>Aplicacion movil</th>\n",
              "      <th>ChileFinancia</th>\n",
              "      <th>Contador</th>\n",
              "      <th>Directo</th>\n",
              "      <th>Facto</th>\n",
              "      <th>Factura en linea</th>\n",
              "      <th>Laudus</th>\n",
              "      <th>OpenDTE</th>\n",
              "      <th>WebFactura</th>\n",
              "    </tr>\n",
              "    <tr>\n",
              "      <th>Estado</th>\n",
              "      <th></th>\n",
              "      <th></th>\n",
              "      <th></th>\n",
              "      <th></th>\n",
              "      <th></th>\n",
              "      <th></th>\n",
              "      <th></th>\n",
              "      <th></th>\n",
              "      <th></th>\n",
              "    </tr>\n",
              "  </thead>\n",
              "  <tbody>\n",
              "    <tr>\n",
              "      <th>Activo</th>\n",
              "      <td>0.001878</td>\n",
              "      <td>0.073662</td>\n",
              "      <td>0.000939</td>\n",
              "      <td>0.649940</td>\n",
              "      <td>0.000134</td>\n",
              "      <td>0.002147</td>\n",
              "      <td>0.000134</td>\n",
              "      <td>0.000134</td>\n",
              "      <td>0.000671</td>\n",
              "    </tr>\n",
              "    <tr>\n",
              "      <th>Inactivo: Cliente insatisfecho (Enojado)</th>\n",
              "      <td>0.000000</td>\n",
              "      <td>0.000134</td>\n",
              "      <td>0.000000</td>\n",
              "      <td>0.001744</td>\n",
              "      <td>0.000000</td>\n",
              "      <td>0.000000</td>\n",
              "      <td>0.000000</td>\n",
              "      <td>0.000000</td>\n",
              "      <td>0.000000</td>\n",
              "    </tr>\n",
              "    <tr>\n",
              "      <th>Inactivo: El cliente no esta facturando</th>\n",
              "      <td>0.000000</td>\n",
              "      <td>0.001744</td>\n",
              "      <td>0.000000</td>\n",
              "      <td>0.010197</td>\n",
              "      <td>0.000000</td>\n",
              "      <td>0.000000</td>\n",
              "      <td>0.000000</td>\n",
              "      <td>0.000000</td>\n",
              "      <td>0.000000</td>\n",
              "    </tr>\n",
              "    <tr>\n",
              "      <th>Inactivo: Linea de credito</th>\n",
              "      <td>0.000000</td>\n",
              "      <td>0.000537</td>\n",
              "      <td>0.000000</td>\n",
              "      <td>0.003891</td>\n",
              "      <td>0.000000</td>\n",
              "      <td>0.000000</td>\n",
              "      <td>0.000000</td>\n",
              "      <td>0.000000</td>\n",
              "      <td>0.000000</td>\n",
              "    </tr>\n",
              "    <tr>\n",
              "      <th>Inactivo: NA</th>\n",
              "      <td>0.000000</td>\n",
              "      <td>0.000134</td>\n",
              "      <td>0.000000</td>\n",
              "      <td>0.162351</td>\n",
              "      <td>0.000000</td>\n",
              "      <td>0.001208</td>\n",
              "      <td>0.000000</td>\n",
              "      <td>0.000000</td>\n",
              "      <td>0.000403</td>\n",
              "    </tr>\n",
              "    <tr>\n",
              "      <th>Inactivo: No califica cliente</th>\n",
              "      <td>0.000000</td>\n",
              "      <td>0.001342</td>\n",
              "      <td>0.000000</td>\n",
              "      <td>0.008185</td>\n",
              "      <td>0.000000</td>\n",
              "      <td>0.000134</td>\n",
              "      <td>0.000000</td>\n",
              "      <td>0.000000</td>\n",
              "      <td>0.000000</td>\n",
              "    </tr>\n",
              "    <tr>\n",
              "      <th>Inactivo: No califican deudores</th>\n",
              "      <td>0.000000</td>\n",
              "      <td>0.000134</td>\n",
              "      <td>0.000000</td>\n",
              "      <td>0.011002</td>\n",
              "      <td>0.000000</td>\n",
              "      <td>0.000000</td>\n",
              "      <td>0.000000</td>\n",
              "      <td>0.000000</td>\n",
              "      <td>0.000000</td>\n",
              "    </tr>\n",
              "    <tr>\n",
              "      <th>Inactivo: No esta interesado</th>\n",
              "      <td>0.000000</td>\n",
              "      <td>0.000805</td>\n",
              "      <td>0.000000</td>\n",
              "      <td>0.008587</td>\n",
              "      <td>0.000000</td>\n",
              "      <td>0.000000</td>\n",
              "      <td>0.000000</td>\n",
              "      <td>0.000000</td>\n",
              "      <td>0.000000</td>\n",
              "    </tr>\n",
              "    <tr>\n",
              "      <th>Inactivo: No necesita financiamiento ahora</th>\n",
              "      <td>0.000000</td>\n",
              "      <td>0.003220</td>\n",
              "      <td>0.000000</td>\n",
              "      <td>0.024420</td>\n",
              "      <td>0.000000</td>\n",
              "      <td>0.000268</td>\n",
              "      <td>0.000000</td>\n",
              "      <td>0.000000</td>\n",
              "      <td>0.000000</td>\n",
              "    </tr>\n",
              "    <tr>\n",
              "      <th>Inactivo: Opera con competencia</th>\n",
              "      <td>0.000000</td>\n",
              "      <td>0.000939</td>\n",
              "      <td>0.000000</td>\n",
              "      <td>0.010734</td>\n",
              "      <td>0.000000</td>\n",
              "      <td>0.000000</td>\n",
              "      <td>0.000000</td>\n",
              "      <td>0.000000</td>\n",
              "      <td>0.000000</td>\n",
              "    </tr>\n",
              "    <tr>\n",
              "      <th>Inactivo: Prejudicial - Judicial</th>\n",
              "      <td>0.000134</td>\n",
              "      <td>0.001476</td>\n",
              "      <td>0.000000</td>\n",
              "      <td>0.016503</td>\n",
              "      <td>0.000000</td>\n",
              "      <td>0.000134</td>\n",
              "      <td>0.000000</td>\n",
              "      <td>0.000000</td>\n",
              "      <td>0.000000</td>\n",
              "    </tr>\n",
              "  </tbody>\n",
              "</table>\n",
              "</div>\n",
              "      <button class=\"colab-df-convert\" onclick=\"convertToInteractive('df-27b08e75-00cd-4cf4-a36c-bdf6094cb4e5')\"\n",
              "              title=\"Convert this dataframe to an interactive table.\"\n",
              "              style=\"display:none;\">\n",
              "        \n",
              "  <svg xmlns=\"http://www.w3.org/2000/svg\" height=\"24px\"viewBox=\"0 0 24 24\"\n",
              "       width=\"24px\">\n",
              "    <path d=\"M0 0h24v24H0V0z\" fill=\"none\"/>\n",
              "    <path d=\"M18.56 5.44l.94 2.06.94-2.06 2.06-.94-2.06-.94-.94-2.06-.94 2.06-2.06.94zm-11 1L8.5 8.5l.94-2.06 2.06-.94-2.06-.94L8.5 2.5l-.94 2.06-2.06.94zm10 10l.94 2.06.94-2.06 2.06-.94-2.06-.94-.94-2.06-.94 2.06-2.06.94z\"/><path d=\"M17.41 7.96l-1.37-1.37c-.4-.4-.92-.59-1.43-.59-.52 0-1.04.2-1.43.59L10.3 9.45l-7.72 7.72c-.78.78-.78 2.05 0 2.83L4 21.41c.39.39.9.59 1.41.59.51 0 1.02-.2 1.41-.59l7.78-7.78 2.81-2.81c.8-.78.8-2.07 0-2.86zM5.41 20L4 18.59l7.72-7.72 1.47 1.35L5.41 20z\"/>\n",
              "  </svg>\n",
              "      </button>\n",
              "      \n",
              "  <style>\n",
              "    .colab-df-container {\n",
              "      display:flex;\n",
              "      flex-wrap:wrap;\n",
              "      gap: 12px;\n",
              "    }\n",
              "\n",
              "    .colab-df-convert {\n",
              "      background-color: #E8F0FE;\n",
              "      border: none;\n",
              "      border-radius: 50%;\n",
              "      cursor: pointer;\n",
              "      display: none;\n",
              "      fill: #1967D2;\n",
              "      height: 32px;\n",
              "      padding: 0 0 0 0;\n",
              "      width: 32px;\n",
              "    }\n",
              "\n",
              "    .colab-df-convert:hover {\n",
              "      background-color: #E2EBFA;\n",
              "      box-shadow: 0px 1px 2px rgba(60, 64, 67, 0.3), 0px 1px 3px 1px rgba(60, 64, 67, 0.15);\n",
              "      fill: #174EA6;\n",
              "    }\n",
              "\n",
              "    [theme=dark] .colab-df-convert {\n",
              "      background-color: #3B4455;\n",
              "      fill: #D2E3FC;\n",
              "    }\n",
              "\n",
              "    [theme=dark] .colab-df-convert:hover {\n",
              "      background-color: #434B5C;\n",
              "      box-shadow: 0px 1px 3px 1px rgba(0, 0, 0, 0.15);\n",
              "      filter: drop-shadow(0px 1px 2px rgba(0, 0, 0, 0.3));\n",
              "      fill: #FFFFFF;\n",
              "    }\n",
              "  </style>\n",
              "\n",
              "      <script>\n",
              "        const buttonEl =\n",
              "          document.querySelector('#df-27b08e75-00cd-4cf4-a36c-bdf6094cb4e5 button.colab-df-convert');\n",
              "        buttonEl.style.display =\n",
              "          google.colab.kernel.accessAllowed ? 'block' : 'none';\n",
              "\n",
              "        async function convertToInteractive(key) {\n",
              "          const element = document.querySelector('#df-27b08e75-00cd-4cf4-a36c-bdf6094cb4e5');\n",
              "          const dataTable =\n",
              "            await google.colab.kernel.invokeFunction('convertToInteractive',\n",
              "                                                     [key], {});\n",
              "          if (!dataTable) return;\n",
              "\n",
              "          const docLinkHtml = 'Like what you see? Visit the ' +\n",
              "            '<a target=\"_blank\" href=https://colab.research.google.com/notebooks/data_table.ipynb>data table notebook</a>'\n",
              "            + ' to learn more about interactive tables.';\n",
              "          element.innerHTML = '';\n",
              "          dataTable['output_type'] = 'display_data';\n",
              "          await google.colab.output.renderOutput(dataTable, element);\n",
              "          const docLink = document.createElement('div');\n",
              "          docLink.innerHTML = docLinkHtml;\n",
              "          element.appendChild(docLink);\n",
              "        }\n",
              "      </script>\n",
              "    </div>\n",
              "  </div>\n",
              "  "
            ]
          },
          "metadata": {},
          "execution_count": 35
        }
      ]
    },
    {
      "cell_type": "code",
      "source": [
        "from scipy.stats import chi2_contingency\n",
        "import numpy as np\n",
        "value2 = tabla2.values\n",
        "print(chi2_contingency(value2)[0:3])"
      ],
      "metadata": {
        "colab": {
          "base_uri": "https://localhost:8080/"
        },
        "id": "gzW8zP4HXdGe",
        "outputId": "f5c6fc9c-4873-425f-c733-a474b6450645"
      },
      "execution_count": null,
      "outputs": [
        {
          "output_type": "stream",
          "name": "stdout",
          "text": [
            "(170.06702617675634, 1.8792690362198735e-08, 80)\n"
          ]
        }
      ]
    },
    {
      "cell_type": "markdown",
      "source": [
        "Como Conclusión de las tablas de contingencia, se puede apreciar que no existe una dependencia de las variables catégoricas, ya que si usamos un nivel se significancia del 0,05 nuestro Pvalor para ambos casos sería mayor."
      ],
      "metadata": {
        "id": "58C9wOlbgUsZ"
      }
    },
    {
      "cell_type": "code",
      "source": [
        "Relaciones_montofac = df_total_cli.groupby(['Ha operado','Canal','Estado']).mean()[['monto_facturado']]\n",
        "Relaciones_montofac"
      ],
      "metadata": {
        "colab": {
          "base_uri": "https://localhost:8080/",
          "height": 990
        },
        "id": "9vdf_cTgVIJ5",
        "outputId": "3b18040e-1163-4b1e-f49a-bc9952540cf5"
      },
      "execution_count": null,
      "outputs": [
        {
          "output_type": "execute_result",
          "data": {
            "text/plain": [
              "                                                                        monto_facturado\n",
              "Ha operado Canal            Estado                                                     \n",
              "No         Directo          Inactivo: NA                                   8.497543e+07\n",
              "Sí         Aplicacion movil Activo                                         1.668342e+07\n",
              "                            Inactivo: Prejudicial - Judicial               6.114842e+06\n",
              "           ChileFinancia    Activo                                         1.537838e+07\n",
              "                            Inactivo: Cliente insatisfecho (Enojado)       4.318309e+06\n",
              "                            Inactivo: El cliente no esta facturando        2.452666e+06\n",
              "                            Inactivo: Linea de credito                     1.810926e+07\n",
              "                            Inactivo: No califica cliente                  2.473258e+06\n",
              "                            Inactivo: No esta interesado                   1.028345e+06\n",
              "                            Inactivo: No necesita financiamiento ahora     7.194142e+06\n",
              "                            Inactivo: Opera con competencia                1.138247e+07\n",
              "                            Inactivo: Prejudicial - Judicial               1.314437e+07\n",
              "           Directo          Activo                                         1.945787e+07\n",
              "                            Inactivo: Cliente insatisfecho (Enojado)       9.060232e+06\n",
              "                            Inactivo: El cliente no esta facturando        1.444036e+07\n",
              "                            Inactivo: Linea de credito                     3.450163e+07\n",
              "                            Inactivo: NA                                   1.457127e+07\n",
              "                            Inactivo: No califica cliente                  2.659674e+07\n",
              "                            Inactivo: No califican deudores                1.467004e+07\n",
              "                            Inactivo: No esta interesado                   1.015624e+07\n",
              "                            Inactivo: No necesita financiamiento ahora     1.314886e+07\n",
              "                            Inactivo: Opera con competencia                1.193988e+07\n",
              "                            Inactivo: Prejudicial - Judicial               1.508328e+07\n",
              "           Factura en linea Activo                                         4.227978e+06\n",
              "                            Inactivo: NA                                   1.115300e+05\n",
              "                            Inactivo: No califica cliente                  1.360554e+08\n",
              "                            Inactivo: No necesita financiamiento ahora     2.624738e+06\n",
              "                            Inactivo: Prejudicial - Judicial               2.407349e+07\n",
              "           WebFactura       Activo                                         2.440076e+06"
            ],
            "text/html": [
              "\n",
              "  <div id=\"df-8b80c2b3-f30d-4be5-9dc7-7db71d2446f8\">\n",
              "    <div class=\"colab-df-container\">\n",
              "      <div>\n",
              "<style scoped>\n",
              "    .dataframe tbody tr th:only-of-type {\n",
              "        vertical-align: middle;\n",
              "    }\n",
              "\n",
              "    .dataframe tbody tr th {\n",
              "        vertical-align: top;\n",
              "    }\n",
              "\n",
              "    .dataframe thead th {\n",
              "        text-align: right;\n",
              "    }\n",
              "</style>\n",
              "<table border=\"1\" class=\"dataframe\">\n",
              "  <thead>\n",
              "    <tr style=\"text-align: right;\">\n",
              "      <th></th>\n",
              "      <th></th>\n",
              "      <th></th>\n",
              "      <th>monto_facturado</th>\n",
              "    </tr>\n",
              "    <tr>\n",
              "      <th>Ha operado</th>\n",
              "      <th>Canal</th>\n",
              "      <th>Estado</th>\n",
              "      <th></th>\n",
              "    </tr>\n",
              "  </thead>\n",
              "  <tbody>\n",
              "    <tr>\n",
              "      <th>No</th>\n",
              "      <th>Directo</th>\n",
              "      <th>Inactivo: NA</th>\n",
              "      <td>8.497543e+07</td>\n",
              "    </tr>\n",
              "    <tr>\n",
              "      <th rowspan=\"28\" valign=\"top\">Sí</th>\n",
              "      <th rowspan=\"2\" valign=\"top\">Aplicacion movil</th>\n",
              "      <th>Activo</th>\n",
              "      <td>1.668342e+07</td>\n",
              "    </tr>\n",
              "    <tr>\n",
              "      <th>Inactivo: Prejudicial - Judicial</th>\n",
              "      <td>6.114842e+06</td>\n",
              "    </tr>\n",
              "    <tr>\n",
              "      <th rowspan=\"9\" valign=\"top\">ChileFinancia</th>\n",
              "      <th>Activo</th>\n",
              "      <td>1.537838e+07</td>\n",
              "    </tr>\n",
              "    <tr>\n",
              "      <th>Inactivo: Cliente insatisfecho (Enojado)</th>\n",
              "      <td>4.318309e+06</td>\n",
              "    </tr>\n",
              "    <tr>\n",
              "      <th>Inactivo: El cliente no esta facturando</th>\n",
              "      <td>2.452666e+06</td>\n",
              "    </tr>\n",
              "    <tr>\n",
              "      <th>Inactivo: Linea de credito</th>\n",
              "      <td>1.810926e+07</td>\n",
              "    </tr>\n",
              "    <tr>\n",
              "      <th>Inactivo: No califica cliente</th>\n",
              "      <td>2.473258e+06</td>\n",
              "    </tr>\n",
              "    <tr>\n",
              "      <th>Inactivo: No esta interesado</th>\n",
              "      <td>1.028345e+06</td>\n",
              "    </tr>\n",
              "    <tr>\n",
              "      <th>Inactivo: No necesita financiamiento ahora</th>\n",
              "      <td>7.194142e+06</td>\n",
              "    </tr>\n",
              "    <tr>\n",
              "      <th>Inactivo: Opera con competencia</th>\n",
              "      <td>1.138247e+07</td>\n",
              "    </tr>\n",
              "    <tr>\n",
              "      <th>Inactivo: Prejudicial - Judicial</th>\n",
              "      <td>1.314437e+07</td>\n",
              "    </tr>\n",
              "    <tr>\n",
              "      <th rowspan=\"11\" valign=\"top\">Directo</th>\n",
              "      <th>Activo</th>\n",
              "      <td>1.945787e+07</td>\n",
              "    </tr>\n",
              "    <tr>\n",
              "      <th>Inactivo: Cliente insatisfecho (Enojado)</th>\n",
              "      <td>9.060232e+06</td>\n",
              "    </tr>\n",
              "    <tr>\n",
              "      <th>Inactivo: El cliente no esta facturando</th>\n",
              "      <td>1.444036e+07</td>\n",
              "    </tr>\n",
              "    <tr>\n",
              "      <th>Inactivo: Linea de credito</th>\n",
              "      <td>3.450163e+07</td>\n",
              "    </tr>\n",
              "    <tr>\n",
              "      <th>Inactivo: NA</th>\n",
              "      <td>1.457127e+07</td>\n",
              "    </tr>\n",
              "    <tr>\n",
              "      <th>Inactivo: No califica cliente</th>\n",
              "      <td>2.659674e+07</td>\n",
              "    </tr>\n",
              "    <tr>\n",
              "      <th>Inactivo: No califican deudores</th>\n",
              "      <td>1.467004e+07</td>\n",
              "    </tr>\n",
              "    <tr>\n",
              "      <th>Inactivo: No esta interesado</th>\n",
              "      <td>1.015624e+07</td>\n",
              "    </tr>\n",
              "    <tr>\n",
              "      <th>Inactivo: No necesita financiamiento ahora</th>\n",
              "      <td>1.314886e+07</td>\n",
              "    </tr>\n",
              "    <tr>\n",
              "      <th>Inactivo: Opera con competencia</th>\n",
              "      <td>1.193988e+07</td>\n",
              "    </tr>\n",
              "    <tr>\n",
              "      <th>Inactivo: Prejudicial - Judicial</th>\n",
              "      <td>1.508328e+07</td>\n",
              "    </tr>\n",
              "    <tr>\n",
              "      <th rowspan=\"5\" valign=\"top\">Factura en linea</th>\n",
              "      <th>Activo</th>\n",
              "      <td>4.227978e+06</td>\n",
              "    </tr>\n",
              "    <tr>\n",
              "      <th>Inactivo: NA</th>\n",
              "      <td>1.115300e+05</td>\n",
              "    </tr>\n",
              "    <tr>\n",
              "      <th>Inactivo: No califica cliente</th>\n",
              "      <td>1.360554e+08</td>\n",
              "    </tr>\n",
              "    <tr>\n",
              "      <th>Inactivo: No necesita financiamiento ahora</th>\n",
              "      <td>2.624738e+06</td>\n",
              "    </tr>\n",
              "    <tr>\n",
              "      <th>Inactivo: Prejudicial - Judicial</th>\n",
              "      <td>2.407349e+07</td>\n",
              "    </tr>\n",
              "    <tr>\n",
              "      <th>WebFactura</th>\n",
              "      <th>Activo</th>\n",
              "      <td>2.440076e+06</td>\n",
              "    </tr>\n",
              "  </tbody>\n",
              "</table>\n",
              "</div>\n",
              "      <button class=\"colab-df-convert\" onclick=\"convertToInteractive('df-8b80c2b3-f30d-4be5-9dc7-7db71d2446f8')\"\n",
              "              title=\"Convert this dataframe to an interactive table.\"\n",
              "              style=\"display:none;\">\n",
              "        \n",
              "  <svg xmlns=\"http://www.w3.org/2000/svg\" height=\"24px\"viewBox=\"0 0 24 24\"\n",
              "       width=\"24px\">\n",
              "    <path d=\"M0 0h24v24H0V0z\" fill=\"none\"/>\n",
              "    <path d=\"M18.56 5.44l.94 2.06.94-2.06 2.06-.94-2.06-.94-.94-2.06-.94 2.06-2.06.94zm-11 1L8.5 8.5l.94-2.06 2.06-.94-2.06-.94L8.5 2.5l-.94 2.06-2.06.94zm10 10l.94 2.06.94-2.06 2.06-.94-2.06-.94-.94-2.06-.94 2.06-2.06.94z\"/><path d=\"M17.41 7.96l-1.37-1.37c-.4-.4-.92-.59-1.43-.59-.52 0-1.04.2-1.43.59L10.3 9.45l-7.72 7.72c-.78.78-.78 2.05 0 2.83L4 21.41c.39.39.9.59 1.41.59.51 0 1.02-.2 1.41-.59l7.78-7.78 2.81-2.81c.8-.78.8-2.07 0-2.86zM5.41 20L4 18.59l7.72-7.72 1.47 1.35L5.41 20z\"/>\n",
              "  </svg>\n",
              "      </button>\n",
              "      \n",
              "  <style>\n",
              "    .colab-df-container {\n",
              "      display:flex;\n",
              "      flex-wrap:wrap;\n",
              "      gap: 12px;\n",
              "    }\n",
              "\n",
              "    .colab-df-convert {\n",
              "      background-color: #E8F0FE;\n",
              "      border: none;\n",
              "      border-radius: 50%;\n",
              "      cursor: pointer;\n",
              "      display: none;\n",
              "      fill: #1967D2;\n",
              "      height: 32px;\n",
              "      padding: 0 0 0 0;\n",
              "      width: 32px;\n",
              "    }\n",
              "\n",
              "    .colab-df-convert:hover {\n",
              "      background-color: #E2EBFA;\n",
              "      box-shadow: 0px 1px 2px rgba(60, 64, 67, 0.3), 0px 1px 3px 1px rgba(60, 64, 67, 0.15);\n",
              "      fill: #174EA6;\n",
              "    }\n",
              "\n",
              "    [theme=dark] .colab-df-convert {\n",
              "      background-color: #3B4455;\n",
              "      fill: #D2E3FC;\n",
              "    }\n",
              "\n",
              "    [theme=dark] .colab-df-convert:hover {\n",
              "      background-color: #434B5C;\n",
              "      box-shadow: 0px 1px 3px 1px rgba(0, 0, 0, 0.15);\n",
              "      filter: drop-shadow(0px 1px 2px rgba(0, 0, 0, 0.3));\n",
              "      fill: #FFFFFF;\n",
              "    }\n",
              "  </style>\n",
              "\n",
              "      <script>\n",
              "        const buttonEl =\n",
              "          document.querySelector('#df-8b80c2b3-f30d-4be5-9dc7-7db71d2446f8 button.colab-df-convert');\n",
              "        buttonEl.style.display =\n",
              "          google.colab.kernel.accessAllowed ? 'block' : 'none';\n",
              "\n",
              "        async function convertToInteractive(key) {\n",
              "          const element = document.querySelector('#df-8b80c2b3-f30d-4be5-9dc7-7db71d2446f8');\n",
              "          const dataTable =\n",
              "            await google.colab.kernel.invokeFunction('convertToInteractive',\n",
              "                                                     [key], {});\n",
              "          if (!dataTable) return;\n",
              "\n",
              "          const docLinkHtml = 'Like what you see? Visit the ' +\n",
              "            '<a target=\"_blank\" href=https://colab.research.google.com/notebooks/data_table.ipynb>data table notebook</a>'\n",
              "            + ' to learn more about interactive tables.';\n",
              "          element.innerHTML = '';\n",
              "          dataTable['output_type'] = 'display_data';\n",
              "          await google.colab.output.renderOutput(dataTable, element);\n",
              "          const docLink = document.createElement('div');\n",
              "          docLink.innerHTML = docLinkHtml;\n",
              "          element.appendChild(docLink);\n",
              "        }\n",
              "      </script>\n",
              "    </div>\n",
              "  </div>\n",
              "  "
            ]
          },
          "metadata": {},
          "execution_count": 37
        }
      ]
    },
    {
      "cell_type": "markdown",
      "source": [
        "A partir de la agrupación, se puede ver que aquellos que vienen del canal chilefinancia tienen mayor niveles de facturación."
      ],
      "metadata": {
        "id": "QmBhCL4PjAPg"
      }
    },
    {
      "cell_type": "code",
      "source": [
        "# tresbps vs target\n",
        "fig, axs= plt.subplots(nrows=1,ncols=2, figsize=(20,5))\n",
        "axs[1].set_title(\"Relación entre Clasificacion y monto facturado\")\n",
        "axs[0].set_title(\"Relación entre si han operado y monto facturado\")\n",
        "sns.boxplot(df_total_cli['Ha operado'], df_total_cli['monto_facturado'],ax=axs[0])\n",
        "sns.boxplot(dfcli['Clasificacion'], dfcli['monto_facturado'],ax=axs[1])\n",
        "\n",
        "plt.show()"
      ],
      "metadata": {
        "colab": {
          "base_uri": "https://localhost:8080/",
          "height": 439
        },
        "id": "XGrMn1TnZu2h",
        "outputId": "1e36c355-8055-4d7f-d392-dfdc603f7830"
      },
      "execution_count": null,
      "outputs": [
        {
          "output_type": "stream",
          "name": "stderr",
          "text": [
            "/usr/local/lib/python3.7/dist-packages/seaborn/_decorators.py:43: FutureWarning: Pass the following variables as keyword args: x, y. From version 0.12, the only valid positional argument will be `data`, and passing other arguments without an explicit keyword will result in an error or misinterpretation.\n",
            "  FutureWarning\n",
            "/usr/local/lib/python3.7/dist-packages/seaborn/_decorators.py:43: FutureWarning: Pass the following variables as keyword args: x, y. From version 0.12, the only valid positional argument will be `data`, and passing other arguments without an explicit keyword will result in an error or misinterpretation.\n",
            "  FutureWarning\n"
          ]
        },
        {
          "output_type": "display_data",
          "data": {
            "text/plain": [
              "<Figure size 1440x360 with 2 Axes>"
            ],
            "image/png": "[encoded data removed]"
          },
          "metadata": {
            "needs_background": "light"
          }
        }
      ]
    },
    {
      "cell_type": "markdown",
      "source": [
        "Aquellos clientes que no han operado tienen mayor dispersión en su monto facturado, lo que nos da como conclusión que la empresa apunta a clientes con una facturación más acotada."
      ],
      "metadata": {
        "id": "D5oYROrRjesm"
      }
    },
    {
      "cell_type": "markdown",
      "source": [
        "\n",
        "#Analisis Multivariable"
      ],
      "metadata": {
        "id": "qXIS_zpNXBs3"
      }
    },
    {
      "cell_type": "markdown",
      "source": [
        "### Buscamos analizar como se relacionan las variables entre si."
      ],
      "metadata": {
        "id": "pB0t4b06Mo2q"
      }
    },
    {
      "cell_type": "markdown",
      "source": [
        "## Vemos la correlacion que presentan estas variables.\n"
      ],
      "metadata": {
        "id": "Lz9JuMj6M94Q"
      }
    },
    {
      "cell_type": "code",
      "source": [
        "import seaborn as sns\n",
        "import matplotlib.pyplot as plt\n",
        "\n",
        "plt.figure(dpi=120)\n",
        "sns.pairplot(dfcli)\n",
        "plt.show()"
      ],
      "metadata": {
        "colab": {
          "base_uri": "https://localhost:8080/",
          "height": 1000
        },
        "id": "oBGhExwvmaqw",
        "outputId": "168cb09c-ec6e-4d2c-f1b0-c8711d08f3f5"
      },
      "execution_count": null,
      "outputs": [
        {
          "output_type": "display_data",
          "data": {
            "text/plain": [
              "<Figure size 720x480 with 0 Axes>"
            ]
          },
          "metadata": {}
        },
        {
          "output_type": "display_data",
          "data": {
            "text/plain": [
              "<Figure size 1080x1080 with 42 Axes>"
            ],
            "image/png": "[encoded data removed]"
          },
          "metadata": {
            "needs_background": "light"
          }
        }
      ]
    },
    {
      "cell_type": "code",
      "source": [
        "plt.figure(dpi = 100,figsize= (7,3.5))\n",
        "mask = np.triu(np.ones_like(dfcli.corr(),dtype = bool))\n",
        "sns.heatmap(dfcli.corr(),mask = mask, fmt = \".2f\",annot=True,lw=1)\n",
        "plt.yticks(rotation = 0)\n",
        "plt.xticks(rotation = 90)\n",
        "plt.title('Correlation Heatmap')\n",
        "plt.show()"
      ],
      "metadata": {
        "colab": {
          "base_uri": "https://localhost:8080/",
          "height": 456
        },
        "id": "tBmcVYpgysgl",
        "outputId": "d71b4e90-5987-4788-dc92-144ab4eda162"
      },
      "execution_count": null,
      "outputs": [
        {
          "output_type": "display_data",
          "data": {
            "text/plain": [
              "<Figure size 700x350 with 2 Axes>"
            ],
            "image/png": "[encoded data removed]"
          },
          "metadata": {
            "needs_background": "light"
          }
        }
      ]
    },
    {
      "cell_type": "code",
      "source": [
        "dfcli[\"Año\"]=dfcli[\"fecha_ope\"].apply(lambda x: x[0:4])\n",
        "t=dfcli.groupby([\"Año\"])['Cant_doc','Cant_op'].sum()\n",
        "t\n"
      ],
      "metadata": {
        "colab": {
          "base_uri": "https://localhost:8080/",
          "height": 386
        },
        "id": "kjKFIyxL2bZI",
        "outputId": "ac7dcac2-e294-4184-982c-2afd82b9f607"
      },
      "execution_count": null,
      "outputs": [
        {
          "output_type": "stream",
          "name": "stderr",
          "text": [
            "/usr/local/lib/python3.7/dist-packages/ipykernel_launcher.py:2: FutureWarning: Indexing with multiple keys (implicitly converted to a tuple of keys) will be deprecated, use a list instead.\n",
            "  \n"
          ]
        },
        {
          "output_type": "execute_result",
          "data": {
            "text/plain": [
              "      Cant_doc  Cant_op\n",
              "Año                    \n",
              "2015        27       24\n",
              "2016       323      472\n",
              "2017      2231     2290\n",
              "2018      7965     7224\n",
              "2019     25499    16395\n",
              "2020    100154    46822\n",
              "2021    179991    75017\n",
              "2022     53997    20631"
            ],
            "text/html": [
              "\n",
              "  <div id=\"df-1ca09a8c-f0fb-41ca-98fb-d126e945a810\">\n",
              "    <div class=\"colab-df-container\">\n",
              "      <div>\n",
              "<style scoped>\n",
              "    .dataframe tbody tr th:only-of-type {\n",
              "        vertical-align: middle;\n",
              "    }\n",
              "\n",
              "    .dataframe tbody tr th {\n",
              "        vertical-align: top;\n",
              "    }\n",
              "\n",
              "    .dataframe thead th {\n",
              "        text-align: right;\n",
              "    }\n",
              "</style>\n",
              "<table border=\"1\" class=\"dataframe\">\n",
              "  <thead>\n",
              "    <tr style=\"text-align: right;\">\n",
              "      <th></th>\n",
              "      <th>Cant_doc</th>\n",
              "      <th>Cant_op</th>\n",
              "    </tr>\n",
              "    <tr>\n",
              "      <th>Año</th>\n",
              "      <th></th>\n",
              "      <th></th>\n",
              "    </tr>\n",
              "  </thead>\n",
              "  <tbody>\n",
              "    <tr>\n",
              "      <th>2015</th>\n",
              "      <td>27</td>\n",
              "      <td>24</td>\n",
              "    </tr>\n",
              "    <tr>\n",
              "      <th>2016</th>\n",
              "      <td>323</td>\n",
              "      <td>472</td>\n",
              "    </tr>\n",
              "    <tr>\n",
              "      <th>2017</th>\n",
              "      <td>2231</td>\n",
              "      <td>2290</td>\n",
              "    </tr>\n",
              "    <tr>\n",
              "      <th>2018</th>\n",
              "      <td>7965</td>\n",
              "      <td>7224</td>\n",
              "    </tr>\n",
              "    <tr>\n",
              "      <th>2019</th>\n",
              "      <td>25499</td>\n",
              "      <td>16395</td>\n",
              "    </tr>\n",
              "    <tr>\n",
              "      <th>2020</th>\n",
              "      <td>100154</td>\n",
              "      <td>46822</td>\n",
              "    </tr>\n",
              "    <tr>\n",
              "      <th>2021</th>\n",
              "      <td>179991</td>\n",
              "      <td>75017</td>\n",
              "    </tr>\n",
              "    <tr>\n",
              "      <th>2022</th>\n",
              "      <td>53997</td>\n",
              "      <td>20631</td>\n",
              "    </tr>\n",
              "  </tbody>\n",
              "</table>\n",
              "</div>\n",
              "      <button class=\"colab-df-convert\" onclick=\"convertToInteractive('df-1ca09a8c-f0fb-41ca-98fb-d126e945a810')\"\n",
              "              title=\"Convert this dataframe to an interactive table.\"\n",
              "              style=\"display:none;\">\n",
              "        \n",
              "  <svg xmlns=\"http://www.w3.org/2000/svg\" height=\"24px\"viewBox=\"0 0 24 24\"\n",
              "       width=\"24px\">\n",
              "    <path d=\"M0 0h24v24H0V0z\" fill=\"none\"/>\n",
              "    <path d=\"M18.56 5.44l.94 2.06.94-2.06 2.06-.94-2.06-.94-.94-2.06-.94 2.06-2.06.94zm-11 1L8.5 8.5l.94-2.06 2.06-.94-2.06-.94L8.5 2.5l-.94 2.06-2.06.94zm10 10l.94 2.06.94-2.06 2.06-.94-2.06-.94-.94-2.06-.94 2.06-2.06.94z\"/><path d=\"M17.41 7.96l-1.37-1.37c-.4-.4-.92-.59-1.43-.59-.52 0-1.04.2-1.43.59L10.3 9.45l-7.72 7.72c-.78.78-.78 2.05 0 2.83L4 21.41c.39.39.9.59 1.41.59.51 0 1.02-.2 1.41-.59l7.78-7.78 2.81-2.81c.8-.78.8-2.07 0-2.86zM5.41 20L4 18.59l7.72-7.72 1.47 1.35L5.41 20z\"/>\n",
              "  </svg>\n",
              "      </button>\n",
              "      \n",
              "  <style>\n",
              "    .colab-df-container {\n",
              "      display:flex;\n",
              "      flex-wrap:wrap;\n",
              "      gap: 12px;\n",
              "    }\n",
              "\n",
              "    .colab-df-convert {\n",
              "      background-color: #E8F0FE;\n",
              "      border: none;\n",
              "      border-radius: 50%;\n",
              "      cursor: pointer;\n",
              "      display: none;\n",
              "      fill: #1967D2;\n",
              "      height: 32px;\n",
              "      padding: 0 0 0 0;\n",
              "      width: 32px;\n",
              "    }\n",
              "\n",
              "    .colab-df-convert:hover {\n",
              "      background-color: #E2EBFA;\n",
              "      box-shadow: 0px 1px 2px rgba(60, 64, 67, 0.3), 0px 1px 3px 1px rgba(60, 64, 67, 0.15);\n",
              "      fill: #174EA6;\n",
              "    }\n",
              "\n",
              "    [theme=dark] .colab-df-convert {\n",
              "      background-color: #3B4455;\n",
              "      fill: #D2E3FC;\n",
              "    }\n",
              "\n",
              "    [theme=dark] .colab-df-convert:hover {\n",
              "      background-color: #434B5C;\n",
              "      box-shadow: 0px 1px 3px 1px rgba(0, 0, 0, 0.15);\n",
              "      filter: drop-shadow(0px 1px 2px rgba(0, 0, 0, 0.3));\n",
              "      fill: #FFFFFF;\n",
              "    }\n",
              "  </style>\n",
              "\n",
              "      <script>\n",
              "        const buttonEl =\n",
              "          document.querySelector('#df-1ca09a8c-f0fb-41ca-98fb-d126e945a810 button.colab-df-convert');\n",
              "        buttonEl.style.display =\n",
              "          google.colab.kernel.accessAllowed ? 'block' : 'none';\n",
              "\n",
              "        async function convertToInteractive(key) {\n",
              "          const element = document.querySelector('#df-1ca09a8c-f0fb-41ca-98fb-d126e945a810');\n",
              "          const dataTable =\n",
              "            await google.colab.kernel.invokeFunction('convertToInteractive',\n",
              "                                                     [key], {});\n",
              "          if (!dataTable) return;\n",
              "\n",
              "          const docLinkHtml = 'Like what you see? Visit the ' +\n",
              "            '<a target=\"_blank\" href=https://colab.research.google.com/notebooks/data_table.ipynb>data table notebook</a>'\n",
              "            + ' to learn more about interactive tables.';\n",
              "          element.innerHTML = '';\n",
              "          dataTable['output_type'] = 'display_data';\n",
              "          await google.colab.output.renderOutput(dataTable, element);\n",
              "          const docLink = document.createElement('div');\n",
              "          docLink.innerHTML = docLinkHtml;\n",
              "          element.appendChild(docLink);\n",
              "        }\n",
              "      </script>\n",
              "    </div>\n",
              "  </div>\n",
              "  "
            ]
          },
          "metadata": {},
          "execution_count": 41
        }
      ]
    },
    {
      "cell_type": "code",
      "source": [
        "serie_1 = t['Cant_doc']\n",
        "serie_2 = t['Cant_op']\n",
        "numero_de_grupos = len(list(t.index))\n",
        "indice_barras = np.arange(numero_de_grupos)\n",
        "ancho_barras =0.35\n",
        "plt.bar(indice_barras, serie_1, width=ancho_barras, label=\"Q de Doc\")\n",
        "plt.bar(indice_barras + ancho_barras, serie_2, width=ancho_barras, label='Q Ope')\n",
        "plt.legend(loc='best')\n",
        "## Se colocan los indicadores en el eje x\n",
        "plt.xticks(indice_barras + ancho_barras, (list(t.index)))\n",
        " \n",
        "plt.ylabel('Doc vs Op')\n",
        "plt.xlabel('Año')\n",
        "plt.legend()\n",
        " \n",
        "plt.show() \n"
      ],
      "metadata": {
        "colab": {
          "base_uri": "https://localhost:8080/",
          "height": 279
        },
        "id": "h-hwvB7m9dXC",
        "outputId": "b963ca32-7255-448f-e247-31163b787843"
      },
      "execution_count": null,
      "outputs": [
        {
          "output_type": "display_data",
          "data": {
            "text/plain": [
              "<Figure size 432x288 with 1 Axes>"
            ],
            "image/png": "[encoded data removed]"
          },
          "metadata": {
            "needs_background": "light"
          }
        }
      ]
    },
    {
      "cell_type": "markdown",
      "source": [
        "# Algoritmos de Clasificación"
      ],
      "metadata": {
        "id": "qkqnaeZIB0NL"
      }
    },
    {
      "cell_type": "markdown",
      "source": [
        "## Arbol de decisión"
      ],
      "metadata": {
        "id": "YOcxcDdnuSg2"
      }
    },
    {
      "cell_type": "code",
      "source": [
        "#df_total_cli[df_total_cli['cliente_fugado'] == 'Not Specified']\n",
        "#df_total_cli.loc[df_total_cli['cliente_fugado'] == 'Not Specified','cliente_fugado']=0\n",
        "#df_total_cli.loc[df_total_cli['cliente_fugado'] == '1','cliente_fugado']=1\n",
        "#df_total_cli.loc[df_total_cli['cliente_fugado'] == \"0\",'cliente_fugado']=0\n",
        "\n",
        "#df_total_cli['cliente_fugado'].unique()\n",
        "dfcli.columns.values"
      ],
      "metadata": {
        "id": "8wK2CnGrPc_o",
        "colab": {
          "base_uri": "https://localhost:8080/"
        },
        "outputId": "0ced7654-7cc8-4485-adf7-a2d1267a8e76"
      },
      "execution_count": null,
      "outputs": [
        {
          "output_type": "execute_result",
          "data": {
            "text/plain": [
              "array(['Rut_x', 'Canal_x', 'Calif._x', 'client_rut',\n",
              "       'fecha_añomes_Emisión', 'Cant_doc', 'monto_facturado',\n",
              "       'customer_rut', 'fecha_ope', 'Cant_op', 'Monto_financiado',\n",
              "       'prom_tasa', 'Rut_y', 'Razón Social', 'Calif._y', 'Rep.Legal',\n",
              "       'Contacto', 'Registro', 'Ejecutivo comercial', 'Canal_y',\n",
              "       'Monto financiado', 'Verificado legalmente', 'Estado',\n",
              "       'Verificado por riesgo', 'Habilitada cesión externa',\n",
              "       'Disponible a fondo', 'Ha operado', 'Tasa preferencial', 'SII',\n",
              "       'Última liquidación', 'Teléfono', 'Correo', 'Facturadores',\n",
              "       'cliente_fugado', 'Clasificacion', 'Año'], dtype=object)"
            ]
          },
          "metadata": {},
          "execution_count": 43
        }
      ]
    },
    {
      "cell_type": "code",
      "source": [
        "df_algoritmo=dfcli[['monto_facturado',\n",
        "'Cant_doc',\n",
        "'Monto_financiado',\n",
        "'Cant_op',\n",
        "'prom_tasa',\n",
        "'Verificado por riesgo',\n",
        "'Verificado legalmente']]\n",
        "y=dfcli[['cliente_fugado']]\n",
        "\n",
        "print(df_algoritmo.columns.values)\n",
        "print(\"\\n\", y.columns.values)"
      ],
      "metadata": {
        "id": "sP9HiP3XXWD_",
        "outputId": "97376930-ba9e-4f12-f793-5f74607aa18c",
        "colab": {
          "base_uri": "https://localhost:8080/"
        }
      },
      "execution_count": null,
      "outputs": [
        {
          "output_type": "stream",
          "name": "stdout",
          "text": [
            "['monto_facturado' 'Cant_doc' 'Monto_financiado' 'Cant_op' 'prom_tasa'\n",
            " 'Verificado por riesgo' 'Verificado legalmente']\n",
            "\n",
            " ['cliente_fugado']\n"
          ]
        }
      ]
    },
    {
      "cell_type": "code",
      "source": [
        "df_algoritmo_dummy = pd.get_dummies(df_algoritmo, drop_first=True)\n",
        "x=pd.get_dummies(df_algoritmo, drop_first=True) ## Drop Frist, no tiene en cuenta la primera categoria. \n",
        "df_algoritmo_dummy"
      ],
      "metadata": {
        "id": "5JVLv5PLZZ7h",
        "outputId": "f1c8bee4-1f96-4cdc-9fb9-2f22e7d9d870",
        "colab": {
          "base_uri": "https://localhost:8080/",
          "height": 424
        }
      },
      "execution_count": null,
      "outputs": [
        {
          "output_type": "execute_result",
          "data": {
            "text/plain": [
              "       monto_facturado  Cant_doc  Monto_financiado  Cant_op  prom_tasa  \\\n",
              "0           45406533.0         4        22276899.0        1        1.6   \n",
              "1            1130500.0         1         1107890.0        1        1.6   \n",
              "2            1130500.0         1         1107890.0        1        1.6   \n",
              "3             773500.0         1         1107890.0        1        1.6   \n",
              "4            2780685.0         3         1107890.0        1        1.6   \n",
              "...                ...       ...               ...      ...        ...   \n",
              "64989        6828843.0         6         6828843.0        1        3.0   \n",
              "64990      231010849.0        26        62572722.0        1        0.0   \n",
              "64991      116298736.0        27        62572722.0        1        0.0   \n",
              "64992      113267916.0        25        28788530.0        1        2.4   \n",
              "64993       28788530.0         6        28788530.0        1        2.4   \n",
              "\n",
              "       Verificado por riesgo_Verificado  Verificado legalmente_Verificado  \n",
              "0                                     1                                 1  \n",
              "1                                     1                                 1  \n",
              "2                                     1                                 1  \n",
              "3                                     1                                 1  \n",
              "4                                     1                                 1  \n",
              "...                                 ...                               ...  \n",
              "64989                                 0                                 0  \n",
              "64990                                 0                                 0  \n",
              "64991                                 0                                 0  \n",
              "64992                                 0                                 0  \n",
              "64993                                 0                                 0  \n",
              "\n",
              "[64994 rows x 7 columns]"
            ],
            "text/html": [
              "\n",
              "  <div id=\"df-7b3e04f7-817c-4765-a710-5b0fcce933b5\">\n",
              "    <div class=\"colab-df-container\">\n",
              "      <div>\n",
              "<style scoped>\n",
              "    .dataframe tbody tr th:only-of-type {\n",
              "        vertical-align: middle;\n",
              "    }\n",
              "\n",
              "    .dataframe tbody tr th {\n",
              "        vertical-align: top;\n",
              "    }\n",
              "\n",
              "    .dataframe thead th {\n",
              "        text-align: right;\n",
              "    }\n",
              "</style>\n",
              "<table border=\"1\" class=\"dataframe\">\n",
              "  <thead>\n",
              "    <tr style=\"text-align: right;\">\n",
              "      <th></th>\n",
              "      <th>monto_facturado</th>\n",
              "      <th>Cant_doc</th>\n",
              "      <th>Monto_financiado</th>\n",
              "      <th>Cant_op</th>\n",
              "      <th>prom_tasa</th>\n",
              "      <th>Verificado por riesgo_Verificado</th>\n",
              "      <th>Verificado legalmente_Verificado</th>\n",
              "    </tr>\n",
              "  </thead>\n",
              "  <tbody>\n",
              "    <tr>\n",
              "      <th>0</th>\n",
              "      <td>45406533.0</td>\n",
              "      <td>4</td>\n",
              "      <td>22276899.0</td>\n",
              "      <td>1</td>\n",
              "      <td>1.6</td>\n",
              "      <td>1</td>\n",
              "      <td>1</td>\n",
              "    </tr>\n",
              "    <tr>\n",
              "      <th>1</th>\n",
              "      <td>1130500.0</td>\n",
              "      <td>1</td>\n",
              "      <td>1107890.0</td>\n",
              "      <td>1</td>\n",
              "      <td>1.6</td>\n",
              "      <td>1</td>\n",
              "      <td>1</td>\n",
              "    </tr>\n",
              "    <tr>\n",
              "      <th>2</th>\n",
              "      <td>1130500.0</td>\n",
              "      <td>1</td>\n",
              "      <td>1107890.0</td>\n",
              "      <td>1</td>\n",
              "      <td>1.6</td>\n",
              "      <td>1</td>\n",
              "      <td>1</td>\n",
              "    </tr>\n",
              "    <tr>\n",
              "      <th>3</th>\n",
              "      <td>773500.0</td>\n",
              "      <td>1</td>\n",
              "      <td>1107890.0</td>\n",
              "      <td>1</td>\n",
              "      <td>1.6</td>\n",
              "      <td>1</td>\n",
              "      <td>1</td>\n",
              "    </tr>\n",
              "    <tr>\n",
              "      <th>4</th>\n",
              "      <td>2780685.0</td>\n",
              "      <td>3</td>\n",
              "      <td>1107890.0</td>\n",
              "      <td>1</td>\n",
              "      <td>1.6</td>\n",
              "      <td>1</td>\n",
              "      <td>1</td>\n",
              "    </tr>\n",
              "    <tr>\n",
              "      <th>...</th>\n",
              "      <td>...</td>\n",
              "      <td>...</td>\n",
              "      <td>...</td>\n",
              "      <td>...</td>\n",
              "      <td>...</td>\n",
              "      <td>...</td>\n",
              "      <td>...</td>\n",
              "    </tr>\n",
              "    <tr>\n",
              "      <th>64989</th>\n",
              "      <td>6828843.0</td>\n",
              "      <td>6</td>\n",
              "      <td>6828843.0</td>\n",
              "      <td>1</td>\n",
              "      <td>3.0</td>\n",
              "      <td>0</td>\n",
              "      <td>0</td>\n",
              "    </tr>\n",
              "    <tr>\n",
              "      <th>64990</th>\n",
              "      <td>231010849.0</td>\n",
              "      <td>26</td>\n",
              "      <td>62572722.0</td>\n",
              "      <td>1</td>\n",
              "      <td>0.0</td>\n",
              "      <td>0</td>\n",
              "      <td>0</td>\n",
              "    </tr>\n",
              "    <tr>\n",
              "      <th>64991</th>\n",
              "      <td>116298736.0</td>\n",
              "      <td>27</td>\n",
              "      <td>62572722.0</td>\n",
              "      <td>1</td>\n",
              "      <td>0.0</td>\n",
              "      <td>0</td>\n",
              "      <td>0</td>\n",
              "    </tr>\n",
              "    <tr>\n",
              "      <th>64992</th>\n",
              "      <td>113267916.0</td>\n",
              "      <td>25</td>\n",
              "      <td>28788530.0</td>\n",
              "      <td>1</td>\n",
              "      <td>2.4</td>\n",
              "      <td>0</td>\n",
              "      <td>0</td>\n",
              "    </tr>\n",
              "    <tr>\n",
              "      <th>64993</th>\n",
              "      <td>28788530.0</td>\n",
              "      <td>6</td>\n",
              "      <td>28788530.0</td>\n",
              "      <td>1</td>\n",
              "      <td>2.4</td>\n",
              "      <td>0</td>\n",
              "      <td>0</td>\n",
              "    </tr>\n",
              "  </tbody>\n",
              "</table>\n",
              "<p>64994 rows × 7 columns</p>\n",
              "</div>\n",
              "      <button class=\"colab-df-convert\" onclick=\"convertToInteractive('df-7b3e04f7-817c-4765-a710-5b0fcce933b5')\"\n",
              "              title=\"Convert this dataframe to an interactive table.\"\n",
              "              style=\"display:none;\">\n",
              "        \n",
              "  <svg xmlns=\"http://www.w3.org/2000/svg\" height=\"24px\"viewBox=\"0 0 24 24\"\n",
              "       width=\"24px\">\n",
              "    <path d=\"M0 0h24v24H0V0z\" fill=\"none\"/>\n",
              "    <path d=\"M18.56 5.44l.94 2.06.94-2.06 2.06-.94-2.06-.94-.94-2.06-.94 2.06-2.06.94zm-11 1L8.5 8.5l.94-2.06 2.06-.94-2.06-.94L8.5 2.5l-.94 2.06-2.06.94zm10 10l.94 2.06.94-2.06 2.06-.94-2.06-.94-.94-2.06-.94 2.06-2.06.94z\"/><path d=\"M17.41 7.96l-1.37-1.37c-.4-.4-.92-.59-1.43-.59-.52 0-1.04.2-1.43.59L10.3 9.45l-7.72 7.72c-.78.78-.78 2.05 0 2.83L4 21.41c.39.39.9.59 1.41.59.51 0 1.02-.2 1.41-.59l7.78-7.78 2.81-2.81c.8-.78.8-2.07 0-2.86zM5.41 20L4 18.59l7.72-7.72 1.47 1.35L5.41 20z\"/>\n",
              "  </svg>\n",
              "      </button>\n",
              "      \n",
              "  <style>\n",
              "    .colab-df-container {\n",
              "      display:flex;\n",
              "      flex-wrap:wrap;\n",
              "      gap: 12px;\n",
              "    }\n",
              "\n",
              "    .colab-df-convert {\n",
              "      background-color: #E8F0FE;\n",
              "      border: none;\n",
              "      border-radius: 50%;\n",
              "      cursor: pointer;\n",
              "      display: none;\n",
              "      fill: #1967D2;\n",
              "      height: 32px;\n",
              "      padding: 0 0 0 0;\n",
              "      width: 32px;\n",
              "    }\n",
              "\n",
              "    .colab-df-convert:hover {\n",
              "      background-color: #E2EBFA;\n",
              "      box-shadow: 0px 1px 2px rgba(60, 64, 67, 0.3), 0px 1px 3px 1px rgba(60, 64, 67, 0.15);\n",
              "      fill: #174EA6;\n",
              "    }\n",
              "\n",
              "    [theme=dark] .colab-df-convert {\n",
              "      background-color: #3B4455;\n",
              "      fill: #D2E3FC;\n",
              "    }\n",
              "\n",
              "    [theme=dark] .colab-df-convert:hover {\n",
              "      background-color: #434B5C;\n",
              "      box-shadow: 0px 1px 3px 1px rgba(0, 0, 0, 0.15);\n",
              "      filter: drop-shadow(0px 1px 2px rgba(0, 0, 0, 0.3));\n",
              "      fill: #FFFFFF;\n",
              "    }\n",
              "  </style>\n",
              "\n",
              "      <script>\n",
              "        const buttonEl =\n",
              "          document.querySelector('#df-7b3e04f7-817c-4765-a710-5b0fcce933b5 button.colab-df-convert');\n",
              "        buttonEl.style.display =\n",
              "          google.colab.kernel.accessAllowed ? 'block' : 'none';\n",
              "\n",
              "        async function convertToInteractive(key) {\n",
              "          const element = document.querySelector('#df-7b3e04f7-817c-4765-a710-5b0fcce933b5');\n",
              "          const dataTable =\n",
              "            await google.colab.kernel.invokeFunction('convertToInteractive',\n",
              "                                                     [key], {});\n",
              "          if (!dataTable) return;\n",
              "\n",
              "          const docLinkHtml = 'Like what you see? Visit the ' +\n",
              "            '<a target=\"_blank\" href=https://colab.research.google.com/notebooks/data_table.ipynb>data table notebook</a>'\n",
              "            + ' to learn more about interactive tables.';\n",
              "          element.innerHTML = '';\n",
              "          dataTable['output_type'] = 'display_data';\n",
              "          await google.colab.output.renderOutput(dataTable, element);\n",
              "          const docLink = document.createElement('div');\n",
              "          docLink.innerHTML = docLinkHtml;\n",
              "          element.appendChild(docLink);\n",
              "        }\n",
              "      </script>\n",
              "    </div>\n",
              "  </div>\n",
              "  "
            ]
          },
          "metadata": {},
          "execution_count": 45
        }
      ]
    },
    {
      "cell_type": "code",
      "source": [
        "from sklearn.model_selection import train_test_split #Importamos la libreria para separar en train y test\n",
        "#Me quedo con 20% para test y 80% para train\n",
        "X_train, X_test, y_train, y_test = train_test_split(x, y, test_size=0.20, random_state=42) "
      ],
      "metadata": {
        "id": "KxBnj3uafzAJ"
      },
      "execution_count": null,
      "outputs": []
    },
    {
      "cell_type": "code",
      "source": [
        "from sklearn.tree import DecisionTreeClassifier #Importamos el modelo\n",
        "modelo1 = DecisionTreeClassifier(max_depth=8, random_state = 42,criterion='gini') #Creamos el modelo"
      ],
      "metadata": {
        "id": "Ce82OJiRgFNg"
      },
      "execution_count": null,
      "outputs": []
    },
    {
      "cell_type": "code",
      "source": [
        "#Entrenamos el modelo\n",
        "modelo1.fit(X_train,y_train) #Entrenamos el modelo"
      ],
      "metadata": {
        "id": "pn5ko26KgLiG",
        "colab": {
          "base_uri": "https://localhost:8080/"
        },
        "outputId": "04fd7692-e2f9-41ba-9b52-debbee66abe3"
      },
      "execution_count": null,
      "outputs": [
        {
          "output_type": "execute_result",
          "data": {
            "text/plain": [
              "DecisionTreeClassifier(max_depth=8, random_state=42)"
            ]
          },
          "metadata": {},
          "execution_count": 48
        }
      ]
    },
    {
      "cell_type": "code",
      "source": [
        "y_test_pred = modelo1.predict(X_test) #Prediccion en Test"
      ],
      "metadata": {
        "id": "F5sVAtTcgYI1"
      },
      "execution_count": null,
      "outputs": []
    },
    {
      "cell_type": "code",
      "source": [
        "from sklearn.metrics import accuracy_score\n",
        "\n",
        "#Calculo el accuracy en Test\n",
        "test_accuracy = accuracy_score(y_test, y_test_pred)\n",
        "\n",
        "print('% de aciertos sobre el set de evaluación en modelo de arbol de decision:',test_accuracy)"
      ],
      "metadata": {
        "id": "h952ufoKgrYG",
        "colab": {
          "base_uri": "https://localhost:8080/"
        },
        "outputId": "f7850332-c088-4250-8aa3-83db26f619fb"
      },
      "execution_count": null,
      "outputs": [
        {
          "output_type": "stream",
          "name": "stdout",
          "text": [
            "% de aciertos sobre el set de evaluación en modelo de arbol de decision: 0.6808985306562043\n"
          ]
        }
      ]
    },
    {
      "cell_type": "code",
      "source": [
        "from sklearn.metrics import confusion_matrix\n",
        "import matplotlib.pyplot as plt\n",
        "from sklearn.metrics import plot_confusion_matrix\n",
        "print('Matriz de Confusión Arbol de desicion:')\n",
        "print(\"\\n\")\n",
        "plot_confusion_matrix(modelo1, X_test, y_test)\n",
        "plt.show()"
      ],
      "metadata": {
        "id": "9xks9jZW0SDT",
        "colab": {
          "base_uri": "https://localhost:8080/",
          "height": 386
        },
        "outputId": "6762122f-5c84-4530-ed43-2b4bb5ce9190"
      },
      "execution_count": null,
      "outputs": [
        {
          "output_type": "stream",
          "name": "stdout",
          "text": [
            "Matriz de Confusión Arbol de desicion:\n",
            "\n",
            "\n"
          ]
        },
        {
          "output_type": "stream",
          "name": "stderr",
          "text": [
            "/usr/local/lib/python3.7/dist-packages/sklearn/utils/deprecation.py:87: FutureWarning: Function plot_confusion_matrix is deprecated; Function `plot_confusion_matrix` is deprecated in 1.0 and will be removed in 1.2. Use one of the class methods: ConfusionMatrixDisplay.from_predictions or ConfusionMatrixDisplay.from_estimator.\n",
            "  warnings.warn(msg, category=FutureWarning)\n"
          ]
        },
        {
          "output_type": "display_data",
          "data": {
            "text/plain": [
              "<Figure size 432x288 with 2 Axes>"
            ],
            "image/png": "[encoded data removed]"
          },
          "metadata": {
            "needs_background": "light"
          }
        }
      ]
    },
    {
      "cell_type": "code",
      "source": [
        "from sklearn.metrics import precision_score\n",
        "\n",
        "precision=precision_score(y_test, y_test_pred)\n",
        "\n",
        "# Precision!\n",
        "print(\"Precisión de Árbol de decisión:\",precision)"
      ],
      "metadata": {
        "colab": {
          "base_uri": "https://localhost:8080/"
        },
        "id": "mV-ZNlIaBYau",
        "outputId": "94ed79ed-d4af-49ab-9189-261e3828e044"
      },
      "execution_count": null,
      "outputs": [
        {
          "output_type": "stream",
          "name": "stdout",
          "text": [
            "Precisión de Árbol de decisión: 0.676797561412946\n"
          ]
        }
      ]
    },
    {
      "cell_type": "code",
      "source": [
        "from sklearn.metrics import f1_score\n",
        "\n",
        "# Calculo del F1 score\n",
        "print(f\"F1 de Árbol de decisión: {f1_score(y_test, y_test_pred)}\")"
      ],
      "metadata": {
        "colab": {
          "base_uri": "https://localhost:8080/"
        },
        "id": "IduFTKysEpzT",
        "outputId": "ec1266e6-bd2a-43a7-a92f-852518435180"
      },
      "execution_count": null,
      "outputs": [
        {
          "output_type": "stream",
          "name": "stdout",
          "text": [
            "F1 de Árbol de decisión: 0.7844746960407357\n"
          ]
        }
      ]
    },
    {
      "cell_type": "code",
      "source": [
        "from sklearn.metrics import recall_score\n",
        "\n",
        "# Recall\n",
        "print(f\"Recall de Árbol de decisión: {recall_score(y_test, y_test_pred)}\")"
      ],
      "metadata": {
        "colab": {
          "base_uri": "https://localhost:8080/"
        },
        "id": "eWpWA5McCvnp",
        "outputId": "0b1eb6ec-d993-4269-f7de-c25da2d7235e"
      },
      "execution_count": null,
      "outputs": [
        {
          "output_type": "stream",
          "name": "stdout",
          "text": [
            "Recall de Árbol de decisión: 0.9328966880869995\n"
          ]
        }
      ]
    },
    {
      "cell_type": "code",
      "source": [
        "from sklearn.metrics import classification_report\n",
        "print(classification_report(y_pred=y_test_pred,y_true=y_test))"
      ],
      "metadata": {
        "id": "qpGhRDr-g9h9",
        "colab": {
          "base_uri": "https://localhost:8080/"
        },
        "outputId": "7288d47e-6432-4e2f-a827-970dd2eb877d"
      },
      "execution_count": null,
      "outputs": [
        {
          "output_type": "stream",
          "name": "stdout",
          "text": [
            "              precision    recall  f1-score   support\n",
            "\n",
            "           0       0.71      0.27      0.39      4907\n",
            "           1       0.68      0.93      0.78      8092\n",
            "\n",
            "    accuracy                           0.68     12999\n",
            "   macro avg       0.69      0.60      0.59     12999\n",
            "weighted avg       0.69      0.68      0.63     12999\n",
            "\n"
          ]
        }
      ]
    },
    {
      "cell_type": "code",
      "source": [
        "plt.figure(figsize=(15,5))\n",
        "importances = modelo1.feature_importances_\n",
        "columns = x.columns\n",
        "sns.barplot(columns, importances)\n",
        "plt.title('Importancia de cada Variable en arbol de decisión')\n",
        "plt.show()"
      ],
      "metadata": {
        "colab": {
          "base_uri": "https://localhost:8080/",
          "height": 392
        },
        "id": "PZw7xspmO9ZJ",
        "outputId": "9946799c-a7f0-499e-d093-26085bffca52"
      },
      "execution_count": null,
      "outputs": [
        {
          "output_type": "stream",
          "name": "stderr",
          "text": [
            "/usr/local/lib/python3.7/dist-packages/seaborn/_decorators.py:43: FutureWarning: Pass the following variables as keyword args: x, y. From version 0.12, the only valid positional argument will be `data`, and passing other arguments without an explicit keyword will result in an error or misinterpretation.\n",
            "  FutureWarning\n"
          ]
        },
        {
          "output_type": "display_data",
          "data": {
            "text/plain": [
              "<Figure size 1080x360 with 1 Axes>"
            ],
            "image/png": "[encoded data removed]"
          },
          "metadata": {
            "needs_background": "light"
          }
        }
      ]
    },
    {
      "cell_type": "markdown",
      "source": [
        "## Regresión logistica"
      ],
      "metadata": {
        "id": "ciX_BQddugtL"
      }
    },
    {
      "cell_type": "code",
      "source": [
        "from sklearn.linear_model import LogisticRegression\n",
        "regresion_logistica=LogisticRegression()"
      ],
      "metadata": {
        "id": "1J8Mx5bpuHRp"
      },
      "execution_count": null,
      "outputs": []
    },
    {
      "cell_type": "code",
      "source": [
        "x=pd.get_dummies(df_algoritmo, drop_first=True)\n",
        "y=dfcli[['cliente_fugado']]"
      ],
      "metadata": {
        "id": "okT2-CuqvJ8L"
      },
      "execution_count": null,
      "outputs": []
    },
    {
      "cell_type": "code",
      "source": [
        "from sklearn.model_selection import train_test_split\n",
        "X_train, X_test, y_train, y_test = train_test_split(x, y, test_size=0.2, random_state=40)"
      ],
      "metadata": {
        "id": "Hf-86zkavQQr"
      },
      "execution_count": null,
      "outputs": []
    },
    {
      "cell_type": "code",
      "source": [
        "#Entrenamiento del modelo\n",
        "from sklearn.linear_model import LinearRegression\n",
        "regressor = LogisticRegression()\n",
        "regressor.fit(x,y)"
      ],
      "metadata": {
        "colab": {
          "base_uri": "https://localhost:8080/"
        },
        "id": "aN52vkXjwTX_",
        "outputId": "5676bb9e-570a-40c6-c61d-52c1ca8314f0"
      },
      "execution_count": null,
      "outputs": [
        {
          "output_type": "stream",
          "name": "stderr",
          "text": [
            "/usr/local/lib/python3.7/dist-packages/sklearn/utils/validation.py:993: DataConversionWarning: A column-vector y was passed when a 1d array was expected. Please change the shape of y to (n_samples, ), for example using ravel().\n",
            "  y = column_or_1d(y, warn=True)\n"
          ]
        },
        {
          "output_type": "execute_result",
          "data": {
            "text/plain": [
              "LogisticRegression()"
            ]
          },
          "metadata": {},
          "execution_count": 60
        }
      ]
    },
    {
      "cell_type": "code",
      "source": [
        "prediccion=regressor.predict(x)\n",
        "print(prediccion)"
      ],
      "metadata": {
        "colab": {
          "base_uri": "https://localhost:8080/"
        },
        "id": "ea8JE3G91u49",
        "outputId": "8064082f-aa15-4d29-de5c-86238a3ec03c"
      },
      "execution_count": null,
      "outputs": [
        {
          "output_type": "stream",
          "name": "stdout",
          "text": [
            "[1 1 1 ... 1 1 1]\n"
          ]
        }
      ]
    },
    {
      "cell_type": "code",
      "source": [
        "x[\"y\"]=y\n",
        "X_prob=x\n",
        "X_prob[\"y_pred\"]=prediccion\n",
        "X_prob"
      ],
      "metadata": {
        "colab": {
          "base_uri": "https://localhost:8080/",
          "height": 424
        },
        "id": "l3IhgAsO15VL",
        "outputId": "51b4a980-315c-4dd3-eef0-bb8291f39e33"
      },
      "execution_count": null,
      "outputs": [
        {
          "output_type": "execute_result",
          "data": {
            "text/plain": [
              "       monto_facturado  Cant_doc  Monto_financiado  Cant_op  prom_tasa  \\\n",
              "0           45406533.0         4        22276899.0        1        1.6   \n",
              "1            1130500.0         1         1107890.0        1        1.6   \n",
              "2            1130500.0         1         1107890.0        1        1.6   \n",
              "3             773500.0         1         1107890.0        1        1.6   \n",
              "4            2780685.0         3         1107890.0        1        1.6   \n",
              "...                ...       ...               ...      ...        ...   \n",
              "64989        6828843.0         6         6828843.0        1        3.0   \n",
              "64990      231010849.0        26        62572722.0        1        0.0   \n",
              "64991      116298736.0        27        62572722.0        1        0.0   \n",
              "64992      113267916.0        25        28788530.0        1        2.4   \n",
              "64993       28788530.0         6        28788530.0        1        2.4   \n",
              "\n",
              "       Verificado por riesgo_Verificado  Verificado legalmente_Verificado  y  \\\n",
              "0                                     1                                 1  1   \n",
              "1                                     1                                 1  0   \n",
              "2                                     1                                 1  0   \n",
              "3                                     1                                 1  0   \n",
              "4                                     1                                 1  0   \n",
              "...                                 ...                               ... ..   \n",
              "64989                                 0                                 0  1   \n",
              "64990                                 0                                 0  1   \n",
              "64991                                 0                                 0  1   \n",
              "64992                                 0                                 0  1   \n",
              "64993                                 0                                 0  1   \n",
              "\n",
              "       y_pred  \n",
              "0           1  \n",
              "1           1  \n",
              "2           1  \n",
              "3           1  \n",
              "4           1  \n",
              "...       ...  \n",
              "64989       1  \n",
              "64990       1  \n",
              "64991       1  \n",
              "64992       1  \n",
              "64993       1  \n",
              "\n",
              "[64994 rows x 9 columns]"
            ],
            "text/html": [
              "\n",
              "  <div id=\"df-4c0d4b9e-21c9-4807-b7b5-170b7a72cb74\">\n",
              "    <div class=\"colab-df-container\">\n",
              "      <div>\n",
              "<style scoped>\n",
              "    .dataframe tbody tr th:only-of-type {\n",
              "        vertical-align: middle;\n",
              "    }\n",
              "\n",
              "    .dataframe tbody tr th {\n",
              "        vertical-align: top;\n",
              "    }\n",
              "\n",
              "    .dataframe thead th {\n",
              "        text-align: right;\n",
              "    }\n",
              "</style>\n",
              "<table border=\"1\" class=\"dataframe\">\n",
              "  <thead>\n",
              "    <tr style=\"text-align: right;\">\n",
              "      <th></th>\n",
              "      <th>monto_facturado</th>\n",
              "      <th>Cant_doc</th>\n",
              "      <th>Monto_financiado</th>\n",
              "      <th>Cant_op</th>\n",
              "      <th>prom_tasa</th>\n",
              "      <th>Verificado por riesgo_Verificado</th>\n",
              "      <th>Verificado legalmente_Verificado</th>\n",
              "      <th>y</th>\n",
              "      <th>y_pred</th>\n",
              "    </tr>\n",
              "  </thead>\n",
              "  <tbody>\n",
              "    <tr>\n",
              "      <th>0</th>\n",
              "      <td>45406533.0</td>\n",
              "      <td>4</td>\n",
              "      <td>22276899.0</td>\n",
              "      <td>1</td>\n",
              "      <td>1.6</td>\n",
              "      <td>1</td>\n",
              "      <td>1</td>\n",
              "      <td>1</td>\n",
              "      <td>1</td>\n",
              "    </tr>\n",
              "    <tr>\n",
              "      <th>1</th>\n",
              "      <td>1130500.0</td>\n",
              "      <td>1</td>\n",
              "      <td>1107890.0</td>\n",
              "      <td>1</td>\n",
              "      <td>1.6</td>\n",
              "      <td>1</td>\n",
              "      <td>1</td>\n",
              "      <td>0</td>\n",
              "      <td>1</td>\n",
              "    </tr>\n",
              "    <tr>\n",
              "      <th>2</th>\n",
              "      <td>1130500.0</td>\n",
              "      <td>1</td>\n",
              "      <td>1107890.0</td>\n",
              "      <td>1</td>\n",
              "      <td>1.6</td>\n",
              "      <td>1</td>\n",
              "      <td>1</td>\n",
              "      <td>0</td>\n",
              "      <td>1</td>\n",
              "    </tr>\n",
              "    <tr>\n",
              "      <th>3</th>\n",
              "      <td>773500.0</td>\n",
              "      <td>1</td>\n",
              "      <td>1107890.0</td>\n",
              "      <td>1</td>\n",
              "      <td>1.6</td>\n",
              "      <td>1</td>\n",
              "      <td>1</td>\n",
              "      <td>0</td>\n",
              "      <td>1</td>\n",
              "    </tr>\n",
              "    <tr>\n",
              "      <th>4</th>\n",
              "      <td>2780685.0</td>\n",
              "      <td>3</td>\n",
              "      <td>1107890.0</td>\n",
              "      <td>1</td>\n",
              "      <td>1.6</td>\n",
              "      <td>1</td>\n",
              "      <td>1</td>\n",
              "      <td>0</td>\n",
              "      <td>1</td>\n",
              "    </tr>\n",
              "    <tr>\n",
              "      <th>...</th>\n",
              "      <td>...</td>\n",
              "      <td>...</td>\n",
              "      <td>...</td>\n",
              "      <td>...</td>\n",
              "      <td>...</td>\n",
              "      <td>...</td>\n",
              "      <td>...</td>\n",
              "      <td>...</td>\n",
              "      <td>...</td>\n",
              "    </tr>\n",
              "    <tr>\n",
              "      <th>64989</th>\n",
              "      <td>6828843.0</td>\n",
              "      <td>6</td>\n",
              "      <td>6828843.0</td>\n",
              "      <td>1</td>\n",
              "      <td>3.0</td>\n",
              "      <td>0</td>\n",
              "      <td>0</td>\n",
              "      <td>1</td>\n",
              "      <td>1</td>\n",
              "    </tr>\n",
              "    <tr>\n",
              "      <th>64990</th>\n",
              "      <td>231010849.0</td>\n",
              "      <td>26</td>\n",
              "      <td>62572722.0</td>\n",
              "      <td>1</td>\n",
              "      <td>0.0</td>\n",
              "      <td>0</td>\n",
              "      <td>0</td>\n",
              "      <td>1</td>\n",
              "      <td>1</td>\n",
              "    </tr>\n",
              "    <tr>\n",
              "      <th>64991</th>\n",
              "      <td>116298736.0</td>\n",
              "      <td>27</td>\n",
              "      <td>62572722.0</td>\n",
              "      <td>1</td>\n",
              "      <td>0.0</td>\n",
              "      <td>0</td>\n",
              "      <td>0</td>\n",
              "      <td>1</td>\n",
              "      <td>1</td>\n",
              "    </tr>\n",
              "    <tr>\n",
              "      <th>64992</th>\n",
              "      <td>113267916.0</td>\n",
              "      <td>25</td>\n",
              "      <td>28788530.0</td>\n",
              "      <td>1</td>\n",
              "      <td>2.4</td>\n",
              "      <td>0</td>\n",
              "      <td>0</td>\n",
              "      <td>1</td>\n",
              "      <td>1</td>\n",
              "    </tr>\n",
              "    <tr>\n",
              "      <th>64993</th>\n",
              "      <td>28788530.0</td>\n",
              "      <td>6</td>\n",
              "      <td>28788530.0</td>\n",
              "      <td>1</td>\n",
              "      <td>2.4</td>\n",
              "      <td>0</td>\n",
              "      <td>0</td>\n",
              "      <td>1</td>\n",
              "      <td>1</td>\n",
              "    </tr>\n",
              "  </tbody>\n",
              "</table>\n",
              "<p>64994 rows × 9 columns</p>\n",
              "</div>\n",
              "      <button class=\"colab-df-convert\" onclick=\"convertToInteractive('df-4c0d4b9e-21c9-4807-b7b5-170b7a72cb74')\"\n",
              "              title=\"Convert this dataframe to an interactive table.\"\n",
              "              style=\"display:none;\">\n",
              "        \n",
              "  <svg xmlns=\"http://www.w3.org/2000/svg\" height=\"24px\"viewBox=\"0 0 24 24\"\n",
              "       width=\"24px\">\n",
              "    <path d=\"M0 0h24v24H0V0z\" fill=\"none\"/>\n",
              "    <path d=\"M18.56 5.44l.94 2.06.94-2.06 2.06-.94-2.06-.94-.94-2.06-.94 2.06-2.06.94zm-11 1L8.5 8.5l.94-2.06 2.06-.94-2.06-.94L8.5 2.5l-.94 2.06-2.06.94zm10 10l.94 2.06.94-2.06 2.06-.94-2.06-.94-.94-2.06-.94 2.06-2.06.94z\"/><path d=\"M17.41 7.96l-1.37-1.37c-.4-.4-.92-.59-1.43-.59-.52 0-1.04.2-1.43.59L10.3 9.45l-7.72 7.72c-.78.78-.78 2.05 0 2.83L4 21.41c.39.39.9.59 1.41.59.51 0 1.02-.2 1.41-.59l7.78-7.78 2.81-2.81c.8-.78.8-2.07 0-2.86zM5.41 20L4 18.59l7.72-7.72 1.47 1.35L5.41 20z\"/>\n",
              "  </svg>\n",
              "      </button>\n",
              "      \n",
              "  <style>\n",
              "    .colab-df-container {\n",
              "      display:flex;\n",
              "      flex-wrap:wrap;\n",
              "      gap: 12px;\n",
              "    }\n",
              "\n",
              "    .colab-df-convert {\n",
              "      background-color: #E8F0FE;\n",
              "      border: none;\n",
              "      border-radius: 50%;\n",
              "      cursor: pointer;\n",
              "      display: none;\n",
              "      fill: #1967D2;\n",
              "      height: 32px;\n",
              "      padding: 0 0 0 0;\n",
              "      width: 32px;\n",
              "    }\n",
              "\n",
              "    .colab-df-convert:hover {\n",
              "      background-color: #E2EBFA;\n",
              "      box-shadow: 0px 1px 2px rgba(60, 64, 67, 0.3), 0px 1px 3px 1px rgba(60, 64, 67, 0.15);\n",
              "      fill: #174EA6;\n",
              "    }\n",
              "\n",
              "    [theme=dark] .colab-df-convert {\n",
              "      background-color: #3B4455;\n",
              "      fill: #D2E3FC;\n",
              "    }\n",
              "\n",
              "    [theme=dark] .colab-df-convert:hover {\n",
              "      background-color: #434B5C;\n",
              "      box-shadow: 0px 1px 3px 1px rgba(0, 0, 0, 0.15);\n",
              "      filter: drop-shadow(0px 1px 2px rgba(0, 0, 0, 0.3));\n",
              "      fill: #FFFFFF;\n",
              "    }\n",
              "  </style>\n",
              "\n",
              "      <script>\n",
              "        const buttonEl =\n",
              "          document.querySelector('#df-4c0d4b9e-21c9-4807-b7b5-170b7a72cb74 button.colab-df-convert');\n",
              "        buttonEl.style.display =\n",
              "          google.colab.kernel.accessAllowed ? 'block' : 'none';\n",
              "\n",
              "        async function convertToInteractive(key) {\n",
              "          const element = document.querySelector('#df-4c0d4b9e-21c9-4807-b7b5-170b7a72cb74');\n",
              "          const dataTable =\n",
              "            await google.colab.kernel.invokeFunction('convertToInteractive',\n",
              "                                                     [key], {});\n",
              "          if (!dataTable) return;\n",
              "\n",
              "          const docLinkHtml = 'Like what you see? Visit the ' +\n",
              "            '<a target=\"_blank\" href=https://colab.research.google.com/notebooks/data_table.ipynb>data table notebook</a>'\n",
              "            + ' to learn more about interactive tables.';\n",
              "          element.innerHTML = '';\n",
              "          dataTable['output_type'] = 'display_data';\n",
              "          await google.colab.output.renderOutput(dataTable, element);\n",
              "          const docLink = document.createElement('div');\n",
              "          docLink.innerHTML = docLinkHtml;\n",
              "          element.appendChild(docLink);\n",
              "        }\n",
              "      </script>\n",
              "    </div>\n",
              "  </div>\n",
              "  "
            ]
          },
          "metadata": {},
          "execution_count": 62
        }
      ]
    },
    {
      "cell_type": "code",
      "source": [
        "from sklearn.metrics import confusion_matrix\n",
        "matriz=confusion_matrix( X_prob[\"y_pred\"],X_prob[\"y\"])\n",
        "\n",
        "print('Matriz de Confusión regresión:')\n",
        "print(matriz)\n"
      ],
      "metadata": {
        "colab": {
          "base_uri": "https://localhost:8080/"
        },
        "id": "3UsoGp_-83VG",
        "outputId": "415a298b-605f-435f-911a-e5ed02bac200"
      },
      "execution_count": null,
      "outputs": [
        {
          "output_type": "stream",
          "name": "stdout",
          "text": [
            "Matriz de Confusión regresión:\n",
            "[[    0     0]\n",
            " [24669 40325]]\n"
          ]
        }
      ]
    },
    {
      "cell_type": "code",
      "source": [
        "#Calculo el accuracy en Test del regresion\n",
        "test_accuracy = accuracy_score(X_prob[\"y\"], X_prob[\"y_pred\"])\n",
        "\n",
        "print('% de aciertos sobre el set de evaluación en la regresioón:',test_accuracy)"
      ],
      "metadata": {
        "colab": {
          "base_uri": "https://localhost:8080/"
        },
        "id": "epWKywRO_Vmu",
        "outputId": "05c81f2e-16dd-4829-8a0c-ea0484adb314"
      },
      "execution_count": null,
      "outputs": [
        {
          "output_type": "stream",
          "name": "stdout",
          "text": [
            "% de aciertos sobre el set de evaluación en la regresioón: 0.6204418869434102\n"
          ]
        }
      ]
    },
    {
      "cell_type": "code",
      "source": [
        "from sklearn.metrics import classification_report\n",
        "print(classification_report(y_pred=X_prob[\"y_pred\"],y_true=X_prob[\"y\"]))"
      ],
      "metadata": {
        "colab": {
          "base_uri": "https://localhost:8080/"
        },
        "id": "vNXwtF1TuoD9",
        "outputId": "b809c96b-b880-4642-f503-53114202e5ad"
      },
      "execution_count": null,
      "outputs": [
        {
          "output_type": "stream",
          "name": "stdout",
          "text": [
            "              precision    recall  f1-score   support\n",
            "\n",
            "           0       0.00      0.00      0.00     24669\n",
            "           1       0.62      1.00      0.77     40325\n",
            "\n",
            "    accuracy                           0.62     64994\n",
            "   macro avg       0.31      0.50      0.38     64994\n",
            "weighted avg       0.38      0.62      0.48     64994\n",
            "\n"
          ]
        },
        {
          "output_type": "stream",
          "name": "stderr",
          "text": [
            "/usr/local/lib/python3.7/dist-packages/sklearn/metrics/_classification.py:1318: UndefinedMetricWarning: Precision and F-score are ill-defined and being set to 0.0 in labels with no predicted samples. Use `zero_division` parameter to control this behavior.\n",
            "  _warn_prf(average, modifier, msg_start, len(result))\n",
            "/usr/local/lib/python3.7/dist-packages/sklearn/metrics/_classification.py:1318: UndefinedMetricWarning: Precision and F-score are ill-defined and being set to 0.0 in labels with no predicted samples. Use `zero_division` parameter to control this behavior.\n",
            "  _warn_prf(average, modifier, msg_start, len(result))\n",
            "/usr/local/lib/python3.7/dist-packages/sklearn/metrics/_classification.py:1318: UndefinedMetricWarning: Precision and F-score are ill-defined and being set to 0.0 in labels with no predicted samples. Use `zero_division` parameter to control this behavior.\n",
            "  _warn_prf(average, modifier, msg_start, len(result))\n"
          ]
        }
      ]
    },
    {
      "cell_type": "code",
      "source": [
        "from sklearn import metrics\n",
        "import numpy as np\n",
        "\n",
        "print('Mean Absolute Error:', metrics.mean_absolute_error(X_prob[\"y\"], X_prob[\"y_pred\"])) # MAE\n",
        "print('Mean Squared Error:', metrics.mean_squared_error(X_prob[\"y\"], X_prob[\"y_pred\"])) # MSE\n",
        "print('Root Mean Squared Error:', np.sqrt(metrics.mean_squared_error(X_prob[\"y\"],  X_prob[\"y_pred\"]))) # RMSE\n"
      ],
      "metadata": {
        "colab": {
          "base_uri": "https://localhost:8080/"
        },
        "id": "zZJkLLwAvKKC",
        "outputId": "29114590-d57e-4d2b-a355-de3132e01bcf"
      },
      "execution_count": null,
      "outputs": [
        {
          "output_type": "stream",
          "name": "stdout",
          "text": [
            "Mean Absolute Error: 0.3795581130565898\n",
            "Mean Squared Error: 0.3795581130565898\n",
            "Root Mean Squared Error: 0.6160828783991564\n"
          ]
        }
      ]
    },
    {
      "cell_type": "code",
      "source": [
        "from sklearn.metrics import r2_score\n",
        "print('El r^2 es:',r2_score(X_prob[\"y_pred\"],X_prob[\"y\"]))"
      ],
      "metadata": {
        "colab": {
          "base_uri": "https://localhost:8080/"
        },
        "id": "QJ_tyVMK1DHy",
        "outputId": "186656a9-9f2e-436e-ba93-b991cdc6ec19"
      },
      "execution_count": null,
      "outputs": [
        {
          "output_type": "stream",
          "name": "stdout",
          "text": [
            "El r^2 es: 0.0\n"
          ]
        }
      ]
    },
    {
      "cell_type": "markdown",
      "source": [
        "## KNN"
      ],
      "metadata": {
        "id": "ah3GGOZhcKD1"
      }
    },
    {
      "cell_type": "code",
      "source": [
        "# Import train_test_split function\n",
        "from sklearn.model_selection import train_test_split\n",
        "y=dfcli[['cliente_fugado']]\n",
        "x=pd.get_dummies(df_algoritmo, drop_first=True) ## Drop Frist, no tiene en cuenta la primera categoria. \n",
        "\n",
        "# Split dataset into training set and test set\n",
        "X_train, X_test, y_train, y_test = train_test_split(x, y, test_size=0.3) # 70% training and 30% test"
      ],
      "metadata": {
        "id": "QEo5dqbfuZ7e"
      },
      "execution_count": null,
      "outputs": []
    },
    {
      "cell_type": "code",
      "source": [
        "#Importamos knearest neighbors Classifier model\n",
        "from sklearn.neighbors import KNeighborsClassifier\n",
        "\n",
        "#Creamos KNN Classifier para n=5\n",
        "knn = KNeighborsClassifier(n_neighbors=5)\n",
        "\n",
        "#Entrenamos el modelo usando el set de entrenamiento\n",
        "knn.fit(X_train, y_train)\n",
        "\n",
        "#Predecimos el valor, usando el X_Test\n",
        "y_pred = knn.predict(X_test)"
      ],
      "metadata": {
        "colab": {
          "base_uri": "https://localhost:8080/"
        },
        "id": "YhcP2xxqvoDE",
        "outputId": "1cc30115-afe4-4ff9-e047-1f384b77df59"
      },
      "execution_count": null,
      "outputs": [
        {
          "output_type": "stream",
          "name": "stderr",
          "text": [
            "/usr/local/lib/python3.7/dist-packages/sklearn/neighbors/_classification.py:198: DataConversionWarning: A column-vector y was passed when a 1d array was expected. Please change the shape of y to (n_samples,), for example using ravel().\n",
            "  return self._fit(X, y)\n"
          ]
        }
      ]
    },
    {
      "cell_type": "code",
      "source": [
        "from sklearn.metrics import confusion_matrix\n",
        "import matplotlib.pyplot as plt\n",
        "from sklearn.metrics import plot_confusion_matrix\n",
        "print('Matriz de Confusión de KNN:')\n",
        "print(\"\\n\")\n",
        "plot_confusion_matrix(knn, X_test, y_test)\n",
        "plt.show()"
      ],
      "metadata": {
        "colab": {
          "base_uri": "https://localhost:8080/",
          "height": 389
        },
        "id": "vKouc-aZwVY0",
        "outputId": "046cbc86-d983-43b1-a0ac-e5d4aa12bf0a"
      },
      "execution_count": null,
      "outputs": [
        {
          "output_type": "stream",
          "name": "stdout",
          "text": [
            "Matriz de Confusión de KNN:\n",
            "\n",
            "\n"
          ]
        },
        {
          "output_type": "stream",
          "name": "stderr",
          "text": [
            "/usr/local/lib/python3.7/dist-packages/sklearn/utils/deprecation.py:87: FutureWarning: Function plot_confusion_matrix is deprecated; Function `plot_confusion_matrix` is deprecated in 1.0 and will be removed in 1.2. Use one of the class methods: ConfusionMatrixDisplay.from_predictions or ConfusionMatrixDisplay.from_estimator.\n",
            "  warnings.warn(msg, category=FutureWarning)\n"
          ]
        },
        {
          "output_type": "display_data",
          "data": {
            "text/plain": [
              "<Figure size 432x288 with 2 Axes>"
            ],
            "image/png": "[encoded data removed]"
          },
          "metadata": {
            "needs_background": "light"
          }
        }
      ]
    },
    {
      "cell_type": "code",
      "source": [
        "#Calculo el accuracy en Test del randon forest\n",
        "test_accuracy = accuracy_score(y_test, y_pred)\n",
        "\n",
        "print('% de aciertos sobre el set de evaluación en KNN:',test_accuracy)"
      ],
      "metadata": {
        "colab": {
          "base_uri": "https://localhost:8080/"
        },
        "id": "_aYsLNysv7Rv",
        "outputId": "766b8796-7d50-4586-92f9-66d5fd2712ff"
      },
      "execution_count": null,
      "outputs": [
        {
          "output_type": "stream",
          "name": "stdout",
          "text": [
            "% de aciertos sobre el set de evaluación en KNN: 0.6146469049694856\n"
          ]
        }
      ]
    },
    {
      "cell_type": "code",
      "source": [
        "from sklearn.metrics import recall_score\n",
        "# Recall\n",
        "print(f\"Recall de KNN: {recall_score(y_test, y_pred)}\")"
      ],
      "metadata": {
        "colab": {
          "base_uri": "https://localhost:8080/"
        },
        "id": "XLbxnHEZzkPz",
        "outputId": "34f06d67-5d8e-4cef-e15c-ac68803a7a5f"
      },
      "execution_count": null,
      "outputs": [
        {
          "output_type": "stream",
          "name": "stdout",
          "text": [
            "Recall de KNN: 0.7472291149710505\n"
          ]
        }
      ]
    },
    {
      "cell_type": "code",
      "source": [
        "from sklearn.metrics import f1_score\n",
        "# Calculo del F1 score\n",
        "print(f\"F1 de KNN: {f1_score(y_test, y_pred)}\")"
      ],
      "metadata": {
        "colab": {
          "base_uri": "https://localhost:8080/"
        },
        "id": "qKmH2iEK0VGT",
        "outputId": "90091866-1da2-42c3-d666-b3a2c212abdc"
      },
      "execution_count": null,
      "outputs": [
        {
          "output_type": "stream",
          "name": "stdout",
          "text": [
            "F1 de KNN: 0.7062778516144164\n"
          ]
        }
      ]
    },
    {
      "cell_type": "code",
      "source": [
        "from sklearn.metrics import precision_score\n",
        "\n",
        "precision=precision_score(y_test, y_pred)\n",
        "\n",
        "# Precision!\n",
        "print(\"Precisión de KNN:\",precision)"
      ],
      "metadata": {
        "colab": {
          "base_uri": "https://localhost:8080/"
        },
        "id": "zg22vYxP0fQj",
        "outputId": "f490b7ff-3b96-470c-f9b9-a1de7cee2db4"
      },
      "execution_count": null,
      "outputs": [
        {
          "output_type": "stream",
          "name": "stdout",
          "text": [
            "Precisión de KNN: 0.6695819745034094\n"
          ]
        }
      ]
    },
    {
      "cell_type": "markdown",
      "source": [
        "## Radom Forest"
      ],
      "metadata": {
        "id": "OY_fN_GxuJNs"
      }
    },
    {
      "cell_type": "code",
      "source": [
        "from sklearn.model_selection import train_test_split #Importamos la libreria para separar en train y test\n",
        "#Me quedo con 20% para test y 80% para train\n",
        "X_train, X_test, y_train, y_test = train_test_split(x, y, test_size=0.20, random_state=42) "
      ],
      "metadata": {
        "id": "CSDcZ2NLlp1j"
      },
      "execution_count": null,
      "outputs": []
    },
    {
      "cell_type": "code",
      "source": [
        "print(\"\\n X_train\")\n",
        "print(X_train.size)\n",
        "print(\"\\n X_test\")\n",
        "print(X_test.size)\n",
        "print(\"\\n y_train\")\n",
        "print(y_train.size)\n",
        "print(\"y_test\")\n",
        "print(y_test.size)"
      ],
      "metadata": {
        "colab": {
          "base_uri": "https://localhost:8080/"
        },
        "id": "f5U_rBsBGYI5",
        "outputId": "072b8c5e-6c75-4453-cb8e-faac4c69f878"
      },
      "execution_count": null,
      "outputs": [
        {
          "output_type": "stream",
          "name": "stdout",
          "text": [
            "\n",
            " X_train\n",
            "363965\n",
            "\n",
            " X_test\n",
            "90993\n",
            "\n",
            " y_train\n",
            "51995\n",
            "y_test\n",
            "12999\n"
          ]
        }
      ]
    },
    {
      "cell_type": "code",
      "source": [
        "#Creamos un random forest\n",
        "from sklearn.ensemble import RandomForestClassifier\n",
        "model = RandomForestClassifier(random_state=42, n_estimators=100, \n",
        "                               class_weight=\"balanced\", max_features=\"log2\") \n",
        "model.fit(X_train, y_train)\n"
      ],
      "metadata": {
        "id": "WILEgi7n0bB9",
        "colab": {
          "base_uri": "https://localhost:8080/"
        },
        "outputId": "c250ad02-cf1e-42c5-8be1-857f38d35ed3"
      },
      "execution_count": null,
      "outputs": [
        {
          "output_type": "stream",
          "name": "stderr",
          "text": [
            "/usr/local/lib/python3.7/dist-packages/ipykernel_launcher.py:5: DataConversionWarning: A column-vector y was passed when a 1d array was expected. Please change the shape of y to (n_samples,), for example using ravel().\n",
            "  \"\"\"\n"
          ]
        },
        {
          "output_type": "execute_result",
          "data": {
            "text/plain": [
              "RandomForestClassifier(class_weight='balanced', max_features='log2',\n",
              "                       random_state=42)"
            ]
          },
          "metadata": {},
          "execution_count": 77
        }
      ]
    },
    {
      "cell_type": "code",
      "source": [
        "y_test_pred=model.predict(X_test)\n",
        "y_train_pred=model.predict(X_train)"
      ],
      "metadata": {
        "id": "2rdZhaq_B44a"
      },
      "execution_count": null,
      "outputs": []
    },
    {
      "cell_type": "code",
      "source": [
        "y_test_pred.size"
      ],
      "metadata": {
        "colab": {
          "base_uri": "https://localhost:8080/"
        },
        "id": "nhUtsgWqEP5C",
        "outputId": "48864dfb-701d-4e56-ced9-5a9f171b7734"
      },
      "execution_count": null,
      "outputs": [
        {
          "output_type": "execute_result",
          "data": {
            "text/plain": [
              "12999"
            ]
          },
          "metadata": {},
          "execution_count": 79
        }
      ]
    },
    {
      "cell_type": "code",
      "source": [
        "from sklearn.metrics import confusion_matrix\n",
        "import matplotlib.pyplot as plt\n",
        "from sklearn.metrics import plot_confusion_matrix\n",
        "#matriz=confusion_matrix(y_test, y_test_pred)\n",
        "#print('Matriz de Confusión randon forest:')\n",
        "#print(matriz)\n",
        "print('Matriz de Confusión Radom Forest:')\n",
        "print(\"\\n\")\n",
        "plot_confusion_matrix(model, X_test, y_test)\n",
        "plt.show()\n"
      ],
      "metadata": {
        "colab": {
          "base_uri": "https://localhost:8080/",
          "height": 386
        },
        "id": "MXsOyy43snSJ",
        "outputId": "ad31f751-5ac8-4bd7-ca77-0f1133d81faa"
      },
      "execution_count": null,
      "outputs": [
        {
          "output_type": "stream",
          "name": "stdout",
          "text": [
            "Matriz de Confusión Radom Forest:\n",
            "\n",
            "\n"
          ]
        },
        {
          "output_type": "stream",
          "name": "stderr",
          "text": [
            "/usr/local/lib/python3.7/dist-packages/sklearn/utils/deprecation.py:87: FutureWarning: Function plot_confusion_matrix is deprecated; Function `plot_confusion_matrix` is deprecated in 1.0 and will be removed in 1.2. Use one of the class methods: ConfusionMatrixDisplay.from_predictions or ConfusionMatrixDisplay.from_estimator.\n",
            "  warnings.warn(msg, category=FutureWarning)\n"
          ]
        },
        {
          "output_type": "display_data",
          "data": {
            "text/plain": [
              "<Figure size 432x288 with 2 Axes>"
            ],
            "image/png": "[encoded data removed]"
          },
          "metadata": {
            "needs_background": "light"
          }
        }
      ]
    },
    {
      "cell_type": "code",
      "source": [
        "from sklearn.metrics import classification_report\n",
        "print(classification_report(y_pred=y_test_pred,y_true=y_test))"
      ],
      "metadata": {
        "colab": {
          "base_uri": "https://localhost:8080/"
        },
        "id": "XyGKKYSBsyJS",
        "outputId": "cf95572a-e612-4cbf-8500-35407f51b79f"
      },
      "execution_count": null,
      "outputs": [
        {
          "output_type": "stream",
          "name": "stdout",
          "text": [
            "              precision    recall  f1-score   support\n",
            "\n",
            "           0       0.87      0.71      0.78      4907\n",
            "           1       0.84      0.94      0.89      8092\n",
            "\n",
            "    accuracy                           0.85     12999\n",
            "   macro avg       0.86      0.82      0.83     12999\n",
            "weighted avg       0.85      0.85      0.85     12999\n",
            "\n"
          ]
        }
      ]
    },
    {
      "cell_type": "code",
      "source": [
        "#Calculo el accuracy en Test del randon forest\n",
        "test_accuracy = accuracy_score(y_test, y_test_pred)\n",
        "test_accuracy2 = accuracy_score(y_train, y_train_pred)\n",
        "\n",
        "print('% de aciertos sobre el set de evaluación datos test en Random Forest:',test_accuracy)\n",
        "print('\\n % de aciertos sobre el set de evaluación datos train en Random Forest:',test_accuracy2)"
      ],
      "metadata": {
        "colab": {
          "base_uri": "https://localhost:8080/"
        },
        "id": "qJ60reCzoAYE",
        "outputId": "174f8216-1e96-4ed1-c04d-cf33767b4d52"
      },
      "execution_count": null,
      "outputs": [
        {
          "output_type": "stream",
          "name": "stdout",
          "text": [
            "% de aciertos sobre el set de evaluación datos test en Random Forest: 0.8506808216016617\n",
            "\n",
            " % de aciertos sobre el set de evaluación datos train en Random Forest: 0.9997499759592269\n"
          ]
        }
      ]
    },
    {
      "cell_type": "code",
      "source": [
        "from sklearn.metrics import recall_score\n",
        "# Recall\n",
        "print(f\"Recall de Random Rorest: {recall_score(y_test, y_test_pred)}\")\n"
      ],
      "metadata": {
        "colab": {
          "base_uri": "https://localhost:8080/"
        },
        "id": "_aRIWQJYjIoP",
        "outputId": "913a7475-08e4-47be-e925-87f1d99cc12c"
      },
      "execution_count": null,
      "outputs": [
        {
          "output_type": "stream",
          "name": "stdout",
          "text": [
            "Recall de Random Rorest: 0.9370983687592684\n"
          ]
        }
      ]
    },
    {
      "cell_type": "code",
      "source": [
        "from sklearn.metrics import f1_score\n",
        "# Calculo del F1 score\n",
        "print(f\"F1 de Random Forest: {f1_score(y_test, y_test_pred)}\")"
      ],
      "metadata": {
        "colab": {
          "base_uri": "https://localhost:8080/"
        },
        "id": "Xmld0REysq6L",
        "outputId": "8af3ae0c-15fd-41d0-95ce-ea6fa457335f"
      },
      "execution_count": null,
      "outputs": [
        {
          "output_type": "stream",
          "name": "stdout",
          "text": [
            "F1 de Random Forest: 0.886537674636114\n"
          ]
        }
      ]
    },
    {
      "cell_type": "code",
      "source": [
        "from sklearn.metrics import precision_score\n",
        "\n",
        "precision=precision_score(y_test, y_test_pred)\n",
        "\n",
        "# Precision!\n",
        "print(\"Precisión del Random Forest:\",precision)"
      ],
      "metadata": {
        "colab": {
          "base_uri": "https://localhost:8080/"
        },
        "id": "tk2tSSkqrP1h",
        "outputId": "be0758df-6901-4522-b628-51ceb1e09475"
      },
      "execution_count": null,
      "outputs": [
        {
          "output_type": "stream",
          "name": "stdout",
          "text": [
            "Precisión del Random Forest: 0.8411536328341653\n"
          ]
        }
      ]
    },
    {
      "cell_type": "markdown",
      "source": [
        "###### Luego de hacer los modelos, segun cada linea, vemos el score promedio de todos los modelos"
      ],
      "metadata": {
        "id": "M3C9awdR6SZX"
      }
    },
    {
      "cell_type": "markdown",
      "source": [
        "### Stratified- K fold (clasificacion) - Radom Forest"
      ],
      "metadata": {
        "id": "95Zv_o5BhgEN"
      }
    },
    {
      "cell_type": "code",
      "source": [
        "# librerias\n",
        "from numpy import mean\n",
        "from numpy import std\n",
        "from sklearn.model_selection import LeaveOneOut\n",
        "from sklearn.model_selection import StratifiedKFold\n",
        "from sklearn.model_selection import cross_val_score\n",
        "from sklearn.ensemble import RandomForestClassifier"
      ],
      "metadata": {
        "id": "-TRQ746OhjlD"
      },
      "execution_count": null,
      "outputs": []
    },
    {
      "cell_type": "code",
      "source": [
        "from sklearn.model_selection import train_test_split #Importamos la libreria para separar en train y test\n",
        "#Me quedo con 20% para test y 80% para train\n",
        "X_train, X_test, y_train, y_test = train_test_split(x, y, test_size=0.20, random_state=42) "
      ],
      "metadata": {
        "id": "Sg10puXnsOhA"
      },
      "execution_count": null,
      "outputs": []
    },
    {
      "cell_type": "code",
      "source": [
        "x=pd.get_dummies(df_algoritmo, drop_first=True)\n",
        "y=dfcli[['cliente_fugado']]"
      ],
      "metadata": {
        "id": "fvDmiydgt7yO"
      },
      "execution_count": null,
      "outputs": []
    },
    {
      "cell_type": "code",
      "source": [
        "skf = StratifiedKFold(n_splits=10, random_state=42, shuffle=True\n",
        "                      )\n",
        "skf.get_n_splits(x, y)"
      ],
      "metadata": {
        "colab": {
          "base_uri": "https://localhost:8080/"
        },
        "id": "MlMcrjdTnVzw",
        "outputId": "b5fc0db2-1730-4401-f177-6fbb8e7675bc"
      },
      "execution_count": null,
      "outputs": [
        {
          "output_type": "execute_result",
          "data": {
            "text/plain": [
              "10"
            ]
          },
          "metadata": {},
          "execution_count": 89
        }
      ]
    },
    {
      "cell_type": "code",
      "source": [
        "# Modelo vacio\n",
        "model_vac = RandomForestClassifier(random_state=42, n_estimators=10, \n",
        "                               class_weight=\"balanced\", max_features=\"log2\") "
      ],
      "metadata": {
        "id": "JXprM7hM49tB"
      },
      "execution_count": null,
      "outputs": []
    },
    {
      "cell_type": "code",
      "source": [
        "from sklearn.metrics import accuracy_score\n",
        "# Modelo vacio\n",
        "model_vac = RandomForestClassifier(random_state=42, n_estimators=100, \n",
        "                               class_weight=\"balanced\", max_features=\"log2\")  \n",
        "# Lista para guardar accuracy\n",
        "list_ac=[]\n",
        "for i in range(0,skf.get_n_splits(x, y)):\n",
        "  # Calculo de indices\n",
        "  train, test = list(skf.split(x, y))[i]\n",
        "  # Separar train y test\n",
        "  X_train_n, y_train_n, X_test_n, y_test_n= x.iloc[train], y.iloc[train], x.iloc[test],y.iloc[test]\n",
        "  # Ajustar el modelo\n",
        "  model_vac.fit(X_train_n, y_train_n)\n",
        "  # Predicciones\n",
        "  pred= model_vac.predict(X_test_n)\n",
        "  # Calculo del error\n",
        "  accuracy= accuracy_score(y_true=y_test_n, y_pred= pred)\n",
        "  print('\\n Iteracion: ',i+1, ' Accuracy:', accuracy)\n",
        "  list_ac.append(accuracy)\n",
        "# Promedio de accuracy\n",
        "import numpy as np\n",
        "print('\\n Accuracy promedio:', np.mean(list_ac))"
      ],
      "metadata": {
        "colab": {
          "base_uri": "https://localhost:8080/"
        },
        "id": "MKHnfKoo5i2d",
        "outputId": "62643a1e-b3f1-432f-dae1-bdca78e6b2a5"
      },
      "execution_count": null,
      "outputs": [
        {
          "metadata": {
            "tags": null
          },
          "name": "stderr",
          "output_type": "stream",
          "text": [
            "/usr/local/lib/python3.7/dist-packages/ipykernel_launcher.py:13: DataConversionWarning: A column-vector y was passed when a 1d array was expected. Please change the shape of y to (n_samples,), for example using ravel().\n",
            "  del sys.path[0]\n"
          ]
        },
        {
          "metadata": {
            "tags": null
          },
          "name": "stdout",
          "output_type": "stream",
          "text": [
            "\n",
            " Iteracion:  1  Accuracy: 0.8547692307692307\n"
          ]
        },
        {
          "metadata": {
            "tags": null
          },
          "name": "stderr",
          "output_type": "stream",
          "text": [
            "/usr/local/lib/python3.7/dist-packages/ipykernel_launcher.py:13: DataConversionWarning: A column-vector y was passed when a 1d array was expected. Please change the shape of y to (n_samples,), for example using ravel().\n",
            "  del sys.path[0]\n"
          ]
        },
        {
          "metadata": {
            "tags": null
          },
          "name": "stdout",
          "output_type": "stream",
          "text": [
            "\n",
            " Iteracion:  2  Accuracy: 0.8632307692307692\n"
          ]
        },
        {
          "metadata": {
            "tags": null
          },
          "name": "stderr",
          "output_type": "stream",
          "text": [
            "/usr/local/lib/python3.7/dist-packages/ipykernel_launcher.py:13: DataConversionWarning: A column-vector y was passed when a 1d array was expected. Please change the shape of y to (n_samples,), for example using ravel().\n",
            "  del sys.path[0]\n"
          ]
        },
        {
          "metadata": {
            "tags": null
          },
          "name": "stdout",
          "output_type": "stream",
          "text": [
            "\n",
            " Iteracion:  3  Accuracy: 0.8666153846153846\n"
          ]
        },
        {
          "metadata": {
            "tags": null
          },
          "name": "stderr",
          "output_type": "stream",
          "text": [
            "/usr/local/lib/python3.7/dist-packages/ipykernel_launcher.py:13: DataConversionWarning: A column-vector y was passed when a 1d array was expected. Please change the shape of y to (n_samples,), for example using ravel().\n",
            "  del sys.path[0]\n"
          ]
        },
        {
          "metadata": {
            "tags": null
          },
          "name": "stdout",
          "output_type": "stream",
          "text": [
            "\n",
            " Iteracion:  4  Accuracy: 0.852\n"
          ]
        },
        {
          "metadata": {
            "tags": null
          },
          "name": "stderr",
          "output_type": "stream",
          "text": [
            "/usr/local/lib/python3.7/dist-packages/ipykernel_launcher.py:13: DataConversionWarning: A column-vector y was passed when a 1d array was expected. Please change the shape of y to (n_samples,), for example using ravel().\n",
            "  del sys.path[0]\n"
          ]
        },
        {
          "metadata": {
            "tags": null
          },
          "name": "stdout",
          "output_type": "stream",
          "text": [
            "\n",
            " Iteracion:  5  Accuracy: 0.8653639021387906\n"
          ]
        },
        {
          "metadata": {
            "tags": null
          },
          "name": "stderr",
          "output_type": "stream",
          "text": [
            "/usr/local/lib/python3.7/dist-packages/ipykernel_launcher.py:13: DataConversionWarning: A column-vector y was passed when a 1d array was expected. Please change the shape of y to (n_samples,), for example using ravel().\n",
            "  del sys.path[0]\n"
          ]
        },
        {
          "metadata": {
            "tags": null
          },
          "name": "stdout",
          "output_type": "stream",
          "text": [
            "\n",
            " Iteracion:  6  Accuracy: 0.8575165410063087\n"
          ]
        },
        {
          "metadata": {
            "tags": null
          },
          "name": "stderr",
          "output_type": "stream",
          "text": [
            "/usr/local/lib/python3.7/dist-packages/ipykernel_launcher.py:13: DataConversionWarning: A column-vector y was passed when a 1d array was expected. Please change the shape of y to (n_samples,), for example using ravel().\n",
            "  del sys.path[0]\n"
          ]
        },
        {
          "metadata": {
            "tags": null
          },
          "name": "stdout",
          "output_type": "stream",
          "text": [
            "\n",
            " Iteracion:  7  Accuracy: 0.858132020310817\n"
          ]
        },
        {
          "metadata": {
            "tags": null
          },
          "name": "stderr",
          "output_type": "stream",
          "text": [
            "/usr/local/lib/python3.7/dist-packages/ipykernel_launcher.py:13: DataConversionWarning: A column-vector y was passed when a 1d array was expected. Please change the shape of y to (n_samples,), for example using ravel().\n",
            "  del sys.path[0]\n"
          ]
        },
        {
          "metadata": {
            "tags": null
          },
          "name": "stdout",
          "output_type": "stream",
          "text": [
            "\n",
            " Iteracion:  8  Accuracy: 0.8535159255270042\n"
          ]
        },
        {
          "metadata": {
            "tags": null
          },
          "name": "stderr",
          "output_type": "stream",
          "text": [
            "/usr/local/lib/python3.7/dist-packages/ipykernel_launcher.py:13: DataConversionWarning: A column-vector y was passed when a 1d array was expected. Please change the shape of y to (n_samples,), for example using ravel().\n",
            "  del sys.path[0]\n"
          ]
        },
        {
          "metadata": {
            "tags": null
          },
          "name": "stdout",
          "output_type": "stream",
          "text": [
            "\n",
            " Iteracion:  9  Accuracy: 0.8604400677027235\n"
          ]
        },
        {
          "metadata": {
            "tags": null
          },
          "name": "stderr",
          "output_type": "stream",
          "text": [
            "/usr/local/lib/python3.7/dist-packages/ipykernel_launcher.py:13: DataConversionWarning: A column-vector y was passed when a 1d array was expected. Please change the shape of y to (n_samples,), for example using ravel().\n",
            "  del sys.path[0]\n"
          ]
        },
        {
          "metadata": {
            "tags": null
          },
          "name": "stdout",
          "output_type": "stream",
          "text": [
            "\n",
            " Iteracion:  10  Accuracy: 0.8601323280504694\n",
            "\n",
            " Accuracy promedio: 0.8591716169351498\n"
          ]
        }
      ]
    },
    {
      "cell_type": "markdown",
      "source": [
        "### Randomized Search CV - Radom Forest\n",
        "\n"
      ],
      "metadata": {
        "id": "Nyb1HybkQlH7"
      }
    },
    {
      "cell_type": "code",
      "source": [
        "import pandas as pd \n",
        "import numpy as np\n",
        "from sklearn.model_selection import train_test_split\n",
        "import xgboost as xgb\n",
        "from sklearn.metrics import mean_squared_error\n",
        "from sklearn.metrics import accuracy_score\n",
        "from sklearn.model_selection import GridSearchCV\n",
        "from sklearn.model_selection import RandomizedSearchCV\n",
        "from sklearn.experimental import enable_halving_search_cv\n",
        "from sklearn.model_selection import HalvingGridSearchCV\n",
        "from sklearn.model_selection import HalvingRandomSearchCV"
      ],
      "metadata": {
        "id": "rjeVWoRPIx7Y"
      },
      "execution_count": null,
      "outputs": []
    },
    {
      "cell_type": "code",
      "source": [
        "from sklearn.model_selection import train_test_split\n",
        "X_train, X_test, y_train, y_test = train_test_split(x, y, test_size=0.20, random_state=42) \n",
        "#X_train, X_test, y_train, y_test = train_test_split(x, y, test_size=0.20, random_state=101)"
      ],
      "metadata": {
        "id": "Y-1PdPT-RaaM"
      },
      "execution_count": null,
      "outputs": []
    },
    {
      "cell_type": "code",
      "source": [
        "#Número de árboles en bosque aleatorio\n",
        "n_estimators = [int(x) for x in np.linspace(start = 10, stop = 100, num = 10)]\n",
        "# Número de características a considerar en cada división\n",
        "max_features = ['auto', 'sqrt',\"log2\"]\n",
        "# # Número máximo de niveles en el árbol\n",
        "max_depth = [2,4,10,15,20,25,30,35]\n",
        "# Número mínimo de muestras requeridas para dividir un nodo\n",
        "min_samples_split = [2, 5,10]\n",
        "# Número mínimo de muestras requeridas en cada nodo hoja\n",
        "min_samples_leaf = [1,2,5,10]\n",
        "# Método de selección de muestras para entrenar cada árbol\n",
        "bootstrap = [True, False]"
      ],
      "metadata": {
        "id": "pUkWkzTLRVc1"
      },
      "execution_count": null,
      "outputs": []
    },
    {
      "cell_type": "code",
      "source": [
        "param_grid = {'n_estimators': n_estimators,\n",
        "               'max_features': max_features,\n",
        "               'max_depth': max_depth,\n",
        "               'min_samples_split': min_samples_split,\n",
        "               'min_samples_leaf': min_samples_leaf,\n",
        "               'bootstrap': bootstrap}\n",
        "print(param_grid)"
      ],
      "metadata": {
        "colab": {
          "base_uri": "https://localhost:8080/"
        },
        "id": "JgbX1XrAQ2wa",
        "outputId": "e367e180-cdf7-41be-98e4-74b74424175b"
      },
      "execution_count": null,
      "outputs": [
        {
          "metadata": {
            "tags": null
          },
          "name": "stdout",
          "output_type": "stream",
          "text": [
            "{'n_estimators': [10, 20, 30, 40, 50, 60, 70, 80, 90, 100], 'max_features': ['auto', 'sqrt', 'log2'], 'max_depth': [2, 4, 10, 15, 20, 25, 30, 35], 'min_samples_split': [2, 5, 10], 'min_samples_leaf': [1, 2, 5, 10], 'bootstrap': [True, False]}\n"
          ]
        }
      ]
    },
    {
      "cell_type": "code",
      "source": [
        "model_vac2 = RandomForestClassifier()  "
      ],
      "metadata": {
        "id": "WPa12AOLTtjN"
      },
      "execution_count": null,
      "outputs": []
    },
    {
      "cell_type": "code",
      "source": [
        "from sklearn.model_selection import StratifiedKFold\n",
        "cv_1=StratifiedKFold(n_splits=10, random_state=42, shuffle=True)    "
      ],
      "metadata": {
        "id": "UNOr4zsmV8Gd"
      },
      "execution_count": null,
      "outputs": []
    },
    {
      "cell_type": "code",
      "source": [
        "\n",
        "rf_RandomGrid=RandomizedSearchCV(estimator = model_vac2, param_distributions = param_grid, cv = cv_1, verbose=2, n_jobs = -1)\n",
        "rf_RandomGrid.fit(X_train, y_train)"
      ],
      "metadata": {
        "colab": {
          "base_uri": "https://localhost:8080/"
        },
        "id": "5di6Y6yVR-hL",
        "outputId": "1cd6cce7-151f-4149-b1b7-defdf8ab9863"
      },
      "execution_count": null,
      "outputs": [
        {
          "metadata": {
            "tags": null
          },
          "name": "stdout",
          "output_type": "stream",
          "text": [
            "Fitting 10 folds for each of 10 candidates, totalling 100 fits\n"
          ]
        },
        {
          "output_type": "stream",
          "name": "stderr",
          "text": [
            "/usr/local/lib/python3.7/dist-packages/sklearn/model_selection/_search.py:926: DataConversionWarning: A column-vector y was passed when a 1d array was expected. Please change the shape of y to (n_samples,), for example using ravel().\n",
            "  self.best_estimator_.fit(X, y, **fit_params)\n"
          ]
        },
        {
          "output_type": "execute_result",
          "data": {
            "text/plain": [
              "RandomizedSearchCV(cv=StratifiedKFold(n_splits=10, random_state=42, shuffle=True),\n",
              "                   estimator=RandomForestClassifier(), n_jobs=-1,\n",
              "                   param_distributions={'bootstrap': [True, False],\n",
              "                                        'max_depth': [2, 4, 10, 15, 20, 25, 30,\n",
              "                                                      35],\n",
              "                                        'max_features': ['auto', 'sqrt',\n",
              "                                                         'log2'],\n",
              "                                        'min_samples_leaf': [1, 2, 5, 10],\n",
              "                                        'min_samples_split': [2, 5, 10],\n",
              "                                        'n_estimators': [10, 20, 30, 40, 50, 60,\n",
              "                                                         70, 80, 90, 100]},\n",
              "                   verbose=2)"
            ]
          },
          "metadata": {},
          "execution_count": 98
        }
      ]
    },
    {
      "cell_type": "code",
      "source": [
        "rf_RandomGrid.best_params_"
      ],
      "metadata": {
        "colab": {
          "base_uri": "https://localhost:8080/"
        },
        "id": "QwbHY6NtSVIy",
        "outputId": "fcde2b96-b211-4c86-befa-91b1dcb63147"
      },
      "execution_count": null,
      "outputs": [
        {
          "output_type": "execute_result",
          "data": {
            "text/plain": [
              "{'bootstrap': False,\n",
              " 'max_depth': 30,\n",
              " 'max_features': 'auto',\n",
              " 'min_samples_leaf': 2,\n",
              " 'min_samples_split': 10,\n",
              " 'n_estimators': 70}"
            ]
          },
          "metadata": {},
          "execution_count": 99
        }
      ]
    },
    {
      "cell_type": "code",
      "source": [
        "print (f'Train Accuracy - : {rf_RandomGrid.score(X_train,y_train):.3f}')\n",
        "print (f'Test Accuracy - : {rf_RandomGrid.score(X_test,y_test):.3f}')"
      ],
      "metadata": {
        "colab": {
          "base_uri": "https://localhost:8080/"
        },
        "id": "huDTzDQISgzC",
        "outputId": "aa15001f-3c7e-40b7-8274-23ba9591b5b7"
      },
      "execution_count": null,
      "outputs": [
        {
          "output_type": "stream",
          "name": "stdout",
          "text": [
            "Train Accuracy - : 0.975\n",
            "Test Accuracy - : 0.844\n"
          ]
        }
      ]
    },
    {
      "cell_type": "markdown",
      "source": [
        "## AdaBoost Classifier"
      ],
      "metadata": {
        "id": "32tXp1sgGAb4"
      }
    },
    {
      "cell_type": "code",
      "source": [
        "X_train, X_test, y_train, y_test = train_test_split(x, y, test_size=0.2) # 70% training and 30% test"
      ],
      "metadata": {
        "id": "3Q24m7KZGK2T"
      },
      "execution_count": null,
      "outputs": []
    },
    {
      "cell_type": "code",
      "source": [
        "from sklearn.ensemble import AdaBoostRegressor\n",
        "from sklearn.ensemble import AdaBoostClassifier\n",
        "from sklearn import metrics"
      ],
      "metadata": {
        "id": "t1_8U2TwGuzh"
      },
      "execution_count": null,
      "outputs": []
    },
    {
      "cell_type": "code",
      "source": [
        "adaboost = AdaBoostClassifier(n_estimators=100,learning_rate=0.001)"
      ],
      "metadata": {
        "id": "KGLA0d7KGSq6"
      },
      "execution_count": null,
      "outputs": []
    },
    {
      "cell_type": "code",
      "source": [
        "model = adaboost.fit(X_train, y_train)"
      ],
      "metadata": {
        "colab": {
          "base_uri": "https://localhost:8080/"
        },
        "id": "XHCNo_lSGcFC",
        "outputId": "5e0e23bf-9aec-45e9-8bdc-c8d0d55ff056"
      },
      "execution_count": null,
      "outputs": [
        {
          "output_type": "stream",
          "name": "stderr",
          "text": [
            "/usr/local/lib/python3.7/dist-packages/sklearn/utils/validation.py:993: DataConversionWarning: A column-vector y was passed when a 1d array was expected. Please change the shape of y to (n_samples, ), for example using ravel().\n",
            "  y = column_or_1d(y, warn=True)\n"
          ]
        }
      ]
    },
    {
      "cell_type": "code",
      "source": [
        "y_pred = model.predict(X_test)"
      ],
      "metadata": {
        "id": "pQ3j7471Geay"
      },
      "execution_count": null,
      "outputs": []
    },
    {
      "cell_type": "code",
      "source": [
        "print(\"Accuracy:\",metrics.accuracy_score(y_test, y_pred))"
      ],
      "metadata": {
        "colab": {
          "base_uri": "https://localhost:8080/"
        },
        "id": "z8DZoyogGmap",
        "outputId": "964c83d6-824f-48f8-b7a5-263bc0dd80a7"
      },
      "execution_count": null,
      "outputs": [
        {
          "output_type": "stream",
          "name": "stdout",
          "text": [
            "Accuracy: 0.6518193707208246\n"
          ]
        }
      ]
    },
    {
      "cell_type": "markdown",
      "source": [
        "## XGBoost "
      ],
      "metadata": {
        "id": "NvLExnjJaqvh"
      }
    },
    {
      "cell_type": "code",
      "source": [
        "!pip install xgboost"
      ],
      "metadata": {
        "colab": {
          "base_uri": "https://localhost:8080/"
        },
        "id": "bqX5qe8TgpaS",
        "outputId": "04b9f109-6de2-41a4-c27f-57804e1b270f"
      },
      "execution_count": null,
      "outputs": [
        {
          "output_type": "stream",
          "name": "stdout",
          "text": [
            "Looking in indexes: https://pypi.org/simple, https://us-python.pkg.dev/colab-wheels/public/simple/\n",
            "Requirement already satisfied: xgboost in /usr/local/lib/python3.7/dist-packages (0.90)\n",
            "Requirement already satisfied: scipy in /usr/local/lib/python3.7/dist-packages (from xgboost) (1.4.1)\n",
            "Requirement already satisfied: numpy in /usr/local/lib/python3.7/dist-packages (from xgboost) (1.21.6)\n"
          ]
        }
      ]
    },
    {
      "cell_type": "code",
      "source": [
        "import pandas as pd\n",
        "import xgboost as xgb\n",
        "from sklearn.model_selection import train_test_split\n",
        "from sklearn.metrics import mean_squared_error"
      ],
      "metadata": {
        "id": "OGn8_rK9a5U8"
      },
      "execution_count": null,
      "outputs": []
    },
    {
      "cell_type": "code",
      "source": [
        "import xgboost as xgb #pip install xgboost\n",
        "import numpy as np\n",
        "from sklearn.linear_model import LinearRegression as LR\n",
        "from sklearn.metrics import accuracy_score\n",
        "from sklearn.model_selection import GridSearchCV\n",
        "from sklearn.model_selection import RandomizedSearchCV\n",
        "from sklearn.experimental import enable_halving_search_cv\n",
        "from sklearn.model_selection import HalvingGridSearchCV\n",
        "from sklearn.model_selection import HalvingRandomSearchCV"
      ],
      "metadata": {
        "id": "tYNfzgorapOr"
      },
      "execution_count": null,
      "outputs": []
    },
    {
      "cell_type": "code",
      "source": [
        "X_train, X_test, y_train, y_test = train_test_split(x, y, test_size = 0.2, random_state=123)"
      ],
      "metadata": {
        "id": "TUtjhYEJg0bv"
      },
      "execution_count": null,
      "outputs": []
    },
    {
      "cell_type": "code",
      "source": [
        "clasificador_xgb = xgb.XGBClassifier(objective='binary:logistic', n_estimators=10,seed=42,max_depth=20, learning_rate=0.1)"
      ],
      "metadata": {
        "id": "FJ4_4zf0WL4Q"
      },
      "execution_count": null,
      "outputs": []
    },
    {
      "cell_type": "code",
      "source": [
        "clasificador_xgb.fit(X_train,y_train) #Entrenamos el modelo"
      ],
      "metadata": {
        "colab": {
          "base_uri": "https://localhost:8080/"
        },
        "id": "qTG-Uhnog7Ww",
        "outputId": "7aa7a881-9848-4894-df03-1041297f4c6a"
      },
      "execution_count": null,
      "outputs": [
        {
          "output_type": "stream",
          "name": "stderr",
          "text": [
            "/usr/local/lib/python3.7/dist-packages/sklearn/preprocessing/_label.py:98: DataConversionWarning: A column-vector y was passed when a 1d array was expected. Please change the shape of y to (n_samples, ), for example using ravel().\n",
            "  y = column_or_1d(y, warn=True)\n",
            "/usr/local/lib/python3.7/dist-packages/sklearn/preprocessing/_label.py:133: DataConversionWarning: A column-vector y was passed when a 1d array was expected. Please change the shape of y to (n_samples, ), for example using ravel().\n",
            "  y = column_or_1d(y, warn=True)\n"
          ]
        },
        {
          "output_type": "execute_result",
          "data": {
            "text/plain": [
              "XGBClassifier(max_depth=20, n_estimators=10, seed=42)"
            ]
          },
          "metadata": {},
          "execution_count": 112
        }
      ]
    },
    {
      "cell_type": "code",
      "source": [
        "#y_train_pred = clf_xgb.predict(X_train) #Prediccion en Train\n",
        "y_test_pred = clasificador_xgb.predict(X_test) #Prediccion en Test\n",
        "y_train_pred= clasificador_xgb.predict(X_train) "
      ],
      "metadata": {
        "id": "uejhQig9WP4F"
      },
      "execution_count": null,
      "outputs": []
    },
    {
      "cell_type": "code",
      "source": [
        "from sklearn.metrics import accuracy_score\n",
        "\n",
        "#Calculo el accuracy en Train\n",
        "train_accuracy = accuracy_score(y_train, y_train_pred)\n",
        "\n",
        "#Calculo el accuracy en Test\n",
        "test_accuracy = accuracy_score(y_test, y_test_pred)\n",
        "\n",
        "print('% de aciertos sobre el set de train:', train_accuracy)\n",
        "print('\\n % de aciertos sobre el set de test:',test_accuracy)"
      ],
      "metadata": {
        "colab": {
          "base_uri": "https://localhost:8080/"
        },
        "id": "qs3JPXBQhEKH",
        "outputId": "0ed1c4e2-1555-4ea4-a661-1eb5cadd3347"
      },
      "execution_count": null,
      "outputs": [
        {
          "output_type": "stream",
          "name": "stdout",
          "text": [
            "% de aciertos sobre el set de train: 0.9032214636022694\n",
            "\n",
            " % de aciertos sobre el set de test: 0.8536041233941072\n"
          ]
        }
      ]
    },
    {
      "cell_type": "markdown",
      "source": [
        "### Randomized Search CV - XGBoost "
      ],
      "metadata": {
        "id": "NBeP0iD86XJR"
      }
    },
    {
      "cell_type": "code",
      "source": [
        "params_grid = {\n",
        "        'min_child_weight': [1, 5, 10,15,20],\n",
        "        'gamma': [0.5, 1, 1.5, 2, 3,5,7.5],\n",
        "        'subsample': [0.6, 0.8, 1.0,1.5],\n",
        "        'colsample_bytree': [0.6, 0.8, 1.0,1.5],\n",
        "        'max_depth': [1,5,6,7,10,15,20],\n",
        "        'criterion':['entropy','gini',\"accuracy\"]\n",
        "        }"
      ],
      "metadata": {
        "id": "FIMv7wST67xT"
      },
      "execution_count": null,
      "outputs": []
    },
    {
      "cell_type": "code",
      "source": [
        "# Generamos el modelo vacio\n",
        "clasificador_xgb=xgb.XGBClassifier()"
      ],
      "metadata": {
        "id": "UxdMXYeQLpOr"
      },
      "execution_count": null,
      "outputs": []
    },
    {
      "cell_type": "code",
      "source": [
        "# Vemos cuales son los Hiperparametros, y cuales son los mejores para el modelo.\n",
        "# Por otro lado, buscamos el que posea mayor accuracy\n",
        "\n",
        "grid_cv = RandomizedSearchCV(clasificador_xgb, params_grid, scoring=\"accuracy\", n_jobs=-1, cv=cv_1)\n",
        "grid_cv.fit(X_train, y_train)\n",
        "print(\"\\n\")\n",
        "print(\"Mejores parametros\", grid_cv.best_params_)\n",
        "print(\"Mejor score de CV\", grid_cv.best_score_)\n",
        "print(f'Accuracy del modelo = {round(accuracy_score(y_test, grid_cv.predict(X_test)), 5)}')"
      ],
      "metadata": {
        "colab": {
          "base_uri": "https://localhost:8080/"
        },
        "id": "BbVrutX06WaJ",
        "outputId": "63884ff8-9cbe-4e6b-f591-c5a5b93402f1"
      },
      "execution_count": null,
      "outputs": [
        {
          "output_type": "stream",
          "name": "stderr",
          "text": [
            "/usr/local/lib/python3.7/dist-packages/sklearn/model_selection/_validation.py:372: FitFailedWarning: \n",
            "20 fits failed out of a total of 100.\n",
            "The score on these train-test partitions for these parameters will be set to nan.\n",
            "If these failures are not expected, you can try to debug them by setting error_score='raise'.\n",
            "\n",
            "Below are more details about the failures:\n",
            "--------------------------------------------------------------------------------\n",
            "10 fits failed with the following error:\n",
            "Traceback (most recent call last):\n",
            "  File \"/usr/local/lib/python3.7/dist-packages/sklearn/model_selection/_validation.py\", line 680, in _fit_and_score\n",
            "    estimator.fit(X_train, y_train, **fit_params)\n",
            "  File \"/usr/local/lib/python3.7/dist-packages/xgboost/sklearn.py\", line 732, in fit\n",
            "    callbacks=callbacks)\n",
            "  File \"/usr/local/lib/python3.7/dist-packages/xgboost/training.py\", line 216, in train\n",
            "    xgb_model=xgb_model, callbacks=callbacks)\n",
            "  File \"/usr/local/lib/python3.7/dist-packages/xgboost/training.py\", line 74, in _train_internal\n",
            "    bst.update(dtrain, i, obj)\n",
            "  File \"/usr/local/lib/python3.7/dist-packages/xgboost/core.py\", line 1109, in update\n",
            "    dtrain.handle))\n",
            "  File \"/usr/local/lib/python3.7/dist-packages/xgboost/core.py\", line 176, in _check_call\n",
            "    raise XGBoostError(py_str(_LIB.XGBGetLastError()))\n",
            "xgboost.core.XGBoostError: value 1.5 for Parameter colsample_bytree exceed bound [0,1]\n",
            "\n",
            "--------------------------------------------------------------------------------\n",
            "10 fits failed with the following error:\n",
            "Traceback (most recent call last):\n",
            "  File \"/usr/local/lib/python3.7/dist-packages/sklearn/model_selection/_validation.py\", line 680, in _fit_and_score\n",
            "    estimator.fit(X_train, y_train, **fit_params)\n",
            "  File \"/usr/local/lib/python3.7/dist-packages/xgboost/sklearn.py\", line 732, in fit\n",
            "    callbacks=callbacks)\n",
            "  File \"/usr/local/lib/python3.7/dist-packages/xgboost/training.py\", line 216, in train\n",
            "    xgb_model=xgb_model, callbacks=callbacks)\n",
            "  File \"/usr/local/lib/python3.7/dist-packages/xgboost/training.py\", line 74, in _train_internal\n",
            "    bst.update(dtrain, i, obj)\n",
            "  File \"/usr/local/lib/python3.7/dist-packages/xgboost/core.py\", line 1109, in update\n",
            "    dtrain.handle))\n",
            "  File \"/usr/local/lib/python3.7/dist-packages/xgboost/core.py\", line 176, in _check_call\n",
            "    raise XGBoostError(py_str(_LIB.XGBGetLastError()))\n",
            "xgboost.core.XGBoostError: value 1.5 for Parameter subsample exceed bound [0,1]\n",
            "\n",
            "  warnings.warn(some_fits_failed_message, FitFailedWarning)\n",
            "/usr/local/lib/python3.7/dist-packages/sklearn/model_selection/_search.py:972: UserWarning: One or more of the test scores are non-finite: [0.79692316 0.65817842 0.65950551 0.70720257        nan 0.7016059\n",
            "        nan 0.89799016 0.72030006 0.71935754]\n",
            "  category=UserWarning,\n",
            "/usr/local/lib/python3.7/dist-packages/sklearn/preprocessing/_label.py:98: DataConversionWarning: A column-vector y was passed when a 1d array was expected. Please change the shape of y to (n_samples, ), for example using ravel().\n",
            "  y = column_or_1d(y, warn=True)\n",
            "/usr/local/lib/python3.7/dist-packages/sklearn/preprocessing/_label.py:133: DataConversionWarning: A column-vector y was passed when a 1d array was expected. Please change the shape of y to (n_samples, ), for example using ravel().\n",
            "  y = column_or_1d(y, warn=True)\n"
          ]
        },
        {
          "output_type": "stream",
          "name": "stdout",
          "text": [
            "\n",
            "\n",
            "Mejores parametros {'subsample': 1.0, 'min_child_weight': 1, 'max_depth': 20, 'gamma': 0.5, 'criterion': 'entropy', 'colsample_bytree': 0.6}\n",
            "Mejor score de CV 0.8979901571308091\n",
            "Accuracy del modelo = 0.9013\n"
          ]
        }
      ]
    },
    {
      "cell_type": "code",
      "source": [
        "Mejores_parametros= {'subsample': 0.8, 'min_child_weight': 1, 'max_depth': 10, 'gamma': 1.5, 'criterion': 'entropy', 'colsample_bytree': 0.8}\n",
        "Mejores_parametros\n"
      ],
      "metadata": {
        "colab": {
          "base_uri": "https://localhost:8080/"
        },
        "id": "P6lmPdm_Qy2u",
        "outputId": "c77551bb-dd09-4c01-be0c-b73061b106b1"
      },
      "execution_count": null,
      "outputs": [
        {
          "output_type": "execute_result",
          "data": {
            "text/plain": [
              "{'colsample_bytree': 0.8,\n",
              " 'criterion': 'entropy',\n",
              " 'gamma': 1.5,\n",
              " 'max_depth': 10,\n",
              " 'min_child_weight': 1,\n",
              " 'subsample': 0.8}"
            ]
          },
          "metadata": {},
          "execution_count": 118
        }
      ]
    },
    {
      "cell_type": "markdown",
      "source": [
        "## LightGBM"
      ],
      "metadata": {
        "id": "McdFDBXr9Vmz"
      }
    },
    {
      "cell_type": "code",
      "source": [
        "!pip install lightgbm"
      ],
      "metadata": {
        "colab": {
          "base_uri": "https://localhost:8080/"
        },
        "id": "PUJALk3G9UJO",
        "outputId": "c5b36579-efcb-47a4-ec12-f980ff7ff572"
      },
      "execution_count": null,
      "outputs": [
        {
          "output_type": "stream",
          "name": "stdout",
          "text": [
            "Looking in indexes: https://pypi.org/simple, https://us-python.pkg.dev/colab-wheels/public/simple/\n",
            "Requirement already satisfied: lightgbm in /usr/local/lib/python3.7/dist-packages (2.2.3)\n",
            "Requirement already satisfied: numpy in /usr/local/lib/python3.7/dist-packages (from lightgbm) (1.21.6)\n",
            "Requirement already satisfied: scipy in /usr/local/lib/python3.7/dist-packages (from lightgbm) (1.4.1)\n",
            "Requirement already satisfied: scikit-learn in /usr/local/lib/python3.7/dist-packages (from lightgbm) (1.0.2)\n",
            "Requirement already satisfied: threadpoolctl>=2.0.0 in /usr/local/lib/python3.7/dist-packages (from scikit-learn->lightgbm) (3.1.0)\n",
            "Requirement already satisfied: joblib>=0.11 in /usr/local/lib/python3.7/dist-packages (from scikit-learn->lightgbm) (1.1.0)\n"
          ]
        }
      ]
    },
    {
      "cell_type": "code",
      "source": [
        "import lightgbm as lgb #pip install lightgbm\n",
        "clf = lgb.LGBMClassifier(boosting_type='gbdt',max_depth=5,learning_rate=0.1,n_estimators=5)\n",
        "clf.fit(X_train, y_train)\n",
        "y_pred=clf.predict(X_test)"
      ],
      "metadata": {
        "colab": {
          "base_uri": "https://localhost:8080/"
        },
        "id": "upn-wic19ikJ",
        "outputId": "d0394513-e0a6-47c8-f904-70ab465a97d7"
      },
      "execution_count": null,
      "outputs": [
        {
          "output_type": "stream",
          "name": "stderr",
          "text": [
            "/usr/local/lib/python3.7/dist-packages/sklearn/preprocessing/_label.py:98: DataConversionWarning: A column-vector y was passed when a 1d array was expected. Please change the shape of y to (n_samples, ), for example using ravel().\n",
            "  y = column_or_1d(y, warn=True)\n",
            "/usr/local/lib/python3.7/dist-packages/sklearn/preprocessing/_label.py:133: DataConversionWarning: A column-vector y was passed when a 1d array was expected. Please change the shape of y to (n_samples, ), for example using ravel().\n",
            "  y = column_or_1d(y, warn=True)\n"
          ]
        }
      ]
    },
    {
      "cell_type": "code",
      "source": [
        "#Accuracy\n",
        "from sklearn.metrics import accuracy_score\n",
        "accuracy=accuracy_score(y_pred, y_test)\n",
        "print('LightGBM Model accuracy score: {0:0.4f}'.format(accuracy_score(y_test, y_pred)))"
      ],
      "metadata": {
        "colab": {
          "base_uri": "https://localhost:8080/"
        },
        "id": "BZw8R7Vp9jlH",
        "outputId": "37228c9d-6c5d-4835-dc72-8aeb0ae47c91"
      },
      "execution_count": null,
      "outputs": [
        {
          "output_type": "stream",
          "name": "stdout",
          "text": [
            "LightGBM Model accuracy score: 0.6556\n"
          ]
        }
      ]
    },
    {
      "cell_type": "markdown",
      "source": [
        "## Gradient Boosting"
      ],
      "metadata": {
        "id": "Hboy9tDW30gg"
      }
    },
    {
      "cell_type": "code",
      "source": [
        "from sklearn.ensemble import GradientBoostingRegressor\n",
        "from sklearn.model_selection import train_test_split\n",
        "from scipy.stats import uniform as sp_randFloat\n",
        "from scipy.stats import randint as sp_randInt\n",
        "X_train, X_test, y_train, y_test = train_test_split(x, y, random_state = 0)"
      ],
      "metadata": {
        "id": "sRwPuqb45HSy"
      },
      "execution_count": null,
      "outputs": []
    },
    {
      "cell_type": "code",
      "source": [
        "#Ahora comparemos con GBM\n",
        "from sklearn.ensemble import GradientBoostingClassifier\n",
        "gbrt = GradientBoostingClassifier(random_state = 42,learning_rate=0.1, n_estimators=50)\n",
        "gbrt.fit(X_train, y_train)\n",
        "gbrt.score(X_test, y_test)"
      ],
      "metadata": {
        "colab": {
          "base_uri": "https://localhost:8080/"
        },
        "id": "aCUvtXCV5MfD",
        "outputId": "2fc47a01-f013-44ac-d047-d011cfe2f0c8"
      },
      "execution_count": null,
      "outputs": [
        {
          "output_type": "stream",
          "name": "stderr",
          "text": [
            "/usr/local/lib/python3.7/dist-packages/sklearn/ensemble/_gb.py:494: DataConversionWarning: A column-vector y was passed when a 1d array was expected. Please change the shape of y to (n_samples, ), for example using ravel().\n",
            "  y = column_or_1d(y, warn=True)\n"
          ]
        },
        {
          "output_type": "execute_result",
          "data": {
            "text/plain": [
              "0.6652717090282478"
            ]
          },
          "metadata": {},
          "execution_count": 123
        }
      ]
    },
    {
      "cell_type": "code",
      "source": [
        "gbrt=GradientBoostingClassifier(random_state = 42)"
      ],
      "metadata": {
        "id": "AEnRM6-jXIeD"
      },
      "execution_count": null,
      "outputs": []
    },
    {
      "cell_type": "code",
      "source": [
        "params_gradient = {\n",
        "        'subsample': [0.6, 0.8, 1.0,1.5],\n",
        "        'max_depth': [1,5,6,7,10],\n",
        "        \"learning_rate\": sp_randFloat(),\n",
        "        \"subsample\"    : sp_randFloat(),\n",
        "        \"n_estimators\" : sp_randInt(10, 100),    \n",
        "                 }\n",
        "\n"
      ],
      "metadata": {
        "id": "6g5Ex56GWFth"
      },
      "execution_count": null,
      "outputs": []
    },
    {
      "cell_type": "markdown",
      "source": [
        "### Randomized Search CV - Gradient Boosting"
      ],
      "metadata": {
        "id": "Cdr4rADwhpNO"
      }
    },
    {
      "cell_type": "code",
      "source": [
        "grid_cv = RandomizedSearchCV(gbrt, params_gradient, scoring=\"accuracy\", n_jobs=-1, cv=cv_1)\n",
        "grid_cv.fit(X_train, y_train)\n",
        "print(\"\\n\")\n",
        "print(\"Mejores parametros\", grid_cv.best_params_)\n",
        "print(\"Mejor score de CV\", grid_cv.best_score_)\n",
        "print(f'Accuracy del modelo = {round(accuracy_score(y_test, grid_cv.predict(X_test)), 5)}')"
      ],
      "metadata": {
        "colab": {
          "base_uri": "https://localhost:8080/"
        },
        "id": "-AxdsnlqXN1y",
        "outputId": "1b74d652-7162-4fe4-e132-5dc0a20accfc"
      },
      "execution_count": null,
      "outputs": [
        {
          "output_type": "stream",
          "name": "stderr",
          "text": [
            "/usr/local/lib/python3.7/dist-packages/sklearn/ensemble/_gb.py:494: DataConversionWarning: A column-vector y was passed when a 1d array was expected. Please change the shape of y to (n_samples, ), for example using ravel().\n",
            "  y = column_or_1d(y, warn=True)\n"
          ]
        },
        {
          "output_type": "stream",
          "name": "stdout",
          "text": [
            "\n",
            "\n",
            "Mejores parametros {'learning_rate': 0.5288023980032126, 'max_depth': 7, 'n_estimators': 95, 'subsample': 0.7336244953088877}\n",
            "Mejor score de CV 0.8747973738202708\n",
            "Accuracy del modelo = 0.86578\n"
          ]
        }
      ]
    }
  ]
}