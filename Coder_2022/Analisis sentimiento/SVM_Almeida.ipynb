{
 "cells": [
  {
   "cell_type": "code",
   "execution_count": 1,
   "metadata": {
    "id": "F0x1NrC2krGI"
   },
   "outputs": [],
   "source": [
    "#Bibliotecas\n",
    "import json\n",
    "import gzip\n",
    "import pandas as pd\n",
    "#import pandas_profiling\n",
    "\n",
    "import numpy as np\n",
    "\n",
    "import seaborn as sns\n",
    "import matplotlib.pyplot as plt\n",
    "%matplotlib inline\n",
    "\n",
    "from urllib.request import urlopen"
   ]
  },
  {
   "cell_type": "code",
   "execution_count": 2,
   "metadata": {
    "id": "hMqnw7_akrGN",
    "outputId": "871208bc-31da-499f-f2ed-2a2ab9530084"
   },
   "outputs": [
    {
     "name": "stdout",
     "output_type": "stream",
     "text": [
      "1584082\n"
     ]
    }
   ],
   "source": [
    "# Cargar los datos\n",
    "\n",
    "data = []\n",
    "with gzip.open('Digital_Music.json.gz') as f:\n",
    "    for l in f:\n",
    "        data.append(json.loads(l.strip()))\n",
    "\n",
    "#Normalizar las columnas para separar style.Format:\n",
    "data2 = pd.json_normalize(data)\n",
    "\n",
    "#Convertir la lista a un dataframe de pandas\n",
    "df = pd.DataFrame.from_dict(data2)\n",
    "\n",
    "#Cantidad de datos en el dataframe\n",
    "print(len(df))"
   ]
  },
  {
   "cell_type": "code",
   "execution_count": 3,
   "metadata": {
    "id": "aRAcYIkckrGP"
   },
   "outputs": [],
   "source": [
    "###TRANSFORMACIONES\n",
    "#Se eliminan las columnas que no se utilizaran\n",
    "df = df.drop(['asin', 'unixReviewTime', 'image', 'reviewerName', 'style.Color:', 'style.Size:'], axis=1)\n",
    "\n",
    "#Se crea la nueva columna en donde se categoriza el sentimiento postivo (1) y negativo (0)\n",
    "df['sentiment'] = np.where(df['overall']>3, '1', '0')\n",
    "\n",
    "#Cambiar el formato del reviewTime para transformarla a datetime\n",
    "df['reviewTime'] = df['reviewTime'].str.replace(' ', ',')\n",
    "df['reviewTime'] = df['reviewTime'].str.replace(',,', ',')\n",
    "df['reviewTime'] = df['reviewTime'].str.replace(',', '-')\n",
    "df['reviewTime'] = pd.to_datetime(df['reviewTime'], infer_datetime_format=True)"
   ]
  },
  {
   "cell_type": "code",
   "execution_count": 4,
   "metadata": {},
   "outputs": [],
   "source": [
    "#Se eliminan las filas de datos que correspondan a un estilo de formato distinto a Vinyl, Audio CD y MP3 Music.\n",
    "indexNames = df[ (df['style.Format:'] != ' Vinyl')\n",
    "                & (df['style.Format:'] != ' Audio CD')\n",
    "                & (df['style.Format:'] != ' MP3 Music') ].index\n",
    "df.drop(indexNames , inplace=True)"
   ]
  },
  {
   "cell_type": "code",
   "execution_count": 5,
   "metadata": {
    "id": "041IFC9ckrGQ",
    "outputId": "7833a8ab-1db4-4f73-cc51-d69ceb2768dd"
   },
   "outputs": [
    {
     "data": {
      "text/plain": [
       "0"
      ]
     },
     "execution_count": 5,
     "metadata": {},
     "output_type": "execute_result"
    }
   ],
   "source": [
    "#Llenar los NaN de la columna 'vote' con 0 para hacer el análisis\n",
    "df['vote'] = df['vote'].str.replace(',', '').astype(float)\n",
    "df['vote'] = df['vote'].fillna(0)\n",
    "df['vote'] = df['vote'].dropna()\n",
    "df['vote'] = df['vote'].astype(int)\n",
    "df['vote'].isna().sum()"
   ]
  },
  {
   "cell_type": "code",
   "execution_count": 6,
   "metadata": {
    "id": "jPAo04StkrGT",
    "outputId": "f09c3f15-7fa5-4b82-bca7-55f4728ee725"
   },
   "outputs": [
    {
     "name": "stdout",
     "output_type": "stream",
     "text": [
      "1306426\n"
     ]
    }
   ],
   "source": [
    "#Se crea una columna con el conteo de caracteres\n",
    "df[\"review_length\"]= df[\"reviewText\"].str.len()\n",
    "\n",
    "#Eliminacion de datos nulos en el dataframe\n",
    "df = df.dropna()\n",
    "\n",
    "#Asignar tipos de datos correcto a cada columna\n",
    "df['review_length'] = df['review_length'].astype(int)\n",
    "df['overall'] = df['overall'].astype(int)\n",
    "df[\"sentiment\"]=df['sentiment'].astype(int)\n",
    "\n",
    "#Cantidad de datos en el dataframe\n",
    "print(len(df))"
   ]
  },
  {
   "cell_type": "code",
   "execution_count": 7,
   "metadata": {
    "id": "udnwc7OSkrGU",
    "outputId": "ef8292bb-3eea-4503-9b2d-f125d7e3d43b"
   },
   "outputs": [
    {
     "data": {
      "text/plain": [
       "overall                   int32\n",
       "verified                   bool\n",
       "reviewTime       datetime64[ns]\n",
       "reviewerID               object\n",
       "reviewText               object\n",
       "summary                  object\n",
       "style.Format:            object\n",
       "vote                      int32\n",
       "sentiment                 int32\n",
       "review_length             int32\n",
       "dtype: object"
      ]
     },
     "execution_count": 7,
     "metadata": {},
     "output_type": "execute_result"
    }
   ],
   "source": [
    "#Verificacion de tipos de datos\n",
    "df.dtypes"
   ]
  },
  {
   "cell_type": "code",
   "execution_count": 8,
   "metadata": {
    "id": "6oGFNRemkrGV",
    "outputId": "8bdcaf26-f6b3-4f30-d68f-ac6dce22f482"
   },
   "outputs": [
    {
     "data": {
      "text/plain": [
       "overall          0\n",
       "verified         0\n",
       "reviewTime       0\n",
       "reviewerID       0\n",
       "reviewText       0\n",
       "summary          0\n",
       "style.Format:    0\n",
       "vote             0\n",
       "sentiment        0\n",
       "review_length    0\n",
       "dtype: int64"
      ]
     },
     "execution_count": 8,
     "metadata": {},
     "output_type": "execute_result"
    }
   ],
   "source": [
    "#Revisar cantidad de nulos\n",
    "df.isna().sum()"
   ]
  },
  {
   "cell_type": "code",
   "execution_count": 9,
   "metadata": {
    "id": "YICoqn10krGW"
   },
   "outputs": [],
   "source": [
    "##SI SE VA HACER EL ANALISIS BIVARIADO AGREGAR ESTE FILTRO. DE RESTO DEJARLO COMENTADO YA QUE AL NO FILTRARLO NO DA LA CAPACIDAD PARA CORRER\n",
    "df = df[df['reviewTime'] >= '01-01-2016']"
   ]
  },
  {
   "cell_type": "code",
   "execution_count": 10,
   "metadata": {
    "id": "doVhV-9pkrGX",
    "outputId": "979f2791-39b8-43cc-ceb7-3b2189f5ea93"
   },
   "outputs": [
    {
     "name": "stdout",
     "output_type": "stream",
     "text": [
      "AxesSubplot(0.260833,0.125;0.503333x0.755)\n"
     ]
    },
    {
     "data": {
      "image/png": "[encoded data removed]",
      "text/plain": [
       "<Figure size 432x288 with 1 Axes>"
      ]
     },
     "metadata": {},
     "output_type": "display_data"
    }
   ],
   "source": [
    "###ANALISIS UNIVARIADO\n",
    "#Pie Chart, porcentajes de OverAll \n",
    "df_overall = df[['reviewerID', 'overall']]\n",
    "pie_overall = df_overall.groupby('overall').agg('count')\n",
    "pie_overall = pie_overall.rename(columns={'reviewerID': 'Frecuencia'})\n",
    "pie_overall\n",
    "\n",
    "axis = pie_overall.plot.pie(y='Frecuencia', autopct=\"%.1f%%\", rot=0)\n",
    "print(axis)\n",
    "plt.show()\n"
   ]
  },
  {
   "cell_type": "code",
   "execution_count": 11,
   "metadata": {
    "id": "ZvldHdUmkrGX",
    "outputId": "87e083a9-f99f-4bee-dd3d-481041d660d1"
   },
   "outputs": [
    {
     "data": {
      "image/png": "[encoded data removed]",
      "text/plain": [
       "<Figure size 432x288 with 1 Axes>"
      ]
     },
     "metadata": {
      "needs_background": "light"
     },
     "output_type": "display_data"
    }
   ],
   "source": [
    "#Cantidad de sentimientos positivos y negativos\n",
    "dfbp = pd.DataFrame({'count': df.groupby([ 'sentiment']).size()})\n",
    "dfbp.head(5)\n",
    "\n",
    "grafico = dfbp.plot.bar(y='count', rot=0)\n",
    "plt.title(\"Amount of positive and negative sentiments\")\n",
    "plt.xlabel(\"Sentiment\")\n",
    "plt.ylabel(\"Q per Sentiment\")\n",
    "\n",
    "plt.show()"
   ]
  },
  {
   "cell_type": "code",
   "execution_count": 12,
   "metadata": {
    "id": "5o3GClJBkrGY",
    "outputId": "232d0df6-14c4-4458-a32c-86bc8c1f1458"
   },
   "outputs": [
    {
     "data": {
      "image/png": "[encoded data removed]",
      "text/plain": [
       "<Figure size 432x288 with 1 Axes>"
      ]
     },
     "metadata": {
      "needs_background": "light"
     },
     "output_type": "display_data"
    }
   ],
   "source": [
    "#Baplot para identificar el top 3 de Format \n",
    "def addlabels(x,y):\n",
    "    for i in range(len(x)):\n",
    "        plt.text(i,y[i],y[i])\n",
    "\n",
    "dfformat = pd.DataFrame({'count': df.groupby(['style.Format:']).size()})\n",
    "dflargest = dfformat.nlargest(3, 'count')\n",
    "\n",
    "dflargest = dflargest.reset_index()\n",
    "\n",
    "axis = dflargest.plot.bar(y='count', rot=0)\n",
    "plt.title(\"Top 3 Music Format\")\n",
    "plt.xlabel(\"Formats\")\n",
    "plt.ylabel(\"Total number per format\")\n",
    "addlabels(dflargest['style.Format:'], dflargest['count'])\n",
    "plt.show()"
   ]
  },
  {
   "cell_type": "code",
   "execution_count": 13,
   "metadata": {
    "id": "VBrFX2J4krGZ"
   },
   "outputs": [],
   "source": [
    "###ANALISIS BIVARIADO\n",
    "##Recordar descomentar este apartado despues de agregar el filtro de fecha para que se puedan procesar bien los datos para el anállisis Bvariado\n",
    "#prof = pandas_profiling.ProfileReport(df)\n",
    "#prof"
   ]
  },
  {
   "cell_type": "code",
   "execution_count": 14,
   "metadata": {
    "id": "dnpyTnIVkrGa",
    "outputId": "0da32741-1110-4ed5-9a76-b3658c118c49"
   },
   "outputs": [
    {
     "name": "stdout",
     "output_type": "stream",
     "text": [
      "(380939.0, 0.0, 4)\n"
     ]
    },
    {
     "data": {
      "text/html": [
       "<div>\n",
       "<style scoped>\n",
       "    .dataframe tbody tr th:only-of-type {\n",
       "        vertical-align: middle;\n",
       "    }\n",
       "\n",
       "    .dataframe tbody tr th {\n",
       "        vertical-align: top;\n",
       "    }\n",
       "\n",
       "    .dataframe thead th {\n",
       "        text-align: right;\n",
       "    }\n",
       "</style>\n",
       "<table border=\"1\" class=\"dataframe\">\n",
       "  <thead>\n",
       "    <tr style=\"text-align: right;\">\n",
       "      <th>sentiment</th>\n",
       "      <th>0</th>\n",
       "      <th>1</th>\n",
       "    </tr>\n",
       "    <tr>\n",
       "      <th>overall</th>\n",
       "      <th></th>\n",
       "      <th></th>\n",
       "    </tr>\n",
       "  </thead>\n",
       "  <tbody>\n",
       "    <tr>\n",
       "      <th>1</th>\n",
       "      <td>10666</td>\n",
       "      <td>0</td>\n",
       "    </tr>\n",
       "    <tr>\n",
       "      <th>2</th>\n",
       "      <td>5211</td>\n",
       "      <td>0</td>\n",
       "    </tr>\n",
       "    <tr>\n",
       "      <th>3</th>\n",
       "      <td>12487</td>\n",
       "      <td>0</td>\n",
       "    </tr>\n",
       "    <tr>\n",
       "      <th>4</th>\n",
       "      <td>0</td>\n",
       "      <td>36723</td>\n",
       "    </tr>\n",
       "    <tr>\n",
       "      <th>5</th>\n",
       "      <td>0</td>\n",
       "      <td>315852</td>\n",
       "    </tr>\n",
       "  </tbody>\n",
       "</table>\n",
       "</div>"
      ],
      "text/plain": [
       "sentiment      0       1\n",
       "overall                 \n",
       "1          10666       0\n",
       "2           5211       0\n",
       "3          12487       0\n",
       "4              0   36723\n",
       "5              0  315852"
      ]
     },
     "execution_count": 14,
     "metadata": {},
     "output_type": "execute_result"
    }
   ],
   "source": [
    "#### Agrupación sentiment vs overall para análisis númerico con categórico\n",
    "df_s_o=df.groupby('sentiment')['overall'].mean()\n",
    "###Creación de tabla para comparar dos variables categóricas (overall y sentiment)\n",
    "df_s_o=pd.crosstab(df['overall'],df['sentiment'])\n",
    "from scipy.stats import chi2_contingency\n",
    "value=df_s_o.values\n",
    "print(chi2_contingency(value)[0:3])\n",
    "df_s_o\n",
    "# Se confirma que la división de sentimiento positivo(1) negativo (0) fue hecha de manera correcta, ya que se ve una media para el sentimiento negativo de 1.76 y para un sentimiento positivo de 4.8\n",
    "#Hay dependencia entre la variable de sentimiento y el overall"
   ]
  },
  {
   "cell_type": "code",
   "execution_count": 15,
   "metadata": {
    "id": "Ws5Ts1vAkrGb",
    "outputId": "60082e08-001f-45ce-c92f-3a828f24dbfb"
   },
   "outputs": [
    {
     "data": {
      "text/plain": [
       "sentiment\n",
       "0    215.177831\n",
       "1    121.263311\n",
       "Name: review_length, dtype: float64"
      ]
     },
     "execution_count": 15,
     "metadata": {},
     "output_type": "execute_result"
    }
   ],
   "source": [
    "df_s_r=df.groupby('sentiment')['review_length'].mean()\n",
    "\n",
    "df_s_r\n",
    "#No existe ninguna relación significativa entre la cantidad de caracteres del comentario y el sentimiento generado "
   ]
  },
  {
   "cell_type": "code",
   "execution_count": 16,
   "metadata": {
    "id": "cuoDfY01krGb",
    "outputId": "9b3077fb-d557-4781-c50c-8ff26d987e18"
   },
   "outputs": [
    {
     "name": "stdout",
     "output_type": "stream",
     "text": [
      "(2460.6694605186512, 0.0, 2)\n"
     ]
    }
   ],
   "source": [
    "###Creación de tabla para comparar dos variables categóricas (style.Format: y sentiment)\n",
    "df_s_s=pd.crosstab(df['style.Format:'],df['sentiment'])\n",
    "from scipy.stats import chi2_contingency\n",
    "value=df_s_s.values\n",
    "print(chi2_contingency(value)[0:3])"
   ]
  },
  {
   "cell_type": "code",
   "execution_count": 17,
   "metadata": {
    "id": "DjcrXTFUkrGc",
    "outputId": "8d598425-319a-429a-e1e5-cf08af845d8b"
   },
   "outputs": [
    {
     "data": {
      "text/html": [
       "<div>\n",
       "<style scoped>\n",
       "    .dataframe tbody tr th:only-of-type {\n",
       "        vertical-align: middle;\n",
       "    }\n",
       "\n",
       "    .dataframe tbody tr th {\n",
       "        vertical-align: top;\n",
       "    }\n",
       "\n",
       "    .dataframe thead th {\n",
       "        text-align: right;\n",
       "    }\n",
       "</style>\n",
       "<table border=\"1\" class=\"dataframe\">\n",
       "  <thead>\n",
       "    <tr style=\"text-align: right;\">\n",
       "      <th>sentiment</th>\n",
       "      <th>0</th>\n",
       "      <th>1</th>\n",
       "    </tr>\n",
       "    <tr>\n",
       "      <th>style.Format:</th>\n",
       "      <th></th>\n",
       "      <th></th>\n",
       "    </tr>\n",
       "  </thead>\n",
       "  <tbody>\n",
       "    <tr>\n",
       "      <th>Audio CD</th>\n",
       "      <td>9417</td>\n",
       "      <td>81765</td>\n",
       "    </tr>\n",
       "    <tr>\n",
       "      <th>MP3 Music</th>\n",
       "      <td>17178</td>\n",
       "      <td>259714</td>\n",
       "    </tr>\n",
       "    <tr>\n",
       "      <th>Vinyl</th>\n",
       "      <td>1769</td>\n",
       "      <td>11096</td>\n",
       "    </tr>\n",
       "  </tbody>\n",
       "</table>\n",
       "</div>"
      ],
      "text/plain": [
       "sentiment          0       1\n",
       "style.Format:               \n",
       " Audio CD       9417   81765\n",
       " MP3 Music     17178  259714\n",
       " Vinyl          1769   11096"
      ]
     },
     "execution_count": 17,
     "metadata": {},
     "output_type": "execute_result"
    }
   ],
   "source": [
    "df_s_s"
   ]
  },
  {
   "cell_type": "code",
   "execution_count": 18,
   "metadata": {
    "id": "68ZTznSokrGc"
   },
   "outputs": [],
   "source": [
    "#Ho : si hay independencia entre sentimiento y el formato en el que viene la música\n",
    "#Ha: si hay dependencia entre sentimiento y el formato en el que viene la música\n",
    "#Como el P valor es menor al número de significancia entonces se rechaza la Ho, por lo cual si existe una dependencia entre el formato y el sentimiento, siento el top 3 el CD,MP3 y Vinyl."
   ]
  },
  {
   "cell_type": "code",
   "execution_count": 19,
   "metadata": {
    "id": "3N8yZKvYkrGc",
    "outputId": "cd2d52e6-dff8-44c9-e3cb-9dca55ddd10b"
   },
   "outputs": [
    {
     "name": "stdout",
     "output_type": "stream",
     "text": [
      "(2142.9518762678154, 0.0, 1)\n"
     ]
    },
    {
     "data": {
      "text/html": [
       "<div>\n",
       "<style scoped>\n",
       "    .dataframe tbody tr th:only-of-type {\n",
       "        vertical-align: middle;\n",
       "    }\n",
       "\n",
       "    .dataframe tbody tr th {\n",
       "        vertical-align: top;\n",
       "    }\n",
       "\n",
       "    .dataframe thead th {\n",
       "        text-align: right;\n",
       "    }\n",
       "</style>\n",
       "<table border=\"1\" class=\"dataframe\">\n",
       "  <thead>\n",
       "    <tr style=\"text-align: right;\">\n",
       "      <th>sentiment</th>\n",
       "      <th>0</th>\n",
       "      <th>1</th>\n",
       "    </tr>\n",
       "    <tr>\n",
       "      <th>verified</th>\n",
       "      <th></th>\n",
       "      <th></th>\n",
       "    </tr>\n",
       "  </thead>\n",
       "  <tbody>\n",
       "    <tr>\n",
       "      <th>False</th>\n",
       "      <td>6065</td>\n",
       "      <td>41950</td>\n",
       "    </tr>\n",
       "    <tr>\n",
       "      <th>True</th>\n",
       "      <td>22299</td>\n",
       "      <td>310625</td>\n",
       "    </tr>\n",
       "  </tbody>\n",
       "</table>\n",
       "</div>"
      ],
      "text/plain": [
       "sentiment      0       1\n",
       "verified                \n",
       "False       6065   41950\n",
       "True       22299  310625"
      ]
     },
     "execution_count": 19,
     "metadata": {},
     "output_type": "execute_result"
    }
   ],
   "source": [
    "###Creación de tabla para comparar dos variables categóricas (verified y sentiment)\n",
    "df_v_s=pd.crosstab(df['verified'],df['sentiment'])\n",
    "from scipy.stats import chi2_contingency\n",
    "value=df_v_s.values\n",
    "print(chi2_contingency(value)[0:3])\n",
    "df_v_s\n",
    "\n",
    "#Ho : si hay independencia entre sentimiento y el comentario verificado \n",
    "#Ha: si hay dependencia entre sentimiento y el comentario verificado \n",
    "#Como el P valor es menor al número de significancia entonces se rechaza la Ho, por lo cual si existe una dependencia entre el comentario verificado y el sentimiento\n"
   ]
  },
  {
   "cell_type": "code",
   "execution_count": 20,
   "metadata": {
    "id": "-AxSNqhIkrGd",
    "outputId": "3252294d-7d58-4487-aad8-89059a0e8310"
   },
   "outputs": [
    {
     "data": {
      "text/plain": [
       "overall\n",
       "1    1.154228\n",
       "2    0.700249\n",
       "3    0.329543\n",
       "4    0.168124\n",
       "5    0.156576\n",
       "Name: vote, dtype: float64"
      ]
     },
     "execution_count": 20,
     "metadata": {},
     "output_type": "execute_result"
    }
   ],
   "source": [
    "df_s_v=df.groupby('overall')['vote'].mean()\n",
    "df_s_v\n",
    "\n",
    "#Los votos disminuyen a medida que el overall aumentan"
   ]
  },
  {
   "cell_type": "code",
   "execution_count": 21,
   "metadata": {},
   "outputs": [
    {
     "data": {
      "text/html": [
       "<div>\n",
       "<style scoped>\n",
       "    .dataframe tbody tr th:only-of-type {\n",
       "        vertical-align: middle;\n",
       "    }\n",
       "\n",
       "    .dataframe tbody tr th {\n",
       "        vertical-align: top;\n",
       "    }\n",
       "\n",
       "    .dataframe thead th {\n",
       "        text-align: right;\n",
       "    }\n",
       "</style>\n",
       "<table border=\"1\" class=\"dataframe\">\n",
       "  <thead>\n",
       "    <tr style=\"text-align: right;\">\n",
       "      <th></th>\n",
       "      <th>overall</th>\n",
       "      <th>verified</th>\n",
       "      <th>reviewTime</th>\n",
       "      <th>reviewerID</th>\n",
       "      <th>reviewText</th>\n",
       "      <th>summary</th>\n",
       "      <th>style.Format:</th>\n",
       "      <th>vote</th>\n",
       "      <th>sentiment</th>\n",
       "      <th>review_length</th>\n",
       "    </tr>\n",
       "  </thead>\n",
       "  <tbody>\n",
       "    <tr>\n",
       "      <th>146</th>\n",
       "      <td>5</td>\n",
       "      <td>True</td>\n",
       "      <td>2016-02-16</td>\n",
       "      <td>ASLU49IONJYFK</td>\n",
       "      <td>The best Christian music about the life of Chr...</td>\n",
       "      <td>Music to my soul.</td>\n",
       "      <td>MP3 Music</td>\n",
       "      <td>0</td>\n",
       "      <td>1</td>\n",
       "      <td>50</td>\n",
       "    </tr>\n",
       "    <tr>\n",
       "      <th>147</th>\n",
       "      <td>5</td>\n",
       "      <td>True</td>\n",
       "      <td>2016-01-05</td>\n",
       "      <td>A2Z5Q2YOVHFLLC</td>\n",
       "      <td>Beautiful!</td>\n",
       "      <td>Five Stars</td>\n",
       "      <td>Audio CD</td>\n",
       "      <td>0</td>\n",
       "      <td>1</td>\n",
       "      <td>10</td>\n",
       "    </tr>\n",
       "    <tr>\n",
       "      <th>248</th>\n",
       "      <td>5</td>\n",
       "      <td>True</td>\n",
       "      <td>2017-12-13</td>\n",
       "      <td>A2G68JR8JM3CVK</td>\n",
       "      <td>Great sounds and pace for massage or relaxation!</td>\n",
       "      <td>Five Stars</td>\n",
       "      <td>Audio CD</td>\n",
       "      <td>0</td>\n",
       "      <td>1</td>\n",
       "      <td>48</td>\n",
       "    </tr>\n",
       "    <tr>\n",
       "      <th>249</th>\n",
       "      <td>5</td>\n",
       "      <td>True</td>\n",
       "      <td>2017-10-30</td>\n",
       "      <td>A2REF5NAGDO02L</td>\n",
       "      <td>Ethereal, and a VERY spiritual cd. I had no id...</td>\n",
       "      <td>Ethereal, and a VERY spiritual cd. I had ...</td>\n",
       "      <td>Audio CD</td>\n",
       "      <td>4</td>\n",
       "      <td>1</td>\n",
       "      <td>185</td>\n",
       "    </tr>\n",
       "    <tr>\n",
       "      <th>250</th>\n",
       "      <td>1</td>\n",
       "      <td>False</td>\n",
       "      <td>2017-10-10</td>\n",
       "      <td>A192BGYMUHWF9S</td>\n",
       "      <td>This is completely fake. I am an audio enginee...</td>\n",
       "      <td>This is fake - the melodies are created digita...</td>\n",
       "      <td>Audio CD</td>\n",
       "      <td>15</td>\n",
       "      <td>0</td>\n",
       "      <td>600</td>\n",
       "    </tr>\n",
       "    <tr>\n",
       "      <th>...</th>\n",
       "      <td>...</td>\n",
       "      <td>...</td>\n",
       "      <td>...</td>\n",
       "      <td>...</td>\n",
       "      <td>...</td>\n",
       "      <td>...</td>\n",
       "      <td>...</td>\n",
       "      <td>...</td>\n",
       "      <td>...</td>\n",
       "      <td>...</td>\n",
       "    </tr>\n",
       "    <tr>\n",
       "      <th>1584077</th>\n",
       "      <td>5</td>\n",
       "      <td>True</td>\n",
       "      <td>2018-03-03</td>\n",
       "      <td>AR3KABMPL5L0O</td>\n",
       "      <td>Casting Crowns....you do it so well! Awesome s...</td>\n",
       "      <td>Awesome song!</td>\n",
       "      <td>MP3 Music</td>\n",
       "      <td>0</td>\n",
       "      <td>1</td>\n",
       "      <td>50</td>\n",
       "    </tr>\n",
       "    <tr>\n",
       "      <th>1584078</th>\n",
       "      <td>4</td>\n",
       "      <td>True</td>\n",
       "      <td>2018-01-24</td>\n",
       "      <td>A2N53GHW73INDH</td>\n",
       "      <td>This band has produced many inspiring Christia...</td>\n",
       "      <td>This song in particular speaks about what it's...</td>\n",
       "      <td>MP3 Music</td>\n",
       "      <td>0</td>\n",
       "      <td>1</td>\n",
       "      <td>199</td>\n",
       "    </tr>\n",
       "    <tr>\n",
       "      <th>1584079</th>\n",
       "      <td>5</td>\n",
       "      <td>True</td>\n",
       "      <td>2017-04-21</td>\n",
       "      <td>ABNKLDCCVJKW1</td>\n",
       "      <td>Awesome band and awesome song. This is my next...</td>\n",
       "      <td>Five Stars</td>\n",
       "      <td>MP3 Music</td>\n",
       "      <td>0</td>\n",
       "      <td>1</td>\n",
       "      <td>70</td>\n",
       "    </tr>\n",
       "    <tr>\n",
       "      <th>1584080</th>\n",
       "      <td>5</td>\n",
       "      <td>True</td>\n",
       "      <td>2018-02-23</td>\n",
       "      <td>AMWSDABZWFRAT</td>\n",
       "      <td>Excellent</td>\n",
       "      <td>Five Stars</td>\n",
       "      <td>MP3 Music</td>\n",
       "      <td>0</td>\n",
       "      <td>1</td>\n",
       "      <td>9</td>\n",
       "    </tr>\n",
       "    <tr>\n",
       "      <th>1584081</th>\n",
       "      <td>5</td>\n",
       "      <td>True</td>\n",
       "      <td>2017-05-17</td>\n",
       "      <td>A7K5263R5OUIP</td>\n",
       "      <td>This is a moving song. I used it on Easter mor...</td>\n",
       "      <td>Casting Crowns does it again!</td>\n",
       "      <td>MP3 Music</td>\n",
       "      <td>0</td>\n",
       "      <td>1</td>\n",
       "      <td>168</td>\n",
       "    </tr>\n",
       "  </tbody>\n",
       "</table>\n",
       "<p>380939 rows × 10 columns</p>\n",
       "</div>"
      ],
      "text/plain": [
       "         overall  verified reviewTime      reviewerID  \\\n",
       "146            5      True 2016-02-16   ASLU49IONJYFK   \n",
       "147            5      True 2016-01-05  A2Z5Q2YOVHFLLC   \n",
       "248            5      True 2017-12-13  A2G68JR8JM3CVK   \n",
       "249            5      True 2017-10-30  A2REF5NAGDO02L   \n",
       "250            1     False 2017-10-10  A192BGYMUHWF9S   \n",
       "...          ...       ...        ...             ...   \n",
       "1584077        5      True 2018-03-03   AR3KABMPL5L0O   \n",
       "1584078        4      True 2018-01-24  A2N53GHW73INDH   \n",
       "1584079        5      True 2017-04-21   ABNKLDCCVJKW1   \n",
       "1584080        5      True 2018-02-23   AMWSDABZWFRAT   \n",
       "1584081        5      True 2017-05-17   A7K5263R5OUIP   \n",
       "\n",
       "                                                reviewText  \\\n",
       "146      The best Christian music about the life of Chr...   \n",
       "147                                             Beautiful!   \n",
       "248       Great sounds and pace for massage or relaxation!   \n",
       "249      Ethereal, and a VERY spiritual cd. I had no id...   \n",
       "250      This is completely fake. I am an audio enginee...   \n",
       "...                                                    ...   \n",
       "1584077  Casting Crowns....you do it so well! Awesome s...   \n",
       "1584078  This band has produced many inspiring Christia...   \n",
       "1584079  Awesome band and awesome song. This is my next...   \n",
       "1584080                                          Excellent   \n",
       "1584081  This is a moving song. I used it on Easter mor...   \n",
       "\n",
       "                                                   summary style.Format:  \\\n",
       "146                                      Music to my soul.     MP3 Music   \n",
       "147                                             Five Stars      Audio CD   \n",
       "248                                             Five Stars      Audio CD   \n",
       "249           Ethereal, and a VERY spiritual cd. I had ...      Audio CD   \n",
       "250      This is fake - the melodies are created digita...      Audio CD   \n",
       "...                                                    ...           ...   \n",
       "1584077                                      Awesome song!     MP3 Music   \n",
       "1584078  This song in particular speaks about what it's...     MP3 Music   \n",
       "1584079                                         Five Stars     MP3 Music   \n",
       "1584080                                         Five Stars     MP3 Music   \n",
       "1584081                      Casting Crowns does it again!     MP3 Music   \n",
       "\n",
       "         vote  sentiment  review_length  \n",
       "146         0          1             50  \n",
       "147         0          1             10  \n",
       "248         0          1             48  \n",
       "249         4          1            185  \n",
       "250        15          0            600  \n",
       "...       ...        ...            ...  \n",
       "1584077     0          1             50  \n",
       "1584078     0          1            199  \n",
       "1584079     0          1             70  \n",
       "1584080     0          1              9  \n",
       "1584081     0          1            168  \n",
       "\n",
       "[380939 rows x 10 columns]"
      ]
     },
     "execution_count": 21,
     "metadata": {},
     "output_type": "execute_result"
    }
   ],
   "source": [
    "df"
   ]
  },
  {
   "cell_type": "code",
   "execution_count": 22,
   "metadata": {},
   "outputs": [],
   "source": [
    "#TRANSFORMACIÓN DE VARIABLES NOMINALES A NUMÉRICAS\n",
    "\n",
    "df_numeric = df[['overall', 'vote', 'sentiment', 'review_length']]\n",
    "df_categorical = df[['verified', 'style.Format:']]"
   ]
  },
  {
   "cell_type": "code",
   "execution_count": 23,
   "metadata": {},
   "outputs": [
    {
     "data": {
      "text/html": [
       "<div>\n",
       "<style scoped>\n",
       "    .dataframe tbody tr th:only-of-type {\n",
       "        vertical-align: middle;\n",
       "    }\n",
       "\n",
       "    .dataframe tbody tr th {\n",
       "        vertical-align: top;\n",
       "    }\n",
       "\n",
       "    .dataframe thead th {\n",
       "        text-align: right;\n",
       "    }\n",
       "</style>\n",
       "<table border=\"1\" class=\"dataframe\">\n",
       "  <thead>\n",
       "    <tr style=\"text-align: right;\">\n",
       "      <th></th>\n",
       "      <th>verified</th>\n",
       "      <th>style.Format:</th>\n",
       "    </tr>\n",
       "  </thead>\n",
       "  <tbody>\n",
       "    <tr>\n",
       "      <th>146</th>\n",
       "      <td>True</td>\n",
       "      <td>MP3 Music</td>\n",
       "    </tr>\n",
       "    <tr>\n",
       "      <th>147</th>\n",
       "      <td>True</td>\n",
       "      <td>Audio CD</td>\n",
       "    </tr>\n",
       "    <tr>\n",
       "      <th>248</th>\n",
       "      <td>True</td>\n",
       "      <td>Audio CD</td>\n",
       "    </tr>\n",
       "    <tr>\n",
       "      <th>249</th>\n",
       "      <td>True</td>\n",
       "      <td>Audio CD</td>\n",
       "    </tr>\n",
       "    <tr>\n",
       "      <th>250</th>\n",
       "      <td>False</td>\n",
       "      <td>Audio CD</td>\n",
       "    </tr>\n",
       "    <tr>\n",
       "      <th>...</th>\n",
       "      <td>...</td>\n",
       "      <td>...</td>\n",
       "    </tr>\n",
       "    <tr>\n",
       "      <th>1584077</th>\n",
       "      <td>True</td>\n",
       "      <td>MP3 Music</td>\n",
       "    </tr>\n",
       "    <tr>\n",
       "      <th>1584078</th>\n",
       "      <td>True</td>\n",
       "      <td>MP3 Music</td>\n",
       "    </tr>\n",
       "    <tr>\n",
       "      <th>1584079</th>\n",
       "      <td>True</td>\n",
       "      <td>MP3 Music</td>\n",
       "    </tr>\n",
       "    <tr>\n",
       "      <th>1584080</th>\n",
       "      <td>True</td>\n",
       "      <td>MP3 Music</td>\n",
       "    </tr>\n",
       "    <tr>\n",
       "      <th>1584081</th>\n",
       "      <td>True</td>\n",
       "      <td>MP3 Music</td>\n",
       "    </tr>\n",
       "  </tbody>\n",
       "</table>\n",
       "<p>380939 rows × 2 columns</p>\n",
       "</div>"
      ],
      "text/plain": [
       "         verified style.Format:\n",
       "146          True     MP3 Music\n",
       "147          True      Audio CD\n",
       "248          True      Audio CD\n",
       "249          True      Audio CD\n",
       "250         False      Audio CD\n",
       "...           ...           ...\n",
       "1584077      True     MP3 Music\n",
       "1584078      True     MP3 Music\n",
       "1584079      True     MP3 Music\n",
       "1584080      True     MP3 Music\n",
       "1584081      True     MP3 Music\n",
       "\n",
       "[380939 rows x 2 columns]"
      ]
     },
     "execution_count": 23,
     "metadata": {},
     "output_type": "execute_result"
    }
   ],
   "source": [
    "df_categorical"
   ]
  },
  {
   "cell_type": "code",
   "execution_count": 24,
   "metadata": {},
   "outputs": [
    {
     "name": "stdout",
     "output_type": "stream",
     "text": [
      "[ True False]\n",
      "[' MP3 Music' ' Audio CD' ' Vinyl']\n"
     ]
    }
   ],
   "source": [
    "#Verificar cuales son los valores únicos para codificar\n",
    "print(df['verified'].unique())\n",
    "print(df['style.Format:'].unique())"
   ]
  },
  {
   "cell_type": "code",
   "execution_count": 25,
   "metadata": {},
   "outputs": [],
   "source": [
    "#Codificar verified\n",
    "from sklearn.preprocessing import LabelEncoder\n",
    "\n",
    "verified_encoder = LabelEncoder()\n",
    "verified_encoder.fit(df_categorical['verified'])\n",
    "verified_values = verified_encoder.transform(df_categorical['verified'])"
   ]
  },
  {
   "cell_type": "code",
   "execution_count": 26,
   "metadata": {},
   "outputs": [],
   "source": [
    "#Codificar style.Format: \n",
    "from sklearn.preprocessing import OneHotEncoder\n",
    "\n",
    "format_encoder = OneHotEncoder()\n",
    "format_reshaped = np.array(df_categorical['style.Format:']).reshape(-1, 1)\n",
    "format_values = format_encoder.fit_transform(format_reshaped)"
   ]
  },
  {
   "cell_type": "code",
   "execution_count": 27,
   "metadata": {},
   "outputs": [],
   "source": [
    "verified = pd.DataFrame(verified_values, columns=['verified'])\n",
    "format = pd.DataFrame(format_values.toarray(), columns=[' Audio CD', ' MP3 Music', ' Vinyl'])\n",
    "df_categorical_encoded = pd.concat([verified, format], axis=1)"
   ]
  },
  {
   "cell_type": "code",
   "execution_count": 28,
   "metadata": {},
   "outputs": [],
   "source": [
    "df_categorical_encoded.index = range(df_categorical_encoded.shape[0])\n",
    "df_numeric.index = range(df_numeric.shape[0])"
   ]
  },
  {
   "cell_type": "code",
   "execution_count": 29,
   "metadata": {},
   "outputs": [],
   "source": [
    "df_new = pd.concat([df_numeric, df_categorical_encoded], axis=1)"
   ]
  },
  {
   "cell_type": "code",
   "execution_count": 30,
   "metadata": {},
   "outputs": [
    {
     "data": {
      "text/plain": [
       "overall          0\n",
       "vote             0\n",
       "sentiment        0\n",
       "review_length    0\n",
       "verified         0\n",
       " Audio CD        0\n",
       " MP3 Music       0\n",
       " Vinyl           0\n",
       "dtype: int64"
      ]
     },
     "execution_count": 30,
     "metadata": {},
     "output_type": "execute_result"
    }
   ],
   "source": [
    "#Revisar cantidad de nulos\n",
    "df_new.isna().sum()"
   ]
  },
  {
   "cell_type": "code",
   "execution_count": 31,
   "metadata": {
    "id": "j_UzhsQ_krGe",
    "outputId": "2be06feb-8324-4728-b0ad-7b0ca0a68792"
   },
   "outputs": [],
   "source": [
    "#X_test"
   ]
  },
  {
   "cell_type": "code",
   "execution_count": 33,
   "metadata": {},
   "outputs": [],
   "source": [
    "###ALGORITMO DE CLASIFICACION\n",
    "###Random Forest\n",
    "from sklearn.model_selection import train_test_split\n",
    "from sklearn.ensemble import RandomForestClassifier\n",
    "from sklearn.tree import DecisionTreeClassifier"
   ]
  },
  {
   "cell_type": "code",
   "execution_count": 34,
   "metadata": {},
   "outputs": [],
   "source": [
    "#Separamos en X e y\n",
    "X = df_new.drop([\"sentiment\", \"overall\", \" Audio CD\", \" MP3 Music\", \" Vinyl\"], axis=1)\n",
    "y = df_new[\"sentiment\"]"
   ]
  },
  {
   "cell_type": "code",
   "execution_count": 35,
   "metadata": {},
   "outputs": [
    {
     "data": {
      "text/html": [
       "<div>\n",
       "<style scoped>\n",
       "    .dataframe tbody tr th:only-of-type {\n",
       "        vertical-align: middle;\n",
       "    }\n",
       "\n",
       "    .dataframe tbody tr th {\n",
       "        vertical-align: top;\n",
       "    }\n",
       "\n",
       "    .dataframe thead th {\n",
       "        text-align: right;\n",
       "    }\n",
       "</style>\n",
       "<table border=\"1\" class=\"dataframe\">\n",
       "  <thead>\n",
       "    <tr style=\"text-align: right;\">\n",
       "      <th></th>\n",
       "      <th>vote</th>\n",
       "      <th>review_length</th>\n",
       "      <th>verified</th>\n",
       "    </tr>\n",
       "  </thead>\n",
       "  <tbody>\n",
       "    <tr>\n",
       "      <th>0</th>\n",
       "      <td>0</td>\n",
       "      <td>50</td>\n",
       "      <td>1</td>\n",
       "    </tr>\n",
       "    <tr>\n",
       "      <th>1</th>\n",
       "      <td>0</td>\n",
       "      <td>10</td>\n",
       "      <td>1</td>\n",
       "    </tr>\n",
       "    <tr>\n",
       "      <th>2</th>\n",
       "      <td>0</td>\n",
       "      <td>48</td>\n",
       "      <td>1</td>\n",
       "    </tr>\n",
       "    <tr>\n",
       "      <th>3</th>\n",
       "      <td>4</td>\n",
       "      <td>185</td>\n",
       "      <td>1</td>\n",
       "    </tr>\n",
       "    <tr>\n",
       "      <th>4</th>\n",
       "      <td>15</td>\n",
       "      <td>600</td>\n",
       "      <td>0</td>\n",
       "    </tr>\n",
       "    <tr>\n",
       "      <th>...</th>\n",
       "      <td>...</td>\n",
       "      <td>...</td>\n",
       "      <td>...</td>\n",
       "    </tr>\n",
       "    <tr>\n",
       "      <th>380934</th>\n",
       "      <td>0</td>\n",
       "      <td>50</td>\n",
       "      <td>1</td>\n",
       "    </tr>\n",
       "    <tr>\n",
       "      <th>380935</th>\n",
       "      <td>0</td>\n",
       "      <td>199</td>\n",
       "      <td>1</td>\n",
       "    </tr>\n",
       "    <tr>\n",
       "      <th>380936</th>\n",
       "      <td>0</td>\n",
       "      <td>70</td>\n",
       "      <td>1</td>\n",
       "    </tr>\n",
       "    <tr>\n",
       "      <th>380937</th>\n",
       "      <td>0</td>\n",
       "      <td>9</td>\n",
       "      <td>1</td>\n",
       "    </tr>\n",
       "    <tr>\n",
       "      <th>380938</th>\n",
       "      <td>0</td>\n",
       "      <td>168</td>\n",
       "      <td>1</td>\n",
       "    </tr>\n",
       "  </tbody>\n",
       "</table>\n",
       "<p>380939 rows × 3 columns</p>\n",
       "</div>"
      ],
      "text/plain": [
       "        vote  review_length  verified\n",
       "0          0             50         1\n",
       "1          0             10         1\n",
       "2          0             48         1\n",
       "3          4            185         1\n",
       "4         15            600         0\n",
       "...      ...            ...       ...\n",
       "380934     0             50         1\n",
       "380935     0            199         1\n",
       "380936     0             70         1\n",
       "380937     0              9         1\n",
       "380938     0            168         1\n",
       "\n",
       "[380939 rows x 3 columns]"
      ]
     },
     "execution_count": 35,
     "metadata": {},
     "output_type": "execute_result"
    }
   ],
   "source": [
    "X"
   ]
  },
  {
   "cell_type": "code",
   "execution_count": 36,
   "metadata": {},
   "outputs": [
    {
     "data": {
      "text/plain": [
       "1    352575\n",
       "0     28364\n",
       "Name: sentiment, dtype: int64"
      ]
     },
     "execution_count": 36,
     "metadata": {},
     "output_type": "execute_result"
    }
   ],
   "source": [
    "df_new.sentiment.value_counts()"
   ]
  },
  {
   "cell_type": "code",
   "execution_count": 37,
   "metadata": {},
   "outputs": [],
   "source": [
    "(X_train, X_test,y_train, y_test) = train_test_split(X,y,stratify=y,test_size=0.30,random_state=42)"
   ]
  },
  {
   "cell_type": "code",
   "execution_count": 38,
   "metadata": {},
   "outputs": [
    {
     "data": {
      "text/plain": [
       "DecisionTreeClassifier(max_depth=5, random_state=42)"
      ]
     },
     "execution_count": 38,
     "metadata": {},
     "output_type": "execute_result"
    }
   ],
   "source": [
    "#Creamos un arbol de decisión sencillo y lo fiteamos\n",
    "tree = DecisionTreeClassifier(random_state=42, max_depth=5)\n",
    "tree.fit(X_train, y_train)"
   ]
  },
  {
   "cell_type": "code",
   "execution_count": 39,
   "metadata": {},
   "outputs": [
    {
     "data": {
      "text/plain": [
       "array([1, 1, 1, ..., 1, 1, 1])"
      ]
     },
     "execution_count": 39,
     "metadata": {},
     "output_type": "execute_result"
    }
   ],
   "source": [
    "y_test_pred = tree.predict(X_test) #Prediccion en Test\n",
    "y_test_pred"
   ]
  },
  {
   "cell_type": "code",
   "execution_count": 41,
   "metadata": {},
   "outputs": [
    {
     "name": "stdout",
     "output_type": "stream",
     "text": [
      "% de aciertos sobre el set de evaluación: 0.9259113421186188\n"
     ]
    }
   ],
   "source": [
    "from sklearn.metrics import accuracy_score\n",
    "\n",
    "#Calculo el accuracy en Test\n",
    "test_accuracy = accuracy_score(y_test, y_test_pred)\n",
    "\n",
    "print('% de aciertos sobre el set de evaluación:',test_accuracy)"
   ]
  },
  {
   "cell_type": "code",
   "execution_count": 42,
   "metadata": {},
   "outputs": [
    {
     "data": {
      "text/plain": [
       "array([[    90,   8419],\n",
       "       [    48, 105725]], dtype=int64)"
      ]
     },
     "execution_count": 42,
     "metadata": {},
     "output_type": "execute_result"
    }
   ],
   "source": [
    "#Matriz de Confusión\n",
    "from sklearn.metrics import confusion_matrix\n",
    "confusion_matrix(y_test, y_test_pred)\n",
    "#Explicación: Existen tan solo 37 predicciones acertadas de los comentarios positivos. De los valores negativos, existen 362636 predicciones correctas.\n",
    "#Lo preocupante está en que hay 30040 falsos negativos, lo que quiere decir que le estamos atribuyendo a esa cantidad una valencia negativa, cuando realmente podría ser positiva.\n",
    "#Finalmente, solo hay 43 falsos negativos. Con esta distribucción de la matriz podemos ver lo sesgada que está nuestra muestra al tener tantos valores positivos."
   ]
  },
  {
   "cell_type": "code",
   "execution_count": 43,
   "metadata": {},
   "outputs": [
    {
     "name": "stdout",
     "output_type": "stream",
     "text": [
      "              precision    recall  f1-score   support\n",
      "\n",
      "           0       0.65      0.01      0.02      8509\n",
      "           1       0.93      1.00      0.96    105773\n",
      "\n",
      "    accuracy                           0.93    114282\n",
      "   macro avg       0.79      0.51      0.49    114282\n",
      "weighted avg       0.91      0.93      0.89    114282\n",
      "\n"
     ]
    }
   ],
   "source": [
    "from sklearn.metrics import classification_report\n",
    "print(classification_report(y_test, y_test_pred))"
   ]
  },
  {
   "cell_type": "code",
   "execution_count": 44,
   "metadata": {},
   "outputs": [],
   "source": [
    "from sklearn.linear_model import LogisticRegression\n",
    "from sklearn.decomposition import PCA\n",
    "\n",
    "from pylab import rcParams\n",
    "\n",
    "from imblearn.under_sampling import NearMiss\n",
    "from imblearn.over_sampling import RandomOverSampler\n",
    "from imblearn.combine import SMOTETomek\n",
    "from imblearn.ensemble import BalancedBaggingClassifier\n",
    "\n",
    "from collections import Counter\n",
    "\n",
    "LABELS= ['Normal','Fraudulent']"
   ]
  },
  {
   "cell_type": "code",
   "execution_count": 45,
   "metadata": {},
   "outputs": [],
   "source": [
    "def mostrar_resultados(y_test, pred_y):\n",
    "    conf_matrix = confusion_matrix(y_test, pred_y)\n",
    "    plt.figure(figsize=(12, 12))\n",
    "    sns.heatmap(conf_matrix, xticklabels=LABELS, yticklabels=LABELS, annot=True, fmt=\"d\");\n",
    "    plt.title(\"Confusion matrix\")\n",
    "    plt.ylabel('True class')\n",
    "    plt.xlabel('Predicted class')\n",
    "    plt.show()\n",
    "    print (classification_report(y_test, pred_y))"
   ]
  },
  {
   "cell_type": "code",
   "execution_count": 46,
   "metadata": {},
   "outputs": [
    {
     "data": {
      "image/png": "[encoded data removed]",
      "text/plain": [
       "<Figure size 864x864 with 2 Axes>"
      ]
     },
     "metadata": {
      "needs_background": "light"
     },
     "output_type": "display_data"
    },
    {
     "name": "stdout",
     "output_type": "stream",
     "text": [
      "              precision    recall  f1-score   support\n",
      "\n",
      "           0       0.11      0.56      0.18      8509\n",
      "           1       0.95      0.64      0.76    105773\n",
      "\n",
      "    accuracy                           0.63    114282\n",
      "   macro avg       0.53      0.60      0.47    114282\n",
      "weighted avg       0.88      0.63      0.72    114282\n",
      "\n"
     ]
    }
   ],
   "source": [
    "#Esamble de Modelos con Balanceo\n",
    "bbc = BalancedBaggingClassifier(base_estimator=DecisionTreeClassifier(),\n",
    "                                sampling_strategy='auto',\n",
    "                                replacement=False,\n",
    "                                random_state=0)\n",
    "\n",
    "#Train the classifier.\n",
    "bbc.fit(X_train, y_train)\n",
    "pred_y = bbc.predict(X_test)\n",
    "mostrar_resultados(y_test, pred_y)"
   ]
  },
  {
   "cell_type": "code",
   "execution_count": 47,
   "metadata": {},
   "outputs": [
    {
     "name": "stdout",
     "output_type": "stream",
     "text": [
      "Requirement already satisfied: imbalanced-learn in c:\\users\\lenovo\\anaconda3\\lib\\site-packages (0.8.0)\n",
      "Requirement already satisfied: scipy>=0.19.1 in c:\\users\\lenovo\\anaconda3\\lib\\site-packages (from imbalanced-learn) (1.6.2)\n",
      "Requirement already satisfied: numpy>=1.13.3 in c:\\users\\lenovo\\anaconda3\\lib\\site-packages (from imbalanced-learn) (1.20.1)\n",
      "Requirement already satisfied: joblib>=0.11 in c:\\users\\lenovo\\anaconda3\\lib\\site-packages (from imbalanced-learn) (1.0.1)\n",
      "Requirement already satisfied: scikit-learn>=0.24 in c:\\users\\lenovo\\anaconda3\\lib\\site-packages (from imbalanced-learn) (1.0)\n",
      "Requirement already satisfied: threadpoolctl>=2.0.0 in c:\\users\\lenovo\\anaconda3\\lib\\site-packages (from scikit-learn>=0.24->imbalanced-learn) (2.1.0)\n"
     ]
    }
   ],
   "source": [
    "#######################################SMOTE##############################\n",
    "!pip install imbalanced-learn"
   ]
  },
  {
   "cell_type": "code",
   "execution_count": 48,
   "metadata": {},
   "outputs": [
    {
     "name": "stdout",
     "output_type": "stream",
     "text": [
      "Cambiode X antes de SMOTE: (380939, 3)\n",
      "Cambio de X despues SMOTE (705150, 3)\n",
      "\n",
      "Balance position and negativo de la clase (%):\n"
     ]
    },
    {
     "data": {
      "text/plain": [
       "0    50.0\n",
       "1    50.0\n",
       "Name: sentiment, dtype: float64"
      ]
     },
     "execution_count": 48,
     "metadata": {},
     "output_type": "execute_result"
    }
   ],
   "source": [
    "from imblearn.over_sampling import SMOTE\n",
    "sm= SMOTE (random_state=42)\n",
    "X_sm,y_sm= sm.fit_resample(X,y)\n",
    "\n",
    "print(f'''Cambiode X antes de SMOTE: {X.shape}\n",
    "Cambio de X despues SMOTE {X_sm.shape}''')\n",
    "\n",
    "print ('\\nBalance position and negativo de la clase (%):')\n",
    "y_sm.value_counts(normalize=True)*100"
   ]
  },
  {
   "cell_type": "code",
   "execution_count": 49,
   "metadata": {},
   "outputs": [
    {
     "name": "stderr",
     "output_type": "stream",
     "text": [
      "C:\\Users\\LENOVO\\anaconda3\\lib\\site-packages\\seaborn\\_decorators.py:36: FutureWarning: Pass the following variable as a keyword arg: x. From version 0.12, the only valid positional argument will be `data`, and passing other arguments without an explicit keyword will result in an error or misinterpretation.\n",
      "  warnings.warn(\n"
     ]
    },
    {
     "data": {
      "image/png": "[encoded data removed]",
      "text/plain": [
       "<Figure size 432x288 with 1 Axes>"
      ]
     },
     "metadata": {
      "needs_background": "light"
     },
     "output_type": "display_data"
    }
   ],
   "source": [
    "sns.countplot(y_sm);\n",
    "plt.title(\"Datos Balanceados\");"
   ]
  },
  {
   "cell_type": "code",
   "execution_count": 50,
   "metadata": {
    "id": "S9MuySdJkrGd"
   },
   "outputs": [],
   "source": [
    "###ANÁLISIS MULTIVARIADO\n",
    "\n",
    "#Predicción del sentimiento o overall según verified ,vote, styleformat y reviewTime\n",
    "\n",
    "##SVM\n",
    "\n",
    "from sklearn.model_selection import train_test_split\n",
    "\n",
    "X_train, X_test, y_train, y_test = train_test_split(df_new[['vote','review_length','verified']].values,\n",
    "                                                    df_new.sentiment, test_size=0.3,random_state=42) # 70% training and 30% test\n",
    "\n"
   ]
  },
  {
   "cell_type": "code",
   "execution_count": null,
   "metadata": {
    "id": "E7D2ZPYDkrGe"
   },
   "outputs": [],
   "source": [
    "###############EJECUCIÓN MODELO SVM##############3\n",
    "from sklearn import svm\n",
    "#Svm Classifier\n",
    "clf = svm.SVC(kernel='rbf',C=0.1) # Kernel Lineal (Existen diversos tipos de kernel linear, rbf, poly,sigmoid )\n",
    "#Entrenar el modelo\n",
    "clf.fit(X_sm, y_sm)\n",
    "#Obtener las predicciones\n",
    "y_pred = clf.predict(X_sm)\n",
    "y_pred\n",
    "\n",
    "#X_sm,y_sm\n",
    "\n",
    "##############EL MODELO NO DEJA DE EJECUTARSE PERO TAMPOCO PRESENTA ERRORES"
   ]
  },
  {
   "cell_type": "code",
   "execution_count": 53,
   "metadata": {
    "id": "E6x-uNN-krGf",
    "outputId": "a598fbbe-4989-44db-987d-ce965b0b5c3e"
   },
   "outputs": [
    {
     "name": "stdout",
     "output_type": "stream",
     "text": [
      "Accuracy: 0.9255088290369436\n"
     ]
    }
   ],
   "source": [
    "from sklearn import metrics\n",
    "#Accuracy\n",
    "print(\"Accuracy:\",metrics.accuracy_score(y_test, y_pred)) # Se tiene un accuracy del 83%"
   ]
  },
  {
   "cell_type": "code",
   "execution_count": null,
   "metadata": {},
   "outputs": [],
   "source": [
    "from sklearn import svm\n",
    "from sklearn.multiclass import OneVsRestClassifier\n",
    "clf = OneVsRestClassifier(svm.SVC(gamma=0.01, C=100., probability=True, class_weight='balanced', kernel='linear'))\n",
    "clf_output = clf.fit(X_train, y_train)"
   ]
  },
  {
   "cell_type": "code",
   "execution_count": null,
   "metadata": {},
   "outputs": [],
   "source": []
  }
 ],
 "metadata": {
  "colab": {
   "collapsed_sections": [],
   "name": "CodigoFinal.ipynb",
   "provenance": []
  },
  "interpreter": {
   "hash": "4e58c874e5040445944c327137dc4a95d11d8a100210d198247f7f5a011ac352"
  },
  "kernelspec": {
   "display_name": "Python 3",
   "language": "python",
   "name": "python3"
  },
  "language_info": {
   "codemirror_mode": {
    "name": "ipython",
    "version": 3
   },
   "file_extension": ".py",
   "mimetype": "text/x-python",
   "name": "python",
   "nbconvert_exporter": "python",
   "pygments_lexer": "ipython3",
   "version": "3.8.8"
  }
 },
 "nbformat": 4,
 "nbformat_minor": 4
}
