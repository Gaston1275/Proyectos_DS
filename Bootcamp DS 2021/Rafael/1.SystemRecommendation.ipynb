{
 "cells": [
  {
   "cell_type": "code",
   "execution_count": null,
   "metadata": {},
   "outputs": [],
   "source": [
    "import numpy as np\n",
    "import pandas as pd\n",
    "import matplotlib.pyplot as plt\n",
    "import math\n",
    "from scipy import stats\n",
    "import statistics as st\n",
    "import operator"
   ]
  },
  {
   "cell_type": "code",
   "execution_count": null,
   "metadata": {},
   "outputs": [],
   "source": [
    "data = pd.read_csv('data/steam-200k.csv', header=None, names=[\"User_ID\", \"Game\", \"Interaction\", \"Hours\", \"Ignore\"])\n",
    "data = data.drop(\"Ignore\", axis =1)\n",
    "steam1 = data\n",
    "\n",
    "steam1 = data[data['Interaction'] == \"purchase\"]\n",
    "steam2 = data[data['Interaction'] == \"play\"]\n",
    "steam3 = pd.merge(steam1, steam2, how = 'left', left_on = ['User_ID', 'Game'], right_on = ['User_ID', 'Game'])\n",
    "steam3['Hours_y'] = steam3['Hours_y'].fillna(0)\n",
    "\n",
    "steam_clean = steam3.drop(['Interaction_x', 'Interaction_y', 'Hours_x'], axis = 1)\n",
    "steam_clean.head()\n",
    "steam_clean.info()"
   ]
  },
  {
   "cell_type": "code",
   "execution_count": null,
   "metadata": {},
   "outputs": [],
   "source": [
    "print(\"Max \" + str(steam_clean['Hours_y'].max())\n",
    "    + \"\\nMean \" + str(steam_clean['Hours_y'].mean()) \n",
    "      + \"\\nMedian \" + str(steam_clean['Hours_y'].median()) \n",
    "      + \"\\nMode \" + str(steam_clean['Hours_y'].mode()))"
   ]
  },
  {
   "cell_type": "markdown",
   "metadata": {},
   "source": [
    "## Data Visualization"
   ]
  },
  {
   "cell_type": "code",
   "execution_count": null,
   "metadata": {},
   "outputs": [],
   "source": [
    "out = pd.cut(steam_clean['Hours_y'], bins = [0, 25, 50, 100, 250, 500, 750, 1000, 1250])\n",
    "ax = out.value_counts(sort=False).plot.bar(rot=0, color=\"green\", figsize = (13, 8))"
   ]
  },
  {
   "cell_type": "code",
   "execution_count": null,
   "metadata": {},
   "outputs": [],
   "source": [
    "out = pd.cut(steam_clean['Hours_y'], bins = [25, 50, 100, 250, 500, 750, 1000, 1250])\n",
    "ax = out.value_counts(sort=False).plot.bar(rot=0, color=\"green\", figsize = (13, 8))"
   ]
  },
  {
   "cell_type": "code",
   "execution_count": null,
   "metadata": {},
   "outputs": [],
   "source": [
    "top_hours = steam_clean.groupby('Game')['Hours_y'].max().reset_index()\n",
    "top_hours = top_hours.sort_values(by=['Hours_y'], ascending = False)\n",
    "top_games = top_hours.head(20)\n",
    "\n",
    "top_games_graph = top_games[['Game', 'Hours_y']].plot.bar(x = 'Game', y = 'Hours_y', figsize = (13, 8), title = \"Top 20 Games\", color = \"green\")"
   ]
  },
  {
   "cell_type": "markdown",
   "metadata": {},
   "source": [
    "## Frequency and Rating"
   ]
  },
  {
   "cell_type": "code",
   "execution_count": null,
   "metadata": {},
   "outputs": [],
   "source": [
    "def frequency(hours_i, user_hours):\n",
    "    if user_hours == 0:\n",
    "        return 0\n",
    "    elif hours_i == user_hours:\n",
    "        return 1\n",
    "    return hours_i/(user_hours - hours_i)\n",
    "\n",
    "def rating(frequency_sum):\n",
    "    return 4*(1-frequency_sum)+1"
   ]
  },
  {
   "cell_type": "code",
   "execution_count": null,
   "metadata": {},
   "outputs": [],
   "source": [
    "b = 0\n",
    "for b in range(0, 2):\n",
    "    print(b)"
   ]
  },
  {
   "cell_type": "code",
   "execution_count": null,
   "metadata": {},
   "outputs": [],
   "source": [
    "game_hours = steam_clean.groupby(['Game'])['Hours_y'].sum().reset_index()\n",
    "\n",
    "steam_clean2 = steam_clean\n",
    "steam_length = int(len(steam_clean2.index))\n",
    "i = 0\n",
    "steam_clean2['Frequency'] = np.nan\n",
    "for i in range(0, steam_length):\n",
    "    hours_i = steam_clean2.iloc[i][2]\n",
    "    user_hours = game_hours[game_hours['Game'] == steam_clean2.iloc[i][1]].iloc[0][1]\n",
    "\n",
    "    steam_clean2.at[i, 'Frequency'] = frequency(hours_i, user_hours)"
   ]
  },
  {
   "cell_type": "code",
   "execution_count": null,
   "metadata": {},
   "outputs": [],
   "source": [
    "steam_clean3 = steam_clean2\n",
    "\n",
    "steam_clean3['Rating'] = np.nan\n",
    "steam_clean3.sort_values(by = ['Game', 'Frequency'], inplace = True, ascending = False, ignore_index = True)\n",
    "\n",
    "print(steam_clean3)"
   ]
  },
  {
   "cell_type": "code",
   "execution_count": null,
   "metadata": {},
   "outputs": [],
   "source": [
    "store = \"\" \n",
    "sum_f = 0 \n",
    "last_f = 0 \n",
    "last_r = 0 \n",
    "\n",
    "for i in range(0, steam_length): \n",
    "    temp = steam_clean3.iloc[i][1] \n",
    "    f_i = steam_clean3.iloc[i][3] \n",
    "    \n",
    "    if temp != store: \n",
    "        store = temp \n",
    "        if f_i == 0.0:\n",
    "            sum_f = 0 \n",
    "            last_f = 0\n",
    "            last_r = 1 \n",
    "            steam_clean3.at[i, 'Rating'] = 1\n",
    "        else: \n",
    "            sum_f = f_i\n",
    "            last_f = f_i\n",
    "            last_r = 5 \n",
    "            steam_clean3.at[i, 'Rating'] = 5 \n",
    "        \n",
    "    else: \n",
    "        if f_i == 0: \n",
    "            last_r = 1 \n",
    "            steam_clean3.at[i, 'Rating'] = 1\n",
    "        elif last_f == f_i: \n",
    "            sum_f += f_i \n",
    "            steam_clean3.at[i, 'Rating'] = last_r\n",
    "        else:\n",
    "            rating_f = rating(sum_f) \n",
    "            sum_f += f_i \n",
    "            last_f = f_i \n",
    "            last_r = rating_f\n",
    "            steam_clean3.at[i, 'Rating'] = rating_f"
   ]
  },
  {
   "cell_type": "markdown",
   "metadata": {},
   "source": [
    "## KNN "
   ]
  },
  {
   "cell_type": "code",
   "execution_count": null,
   "metadata": {},
   "outputs": [],
   "source": [
    "steam_clean4 = steam_clean3\n",
    "steam_clean4.sort_values(by = ['User_ID', 'Game'], inplace = True, ignore_index = True)\n",
    "#remove the games with no hours played\n",
    "steam_clean4 = steam_clean4[steam_clean4['Rating'] != 1]\n",
    "print(steam_clean4)"
   ]
  },
  {
   "cell_type": "code",
   "execution_count": null,
   "metadata": {},
   "outputs": [],
   "source": [
    "def distance(q, p):\n",
    "    total = 0\n",
    "    for i in range(0, len(q)):\n",
    "        total += (q[i]-p[i])**2\n",
    "    return math.sqrt(total)/len(q)\n",
    "\n",
    "def neighbors(df, k_neighbors, user):\n",
    "    distances = []\n",
    "    user_games = df[df['User_ID'] == user]\n",
    "    df_subset = df[df['User_ID'] != user]\n",
    "    user_temp = []\n",
    "    temp = []\n",
    "    temp_id = 0\n",
    "    \n",
    "    for index, row in df_subset.iterrows():\n",
    "        if row['Game'] in set(user_games['Game']):\n",
    "            if row['User_ID'] == temp_id:\n",
    "                temp.append(row['Rating'])\n",
    "                user_temp.append(user_games.loc[user_games['Game'] == row['Game'], 'Rating'].iloc[0])\n",
    "            elif temp_id == 0:\n",
    "                temp_id = row['User_ID']\n",
    "                temp.append(row['Rating'])\n",
    "                user_temp.append(user_games.loc[user_games['Game'] == row['Game'], 'Rating'].iloc[0])\n",
    "            else:\n",
    "                dist = distance(user_temp, temp)\n",
    "                distances.append((temp_id, dist))\n",
    "                temp_id = row['User_ID']\n",
    "                temp = []\n",
    "                temp.append(row['Rating'])\n",
    "                user_temp = []\n",
    "                user_temp.append(user_games.loc[user_games['Game'] == row['Game'], 'Rating'].iloc[0])\n",
    "    \n",
    "    distances.sort(key=operator.itemgetter(1))\n",
    "    neighbor_list =[]\n",
    "    \n",
    "    for i in range(k_neighbors):\n",
    "        neighbor_list.append(distances[i])\n",
    "    return neighbor_list\n",
    "        \n",
    "def recommend(user, neighbor_list, df):\n",
    "    user_games = df[df['User_ID'] == user]\n",
    "    dissim_games = []\n",
    "\n",
    "    for neighbor in neighbor_list:\n",
    "        temp = df[(df['User_ID'] == neighbor[0]) & (~df['Game'].isin(user_games['Game']))]\n",
    "        \n",
    "        for index, game in temp.iterrows():\n",
    "            dissim_games.append((game['Game'], game['Rating']))\n",
    "\n",
    "    dissim_games.sort(key=operator.itemgetter(0))\n",
    "    flag = \"\"\n",
    "    running_sum = 0\n",
    "    rec_list = []\n",
    "    count = 0\n",
    "\n",
    "    for dis in dissim_games:\n",
    "        if flag != dis[0]:\n",
    "            if flag != \"\":\n",
    "                rec_list.append((flag, running_sum/count))\n",
    "            flag = dis[0]\n",
    "            running_sum = dis[1]\n",
    "            count = 1\n",
    "        else:\n",
    "            running_sum += dis[1]\n",
    "            count += 1\n",
    "\n",
    "    sort_list = sorted(rec_list, key=operator.itemgetter(1), reverse = True)\n",
    "    return(sort_list)\n",
    "        \n",
    "def rec_games(rec_tuple):\n",
    "    games = []\n",
    "    for pair in rec_tuple:\n",
    "        games.append(pair[0])\n",
    "    return games"
   ]
  },
  {
   "cell_type": "code",
   "execution_count": null,
   "metadata": {},
   "outputs": [],
   "source": [
    "test_neighbors = neighbors(steam_clean4, 10, 159800136)\n",
    "print(test_neighbors)"
   ]
  },
  {
   "cell_type": "code",
   "execution_count": null,
   "metadata": {},
   "outputs": [],
   "source": [
    "recs = recommend(53875128, test_neighbors, steam_clean4)\n",
    "recommended_games = rec_games(recs)\n",
    "print(recommended_games)"
   ]
  },
  {
   "cell_type": "code",
   "execution_count": 41,
   "metadata": {},
   "outputs": [],
   "source": [
    "def knn(user, k_neighbors, df):\n",
    "    knearest = neighbors(df, k_neighbors, user)\n",
    "    rec_list = recommend(user, knearest, df)\n",
    "    games = rec_games(rec_list)\n",
    "    return games"
   ]
  },
  {
   "cell_type": "code",
   "execution_count": 36,
   "metadata": {},
   "outputs": [],
   "source": [
    "steam_clean4.to_pickle(\"data.pkl\")"
   ]
  },
  {
   "cell_type": "code",
   "execution_count": 31,
   "metadata": {},
   "outputs": [],
   "source": [
    "output = pd.read_pickle(\"data.pkl\")"
   ]
  },
  {
   "cell_type": "code",
   "execution_count": 47,
   "metadata": {},
   "outputs": [
    {
     "data": {
      "text/plain": [
       "['Borderlands 2 RU',\n",
       " 'Dust An Elysian Tail',\n",
       " 'Hotline Miami',\n",
       " 'METAL SLUG 3',\n",
       " 'METAL SLUG X',\n",
       " 'Septerra Core',\n",
       " 'Steel Ocean',\n",
       " 'Mafia II',\n",
       " 'Borderlands 2',\n",
       " 'Mark of the Ninja',\n",
       " 'Tomb Raider',\n",
       " 'Counter-Strike Source',\n",
       " 'Half-Life Opposing Force',\n",
       " 'South Park The Stick of Truth',\n",
       " 'Burnout Paradise The Ultimate Box',\n",
       " 'Resident Evil 6 / Biohazard 6',\n",
       " 'Half-Life Blue Shift',\n",
       " 'Left 4 Dead 2',\n",
       " 'Monaco',\n",
       " 'Borderlands The Pre-Sequel',\n",
       " 'Counter-Strike Condition Zero Deleted Scenes',\n",
       " 'Darksiders',\n",
       " 'METAL GEAR RISING REVENGEANCE',\n",
       " 'Castle Crashers',\n",
       " 'Dead Space',\n",
       " 'Borderlands',\n",
       " 'Bastion',\n",
       " 'Counter-Strike Condition Zero',\n",
       " 'Fallout 3 - Game of the Year Edition',\n",
       " 'Skullgirls',\n",
       " 'SpeedRunners',\n",
       " 'Devil May Cry 3 Special Edition',\n",
       " 'Half-Life',\n",
       " \"Mirror's Edge\",\n",
       " 'Counter-Strike Global Offensive',\n",
       " 'DmC Devil May Cry',\n",
       " 'Robocraft',\n",
       " 'FEZ',\n",
       " 'Counter-Strike',\n",
       " 'Terraria',\n",
       " 'Saints Row The Third',\n",
       " 'Unturned',\n",
       " 'Dead Island',\n",
       " 'The Walking Dead',\n",
       " 'BioShock',\n",
       " 'Devil May Cry 4',\n",
       " 'Crysis 2 Maximum Edition',\n",
       " 'Gun Monkeys',\n",
       " \"Don't Starve\",\n",
       " 'Fallout',\n",
       " 'Fallout 2',\n",
       " 'Infinite Crisis',\n",
       " 'Audiosurf',\n",
       " 'Sniper Ghost Warrior',\n",
       " 'Magic 2014 ',\n",
       " 'Awesomenauts',\n",
       " 'The Binding of Isaac',\n",
       " 'Batla',\n",
       " 'Hammerwatch',\n",
       " 'Warface',\n",
       " 'Mercenary Kings',\n",
       " 'FINAL FANTASY VIII',\n",
       " \"Tom Clancy's Ghost Recon Phantoms - NA\",\n",
       " 'Spec Ops The Line',\n",
       " 'Dragon Nest']"
      ]
     },
     "execution_count": 47,
     "metadata": {},
     "output_type": "execute_result"
    }
   ],
   "source": [
    "knn(5250, 10, steam_clean4)\n",
    "#53875128"
   ]
  },
  {
   "cell_type": "code",
   "execution_count": null,
   "metadata": {},
   "outputs": [],
   "source": []
  }
 ],
 "metadata": {
  "interpreter": {
   "hash": "31f2aee4e71d21fbe5cf8b01ff0e069b9275f58929596ceb00d14d90e3e16cd6"
  },
  "kernelspec": {
   "display_name": "Python 3.8.10 64-bit",
   "name": "python3"
  },
  "language_info": {
   "codemirror_mode": {
    "name": "ipython",
    "version": 3
   },
   "file_extension": ".py",
   "mimetype": "text/x-python",
   "name": "python",
   "nbconvert_exporter": "python",
   "pygments_lexer": "ipython3",
   "version": "3.8.10"
  },
  "orig_nbformat": 4
 },
 "nbformat": 4,
 "nbformat_minor": 2
}
